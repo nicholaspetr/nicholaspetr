{
 "cells": [
  {
   "cell_type": "markdown",
   "id": "bc4cbb22",
   "metadata": {},
   "source": [
    "# Cancer Survival Rate Analysis "
   ]
  },
  {
   "cell_type": "markdown",
   "id": "5c55e49d",
   "metadata": {},
   "source": [
    "## Import and clean data"
   ]
  },
  {
   "cell_type": "code",
   "execution_count": 1,
   "id": "c278624d",
   "metadata": {},
   "outputs": [
    {
     "name": "stdout",
     "output_type": "stream",
     "text": [
      "Populating the interactive namespace from numpy and matplotlib\n"
     ]
    }
   ],
   "source": [
    "import pandas as pd\n",
    "import numpy as np\n",
    "import matplotlib.pyplot as plt\n",
    "import seaborn as sb\n",
    "from lifelines import KaplanMeierFitter\n",
    "\n",
    "from lifelines.plotting import plot_lifetimes      # Lifeline package for the Survival Analysis\n",
    "from datetime import datetime as dt\n",
    "%pylab inline\n",
    "figsize(12,6)"
   ]
  },
  {
   "cell_type": "code",
   "execution_count": 2,
   "id": "d8b3a247",
   "metadata": {
    "scrolled": true
   },
   "outputs": [
    {
     "data": {
      "text/html": [
       "<div>\n",
       "<style scoped>\n",
       "    .dataframe tbody tr th:only-of-type {\n",
       "        vertical-align: middle;\n",
       "    }\n",
       "\n",
       "    .dataframe tbody tr th {\n",
       "        vertical-align: top;\n",
       "    }\n",
       "\n",
       "    .dataframe thead th {\n",
       "        text-align: right;\n",
       "    }\n",
       "</style>\n",
       "<table border=\"1\" class=\"dataframe\">\n",
       "  <thead>\n",
       "    <tr style=\"text-align: right;\">\n",
       "      <th></th>\n",
       "      <th>BIRTH_DATE_off</th>\n",
       "      <th>DEATH_DATE_off</th>\n",
       "      <th>sex</th>\n",
       "      <th>race</th>\n",
       "      <th>LUNG</th>\n",
       "      <th>PANCREAS</th>\n",
       "      <th>THYROID</th>\n",
       "      <th>COLORECTAL</th>\n",
       "      <th>MELANOMA</th>\n",
       "      <th>LUNG DT</th>\n",
       "      <th>PANCREAS_DT</th>\n",
       "      <th>THYROID_DT</th>\n",
       "      <th>COLORECTAL_DT</th>\n",
       "      <th>MELANOMA_DT</th>\n",
       "    </tr>\n",
       "  </thead>\n",
       "  <tbody>\n",
       "    <tr>\n",
       "      <th>0</th>\n",
       "      <td>12/2/1959</td>\n",
       "      <td>NaN</td>\n",
       "      <td>Male</td>\n",
       "      <td>Black/African-American</td>\n",
       "      <td>1</td>\n",
       "      <td>0</td>\n",
       "      <td>0</td>\n",
       "      <td>0</td>\n",
       "      <td>0</td>\n",
       "      <td>9/1/2013</td>\n",
       "      <td>NaN</td>\n",
       "      <td>NaN</td>\n",
       "      <td>NaN</td>\n",
       "      <td>NaN</td>\n",
       "    </tr>\n",
       "    <tr>\n",
       "      <th>1</th>\n",
       "      <td>11/18/1955</td>\n",
       "      <td>4/20/2016</td>\n",
       "      <td>Male</td>\n",
       "      <td>Black/African-American</td>\n",
       "      <td>1</td>\n",
       "      <td>0</td>\n",
       "      <td>0</td>\n",
       "      <td>0</td>\n",
       "      <td>0</td>\n",
       "      <td>4/2/2016</td>\n",
       "      <td>NaN</td>\n",
       "      <td>NaN</td>\n",
       "      <td>NaN</td>\n",
       "      <td>NaN</td>\n",
       "    </tr>\n",
       "    <tr>\n",
       "      <th>2</th>\n",
       "      <td>1/14/1946</td>\n",
       "      <td>5/25/2015</td>\n",
       "      <td>Female</td>\n",
       "      <td>Black/African-American</td>\n",
       "      <td>1</td>\n",
       "      <td>0</td>\n",
       "      <td>0</td>\n",
       "      <td>0</td>\n",
       "      <td>0</td>\n",
       "      <td>4/11/2015</td>\n",
       "      <td>NaN</td>\n",
       "      <td>NaN</td>\n",
       "      <td>NaN</td>\n",
       "      <td>NaN</td>\n",
       "    </tr>\n",
       "    <tr>\n",
       "      <th>3</th>\n",
       "      <td>7/28/1932</td>\n",
       "      <td>NaN</td>\n",
       "      <td>Female</td>\n",
       "      <td>Black/African-American</td>\n",
       "      <td>0</td>\n",
       "      <td>0</td>\n",
       "      <td>0</td>\n",
       "      <td>0</td>\n",
       "      <td>0</td>\n",
       "      <td>NaN</td>\n",
       "      <td>NaN</td>\n",
       "      <td>NaN</td>\n",
       "      <td>NaN</td>\n",
       "      <td>NaN</td>\n",
       "    </tr>\n",
       "    <tr>\n",
       "      <th>4</th>\n",
       "      <td>4/17/1943</td>\n",
       "      <td>NaN</td>\n",
       "      <td>Male</td>\n",
       "      <td>White</td>\n",
       "      <td>0</td>\n",
       "      <td>0</td>\n",
       "      <td>0</td>\n",
       "      <td>0</td>\n",
       "      <td>0</td>\n",
       "      <td>NaN</td>\n",
       "      <td>NaN</td>\n",
       "      <td>NaN</td>\n",
       "      <td>NaN</td>\n",
       "      <td>NaN</td>\n",
       "    </tr>\n",
       "  </tbody>\n",
       "</table>\n",
       "</div>"
      ],
      "text/plain": [
       "  BIRTH_DATE_off DEATH_DATE_off     sex                    race  LUNG  \\\n",
       "0      12/2/1959            NaN    Male  Black/African-American     1   \n",
       "1     11/18/1955      4/20/2016    Male  Black/African-American     1   \n",
       "2      1/14/1946      5/25/2015  Female  Black/African-American     1   \n",
       "3      7/28/1932            NaN  Female  Black/African-American     0   \n",
       "4      4/17/1943            NaN    Male                   White     0   \n",
       "\n",
       "   PANCREAS  THYROID  COLORECTAL  MELANOMA    LUNG DT PANCREAS_DT THYROID_DT  \\\n",
       "0         0        0           0         0   9/1/2013         NaN        NaN   \n",
       "1         0        0           0         0   4/2/2016         NaN        NaN   \n",
       "2         0        0           0         0  4/11/2015         NaN        NaN   \n",
       "3         0        0           0         0        NaN         NaN        NaN   \n",
       "4         0        0           0         0        NaN         NaN        NaN   \n",
       "\n",
       "  COLORECTAL_DT MELANOMA_DT  \n",
       "0           NaN         NaN  \n",
       "1           NaN         NaN  \n",
       "2           NaN         NaN  \n",
       "3           NaN         NaN  \n",
       "4           NaN         NaN  "
      ]
     },
     "execution_count": 2,
     "metadata": {},
     "output_type": "execute_result"
    }
   ],
   "source": [
    "cancer_df = pd.read_csv(r\"C:\\Users\\Nick's Laptop\\Desktop\\Health Analyics\\cancer_survival_model\\Cancer patient data.csv\")\n",
    "cancer_df.head()"
   ]
  },
  {
   "cell_type": "markdown",
   "id": "4f482c87",
   "metadata": {},
   "source": [
    "## Remove patients past specified diagnosis date, and any records without a diagnosis date"
   ]
  },
  {
   "cell_type": "code",
   "execution_count": 3,
   "id": "6b3d6afc",
   "metadata": {},
   "outputs": [
    {
     "name": "stdout",
     "output_type": "stream",
     "text": [
      "<class 'pandas.core.frame.DataFrame'>\n",
      "RangeIndex: 8468 entries, 0 to 8467\n",
      "Data columns (total 14 columns):\n",
      " #   Column          Non-Null Count  Dtype         \n",
      "---  ------          --------------  -----         \n",
      " 0   BIRTH_DATE_off  8468 non-null   datetime64[ns]\n",
      " 1   DEATH_DATE_off  447 non-null    datetime64[ns]\n",
      " 2   sex             8468 non-null   object        \n",
      " 3   race            8466 non-null   object        \n",
      " 4   LUNG            8468 non-null   int64         \n",
      " 5   PANCREAS        8468 non-null   int64         \n",
      " 6   THYROID         8468 non-null   int64         \n",
      " 7   COLORECTAL      8468 non-null   int64         \n",
      " 8   MELANOMA        8468 non-null   int64         \n",
      " 9   LUNG DT         1485 non-null   datetime64[ns]\n",
      " 10  PANCREAS_DT     660 non-null    datetime64[ns]\n",
      " 11  THYROID_DT      745 non-null    datetime64[ns]\n",
      " 12  COLORECTAL_DT   946 non-null    datetime64[ns]\n",
      " 13  MELANOMA_DT     346 non-null    datetime64[ns]\n",
      "dtypes: datetime64[ns](7), int64(5), object(2)\n",
      "memory usage: 926.3+ KB\n"
     ]
    }
   ],
   "source": [
    "cancer_df['BIRTH_DATE_off'] = pd.to_datetime(cancer_df['BIRTH_DATE_off'])\n",
    "cancer_df['DEATH_DATE_off'] = pd.to_datetime(cancer_df['DEATH_DATE_off'])\n",
    "cancer_df['LUNG DT'] = pd.to_datetime(cancer_df['LUNG DT'])\n",
    "cancer_df['PANCREAS_DT'] = pd.to_datetime(cancer_df['PANCREAS_DT'])\n",
    "cancer_df['THYROID_DT'] = pd.to_datetime(cancer_df['THYROID_DT'])\n",
    "cancer_df['COLORECTAL_DT'] = pd.to_datetime(cancer_df['COLORECTAL_DT'])\n",
    "cancer_df['MELANOMA_DT'] = pd.to_datetime(cancer_df['MELANOMA_DT'])\n",
    "cancer_df.info()"
   ]
  },
  {
   "cell_type": "code",
   "execution_count": 4,
   "id": "20267a6f",
   "metadata": {},
   "outputs": [
    {
     "name": "stdout",
     "output_type": "stream",
     "text": [
      "BIRTH_DATE_off    2014-12-21 00:00:00\n",
      "DEATH_DATE_off    2017-06-09 00:00:00\n",
      "sex                              Male\n",
      "LUNG                                1\n",
      "PANCREAS                            1\n",
      "THYROID                             1\n",
      "COLORECTAL                          1\n",
      "MELANOMA                            1\n",
      "LUNG DT           2016-08-11 00:00:00\n",
      "PANCREAS_DT       2016-08-17 00:00:00\n",
      "THYROID_DT        2016-08-25 00:00:00\n",
      "COLORECTAL_DT     2016-07-23 00:00:00\n",
      "MELANOMA_DT       2016-07-27 00:00:00\n",
      "dtype: object\n"
     ]
    }
   ],
   "source": [
    "# Remove any diagnosis dates beyond specified date\n",
    "cancer_df=cancer_df[~(cancer_df['LUNG DT']>'8/25/16')]\n",
    "cancer_df=cancer_df[~(cancer_df['PANCREAS_DT']>'8/25/16')]\n",
    "cancer_df=cancer_df[~(cancer_df['THYROID_DT']>'8/25/16')]\n",
    "cancer_df=cancer_df[~(cancer_df['COLORECTAL_DT']>'8/25/16')]\n",
    "cancer_df=cancer_df[~(cancer_df['MELANOMA_DT']>'8/25/16')]\n",
    "\n",
    "# Confirm there are no diagnosis dates past 8/25/16\n",
    "print (cancer_df.max())"
   ]
  },
  {
   "cell_type": "code",
   "execution_count": 5,
   "id": "ee169d21",
   "metadata": {},
   "outputs": [
    {
     "data": {
      "text/plain": [
       "4148"
      ]
     },
     "execution_count": 5,
     "metadata": {},
     "output_type": "execute_result"
    }
   ],
   "source": [
    "# Remove all patients who do not have a diagnosis date. Should be 4148 length after cleaning steps \n",
    "cancer_df = cancer_df.dropna(subset=['LUNG DT','PANCREAS_DT','THYROID_DT','COLORECTAL_DT','MELANOMA_DT'], how='all')\n",
    "len(cancer_df)"
   ]
  },
  {
   "cell_type": "markdown",
   "id": "64342bef",
   "metadata": {},
   "source": [
    "## Categorize Races based on specified parameters"
   ]
  },
  {
   "cell_type": "code",
   "execution_count": 6,
   "id": "9c919039",
   "metadata": {},
   "outputs": [],
   "source": [
    "# Categorize race into White, African-American, Asian/Mideast-Indian, and Others\n",
    "cancer_df['white'] = np.where(cancer_df['race']=='White', 1, 0)\n",
    "cancer_df['African-American'] = np.where(cancer_df['race']=='Black/African-American', 1, 0)\n",
    "cancer_df['Asian/Mideast Indian'] = np.where(cancer_df['race']=='Asian/Mideast Indian', 1, 0)\n",
    "cancer_df['race_grouped'] = np.where((cancer_df['white']==0) & (cancer_df['African-American']==0) & (cancer_df['Asian/Mideast Indian']==0), 'Other', cancer_df['race'])"
   ]
  },
  {
   "cell_type": "code",
   "execution_count": 7,
   "id": "808f8377",
   "metadata": {
    "scrolled": false
   },
   "outputs": [
    {
     "data": {
      "text/html": [
       "<div>\n",
       "<style scoped>\n",
       "    .dataframe tbody tr th:only-of-type {\n",
       "        vertical-align: middle;\n",
       "    }\n",
       "\n",
       "    .dataframe tbody tr th {\n",
       "        vertical-align: top;\n",
       "    }\n",
       "\n",
       "    .dataframe thead th {\n",
       "        text-align: right;\n",
       "    }\n",
       "</style>\n",
       "<table border=\"1\" class=\"dataframe\">\n",
       "  <thead>\n",
       "    <tr style=\"text-align: right;\">\n",
       "      <th></th>\n",
       "      <th>BIRTH_DATE_off</th>\n",
       "      <th>DEATH_DATE_off</th>\n",
       "      <th>sex</th>\n",
       "      <th>race</th>\n",
       "      <th>LUNG</th>\n",
       "      <th>PANCREAS</th>\n",
       "      <th>THYROID</th>\n",
       "      <th>COLORECTAL</th>\n",
       "      <th>MELANOMA</th>\n",
       "      <th>LUNG DT</th>\n",
       "      <th>PANCREAS_DT</th>\n",
       "      <th>THYROID_DT</th>\n",
       "      <th>COLORECTAL_DT</th>\n",
       "      <th>MELANOMA_DT</th>\n",
       "      <th>white</th>\n",
       "      <th>African-American</th>\n",
       "      <th>Asian/Mideast Indian</th>\n",
       "      <th>race_grouped</th>\n",
       "    </tr>\n",
       "  </thead>\n",
       "  <tbody>\n",
       "    <tr>\n",
       "      <th>0</th>\n",
       "      <td>1959-12-02</td>\n",
       "      <td>NaT</td>\n",
       "      <td>Male</td>\n",
       "      <td>Black/African-American</td>\n",
       "      <td>1</td>\n",
       "      <td>0</td>\n",
       "      <td>0</td>\n",
       "      <td>0</td>\n",
       "      <td>0</td>\n",
       "      <td>2013-09-01</td>\n",
       "      <td>NaT</td>\n",
       "      <td>NaT</td>\n",
       "      <td>NaT</td>\n",
       "      <td>NaT</td>\n",
       "      <td>0</td>\n",
       "      <td>1</td>\n",
       "      <td>0</td>\n",
       "      <td>Black/African-American</td>\n",
       "    </tr>\n",
       "    <tr>\n",
       "      <th>1</th>\n",
       "      <td>1955-11-18</td>\n",
       "      <td>2016-04-20</td>\n",
       "      <td>Male</td>\n",
       "      <td>Black/African-American</td>\n",
       "      <td>1</td>\n",
       "      <td>0</td>\n",
       "      <td>0</td>\n",
       "      <td>0</td>\n",
       "      <td>0</td>\n",
       "      <td>2016-04-02</td>\n",
       "      <td>NaT</td>\n",
       "      <td>NaT</td>\n",
       "      <td>NaT</td>\n",
       "      <td>NaT</td>\n",
       "      <td>0</td>\n",
       "      <td>1</td>\n",
       "      <td>0</td>\n",
       "      <td>Black/African-American</td>\n",
       "    </tr>\n",
       "    <tr>\n",
       "      <th>2</th>\n",
       "      <td>1946-01-14</td>\n",
       "      <td>2015-05-25</td>\n",
       "      <td>Female</td>\n",
       "      <td>Black/African-American</td>\n",
       "      <td>1</td>\n",
       "      <td>0</td>\n",
       "      <td>0</td>\n",
       "      <td>0</td>\n",
       "      <td>0</td>\n",
       "      <td>2015-04-11</td>\n",
       "      <td>NaT</td>\n",
       "      <td>NaT</td>\n",
       "      <td>NaT</td>\n",
       "      <td>NaT</td>\n",
       "      <td>0</td>\n",
       "      <td>1</td>\n",
       "      <td>0</td>\n",
       "      <td>Black/African-American</td>\n",
       "    </tr>\n",
       "    <tr>\n",
       "      <th>6</th>\n",
       "      <td>1946-11-03</td>\n",
       "      <td>NaT</td>\n",
       "      <td>Female</td>\n",
       "      <td>Black/African-American</td>\n",
       "      <td>0</td>\n",
       "      <td>0</td>\n",
       "      <td>1</td>\n",
       "      <td>0</td>\n",
       "      <td>0</td>\n",
       "      <td>NaT</td>\n",
       "      <td>NaT</td>\n",
       "      <td>2012-11-29</td>\n",
       "      <td>NaT</td>\n",
       "      <td>NaT</td>\n",
       "      <td>0</td>\n",
       "      <td>1</td>\n",
       "      <td>0</td>\n",
       "      <td>Black/African-American</td>\n",
       "    </tr>\n",
       "    <tr>\n",
       "      <th>7</th>\n",
       "      <td>1938-06-10</td>\n",
       "      <td>NaT</td>\n",
       "      <td>Female</td>\n",
       "      <td>Black/African-American</td>\n",
       "      <td>0</td>\n",
       "      <td>0</td>\n",
       "      <td>1</td>\n",
       "      <td>0</td>\n",
       "      <td>0</td>\n",
       "      <td>NaT</td>\n",
       "      <td>NaT</td>\n",
       "      <td>2012-06-24</td>\n",
       "      <td>NaT</td>\n",
       "      <td>NaT</td>\n",
       "      <td>0</td>\n",
       "      <td>1</td>\n",
       "      <td>0</td>\n",
       "      <td>Black/African-American</td>\n",
       "    </tr>\n",
       "  </tbody>\n",
       "</table>\n",
       "</div>"
      ],
      "text/plain": [
       "  BIRTH_DATE_off DEATH_DATE_off     sex                    race  LUNG  \\\n",
       "0     1959-12-02            NaT    Male  Black/African-American     1   \n",
       "1     1955-11-18     2016-04-20    Male  Black/African-American     1   \n",
       "2     1946-01-14     2015-05-25  Female  Black/African-American     1   \n",
       "6     1946-11-03            NaT  Female  Black/African-American     0   \n",
       "7     1938-06-10            NaT  Female  Black/African-American     0   \n",
       "\n",
       "   PANCREAS  THYROID  COLORECTAL  MELANOMA    LUNG DT PANCREAS_DT THYROID_DT  \\\n",
       "0         0        0           0         0 2013-09-01         NaT        NaT   \n",
       "1         0        0           0         0 2016-04-02         NaT        NaT   \n",
       "2         0        0           0         0 2015-04-11         NaT        NaT   \n",
       "6         0        1           0         0        NaT         NaT 2012-11-29   \n",
       "7         0        1           0         0        NaT         NaT 2012-06-24   \n",
       "\n",
       "  COLORECTAL_DT MELANOMA_DT  white  African-American  Asian/Mideast Indian  \\\n",
       "0           NaT         NaT      0                 1                     0   \n",
       "1           NaT         NaT      0                 1                     0   \n",
       "2           NaT         NaT      0                 1                     0   \n",
       "6           NaT         NaT      0                 1                     0   \n",
       "7           NaT         NaT      0                 1                     0   \n",
       "\n",
       "             race_grouped  \n",
       "0  Black/African-American  \n",
       "1  Black/African-American  \n",
       "2  Black/African-American  \n",
       "6  Black/African-American  \n",
       "7  Black/African-American  "
      ]
     },
     "execution_count": 7,
     "metadata": {},
     "output_type": "execute_result"
    }
   ],
   "source": [
    "cancer_df.head()"
   ]
  },
  {
   "cell_type": "markdown",
   "id": "774283fc",
   "metadata": {},
   "source": [
    "## Add \"Died\" indicator for those who have a death date prior to cutoff date of 8/25/16 in order to censor data"
   ]
  },
  {
   "cell_type": "code",
   "execution_count": 8,
   "id": "d1a5302e",
   "metadata": {},
   "outputs": [
    {
     "data": {
      "text/html": [
       "<div>\n",
       "<style scoped>\n",
       "    .dataframe tbody tr th:only-of-type {\n",
       "        vertical-align: middle;\n",
       "    }\n",
       "\n",
       "    .dataframe tbody tr th {\n",
       "        vertical-align: top;\n",
       "    }\n",
       "\n",
       "    .dataframe thead th {\n",
       "        text-align: right;\n",
       "    }\n",
       "</style>\n",
       "<table border=\"1\" class=\"dataframe\">\n",
       "  <thead>\n",
       "    <tr style=\"text-align: right;\">\n",
       "      <th></th>\n",
       "      <th>BIRTH_DATE_off</th>\n",
       "      <th>DEATH_DATE_off</th>\n",
       "      <th>sex</th>\n",
       "      <th>race</th>\n",
       "      <th>LUNG</th>\n",
       "      <th>PANCREAS</th>\n",
       "      <th>THYROID</th>\n",
       "      <th>COLORECTAL</th>\n",
       "      <th>MELANOMA</th>\n",
       "      <th>LUNG DT</th>\n",
       "      <th>PANCREAS_DT</th>\n",
       "      <th>THYROID_DT</th>\n",
       "      <th>COLORECTAL_DT</th>\n",
       "      <th>MELANOMA_DT</th>\n",
       "      <th>white</th>\n",
       "      <th>African-American</th>\n",
       "      <th>Asian/Mideast Indian</th>\n",
       "      <th>race_grouped</th>\n",
       "      <th>died</th>\n",
       "    </tr>\n",
       "  </thead>\n",
       "  <tbody>\n",
       "    <tr>\n",
       "      <th>0</th>\n",
       "      <td>1959-12-02</td>\n",
       "      <td>NaT</td>\n",
       "      <td>Male</td>\n",
       "      <td>Black/African-American</td>\n",
       "      <td>1</td>\n",
       "      <td>0</td>\n",
       "      <td>0</td>\n",
       "      <td>0</td>\n",
       "      <td>0</td>\n",
       "      <td>2013-09-01</td>\n",
       "      <td>NaT</td>\n",
       "      <td>NaT</td>\n",
       "      <td>NaT</td>\n",
       "      <td>NaT</td>\n",
       "      <td>0</td>\n",
       "      <td>1</td>\n",
       "      <td>0</td>\n",
       "      <td>Black/African-American</td>\n",
       "      <td>0</td>\n",
       "    </tr>\n",
       "    <tr>\n",
       "      <th>1</th>\n",
       "      <td>1955-11-18</td>\n",
       "      <td>2016-04-20</td>\n",
       "      <td>Male</td>\n",
       "      <td>Black/African-American</td>\n",
       "      <td>1</td>\n",
       "      <td>0</td>\n",
       "      <td>0</td>\n",
       "      <td>0</td>\n",
       "      <td>0</td>\n",
       "      <td>2016-04-02</td>\n",
       "      <td>NaT</td>\n",
       "      <td>NaT</td>\n",
       "      <td>NaT</td>\n",
       "      <td>NaT</td>\n",
       "      <td>0</td>\n",
       "      <td>1</td>\n",
       "      <td>0</td>\n",
       "      <td>Black/African-American</td>\n",
       "      <td>1</td>\n",
       "    </tr>\n",
       "    <tr>\n",
       "      <th>2</th>\n",
       "      <td>1946-01-14</td>\n",
       "      <td>2015-05-25</td>\n",
       "      <td>Female</td>\n",
       "      <td>Black/African-American</td>\n",
       "      <td>1</td>\n",
       "      <td>0</td>\n",
       "      <td>0</td>\n",
       "      <td>0</td>\n",
       "      <td>0</td>\n",
       "      <td>2015-04-11</td>\n",
       "      <td>NaT</td>\n",
       "      <td>NaT</td>\n",
       "      <td>NaT</td>\n",
       "      <td>NaT</td>\n",
       "      <td>0</td>\n",
       "      <td>1</td>\n",
       "      <td>0</td>\n",
       "      <td>Black/African-American</td>\n",
       "      <td>1</td>\n",
       "    </tr>\n",
       "    <tr>\n",
       "      <th>6</th>\n",
       "      <td>1946-11-03</td>\n",
       "      <td>NaT</td>\n",
       "      <td>Female</td>\n",
       "      <td>Black/African-American</td>\n",
       "      <td>0</td>\n",
       "      <td>0</td>\n",
       "      <td>1</td>\n",
       "      <td>0</td>\n",
       "      <td>0</td>\n",
       "      <td>NaT</td>\n",
       "      <td>NaT</td>\n",
       "      <td>2012-11-29</td>\n",
       "      <td>NaT</td>\n",
       "      <td>NaT</td>\n",
       "      <td>0</td>\n",
       "      <td>1</td>\n",
       "      <td>0</td>\n",
       "      <td>Black/African-American</td>\n",
       "      <td>0</td>\n",
       "    </tr>\n",
       "    <tr>\n",
       "      <th>7</th>\n",
       "      <td>1938-06-10</td>\n",
       "      <td>NaT</td>\n",
       "      <td>Female</td>\n",
       "      <td>Black/African-American</td>\n",
       "      <td>0</td>\n",
       "      <td>0</td>\n",
       "      <td>1</td>\n",
       "      <td>0</td>\n",
       "      <td>0</td>\n",
       "      <td>NaT</td>\n",
       "      <td>NaT</td>\n",
       "      <td>2012-06-24</td>\n",
       "      <td>NaT</td>\n",
       "      <td>NaT</td>\n",
       "      <td>0</td>\n",
       "      <td>1</td>\n",
       "      <td>0</td>\n",
       "      <td>Black/African-American</td>\n",
       "      <td>0</td>\n",
       "    </tr>\n",
       "  </tbody>\n",
       "</table>\n",
       "</div>"
      ],
      "text/plain": [
       "  BIRTH_DATE_off DEATH_DATE_off     sex                    race  LUNG  \\\n",
       "0     1959-12-02            NaT    Male  Black/African-American     1   \n",
       "1     1955-11-18     2016-04-20    Male  Black/African-American     1   \n",
       "2     1946-01-14     2015-05-25  Female  Black/African-American     1   \n",
       "6     1946-11-03            NaT  Female  Black/African-American     0   \n",
       "7     1938-06-10            NaT  Female  Black/African-American     0   \n",
       "\n",
       "   PANCREAS  THYROID  COLORECTAL  MELANOMA    LUNG DT PANCREAS_DT THYROID_DT  \\\n",
       "0         0        0           0         0 2013-09-01         NaT        NaT   \n",
       "1         0        0           0         0 2016-04-02         NaT        NaT   \n",
       "2         0        0           0         0 2015-04-11         NaT        NaT   \n",
       "6         0        1           0         0        NaT         NaT 2012-11-29   \n",
       "7         0        1           0         0        NaT         NaT 2012-06-24   \n",
       "\n",
       "  COLORECTAL_DT MELANOMA_DT  white  African-American  Asian/Mideast Indian  \\\n",
       "0           NaT         NaT      0                 1                     0   \n",
       "1           NaT         NaT      0                 1                     0   \n",
       "2           NaT         NaT      0                 1                     0   \n",
       "6           NaT         NaT      0                 1                     0   \n",
       "7           NaT         NaT      0                 1                     0   \n",
       "\n",
       "             race_grouped  died  \n",
       "0  Black/African-American     0  \n",
       "1  Black/African-American     1  \n",
       "2  Black/African-American     1  \n",
       "6  Black/African-American     0  \n",
       "7  Black/African-American     0  "
      ]
     },
     "execution_count": 8,
     "metadata": {},
     "output_type": "execute_result"
    }
   ],
   "source": [
    "cancer_df['died'] = np.where(cancer_df['DEATH_DATE_off'].isna(), 0, 1)\n",
    "cancer_df.loc[cancer_df['DEATH_DATE_off'].astype(str) > '2016-08-25', 'died'] = 0\n",
    "cancer_df.head()"
   ]
  },
  {
   "cell_type": "markdown",
   "id": "a255b58b",
   "metadata": {},
   "source": [
    "## Calculate Patient Age at time of diagnosis"
   ]
  },
  {
   "cell_type": "code",
   "execution_count": 9,
   "id": "8efe44c3",
   "metadata": {
    "scrolled": true
   },
   "outputs": [
    {
     "data": {
      "text/plain": [
       "4148"
      ]
     },
     "execution_count": 9,
     "metadata": {},
     "output_type": "execute_result"
    }
   ],
   "source": [
    "cancer_df['lung_age'] = (cancer_df['LUNG DT'] - cancer_df['BIRTH_DATE_off']).astype('timedelta64[Y]')\n",
    "cancer_df['pancreas_age'] = (cancer_df['PANCREAS_DT'] - cancer_df['BIRTH_DATE_off']).astype('timedelta64[Y]')\n",
    "cancer_df['thyroid_age'] = (cancer_df['THYROID_DT'] - cancer_df['BIRTH_DATE_off']).astype('timedelta64[Y]')\n",
    "cancer_df['colorectal_age'] = (cancer_df['COLORECTAL_DT'] - cancer_df['BIRTH_DATE_off']).astype('timedelta64[Y]')\n",
    "cancer_df['melanoma_age'] = (cancer_df['MELANOMA_DT'] - cancer_df['BIRTH_DATE_off']).astype('timedelta64[Y]')\n",
    "\n",
    "len(cancer_df)"
   ]
  },
  {
   "cell_type": "markdown",
   "id": "a9dc0af4",
   "metadata": {},
   "source": [
    "## Create Function to retrieve survival rate array"
   ]
  },
  {
   "cell_type": "code",
   "execution_count": 10,
   "id": "8e8c53bb",
   "metadata": {},
   "outputs": [],
   "source": [
    "def cancer_km(df):\n",
    "    durations = df['duration'] ## Time to event data of censored and event data\n",
    "    event_observed = df['died']  ## It has the churned (1) and censored is (0)\n",
    "\n",
    "    ## create a kmf object as km\n",
    "    km_df = KaplanMeierFitter() ## instantiate the class to create an object\n",
    "\n",
    "    ## Fit the data into the model\n",
    "    km_df.fit(durations, event_observed,label='Kaplan Meier Estimate')\n",
    "    #return km_df.predict(5000)\n",
    "    return km_df.survival_function_"
   ]
  },
  {
   "cell_type": "markdown",
   "id": "a9b029df",
   "metadata": {},
   "source": [
    "## Break into individual datasets based on cancer type, group patients into age deciles, add duration of illness, remove extraneous fields  "
   ]
  },
  {
   "cell_type": "markdown",
   "id": "de7ad80e",
   "metadata": {},
   "source": [
    "## Lung Cancer"
   ]
  },
  {
   "cell_type": "code",
   "execution_count": 11,
   "id": "8334ad22",
   "metadata": {
    "scrolled": false
   },
   "outputs": [
    {
     "name": "stderr",
     "output_type": "stream",
     "text": [
      "<ipython-input-11-21bd07db2b38>:7: SettingWithCopyWarning: \n",
      "A value is trying to be set on a copy of a slice from a DataFrame.\n",
      "Try using .loc[row_indexer,col_indexer] = value instead\n",
      "\n",
      "See the caveats in the documentation: https://pandas.pydata.org/pandas-docs/stable/user_guide/indexing.html#returning-a-view-versus-a-copy\n",
      "  lung_df['deciles'] = pd.cut(lung_df['lung_age'], bins=bins, labels=labels, right=False)\n",
      "<ipython-input-11-21bd07db2b38>:10: SettingWithCopyWarning: \n",
      "A value is trying to be set on a copy of a slice from a DataFrame.\n",
      "Try using .loc[row_indexer,col_indexer] = value instead\n",
      "\n",
      "See the caveats in the documentation: https://pandas.pydata.org/pandas-docs/stable/user_guide/indexing.html#returning-a-view-versus-a-copy\n",
      "  lung_df['limit'] = \"2016-08-25\"\n",
      "<ipython-input-11-21bd07db2b38>:11: SettingWithCopyWarning: \n",
      "A value is trying to be set on a copy of a slice from a DataFrame.\n",
      "Try using .loc[row_indexer,col_indexer] = value instead\n",
      "\n",
      "See the caveats in the documentation: https://pandas.pydata.org/pandas-docs/stable/user_guide/indexing.html#returning-a-view-versus-a-copy\n",
      "  lung_df['limit'] = pd.to_datetime(lung_df['limit'])\n",
      "<ipython-input-11-21bd07db2b38>:12: SettingWithCopyWarning: \n",
      "A value is trying to be set on a copy of a slice from a DataFrame.\n",
      "Try using .loc[row_indexer,col_indexer] = value instead\n",
      "\n",
      "See the caveats in the documentation: https://pandas.pydata.org/pandas-docs/stable/user_guide/indexing.html#returning-a-view-versus-a-copy\n",
      "  lung_df['duration'] = np.where(lung_df[\"died\"]==1, (lung_df['DEATH_DATE_off'] - lung_df['LUNG DT']).dt.days, (lung_df['limit'] - lung_df['LUNG DT']).dt.days)\n"
     ]
    },
    {
     "data": {
      "text/html": [
       "<div>\n",
       "<style scoped>\n",
       "    .dataframe tbody tr th:only-of-type {\n",
       "        vertical-align: middle;\n",
       "    }\n",
       "\n",
       "    .dataframe tbody tr th {\n",
       "        vertical-align: top;\n",
       "    }\n",
       "\n",
       "    .dataframe thead th {\n",
       "        text-align: right;\n",
       "    }\n",
       "</style>\n",
       "<table border=\"1\" class=\"dataframe\">\n",
       "  <thead>\n",
       "    <tr style=\"text-align: right;\">\n",
       "      <th></th>\n",
       "      <th>BIRTH_DATE_off</th>\n",
       "      <th>DEATH_DATE_off</th>\n",
       "      <th>sex</th>\n",
       "      <th>race</th>\n",
       "      <th>LUNG</th>\n",
       "      <th>PANCREAS</th>\n",
       "      <th>THYROID</th>\n",
       "      <th>COLORECTAL</th>\n",
       "      <th>MELANOMA</th>\n",
       "      <th>LUNG DT</th>\n",
       "      <th>...</th>\n",
       "      <th>race_grouped</th>\n",
       "      <th>died</th>\n",
       "      <th>lung_age</th>\n",
       "      <th>pancreas_age</th>\n",
       "      <th>thyroid_age</th>\n",
       "      <th>colorectal_age</th>\n",
       "      <th>melanoma_age</th>\n",
       "      <th>deciles</th>\n",
       "      <th>limit</th>\n",
       "      <th>duration</th>\n",
       "    </tr>\n",
       "  </thead>\n",
       "  <tbody>\n",
       "    <tr>\n",
       "      <th>0</th>\n",
       "      <td>1959-12-02</td>\n",
       "      <td>NaT</td>\n",
       "      <td>Male</td>\n",
       "      <td>Black/African-American</td>\n",
       "      <td>1</td>\n",
       "      <td>0</td>\n",
       "      <td>0</td>\n",
       "      <td>0</td>\n",
       "      <td>0</td>\n",
       "      <td>2013-09-01</td>\n",
       "      <td>...</td>\n",
       "      <td>Black/African-American</td>\n",
       "      <td>0</td>\n",
       "      <td>53.0</td>\n",
       "      <td>NaN</td>\n",
       "      <td>NaN</td>\n",
       "      <td>NaN</td>\n",
       "      <td>NaN</td>\n",
       "      <td>51-60</td>\n",
       "      <td>2016-08-25</td>\n",
       "      <td>1089.0</td>\n",
       "    </tr>\n",
       "    <tr>\n",
       "      <th>1</th>\n",
       "      <td>1955-11-18</td>\n",
       "      <td>2016-04-20</td>\n",
       "      <td>Male</td>\n",
       "      <td>Black/African-American</td>\n",
       "      <td>1</td>\n",
       "      <td>0</td>\n",
       "      <td>0</td>\n",
       "      <td>0</td>\n",
       "      <td>0</td>\n",
       "      <td>2016-04-02</td>\n",
       "      <td>...</td>\n",
       "      <td>Black/African-American</td>\n",
       "      <td>1</td>\n",
       "      <td>60.0</td>\n",
       "      <td>NaN</td>\n",
       "      <td>NaN</td>\n",
       "      <td>NaN</td>\n",
       "      <td>NaN</td>\n",
       "      <td>51-60</td>\n",
       "      <td>2016-08-25</td>\n",
       "      <td>18.0</td>\n",
       "    </tr>\n",
       "    <tr>\n",
       "      <th>2</th>\n",
       "      <td>1946-01-14</td>\n",
       "      <td>2015-05-25</td>\n",
       "      <td>Female</td>\n",
       "      <td>Black/African-American</td>\n",
       "      <td>1</td>\n",
       "      <td>0</td>\n",
       "      <td>0</td>\n",
       "      <td>0</td>\n",
       "      <td>0</td>\n",
       "      <td>2015-04-11</td>\n",
       "      <td>...</td>\n",
       "      <td>Black/African-American</td>\n",
       "      <td>1</td>\n",
       "      <td>69.0</td>\n",
       "      <td>NaN</td>\n",
       "      <td>NaN</td>\n",
       "      <td>NaN</td>\n",
       "      <td>NaN</td>\n",
       "      <td>61-70</td>\n",
       "      <td>2016-08-25</td>\n",
       "      <td>44.0</td>\n",
       "    </tr>\n",
       "    <tr>\n",
       "      <th>9</th>\n",
       "      <td>1957-10-18</td>\n",
       "      <td>NaT</td>\n",
       "      <td>Male</td>\n",
       "      <td>Black/African-American</td>\n",
       "      <td>1</td>\n",
       "      <td>0</td>\n",
       "      <td>0</td>\n",
       "      <td>0</td>\n",
       "      <td>0</td>\n",
       "      <td>2012-11-29</td>\n",
       "      <td>...</td>\n",
       "      <td>Black/African-American</td>\n",
       "      <td>0</td>\n",
       "      <td>55.0</td>\n",
       "      <td>NaN</td>\n",
       "      <td>NaN</td>\n",
       "      <td>NaN</td>\n",
       "      <td>NaN</td>\n",
       "      <td>51-60</td>\n",
       "      <td>2016-08-25</td>\n",
       "      <td>1365.0</td>\n",
       "    </tr>\n",
       "    <tr>\n",
       "      <th>12</th>\n",
       "      <td>1940-02-04</td>\n",
       "      <td>NaT</td>\n",
       "      <td>Male</td>\n",
       "      <td>Black/African-American</td>\n",
       "      <td>1</td>\n",
       "      <td>0</td>\n",
       "      <td>0</td>\n",
       "      <td>0</td>\n",
       "      <td>0</td>\n",
       "      <td>2013-05-21</td>\n",
       "      <td>...</td>\n",
       "      <td>Black/African-American</td>\n",
       "      <td>0</td>\n",
       "      <td>73.0</td>\n",
       "      <td>NaN</td>\n",
       "      <td>NaN</td>\n",
       "      <td>NaN</td>\n",
       "      <td>NaN</td>\n",
       "      <td>71-80</td>\n",
       "      <td>2016-08-25</td>\n",
       "      <td>1192.0</td>\n",
       "    </tr>\n",
       "  </tbody>\n",
       "</table>\n",
       "<p>5 rows × 27 columns</p>\n",
       "</div>"
      ],
      "text/plain": [
       "   BIRTH_DATE_off DEATH_DATE_off     sex                    race  LUNG  \\\n",
       "0      1959-12-02            NaT    Male  Black/African-American     1   \n",
       "1      1955-11-18     2016-04-20    Male  Black/African-American     1   \n",
       "2      1946-01-14     2015-05-25  Female  Black/African-American     1   \n",
       "9      1957-10-18            NaT    Male  Black/African-American     1   \n",
       "12     1940-02-04            NaT    Male  Black/African-American     1   \n",
       "\n",
       "    PANCREAS  THYROID  COLORECTAL  MELANOMA    LUNG DT  ...  \\\n",
       "0          0        0           0         0 2013-09-01  ...   \n",
       "1          0        0           0         0 2016-04-02  ...   \n",
       "2          0        0           0         0 2015-04-11  ...   \n",
       "9          0        0           0         0 2012-11-29  ...   \n",
       "12         0        0           0         0 2013-05-21  ...   \n",
       "\n",
       "              race_grouped died lung_age pancreas_age  thyroid_age  \\\n",
       "0   Black/African-American    0     53.0          NaN          NaN   \n",
       "1   Black/African-American    1     60.0          NaN          NaN   \n",
       "2   Black/African-American    1     69.0          NaN          NaN   \n",
       "9   Black/African-American    0     55.0          NaN          NaN   \n",
       "12  Black/African-American    0     73.0          NaN          NaN   \n",
       "\n",
       "    colorectal_age  melanoma_age deciles      limit  duration  \n",
       "0              NaN           NaN   51-60 2016-08-25    1089.0  \n",
       "1              NaN           NaN   51-60 2016-08-25      18.0  \n",
       "2              NaN           NaN   61-70 2016-08-25      44.0  \n",
       "9              NaN           NaN   51-60 2016-08-25    1365.0  \n",
       "12             NaN           NaN   71-80 2016-08-25    1192.0  \n",
       "\n",
       "[5 rows x 27 columns]"
      ]
     },
     "execution_count": 11,
     "metadata": {},
     "output_type": "execute_result"
    }
   ],
   "source": [
    "# Filter for lung cancer patients \n",
    "lung_df = cancer_df[cancer_df['LUNG DT'].notnull()]\n",
    "\n",
    "# Bin patients into age categories \n",
    "bins= [0,11,21,31,41,51,61,71,81,91,110]\n",
    "labels = ['0-10','11-20','21-30','31-40','41-50','51-60','61-70','71-80','81-90','>90']\n",
    "lung_df['deciles'] = pd.cut(lung_df['lung_age'], bins=bins, labels=labels, right=False)\n",
    "\n",
    "# Add field that includes duration of illness \n",
    "lung_df['limit'] = \"2016-08-25\"\n",
    "lung_df['limit'] = pd.to_datetime(lung_df['limit'])\n",
    "lung_df['duration'] = np.where(lung_df[\"died\"]==1, (lung_df['DEATH_DATE_off'] - lung_df['LUNG DT']).dt.days, (lung_df['limit'] - lung_df['LUNG DT']).dt.days)\n",
    "\n",
    "# Select only fields of interest \n",
    "#lung_df = lung_df[['BIRTH_DATE_off', 'DEATH_DATE_off', 'sex', 'race_grouped', 'LUNG', 'LUNG DT', 'died', 'lung_age', 'deciles', 'duration']]\n",
    "\n",
    "lung_df.head()"
   ]
  },
  {
   "cell_type": "markdown",
   "id": "2f53c0a6",
   "metadata": {},
   "source": [
    "### Lung Cancer Survival Rate Array"
   ]
  },
  {
   "cell_type": "code",
   "execution_count": 12,
   "id": "690c0055",
   "metadata": {},
   "outputs": [
    {
     "data": {
      "text/html": [
       "<div>\n",
       "<style scoped>\n",
       "    .dataframe tbody tr th:only-of-type {\n",
       "        vertical-align: middle;\n",
       "    }\n",
       "\n",
       "    .dataframe tbody tr th {\n",
       "        vertical-align: top;\n",
       "    }\n",
       "\n",
       "    .dataframe thead th {\n",
       "        text-align: right;\n",
       "    }\n",
       "</style>\n",
       "<table border=\"1\" class=\"dataframe\">\n",
       "  <thead>\n",
       "    <tr style=\"text-align: right;\">\n",
       "      <th></th>\n",
       "      <th>Kaplan Meier Estimate</th>\n",
       "    </tr>\n",
       "    <tr>\n",
       "      <th>timeline</th>\n",
       "      <th></th>\n",
       "    </tr>\n",
       "  </thead>\n",
       "  <tbody>\n",
       "    <tr>\n",
       "      <th>-360.0</th>\n",
       "      <td>0.999326</td>\n",
       "    </tr>\n",
       "    <tr>\n",
       "      <th>0.0</th>\n",
       "      <td>0.998651</td>\n",
       "    </tr>\n",
       "    <tr>\n",
       "      <th>1.0</th>\n",
       "      <td>0.997303</td>\n",
       "    </tr>\n",
       "    <tr>\n",
       "      <th>2.0</th>\n",
       "      <td>0.996628</td>\n",
       "    </tr>\n",
       "    <tr>\n",
       "      <th>3.0</th>\n",
       "      <td>0.995954</td>\n",
       "    </tr>\n",
       "    <tr>\n",
       "      <th>...</th>\n",
       "      <td>...</td>\n",
       "    </tr>\n",
       "    <tr>\n",
       "      <th>3263.0</th>\n",
       "      <td>0.814427</td>\n",
       "    </tr>\n",
       "    <tr>\n",
       "      <th>3319.0</th>\n",
       "      <td>0.814427</td>\n",
       "    </tr>\n",
       "    <tr>\n",
       "      <th>3747.0</th>\n",
       "      <td>0.814427</td>\n",
       "    </tr>\n",
       "    <tr>\n",
       "      <th>5296.0</th>\n",
       "      <td>0.814427</td>\n",
       "    </tr>\n",
       "    <tr>\n",
       "      <th>5497.0</th>\n",
       "      <td>0.000000</td>\n",
       "    </tr>\n",
       "  </tbody>\n",
       "</table>\n",
       "<p>1044 rows × 1 columns</p>\n",
       "</div>"
      ],
      "text/plain": [
       "          Kaplan Meier Estimate\n",
       "timeline                       \n",
       "-360.0                 0.999326\n",
       " 0.0                   0.998651\n",
       " 1.0                   0.997303\n",
       " 2.0                   0.996628\n",
       " 3.0                   0.995954\n",
       "...                         ...\n",
       " 3263.0                0.814427\n",
       " 3319.0                0.814427\n",
       " 3747.0                0.814427\n",
       " 5296.0                0.814427\n",
       " 5497.0                0.000000\n",
       "\n",
       "[1044 rows x 1 columns]"
      ]
     },
     "execution_count": 12,
     "metadata": {},
     "output_type": "execute_result"
    }
   ],
   "source": [
    "cancer_km(lung_df)"
   ]
  },
  {
   "cell_type": "markdown",
   "id": "ecd885e0",
   "metadata": {},
   "source": [
    "### Lung Cancer Survival Rate by Gender "
   ]
  },
  {
   "cell_type": "code",
   "execution_count": 13,
   "id": "9e6fa011",
   "metadata": {},
   "outputs": [
    {
     "data": {
      "text/plain": [
       "Text(0.5, 0, 'Duration of Illness')"
      ]
     },
     "execution_count": 13,
     "metadata": {},
     "output_type": "execute_result"
    },
    {
     "data": {
      "image/png": "[encoded data removed]",
      "text/plain": [
       "<Figure size 864x432 with 1 Axes>"
      ]
     },
     "metadata": {
      "needs_background": "light"
     },
     "output_type": "display_data"
    }
   ],
   "source": [
    "kmf1 = KaplanMeierFitter() ## instantiate the class to create an object\n",
    "\n",
    "# Define duration and death indicators \n",
    "T = lung_df['duration']     ## time to event\n",
    "E = lung_df['died'] \n",
    "\n",
    "## Two Cohorts are compared. 1. Male, 2. Female.\n",
    "groups = lung_df['sex']   \n",
    "i1 = (groups == 'Male')      ## group i1 , having the pandas series for the 1st cohort\n",
    "i2 = (groups == 'Female')     ## group i2 , having the pandas series for the 2nd cohort\n",
    "\n",
    "\n",
    "## fit the model for 1st cohort\n",
    "kmf1.fit(T[i1], E[i1], label='Male')\n",
    "a1 = kmf1.plot(ci_show=False)\n",
    "\n",
    "## fit the model for 2nd cohort\n",
    "kmf1.fit(T[i2], E[i2], label='Female')\n",
    "kmf1.plot(ax=a1, ci_show=False)\n",
    "\n",
    "# Add Title Info \n",
    "plt.title(\"Lung Cancer Survival Rates by Gender\")\n",
    "plt.ylabel(\"Survival Rate\")\n",
    "plt.xlabel(\"Duration of Illness\")"
   ]
  },
  {
   "cell_type": "markdown",
   "id": "bb579118",
   "metadata": {},
   "source": [
    "### Lung Cancer Survival Rate by Race"
   ]
  },
  {
   "cell_type": "code",
   "execution_count": 14,
   "id": "4c3ffcb5",
   "metadata": {},
   "outputs": [
    {
     "data": {
      "text/plain": [
       "Text(0.5, 0, 'Duration of Illness')"
      ]
     },
     "execution_count": 14,
     "metadata": {},
     "output_type": "execute_result"
    },
    {
     "data": {
      "image/png": "[encoded data removed]",
      "text/plain": [
       "<Figure size 864x432 with 1 Axes>"
      ]
     },
     "metadata": {
      "needs_background": "light"
     },
     "output_type": "display_data"
    }
   ],
   "source": [
    "kmf2 = KaplanMeierFitter() ## instantiate the class to create an object\n",
    "\n",
    "## Two Cohorts are compared. 1. Asian/Mideast Indian, 2. Black/African-American. 3. White. 4. Other \n",
    "groups = lung_df['race_grouped']   \n",
    "i1 = (groups == 'Asian/Mideast Indian')      ## group i1 , having the pandas series for the 1st cohort\n",
    "i2 = (groups == 'Black/African-American')     ## group i2 , having the pandas series for the 2nd cohort\n",
    "i3 = (groups == 'White')     ## group i3 , having the pandas series for the 3rd cohort\n",
    "i4 = (groups == 'Other')     ## group i4 , having the pandas series for the 4th cohort\n",
    "\n",
    "\n",
    "## fit the model for 1st cohort\n",
    "kmf2.fit(T[i1], E[i1], label='Asian/Mideast Indian')\n",
    "a1 = kmf2.plot(ci_show=False)\n",
    "\n",
    "## fit the model for 2nd cohort\n",
    "kmf2.fit(T[i2], E[i2], label='Black/African-American')\n",
    "kmf2.plot(ci_show=False)\n",
    "\n",
    "## fit the model for 3rd cohort\n",
    "kmf2.fit(T[i3], E[i3], label='White')\n",
    "kmf2.plot(ci_show=False)\n",
    "\n",
    "## fit the model for 4th cohort \n",
    "kmf2.fit(T[i4], E[i4], label='Other')\n",
    "kmf2.plot(ci_show=False)\n",
    "\n",
    "# Add Title Info \n",
    "plt.title(\"Lung Cancer Survival Rates by Race\")\n",
    "plt.ylabel(\"Survival Rate\")\n",
    "plt.xlabel(\"Duration of Illness\")"
   ]
  },
  {
   "cell_type": "markdown",
   "id": "794713b7",
   "metadata": {},
   "source": [
    "### Lung Cancer survival rate by decile "
   ]
  },
  {
   "cell_type": "code",
   "execution_count": 15,
   "id": "4e00d753",
   "metadata": {},
   "outputs": [
    {
     "data": {
      "text/plain": [
       "Text(0.5, 0, 'Duration of Illness')"
      ]
     },
     "execution_count": 15,
     "metadata": {},
     "output_type": "execute_result"
    },
    {
     "data": {
      "image/png": "[encoded data removed]",
      "text/plain": [
       "<Figure size 864x432 with 1 Axes>"
      ]
     },
     "metadata": {
      "needs_background": "light"
     },
     "output_type": "display_data"
    }
   ],
   "source": [
    "kmf3 = KaplanMeierFitter() ## instantiate the class to create an object\n",
    "\n",
    "## Cohorts are divided into deciles \n",
    "groups = lung_df['deciles']   \n",
    "i1 = (groups == '0-10')      ## group i1 , having the pandas series for the 1st cohort\n",
    "i2 = (groups == '11-20')     ## group i2 , having the pandas series for the 2nd cohort\n",
    "i3 = (groups == '21-30')     ## group i3 , having the pandas series for the 3rd cohort\n",
    "i4 = (groups == '31-40')     ## group i4 , having the pandas series for the 4th cohort\n",
    "i5 = (groups == '41-50')     ## group i5 , having the pandas series for the 5th cohort\n",
    "i6 = (groups == '51-60')     ## group i6 , having the pandas series for the 6th cohort\n",
    "i7 = (groups == '61-70')     ## group i7 , having the pandas series for the 7th cohort\n",
    "i8 = (groups == '71-80')     ## group i8 , having the pandas series for the 8th cohort\n",
    "i9 = (groups == '81-90')     ## group i9 , having the pandas series for the 9th cohort\n",
    "i10 = (groups == '>90')     ## group i10 , having the pandas series for the 10th cohort\n",
    "\n",
    "\n",
    "## fit the model for 1st cohort\n",
    "kmf3.fit(T[i1], E[i1], label='0-10')\n",
    "a1 = kmf3.plot(ci_show=False)\n",
    "\n",
    "## fit the model for 2nd cohort\n",
    "kmf3.fit(T[i2], E[i2], label='11-20')\n",
    "kmf3.plot(ci_show=False)\n",
    "\n",
    "## fit the model for 3rd cohort\n",
    "kmf3.fit(T[i3], E[i3], label='21-30')\n",
    "kmf3.plot(ci_show=False)\n",
    "\n",
    "## fit the model for 4th cohort \n",
    "kmf3.fit(T[i4], E[i4], label='31-40')\n",
    "kmf3.plot(ci_show=False)\n",
    "\n",
    "## fit the model for 5th cohort \n",
    "kmf3.fit(T[i5], E[i5], label='41-50')\n",
    "kmf3.plot(ci_show=False)\n",
    "\n",
    "## fit the model for 6th cohort \n",
    "kmf3.fit(T[i6], E[i6], label='51-60')\n",
    "kmf3.plot(ci_show=False)\n",
    "\n",
    "## fit the model for 7th cohort \n",
    "kmf3.fit(T[i7], E[i7], label='61-70')\n",
    "kmf3.plot(ci_show=False)\n",
    "\n",
    "## fit the model for 8th cohort \n",
    "kmf3.fit(T[i8], E[i8], label='71-80')\n",
    "kmf3.plot(ci_show=False)\n",
    "\n",
    "## fit the model for 9th cohort \n",
    "kmf3.fit(T[i9], E[i9], label='81-90')\n",
    "kmf3.plot(ci_show=False)\n",
    "\n",
    "## fit the model for 10th cohort \n",
    "kmf3.fit(T[i10], E[i10], label='>90')\n",
    "kmf3.plot(ci_show=False)\n",
    "\n",
    "# Add Title Info \n",
    "plt.title(\"Lung Cancer Survival Rates by Decile\")\n",
    "plt.ylabel(\"Survival Rate\")\n",
    "plt.xlabel(\"Duration of Illness\")"
   ]
  },
  {
   "cell_type": "markdown",
   "id": "455c1447",
   "metadata": {},
   "source": [
    "## Pancreas Cancer"
   ]
  },
  {
   "cell_type": "code",
   "execution_count": 16,
   "id": "7ef353b8",
   "metadata": {},
   "outputs": [
    {
     "name": "stderr",
     "output_type": "stream",
     "text": [
      "<ipython-input-16-6f5c267fc722>:7: SettingWithCopyWarning: \n",
      "A value is trying to be set on a copy of a slice from a DataFrame.\n",
      "Try using .loc[row_indexer,col_indexer] = value instead\n",
      "\n",
      "See the caveats in the documentation: https://pandas.pydata.org/pandas-docs/stable/user_guide/indexing.html#returning-a-view-versus-a-copy\n",
      "  pancreas_df['deciles'] = pd.cut(pancreas_df['pancreas_age'], bins=bins, labels=labels, right=False)\n",
      "<ipython-input-16-6f5c267fc722>:10: SettingWithCopyWarning: \n",
      "A value is trying to be set on a copy of a slice from a DataFrame.\n",
      "Try using .loc[row_indexer,col_indexer] = value instead\n",
      "\n",
      "See the caveats in the documentation: https://pandas.pydata.org/pandas-docs/stable/user_guide/indexing.html#returning-a-view-versus-a-copy\n",
      "  pancreas_df['limit'] = \"2016-08-25\"\n",
      "<ipython-input-16-6f5c267fc722>:11: SettingWithCopyWarning: \n",
      "A value is trying to be set on a copy of a slice from a DataFrame.\n",
      "Try using .loc[row_indexer,col_indexer] = value instead\n",
      "\n",
      "See the caveats in the documentation: https://pandas.pydata.org/pandas-docs/stable/user_guide/indexing.html#returning-a-view-versus-a-copy\n",
      "  pancreas_df['limit'] = pd.to_datetime(pancreas_df['limit'])\n",
      "<ipython-input-16-6f5c267fc722>:12: SettingWithCopyWarning: \n",
      "A value is trying to be set on a copy of a slice from a DataFrame.\n",
      "Try using .loc[row_indexer,col_indexer] = value instead\n",
      "\n",
      "See the caveats in the documentation: https://pandas.pydata.org/pandas-docs/stable/user_guide/indexing.html#returning-a-view-versus-a-copy\n",
      "  pancreas_df['duration'] = np.where(pancreas_df[\"died\"]==1, (pancreas_df['DEATH_DATE_off'] - pancreas_df['PANCREAS_DT']).dt.days, (pancreas_df['limit'] - pancreas_df['PANCREAS_DT']).dt.days)\n"
     ]
    },
    {
     "data": {
      "text/html": [
       "<div>\n",
       "<style scoped>\n",
       "    .dataframe tbody tr th:only-of-type {\n",
       "        vertical-align: middle;\n",
       "    }\n",
       "\n",
       "    .dataframe tbody tr th {\n",
       "        vertical-align: top;\n",
       "    }\n",
       "\n",
       "    .dataframe thead th {\n",
       "        text-align: right;\n",
       "    }\n",
       "</style>\n",
       "<table border=\"1\" class=\"dataframe\">\n",
       "  <thead>\n",
       "    <tr style=\"text-align: right;\">\n",
       "      <th></th>\n",
       "      <th>BIRTH_DATE_off</th>\n",
       "      <th>DEATH_DATE_off</th>\n",
       "      <th>sex</th>\n",
       "      <th>race</th>\n",
       "      <th>LUNG</th>\n",
       "      <th>PANCREAS</th>\n",
       "      <th>THYROID</th>\n",
       "      <th>COLORECTAL</th>\n",
       "      <th>MELANOMA</th>\n",
       "      <th>LUNG DT</th>\n",
       "      <th>...</th>\n",
       "      <th>race_grouped</th>\n",
       "      <th>died</th>\n",
       "      <th>lung_age</th>\n",
       "      <th>pancreas_age</th>\n",
       "      <th>thyroid_age</th>\n",
       "      <th>colorectal_age</th>\n",
       "      <th>melanoma_age</th>\n",
       "      <th>deciles</th>\n",
       "      <th>limit</th>\n",
       "      <th>duration</th>\n",
       "    </tr>\n",
       "  </thead>\n",
       "  <tbody>\n",
       "    <tr>\n",
       "      <th>44</th>\n",
       "      <td>1955-03-10</td>\n",
       "      <td>2012-11-22</td>\n",
       "      <td>Female</td>\n",
       "      <td>Black/African-American</td>\n",
       "      <td>0</td>\n",
       "      <td>1</td>\n",
       "      <td>0</td>\n",
       "      <td>0</td>\n",
       "      <td>0</td>\n",
       "      <td>NaT</td>\n",
       "      <td>...</td>\n",
       "      <td>Black/African-American</td>\n",
       "      <td>1</td>\n",
       "      <td>NaN</td>\n",
       "      <td>57.0</td>\n",
       "      <td>NaN</td>\n",
       "      <td>NaN</td>\n",
       "      <td>NaN</td>\n",
       "      <td>51-60</td>\n",
       "      <td>2016-08-25</td>\n",
       "      <td>41.0</td>\n",
       "    </tr>\n",
       "    <tr>\n",
       "      <th>55</th>\n",
       "      <td>1929-06-27</td>\n",
       "      <td>NaT</td>\n",
       "      <td>Female</td>\n",
       "      <td>Black/African-American</td>\n",
       "      <td>0</td>\n",
       "      <td>1</td>\n",
       "      <td>0</td>\n",
       "      <td>0</td>\n",
       "      <td>0</td>\n",
       "      <td>NaT</td>\n",
       "      <td>...</td>\n",
       "      <td>Black/African-American</td>\n",
       "      <td>0</td>\n",
       "      <td>NaN</td>\n",
       "      <td>86.0</td>\n",
       "      <td>NaN</td>\n",
       "      <td>NaN</td>\n",
       "      <td>NaN</td>\n",
       "      <td>81-90</td>\n",
       "      <td>2016-08-25</td>\n",
       "      <td>211.0</td>\n",
       "    </tr>\n",
       "    <tr>\n",
       "      <th>57</th>\n",
       "      <td>1938-06-24</td>\n",
       "      <td>NaT</td>\n",
       "      <td>Male</td>\n",
       "      <td>White</td>\n",
       "      <td>0</td>\n",
       "      <td>1</td>\n",
       "      <td>0</td>\n",
       "      <td>0</td>\n",
       "      <td>0</td>\n",
       "      <td>NaT</td>\n",
       "      <td>...</td>\n",
       "      <td>White</td>\n",
       "      <td>0</td>\n",
       "      <td>NaN</td>\n",
       "      <td>75.0</td>\n",
       "      <td>NaN</td>\n",
       "      <td>NaN</td>\n",
       "      <td>NaN</td>\n",
       "      <td>71-80</td>\n",
       "      <td>2016-08-25</td>\n",
       "      <td>1010.0</td>\n",
       "    </tr>\n",
       "    <tr>\n",
       "      <th>92</th>\n",
       "      <td>1952-08-30</td>\n",
       "      <td>2016-11-21</td>\n",
       "      <td>Male</td>\n",
       "      <td>Black/African-American</td>\n",
       "      <td>0</td>\n",
       "      <td>1</td>\n",
       "      <td>0</td>\n",
       "      <td>0</td>\n",
       "      <td>0</td>\n",
       "      <td>NaT</td>\n",
       "      <td>...</td>\n",
       "      <td>Black/African-American</td>\n",
       "      <td>0</td>\n",
       "      <td>NaN</td>\n",
       "      <td>62.0</td>\n",
       "      <td>NaN</td>\n",
       "      <td>NaN</td>\n",
       "      <td>NaN</td>\n",
       "      <td>61-70</td>\n",
       "      <td>2016-08-25</td>\n",
       "      <td>668.0</td>\n",
       "    </tr>\n",
       "    <tr>\n",
       "      <th>118</th>\n",
       "      <td>1956-07-15</td>\n",
       "      <td>2016-04-22</td>\n",
       "      <td>Male</td>\n",
       "      <td>Black/African-American</td>\n",
       "      <td>0</td>\n",
       "      <td>1</td>\n",
       "      <td>0</td>\n",
       "      <td>0</td>\n",
       "      <td>0</td>\n",
       "      <td>NaT</td>\n",
       "      <td>...</td>\n",
       "      <td>Black/African-American</td>\n",
       "      <td>1</td>\n",
       "      <td>NaN</td>\n",
       "      <td>59.0</td>\n",
       "      <td>NaN</td>\n",
       "      <td>NaN</td>\n",
       "      <td>NaN</td>\n",
       "      <td>51-60</td>\n",
       "      <td>2016-08-25</td>\n",
       "      <td>40.0</td>\n",
       "    </tr>\n",
       "  </tbody>\n",
       "</table>\n",
       "<p>5 rows × 27 columns</p>\n",
       "</div>"
      ],
      "text/plain": [
       "    BIRTH_DATE_off DEATH_DATE_off     sex                    race  LUNG  \\\n",
       "44      1955-03-10     2012-11-22  Female  Black/African-American     0   \n",
       "55      1929-06-27            NaT  Female  Black/African-American     0   \n",
       "57      1938-06-24            NaT    Male                   White     0   \n",
       "92      1952-08-30     2016-11-21    Male  Black/African-American     0   \n",
       "118     1956-07-15     2016-04-22    Male  Black/African-American     0   \n",
       "\n",
       "     PANCREAS  THYROID  COLORECTAL  MELANOMA LUNG DT  ...  \\\n",
       "44          1        0           0         0     NaT  ...   \n",
       "55          1        0           0         0     NaT  ...   \n",
       "57          1        0           0         0     NaT  ...   \n",
       "92          1        0           0         0     NaT  ...   \n",
       "118         1        0           0         0     NaT  ...   \n",
       "\n",
       "               race_grouped died lung_age pancreas_age  thyroid_age  \\\n",
       "44   Black/African-American    1      NaN         57.0          NaN   \n",
       "55   Black/African-American    0      NaN         86.0          NaN   \n",
       "57                    White    0      NaN         75.0          NaN   \n",
       "92   Black/African-American    0      NaN         62.0          NaN   \n",
       "118  Black/African-American    1      NaN         59.0          NaN   \n",
       "\n",
       "     colorectal_age  melanoma_age deciles      limit  duration  \n",
       "44              NaN           NaN   51-60 2016-08-25      41.0  \n",
       "55              NaN           NaN   81-90 2016-08-25     211.0  \n",
       "57              NaN           NaN   71-80 2016-08-25    1010.0  \n",
       "92              NaN           NaN   61-70 2016-08-25     668.0  \n",
       "118             NaN           NaN   51-60 2016-08-25      40.0  \n",
       "\n",
       "[5 rows x 27 columns]"
      ]
     },
     "execution_count": 16,
     "metadata": {},
     "output_type": "execute_result"
    }
   ],
   "source": [
    "# Filter for pancreas cancer patients \n",
    "pancreas_df = cancer_df[cancer_df['PANCREAS_DT'].notnull()]\n",
    "\n",
    "# Bin patients into age categories \n",
    "bins= [0,11,21,31,41,51,61,71,81,91,110]\n",
    "labels = ['0-10','11-20','21-30','31-40','41-50','51-60','61-70','71-80','81-90','>90']\n",
    "pancreas_df['deciles'] = pd.cut(pancreas_df['pancreas_age'], bins=bins, labels=labels, right=False)\n",
    "\n",
    "# Add field that includes duration of illness \n",
    "pancreas_df['limit'] = \"2016-08-25\"\n",
    "pancreas_df['limit'] = pd.to_datetime(pancreas_df['limit'])\n",
    "pancreas_df['duration'] = np.where(pancreas_df[\"died\"]==1, (pancreas_df['DEATH_DATE_off'] - pancreas_df['PANCREAS_DT']).dt.days, (pancreas_df['limit'] - pancreas_df['PANCREAS_DT']).dt.days)\n",
    "\n",
    "# Select only fields of interest \n",
    "#pancreas_df = pancreas_df[['BIRTH_DATE_off', 'DEATH_DATE_off', 'sex', 'race_grouped', 'PANCREAS', 'PANCREAS_DT', 'died', 'pancreas_age', 'deciles', 'duration']]\n",
    "\n",
    "pancreas_df.head()"
   ]
  },
  {
   "cell_type": "markdown",
   "id": "083d10cb",
   "metadata": {},
   "source": [
    "### Pancreas Cancer Survival Rate Array "
   ]
  },
  {
   "cell_type": "code",
   "execution_count": 17,
   "id": "7dbd4662",
   "metadata": {},
   "outputs": [
    {
     "data": {
      "text/html": [
       "<div>\n",
       "<style scoped>\n",
       "    .dataframe tbody tr th:only-of-type {\n",
       "        vertical-align: middle;\n",
       "    }\n",
       "\n",
       "    .dataframe tbody tr th {\n",
       "        vertical-align: top;\n",
       "    }\n",
       "\n",
       "    .dataframe thead th {\n",
       "        text-align: right;\n",
       "    }\n",
       "</style>\n",
       "<table border=\"1\" class=\"dataframe\">\n",
       "  <thead>\n",
       "    <tr style=\"text-align: right;\">\n",
       "      <th></th>\n",
       "      <th>Kaplan Meier Estimate</th>\n",
       "    </tr>\n",
       "    <tr>\n",
       "      <th>timeline</th>\n",
       "      <th></th>\n",
       "    </tr>\n",
       "  </thead>\n",
       "  <tbody>\n",
       "    <tr>\n",
       "      <th>0.0</th>\n",
       "      <td>1.000000</td>\n",
       "    </tr>\n",
       "    <tr>\n",
       "      <th>4.0</th>\n",
       "      <td>0.998480</td>\n",
       "    </tr>\n",
       "    <tr>\n",
       "      <th>8.0</th>\n",
       "      <td>0.996960</td>\n",
       "    </tr>\n",
       "    <tr>\n",
       "      <th>9.0</th>\n",
       "      <td>0.996960</td>\n",
       "    </tr>\n",
       "    <tr>\n",
       "      <th>25.0</th>\n",
       "      <td>0.996960</td>\n",
       "    </tr>\n",
       "    <tr>\n",
       "      <th>...</th>\n",
       "      <td>...</td>\n",
       "    </tr>\n",
       "    <tr>\n",
       "      <th>2368.0</th>\n",
       "      <td>0.942883</td>\n",
       "    </tr>\n",
       "    <tr>\n",
       "      <th>2402.0</th>\n",
       "      <td>0.942883</td>\n",
       "    </tr>\n",
       "    <tr>\n",
       "      <th>2408.0</th>\n",
       "      <td>0.942883</td>\n",
       "    </tr>\n",
       "    <tr>\n",
       "      <th>2499.0</th>\n",
       "      <td>0.942883</td>\n",
       "    </tr>\n",
       "    <tr>\n",
       "      <th>2890.0</th>\n",
       "      <td>0.942883</td>\n",
       "    </tr>\n",
       "  </tbody>\n",
       "</table>\n",
       "<p>535 rows × 1 columns</p>\n",
       "</div>"
      ],
      "text/plain": [
       "          Kaplan Meier Estimate\n",
       "timeline                       \n",
       "0.0                    1.000000\n",
       "4.0                    0.998480\n",
       "8.0                    0.996960\n",
       "9.0                    0.996960\n",
       "25.0                   0.996960\n",
       "...                         ...\n",
       "2368.0                 0.942883\n",
       "2402.0                 0.942883\n",
       "2408.0                 0.942883\n",
       "2499.0                 0.942883\n",
       "2890.0                 0.942883\n",
       "\n",
       "[535 rows x 1 columns]"
      ]
     },
     "execution_count": 17,
     "metadata": {},
     "output_type": "execute_result"
    }
   ],
   "source": [
    "cancer_km(pancreas_df)"
   ]
  },
  {
   "cell_type": "markdown",
   "id": "48d60cc2",
   "metadata": {},
   "source": [
    "### Pancreas Cancer Survival Rates by Gender "
   ]
  },
  {
   "cell_type": "code",
   "execution_count": 18,
   "id": "7d3ab44b",
   "metadata": {},
   "outputs": [
    {
     "data": {
      "text/plain": [
       "Text(0.5, 0, 'Duration of Illness')"
      ]
     },
     "execution_count": 18,
     "metadata": {},
     "output_type": "execute_result"
    },
    {
     "data": {
      "image/png": "[encoded data removed]",
      "text/plain": [
       "<Figure size 864x432 with 1 Axes>"
      ]
     },
     "metadata": {
      "needs_background": "light"
     },
     "output_type": "display_data"
    }
   ],
   "source": [
    "kmf4 = KaplanMeierFitter() ## instantiate the class to create an object\n",
    "\n",
    "# Define duration and death indicators \n",
    "T_pancreas = pancreas_df['duration']     ## time to event\n",
    "E_pancreas = pancreas_df['died']         ## indicator for patient death\n",
    "\n",
    "## Two Cohorts are compared. 1. Male, 2. Female.\n",
    "groups = pancreas_df['sex']   \n",
    "i1 = (groups == 'Male')      ## group i1 , having the pandas series for the 1st cohort\n",
    "i2 = (groups == 'Female')     ## group i2 , having the pandas series for the 2nd cohort\n",
    "\n",
    "\n",
    "## fit the model for 1st cohort\n",
    "kmf4.fit(T_pancreas[i1], E_pancreas[i1], label='Male')\n",
    "a1 = kmf4.plot(ci_show=False)\n",
    "\n",
    "## fit the model for 2nd cohort\n",
    "kmf4.fit(T_pancreas[i2], E_pancreas[i2], label='Female')\n",
    "kmf4.plot(ci_show=False)\n",
    "\n",
    "# Add Title Info \n",
    "plt.title(\"Pancreas Cancer Survival Rates by Gender\")\n",
    "plt.ylabel(\"Survival Rate\")\n",
    "plt.xlabel(\"Duration of Illness\")"
   ]
  },
  {
   "cell_type": "markdown",
   "id": "88db0758",
   "metadata": {},
   "source": [
    "### Pancreas Cancer Survival Rates by Race"
   ]
  },
  {
   "cell_type": "code",
   "execution_count": 19,
   "id": "fbd7ceb4",
   "metadata": {},
   "outputs": [
    {
     "data": {
      "text/plain": [
       "Text(0.5, 0, 'Duration of Illness')"
      ]
     },
     "execution_count": 19,
     "metadata": {},
     "output_type": "execute_result"
    },
    {
     "data": {
      "image/png": "[encoded data removed]",
      "text/plain": [
       "<Figure size 864x432 with 1 Axes>"
      ]
     },
     "metadata": {
      "needs_background": "light"
     },
     "output_type": "display_data"
    }
   ],
   "source": [
    "kmf5 = KaplanMeierFitter() ## instantiate the class to create an object\n",
    "\n",
    "## Two Cohorts are compared. 1. Asian/Mideast Indian, 2. Black/African-American. 3. White. 4. Other \n",
    "groups = pancreas_df['race_grouped']   \n",
    "i1 = (groups == 'Asian/Mideast Indian')      ## group i1 , having the pandas series for the 1st cohort\n",
    "i2 = (groups == 'Black/African-American')     ## group i2 , having the pandas series for the 2nd cohort\n",
    "i3 = (groups == 'White')     ## group i3 , having the pandas series for the 3rd cohort\n",
    "i4 = (groups == 'Other')     ## group i4 , having the pandas series for the 4th cohort\n",
    "\n",
    "\n",
    "## fit the model for 1st cohort\n",
    "kmf5.fit(T_pancreas[i1], E_pancreas[i1], label='Asian/Mideast Indian')\n",
    "a1 = kmf5.plot(ci_show=False)\n",
    "\n",
    "## fit the model for 2nd cohort\n",
    "kmf5.fit(T_pancreas[i2], E_pancreas[i2], label='Black/African-American')\n",
    "kmf5.plot(ci_show=False)\n",
    "\n",
    "## fit the model for 3rd cohort\n",
    "kmf5.fit(T_pancreas[i3], E_pancreas[i3], label='White')\n",
    "kmf5.plot(ci_show=False)\n",
    "\n",
    "## fit the model for 4th cohort \n",
    "kmf5.fit(T_pancreas[i4], E_pancreas[i4], label='Other')\n",
    "kmf5.plot(ci_show=False)\n",
    "\n",
    "# Add Title Info \n",
    "plt.title(\"Pancreas Cancer Survival Rates by Race\")\n",
    "plt.ylabel(\"Survival Rate\")\n",
    "plt.xlabel(\"Duration of Illness\")"
   ]
  },
  {
   "cell_type": "markdown",
   "id": "b0beb92f",
   "metadata": {},
   "source": [
    "### Pancreas Cancer Survival Rates by Decile"
   ]
  },
  {
   "cell_type": "code",
   "execution_count": 20,
   "id": "0b2db372",
   "metadata": {},
   "outputs": [
    {
     "data": {
      "text/plain": [
       "Text(0.5, 0, 'Duration of Illness')"
      ]
     },
     "execution_count": 20,
     "metadata": {},
     "output_type": "execute_result"
    },
    {
     "data": {
      "image/png": "[encoded data removed]",
      "text/plain": [
       "<Figure size 864x432 with 1 Axes>"
      ]
     },
     "metadata": {
      "needs_background": "light"
     },
     "output_type": "display_data"
    }
   ],
   "source": [
    "kmf6 = KaplanMeierFitter() ## instantiate the class to create an object\n",
    "\n",
    "## Cohorts are divided into deciles \n",
    "groups = pancreas_df['deciles']   \n",
    "#i1 = (groups == '0-10')      ## no patients in this age range \n",
    "#i2 = (groups == '11-20')     ## no patients in this age range \n",
    "i3 = (groups == '21-30')     ## group i3 , having the pandas series for the 3rd cohort\n",
    "i4 = (groups == '31-40')     ## group i4 , having the pandas series for the 4th cohort\n",
    "i5 = (groups == '41-50')     ## group i5 , having the pandas series for the 5th cohort\n",
    "i6 = (groups == '51-60')     ## group i6 , having the pandas series for the 6th cohort\n",
    "i7 = (groups == '61-70')     ## group i7 , having the pandas series for the 7th cohort\n",
    "i8 = (groups == '71-80')     ## group i8 , having the pandas series for the 8th cohort\n",
    "i9 = (groups == '81-90')     ## group i9 , having the pandas series for the 9th cohort\n",
    "i10 = (groups == '>90')     ## group i10 , having the pandas series for the 10th cohort\n",
    "\n",
    "\n",
    "## fit the model for 1st cohort\n",
    "#kmf6.fit(T_pancreas[i1], E_pancreas[i1], label='0-10')\n",
    "#a1 = kmf6.plot(ci_show=False)\n",
    "\n",
    "## fit the model for 2nd cohort\n",
    "#kmf6.fit(T_pancreas[i2], E_pancreas[i2], label='11-20')\n",
    "#kmf6.plot(ci_show=False)\n",
    "\n",
    "## fit the model for 3rd cohort\n",
    "kmf6.fit(T_pancreas[i3], E_pancreas[i3], label='21-30')\n",
    "kmf6.plot(ci_show=False)\n",
    "\n",
    "## fit the model for 4th cohort \n",
    "kmf6.fit(T_pancreas[i4], E_pancreas[i4], label='31-40')\n",
    "kmf6.plot(ci_show=False)\n",
    "\n",
    "## fit the model for 5th cohort \n",
    "kmf6.fit(T_pancreas[i5], E_pancreas[i5], label='41-50')\n",
    "kmf6.plot(ci_show=False)\n",
    "\n",
    "## fit the model for 6th cohort \n",
    "kmf6.fit(T_pancreas[i6], E_pancreas[i6], label='51-60')\n",
    "kmf6.plot(ci_show=False)\n",
    "\n",
    "## fit the model for 7th cohort \n",
    "kmf6.fit(T_pancreas[i7], E_pancreas[i7], label='61-70')\n",
    "kmf6.plot(ci_show=False)\n",
    "\n",
    "## fit the model for 8th cohort \n",
    "kmf6.fit(T_pancreas[i8], E_pancreas[i8], label='71-80')\n",
    "kmf6.plot(ci_show=False)\n",
    "\n",
    "## fit the model for 9th cohort \n",
    "kmf6.fit(T_pancreas[i9], E_pancreas[i9], label='81-90')\n",
    "kmf6.plot(ci_show=False)\n",
    "\n",
    "## fit the model for 10th cohort \n",
    "kmf6.fit(T_pancreas[i10], E_pancreas[i10], label='>90')\n",
    "kmf6.plot(ci_show=False)\n",
    "\n",
    "# Add Title Info \n",
    "plt.title(\"Pancreas Cancer Survival Rates by Decile\")\n",
    "plt.ylabel(\"Survival Rate\")\n",
    "plt.xlabel(\"Duration of Illness\")"
   ]
  },
  {
   "cell_type": "markdown",
   "id": "53ddb3bb",
   "metadata": {},
   "source": [
    "## Thyroid Cancer"
   ]
  },
  {
   "cell_type": "code",
   "execution_count": 21,
   "id": "35d9fb4b",
   "metadata": {},
   "outputs": [
    {
     "name": "stderr",
     "output_type": "stream",
     "text": [
      "<ipython-input-21-e4a5dd1e9e54>:7: SettingWithCopyWarning: \n",
      "A value is trying to be set on a copy of a slice from a DataFrame.\n",
      "Try using .loc[row_indexer,col_indexer] = value instead\n",
      "\n",
      "See the caveats in the documentation: https://pandas.pydata.org/pandas-docs/stable/user_guide/indexing.html#returning-a-view-versus-a-copy\n",
      "  thyroid_df['deciles'] = pd.cut(thyroid_df['thyroid_age'], bins=bins, labels=labels, right=False)\n",
      "<ipython-input-21-e4a5dd1e9e54>:10: SettingWithCopyWarning: \n",
      "A value is trying to be set on a copy of a slice from a DataFrame.\n",
      "Try using .loc[row_indexer,col_indexer] = value instead\n",
      "\n",
      "See the caveats in the documentation: https://pandas.pydata.org/pandas-docs/stable/user_guide/indexing.html#returning-a-view-versus-a-copy\n",
      "  thyroid_df['limit'] = \"2016-08-25\"\n",
      "<ipython-input-21-e4a5dd1e9e54>:11: SettingWithCopyWarning: \n",
      "A value is trying to be set on a copy of a slice from a DataFrame.\n",
      "Try using .loc[row_indexer,col_indexer] = value instead\n",
      "\n",
      "See the caveats in the documentation: https://pandas.pydata.org/pandas-docs/stable/user_guide/indexing.html#returning-a-view-versus-a-copy\n",
      "  thyroid_df['limit'] = pd.to_datetime(thyroid_df['limit'])\n",
      "<ipython-input-21-e4a5dd1e9e54>:12: SettingWithCopyWarning: \n",
      "A value is trying to be set on a copy of a slice from a DataFrame.\n",
      "Try using .loc[row_indexer,col_indexer] = value instead\n",
      "\n",
      "See the caveats in the documentation: https://pandas.pydata.org/pandas-docs/stable/user_guide/indexing.html#returning-a-view-versus-a-copy\n",
      "  thyroid_df['duration'] = np.where(thyroid_df[\"died\"]==1, (thyroid_df['DEATH_DATE_off'] - thyroid_df['THYROID_DT']).dt.days, (thyroid_df['limit'] - thyroid_df['THYROID_DT']).dt.days)\n"
     ]
    },
    {
     "data": {
      "text/html": [
       "<div>\n",
       "<style scoped>\n",
       "    .dataframe tbody tr th:only-of-type {\n",
       "        vertical-align: middle;\n",
       "    }\n",
       "\n",
       "    .dataframe tbody tr th {\n",
       "        vertical-align: top;\n",
       "    }\n",
       "\n",
       "    .dataframe thead th {\n",
       "        text-align: right;\n",
       "    }\n",
       "</style>\n",
       "<table border=\"1\" class=\"dataframe\">\n",
       "  <thead>\n",
       "    <tr style=\"text-align: right;\">\n",
       "      <th></th>\n",
       "      <th>BIRTH_DATE_off</th>\n",
       "      <th>DEATH_DATE_off</th>\n",
       "      <th>sex</th>\n",
       "      <th>race</th>\n",
       "      <th>LUNG</th>\n",
       "      <th>PANCREAS</th>\n",
       "      <th>THYROID</th>\n",
       "      <th>COLORECTAL</th>\n",
       "      <th>MELANOMA</th>\n",
       "      <th>LUNG DT</th>\n",
       "      <th>...</th>\n",
       "      <th>race_grouped</th>\n",
       "      <th>died</th>\n",
       "      <th>lung_age</th>\n",
       "      <th>pancreas_age</th>\n",
       "      <th>thyroid_age</th>\n",
       "      <th>colorectal_age</th>\n",
       "      <th>melanoma_age</th>\n",
       "      <th>deciles</th>\n",
       "      <th>limit</th>\n",
       "      <th>duration</th>\n",
       "    </tr>\n",
       "  </thead>\n",
       "  <tbody>\n",
       "    <tr>\n",
       "      <th>6</th>\n",
       "      <td>1946-11-03</td>\n",
       "      <td>NaT</td>\n",
       "      <td>Female</td>\n",
       "      <td>Black/African-American</td>\n",
       "      <td>0</td>\n",
       "      <td>0</td>\n",
       "      <td>1</td>\n",
       "      <td>0</td>\n",
       "      <td>0</td>\n",
       "      <td>NaT</td>\n",
       "      <td>...</td>\n",
       "      <td>Black/African-American</td>\n",
       "      <td>0</td>\n",
       "      <td>NaN</td>\n",
       "      <td>NaN</td>\n",
       "      <td>66.0</td>\n",
       "      <td>NaN</td>\n",
       "      <td>NaN</td>\n",
       "      <td>61-70</td>\n",
       "      <td>2016-08-25</td>\n",
       "      <td>1365.0</td>\n",
       "    </tr>\n",
       "    <tr>\n",
       "      <th>7</th>\n",
       "      <td>1938-06-10</td>\n",
       "      <td>NaT</td>\n",
       "      <td>Female</td>\n",
       "      <td>Black/African-American</td>\n",
       "      <td>0</td>\n",
       "      <td>0</td>\n",
       "      <td>1</td>\n",
       "      <td>0</td>\n",
       "      <td>0</td>\n",
       "      <td>NaT</td>\n",
       "      <td>...</td>\n",
       "      <td>Black/African-American</td>\n",
       "      <td>0</td>\n",
       "      <td>NaN</td>\n",
       "      <td>NaN</td>\n",
       "      <td>74.0</td>\n",
       "      <td>NaN</td>\n",
       "      <td>NaN</td>\n",
       "      <td>71-80</td>\n",
       "      <td>2016-08-25</td>\n",
       "      <td>1523.0</td>\n",
       "    </tr>\n",
       "    <tr>\n",
       "      <th>28</th>\n",
       "      <td>1948-02-17</td>\n",
       "      <td>NaT</td>\n",
       "      <td>Female</td>\n",
       "      <td>Black/African-American</td>\n",
       "      <td>0</td>\n",
       "      <td>0</td>\n",
       "      <td>1</td>\n",
       "      <td>0</td>\n",
       "      <td>0</td>\n",
       "      <td>NaT</td>\n",
       "      <td>...</td>\n",
       "      <td>Black/African-American</td>\n",
       "      <td>0</td>\n",
       "      <td>NaN</td>\n",
       "      <td>NaN</td>\n",
       "      <td>64.0</td>\n",
       "      <td>NaN</td>\n",
       "      <td>NaN</td>\n",
       "      <td>61-70</td>\n",
       "      <td>2016-08-25</td>\n",
       "      <td>1453.0</td>\n",
       "    </tr>\n",
       "    <tr>\n",
       "      <th>32</th>\n",
       "      <td>1949-09-04</td>\n",
       "      <td>NaT</td>\n",
       "      <td>Female</td>\n",
       "      <td>White</td>\n",
       "      <td>0</td>\n",
       "      <td>0</td>\n",
       "      <td>1</td>\n",
       "      <td>0</td>\n",
       "      <td>0</td>\n",
       "      <td>NaT</td>\n",
       "      <td>...</td>\n",
       "      <td>White</td>\n",
       "      <td>0</td>\n",
       "      <td>NaN</td>\n",
       "      <td>NaN</td>\n",
       "      <td>64.0</td>\n",
       "      <td>NaN</td>\n",
       "      <td>NaN</td>\n",
       "      <td>61-70</td>\n",
       "      <td>2016-08-25</td>\n",
       "      <td>890.0</td>\n",
       "    </tr>\n",
       "    <tr>\n",
       "      <th>98</th>\n",
       "      <td>1949-12-15</td>\n",
       "      <td>NaT</td>\n",
       "      <td>Female</td>\n",
       "      <td>Black/African-American</td>\n",
       "      <td>0</td>\n",
       "      <td>0</td>\n",
       "      <td>1</td>\n",
       "      <td>0</td>\n",
       "      <td>0</td>\n",
       "      <td>NaT</td>\n",
       "      <td>...</td>\n",
       "      <td>Black/African-American</td>\n",
       "      <td>0</td>\n",
       "      <td>NaN</td>\n",
       "      <td>NaN</td>\n",
       "      <td>63.0</td>\n",
       "      <td>NaN</td>\n",
       "      <td>NaN</td>\n",
       "      <td>61-70</td>\n",
       "      <td>2016-08-25</td>\n",
       "      <td>1276.0</td>\n",
       "    </tr>\n",
       "  </tbody>\n",
       "</table>\n",
       "<p>5 rows × 27 columns</p>\n",
       "</div>"
      ],
      "text/plain": [
       "   BIRTH_DATE_off DEATH_DATE_off     sex                    race  LUNG  \\\n",
       "6      1946-11-03            NaT  Female  Black/African-American     0   \n",
       "7      1938-06-10            NaT  Female  Black/African-American     0   \n",
       "28     1948-02-17            NaT  Female  Black/African-American     0   \n",
       "32     1949-09-04            NaT  Female                   White     0   \n",
       "98     1949-12-15            NaT  Female  Black/African-American     0   \n",
       "\n",
       "    PANCREAS  THYROID  COLORECTAL  MELANOMA LUNG DT  ...  \\\n",
       "6          0        1           0         0     NaT  ...   \n",
       "7          0        1           0         0     NaT  ...   \n",
       "28         0        1           0         0     NaT  ...   \n",
       "32         0        1           0         0     NaT  ...   \n",
       "98         0        1           0         0     NaT  ...   \n",
       "\n",
       "              race_grouped died lung_age pancreas_age  thyroid_age  \\\n",
       "6   Black/African-American    0      NaN          NaN         66.0   \n",
       "7   Black/African-American    0      NaN          NaN         74.0   \n",
       "28  Black/African-American    0      NaN          NaN         64.0   \n",
       "32                   White    0      NaN          NaN         64.0   \n",
       "98  Black/African-American    0      NaN          NaN         63.0   \n",
       "\n",
       "    colorectal_age  melanoma_age deciles      limit  duration  \n",
       "6              NaN           NaN   61-70 2016-08-25    1365.0  \n",
       "7              NaN           NaN   71-80 2016-08-25    1523.0  \n",
       "28             NaN           NaN   61-70 2016-08-25    1453.0  \n",
       "32             NaN           NaN   61-70 2016-08-25     890.0  \n",
       "98             NaN           NaN   61-70 2016-08-25    1276.0  \n",
       "\n",
       "[5 rows x 27 columns]"
      ]
     },
     "execution_count": 21,
     "metadata": {},
     "output_type": "execute_result"
    }
   ],
   "source": [
    "# Filter for thyroid cancer patients \n",
    "thyroid_df = cancer_df[cancer_df['THYROID_DT'].notnull()]\n",
    "\n",
    "# Bin patients into age categories \n",
    "bins= [0,11,21,31,41,51,61,71,81,91,110]\n",
    "labels = ['0-10','11-20','21-30','31-40','41-50','51-60','61-70','71-80','81-90','>90']\n",
    "thyroid_df['deciles'] = pd.cut(thyroid_df['thyroid_age'], bins=bins, labels=labels, right=False)\n",
    "\n",
    "# Add field that includes duration of illness \n",
    "thyroid_df['limit'] = \"2016-08-25\"\n",
    "thyroid_df['limit'] = pd.to_datetime(thyroid_df['limit'])\n",
    "thyroid_df['duration'] = np.where(thyroid_df[\"died\"]==1, (thyroid_df['DEATH_DATE_off'] - thyroid_df['THYROID_DT']).dt.days, (thyroid_df['limit'] - thyroid_df['THYROID_DT']).dt.days)\n",
    "\n",
    "# Select only fields of interest \n",
    "#thyroid_df = thyroid_df[['BIRTH_DATE_off', 'DEATH_DATE_off', 'sex', 'race_grouped', 'THYROID', 'THYROID_DT', 'died', 'thyroid_age', 'deciles', 'duration']]\n",
    "\n",
    "thyroid_df.head()"
   ]
  },
  {
   "cell_type": "markdown",
   "id": "33d60268",
   "metadata": {},
   "source": [
    "### Thyroid Cancer Survival Rate Array"
   ]
  },
  {
   "cell_type": "code",
   "execution_count": 22,
   "id": "13749836",
   "metadata": {},
   "outputs": [
    {
     "data": {
      "text/html": [
       "<div>\n",
       "<style scoped>\n",
       "    .dataframe tbody tr th:only-of-type {\n",
       "        vertical-align: middle;\n",
       "    }\n",
       "\n",
       "    .dataframe tbody tr th {\n",
       "        vertical-align: top;\n",
       "    }\n",
       "\n",
       "    .dataframe thead th {\n",
       "        text-align: right;\n",
       "    }\n",
       "</style>\n",
       "<table border=\"1\" class=\"dataframe\">\n",
       "  <thead>\n",
       "    <tr style=\"text-align: right;\">\n",
       "      <th></th>\n",
       "      <th>Kaplan Meier Estimate</th>\n",
       "    </tr>\n",
       "    <tr>\n",
       "      <th>timeline</th>\n",
       "      <th></th>\n",
       "    </tr>\n",
       "  </thead>\n",
       "  <tbody>\n",
       "    <tr>\n",
       "      <th>0.0</th>\n",
       "      <td>0.998656</td>\n",
       "    </tr>\n",
       "    <tr>\n",
       "      <th>78.0</th>\n",
       "      <td>0.998656</td>\n",
       "    </tr>\n",
       "    <tr>\n",
       "      <th>106.0</th>\n",
       "      <td>0.998656</td>\n",
       "    </tr>\n",
       "    <tr>\n",
       "      <th>108.0</th>\n",
       "      <td>0.998656</td>\n",
       "    </tr>\n",
       "    <tr>\n",
       "      <th>109.0</th>\n",
       "      <td>0.998656</td>\n",
       "    </tr>\n",
       "    <tr>\n",
       "      <th>...</th>\n",
       "      <td>...</td>\n",
       "    </tr>\n",
       "    <tr>\n",
       "      <th>13700.0</th>\n",
       "      <td>0.955013</td>\n",
       "    </tr>\n",
       "    <tr>\n",
       "      <th>13732.0</th>\n",
       "      <td>0.955013</td>\n",
       "    </tr>\n",
       "    <tr>\n",
       "      <th>14498.0</th>\n",
       "      <td>0.955013</td>\n",
       "    </tr>\n",
       "    <tr>\n",
       "      <th>16853.0</th>\n",
       "      <td>0.955013</td>\n",
       "    </tr>\n",
       "    <tr>\n",
       "      <th>20665.0</th>\n",
       "      <td>0.955013</td>\n",
       "    </tr>\n",
       "  </tbody>\n",
       "</table>\n",
       "<p>609 rows × 1 columns</p>\n",
       "</div>"
      ],
      "text/plain": [
       "          Kaplan Meier Estimate\n",
       "timeline                       \n",
       "0.0                    0.998656\n",
       "78.0                   0.998656\n",
       "106.0                  0.998656\n",
       "108.0                  0.998656\n",
       "109.0                  0.998656\n",
       "...                         ...\n",
       "13700.0                0.955013\n",
       "13732.0                0.955013\n",
       "14498.0                0.955013\n",
       "16853.0                0.955013\n",
       "20665.0                0.955013\n",
       "\n",
       "[609 rows x 1 columns]"
      ]
     },
     "execution_count": 22,
     "metadata": {},
     "output_type": "execute_result"
    }
   ],
   "source": [
    "cancer_km(thyroid_df)"
   ]
  },
  {
   "cell_type": "markdown",
   "id": "e3fd0212",
   "metadata": {},
   "source": [
    "### Thyroid Cancer Survival Rates by Gender"
   ]
  },
  {
   "cell_type": "code",
   "execution_count": 23,
   "id": "69046e90",
   "metadata": {},
   "outputs": [
    {
     "data": {
      "text/plain": [
       "Text(0.5, 0, 'Duration of Illness')"
      ]
     },
     "execution_count": 23,
     "metadata": {},
     "output_type": "execute_result"
    },
    {
     "data": {
      "image/png": "[encoded data removed]",
      "text/plain": [
       "<Figure size 864x432 with 1 Axes>"
      ]
     },
     "metadata": {
      "needs_background": "light"
     },
     "output_type": "display_data"
    }
   ],
   "source": [
    "kmf7 = KaplanMeierFitter() ## instantiate the class to create an object\n",
    "\n",
    "# Define duration and death indicators \n",
    "T_thyroid = thyroid_df['duration']     ## time to event\n",
    "E_thyroid = thyroid_df['died']         ## indicator for patient death\n",
    "\n",
    "## Two Cohorts are compared. 1. Male, 2. Female.\n",
    "groups = thyroid_df['sex']   \n",
    "i1 = (groups == 'Male')      ## group i1 , having the pandas series for the 1st cohort\n",
    "i2 = (groups == 'Female')     ## group i2 , having the pandas series for the 2nd cohort\n",
    "\n",
    "\n",
    "## fit the model for 1st cohort\n",
    "kmf7.fit(T_thyroid[i1], E_thyroid[i1], label='Male')\n",
    "a1 = kmf7.plot(ci_show=False)\n",
    "\n",
    "## fit the model for 2nd cohort\n",
    "kmf7.fit(T_thyroid[i2], E_thyroid[i2], label='Female')\n",
    "kmf7.plot(ci_show=False)\n",
    "\n",
    "# Add Title Info \n",
    "plt.title(\"Thyroid Cancer Survival Rates by Gender\")\n",
    "plt.ylabel(\"Survival Rate\")\n",
    "plt.xlabel(\"Duration of Illness\")"
   ]
  },
  {
   "cell_type": "markdown",
   "id": "248acb15",
   "metadata": {},
   "source": [
    "### Thyroid Cancer Survival Rates by Race"
   ]
  },
  {
   "cell_type": "code",
   "execution_count": 24,
   "id": "770fadd3",
   "metadata": {},
   "outputs": [
    {
     "data": {
      "text/plain": [
       "Text(0.5, 0, 'Duration of Illness')"
      ]
     },
     "execution_count": 24,
     "metadata": {},
     "output_type": "execute_result"
    },
    {
     "data": {
      "image/png": "[encoded data removed]",
      "text/plain": [
       "<Figure size 864x432 with 1 Axes>"
      ]
     },
     "metadata": {
      "needs_background": "light"
     },
     "output_type": "display_data"
    }
   ],
   "source": [
    "kmf8 = KaplanMeierFitter() ## instantiate the class to create an object\n",
    "\n",
    "## Two Cohorts are compared. 1. Asian/Mideast Indian, 2. Black/African-American. 3. White. 4. Other \n",
    "groups = thyroid_df['race_grouped']   \n",
    "i1 = (groups == 'Asian/Mideast Indian')      ## group i1 , having the pandas series for the 1st cohort\n",
    "i2 = (groups == 'Black/African-American')     ## group i2 , having the pandas series for the 2nd cohort\n",
    "i3 = (groups == 'White')     ## group i3 , having the pandas series for the 3rd cohort\n",
    "i4 = (groups == 'Other')     ## group i4 , having the pandas series for the 4th cohort\n",
    "\n",
    "\n",
    "## fit the model for 1st cohort\n",
    "kmf8.fit(T_thyroid[i1], E_thyroid[i1], label='Asian/Mideast Indian')\n",
    "a1 = kmf8.plot(ci_show=False)\n",
    "\n",
    "## fit the model for 2nd cohort\n",
    "kmf8.fit(T_thyroid[i2], E_thyroid[i2], label='Black/African-American')\n",
    "kmf8.plot(ci_show=False)\n",
    "\n",
    "## fit the model for 3rd cohort\n",
    "kmf8.fit(T_thyroid[i3], E_thyroid[i3], label='White')\n",
    "kmf8.plot(ci_show=False)\n",
    "\n",
    "## fit the model for 4th cohort \n",
    "kmf8.fit(T_thyroid[i4], E_thyroid[i4], label='Other')\n",
    "kmf8.plot(ci_show=False)\n",
    "\n",
    "# Add Title Info \n",
    "plt.title(\"Thyroid Cancer Survival Rates by Race\")\n",
    "plt.ylabel(\"Survival Rate\")\n",
    "plt.xlabel(\"Duration of Illness\")"
   ]
  },
  {
   "cell_type": "markdown",
   "id": "baa0c115",
   "metadata": {},
   "source": [
    "### Thyroid Cancer Survival Rates by Decile"
   ]
  },
  {
   "cell_type": "code",
   "execution_count": 25,
   "id": "f133cbec",
   "metadata": {},
   "outputs": [
    {
     "data": {
      "text/plain": [
       "Text(0.5, 0, 'Duration of Illness')"
      ]
     },
     "execution_count": 25,
     "metadata": {},
     "output_type": "execute_result"
    },
    {
     "data": {
      "image/png": "[encoded data removed]",
      "text/plain": [
       "<Figure size 864x432 with 1 Axes>"
      ]
     },
     "metadata": {
      "needs_background": "light"
     },
     "output_type": "display_data"
    }
   ],
   "source": [
    "kmf9 = KaplanMeierFitter() ## instantiate the class to create an object\n",
    "\n",
    "## Cohorts are divided into deciles \n",
    "groups = thyroid_df['deciles']   \n",
    "i1 = (groups == '0-10')      ## group i1 , having the pandas series for the 1st cohort\n",
    "i2 = (groups == '11-20')     ## group i2 , having the pandas series for the 2nd cohort\n",
    "i3 = (groups == '21-30')     ## group i3 , having the pandas series for the 3rd cohort\n",
    "i4 = (groups == '31-40')     ## group i4 , having the pandas series for the 4th cohort\n",
    "i5 = (groups == '41-50')     ## group i5 , having the pandas series for the 5th cohort\n",
    "i6 = (groups == '51-60')     ## group i6 , having the pandas series for the 6th cohort\n",
    "i7 = (groups == '61-70')     ## group i7 , having the pandas series for the 7th cohort\n",
    "i8 = (groups == '71-80')     ## group i8 , having the pandas series for the 8th cohort\n",
    "i9 = (groups == '81-90')     ## group i9 , having the pandas series for the 9th cohort\n",
    "#i10 = (groups == '>90')     ## no patients in this group\n",
    "\n",
    "\n",
    "## fit the model for 1st cohort\n",
    "kmf9.fit(T_thyroid[i1], E_thyroid[i1], label='0-10')\n",
    "a1 = kmf9.plot(ci_show=False)\n",
    "\n",
    "## fit the model for 2nd cohort\n",
    "kmf9.fit(T_thyroid[i2], E_thyroid[i2], label='11-20')\n",
    "kmf9.plot(ci_show=False)\n",
    "\n",
    "## fit the model for 3rd cohort\n",
    "kmf9.fit(T_thyroid[i3], E_thyroid[i3], label='21-30')\n",
    "kmf9.plot(ci_show=False)\n",
    "\n",
    "## fit the model for 4th cohort \n",
    "kmf9.fit(T_thyroid[i4], E_thyroid[i4], label='31-40')\n",
    "kmf9.plot(ci_show=False)\n",
    "\n",
    "## fit the model for 5th cohort \n",
    "kmf9.fit(T_thyroid[i5], E_thyroid[i5], label='41-50')\n",
    "kmf9.plot(ci_show=False)\n",
    "\n",
    "## fit the model for 6th cohort \n",
    "kmf9.fit(T_thyroid[i6], E_thyroid[i6], label='51-60')\n",
    "kmf9.plot(ci_show=False)\n",
    "\n",
    "## fit the model for 7th cohort \n",
    "kmf9.fit(T_thyroid[i7], E_thyroid[i7], label='61-70')\n",
    "kmf9.plot(ci_show=False)\n",
    "\n",
    "## fit the model for 8th cohort \n",
    "kmf9.fit(T_thyroid[i8], E_thyroid[i8], label='71-80')\n",
    "kmf9.plot(ci_show=False)\n",
    "\n",
    "## fit the model for 9th cohort \n",
    "kmf9.fit(T_thyroid[i9], E_thyroid[i9], label='81-90')\n",
    "kmf9.plot(ci_show=False)\n",
    "\n",
    "## fit the model for 10th cohort \n",
    "#kmf9.fit(T_thyroid[i10], E_thyroid[i10], label='>90')\n",
    "#kmf9.plot(ci_show=False)\n",
    "\n",
    "# Add Title Info \n",
    "plt.title(\"Thyroid Cancer Survival Rates by Decile\")\n",
    "plt.ylabel(\"Survival Rate\")\n",
    "plt.xlabel(\"Duration of Illness\")"
   ]
  },
  {
   "cell_type": "markdown",
   "id": "3a6a1d1a",
   "metadata": {},
   "source": [
    "## Colorectal Cancer"
   ]
  },
  {
   "cell_type": "code",
   "execution_count": 26,
   "id": "ed80c3a0",
   "metadata": {
    "scrolled": false
   },
   "outputs": [
    {
     "name": "stderr",
     "output_type": "stream",
     "text": [
      "<ipython-input-26-9e34d1fcadc6>:7: SettingWithCopyWarning: \n",
      "A value is trying to be set on a copy of a slice from a DataFrame.\n",
      "Try using .loc[row_indexer,col_indexer] = value instead\n",
      "\n",
      "See the caveats in the documentation: https://pandas.pydata.org/pandas-docs/stable/user_guide/indexing.html#returning-a-view-versus-a-copy\n",
      "  colorectal_df['deciles'] = pd.cut(colorectal_df['colorectal_age'], bins=bins, labels=labels, right=False)\n",
      "<ipython-input-26-9e34d1fcadc6>:10: SettingWithCopyWarning: \n",
      "A value is trying to be set on a copy of a slice from a DataFrame.\n",
      "Try using .loc[row_indexer,col_indexer] = value instead\n",
      "\n",
      "See the caveats in the documentation: https://pandas.pydata.org/pandas-docs/stable/user_guide/indexing.html#returning-a-view-versus-a-copy\n",
      "  colorectal_df['limit'] = \"2016-08-25\"\n",
      "<ipython-input-26-9e34d1fcadc6>:11: SettingWithCopyWarning: \n",
      "A value is trying to be set on a copy of a slice from a DataFrame.\n",
      "Try using .loc[row_indexer,col_indexer] = value instead\n",
      "\n",
      "See the caveats in the documentation: https://pandas.pydata.org/pandas-docs/stable/user_guide/indexing.html#returning-a-view-versus-a-copy\n",
      "  colorectal_df['limit'] = pd.to_datetime(colorectal_df['limit'])\n",
      "<ipython-input-26-9e34d1fcadc6>:12: SettingWithCopyWarning: \n",
      "A value is trying to be set on a copy of a slice from a DataFrame.\n",
      "Try using .loc[row_indexer,col_indexer] = value instead\n",
      "\n",
      "See the caveats in the documentation: https://pandas.pydata.org/pandas-docs/stable/user_guide/indexing.html#returning-a-view-versus-a-copy\n",
      "  colorectal_df['duration'] = np.where(colorectal_df[\"died\"]==1, (colorectal_df['DEATH_DATE_off'] - colorectal_df['COLORECTAL_DT']).dt.days, (colorectal_df['limit'] - colorectal_df['COLORECTAL_DT']).dt.days)\n"
     ]
    },
    {
     "data": {
      "text/html": [
       "<div>\n",
       "<style scoped>\n",
       "    .dataframe tbody tr th:only-of-type {\n",
       "        vertical-align: middle;\n",
       "    }\n",
       "\n",
       "    .dataframe tbody tr th {\n",
       "        vertical-align: top;\n",
       "    }\n",
       "\n",
       "    .dataframe thead th {\n",
       "        text-align: right;\n",
       "    }\n",
       "</style>\n",
       "<table border=\"1\" class=\"dataframe\">\n",
       "  <thead>\n",
       "    <tr style=\"text-align: right;\">\n",
       "      <th></th>\n",
       "      <th>BIRTH_DATE_off</th>\n",
       "      <th>DEATH_DATE_off</th>\n",
       "      <th>sex</th>\n",
       "      <th>race</th>\n",
       "      <th>LUNG</th>\n",
       "      <th>PANCREAS</th>\n",
       "      <th>THYROID</th>\n",
       "      <th>COLORECTAL</th>\n",
       "      <th>MELANOMA</th>\n",
       "      <th>LUNG DT</th>\n",
       "      <th>...</th>\n",
       "      <th>race_grouped</th>\n",
       "      <th>died</th>\n",
       "      <th>lung_age</th>\n",
       "      <th>pancreas_age</th>\n",
       "      <th>thyroid_age</th>\n",
       "      <th>colorectal_age</th>\n",
       "      <th>melanoma_age</th>\n",
       "      <th>deciles</th>\n",
       "      <th>limit</th>\n",
       "      <th>duration</th>\n",
       "    </tr>\n",
       "  </thead>\n",
       "  <tbody>\n",
       "    <tr>\n",
       "      <th>13</th>\n",
       "      <td>1971-08-11</td>\n",
       "      <td>NaT</td>\n",
       "      <td>Female</td>\n",
       "      <td>Black/African-American</td>\n",
       "      <td>0</td>\n",
       "      <td>0</td>\n",
       "      <td>0</td>\n",
       "      <td>1</td>\n",
       "      <td>0</td>\n",
       "      <td>NaT</td>\n",
       "      <td>...</td>\n",
       "      <td>Black/African-American</td>\n",
       "      <td>0</td>\n",
       "      <td>NaN</td>\n",
       "      <td>NaN</td>\n",
       "      <td>NaN</td>\n",
       "      <td>42.0</td>\n",
       "      <td>NaN</td>\n",
       "      <td>41-50</td>\n",
       "      <td>2016-08-25</td>\n",
       "      <td>967.0</td>\n",
       "    </tr>\n",
       "    <tr>\n",
       "      <th>14</th>\n",
       "      <td>1948-03-22</td>\n",
       "      <td>2016-01-07</td>\n",
       "      <td>Female</td>\n",
       "      <td>Black/African-American</td>\n",
       "      <td>0</td>\n",
       "      <td>0</td>\n",
       "      <td>0</td>\n",
       "      <td>1</td>\n",
       "      <td>0</td>\n",
       "      <td>NaT</td>\n",
       "      <td>...</td>\n",
       "      <td>Black/African-American</td>\n",
       "      <td>1</td>\n",
       "      <td>NaN</td>\n",
       "      <td>NaN</td>\n",
       "      <td>NaN</td>\n",
       "      <td>66.0</td>\n",
       "      <td>NaN</td>\n",
       "      <td>61-70</td>\n",
       "      <td>2016-08-25</td>\n",
       "      <td>464.0</td>\n",
       "    </tr>\n",
       "    <tr>\n",
       "      <th>16</th>\n",
       "      <td>1946-01-09</td>\n",
       "      <td>NaT</td>\n",
       "      <td>Female</td>\n",
       "      <td>Black/African-American</td>\n",
       "      <td>0</td>\n",
       "      <td>0</td>\n",
       "      <td>0</td>\n",
       "      <td>1</td>\n",
       "      <td>0</td>\n",
       "      <td>NaT</td>\n",
       "      <td>...</td>\n",
       "      <td>Black/African-American</td>\n",
       "      <td>0</td>\n",
       "      <td>NaN</td>\n",
       "      <td>NaN</td>\n",
       "      <td>NaN</td>\n",
       "      <td>67.0</td>\n",
       "      <td>NaN</td>\n",
       "      <td>61-70</td>\n",
       "      <td>2016-08-25</td>\n",
       "      <td>1076.0</td>\n",
       "    </tr>\n",
       "    <tr>\n",
       "      <th>36</th>\n",
       "      <td>1970-12-19</td>\n",
       "      <td>NaT</td>\n",
       "      <td>Female</td>\n",
       "      <td>White</td>\n",
       "      <td>0</td>\n",
       "      <td>0</td>\n",
       "      <td>0</td>\n",
       "      <td>1</td>\n",
       "      <td>0</td>\n",
       "      <td>NaT</td>\n",
       "      <td>...</td>\n",
       "      <td>White</td>\n",
       "      <td>0</td>\n",
       "      <td>NaN</td>\n",
       "      <td>NaN</td>\n",
       "      <td>NaN</td>\n",
       "      <td>42.0</td>\n",
       "      <td>NaN</td>\n",
       "      <td>41-50</td>\n",
       "      <td>2016-08-25</td>\n",
       "      <td>990.0</td>\n",
       "    </tr>\n",
       "    <tr>\n",
       "      <th>41</th>\n",
       "      <td>1928-03-25</td>\n",
       "      <td>NaT</td>\n",
       "      <td>Female</td>\n",
       "      <td>Black/African-American</td>\n",
       "      <td>1</td>\n",
       "      <td>0</td>\n",
       "      <td>0</td>\n",
       "      <td>1</td>\n",
       "      <td>0</td>\n",
       "      <td>2012-02-22</td>\n",
       "      <td>...</td>\n",
       "      <td>Black/African-American</td>\n",
       "      <td>0</td>\n",
       "      <td>83.0</td>\n",
       "      <td>NaN</td>\n",
       "      <td>NaN</td>\n",
       "      <td>85.0</td>\n",
       "      <td>NaN</td>\n",
       "      <td>81-90</td>\n",
       "      <td>2016-08-25</td>\n",
       "      <td>988.0</td>\n",
       "    </tr>\n",
       "  </tbody>\n",
       "</table>\n",
       "<p>5 rows × 27 columns</p>\n",
       "</div>"
      ],
      "text/plain": [
       "   BIRTH_DATE_off DEATH_DATE_off     sex                    race  LUNG  \\\n",
       "13     1971-08-11            NaT  Female  Black/African-American     0   \n",
       "14     1948-03-22     2016-01-07  Female  Black/African-American     0   \n",
       "16     1946-01-09            NaT  Female  Black/African-American     0   \n",
       "36     1970-12-19            NaT  Female                   White     0   \n",
       "41     1928-03-25            NaT  Female  Black/African-American     1   \n",
       "\n",
       "    PANCREAS  THYROID  COLORECTAL  MELANOMA    LUNG DT  ...  \\\n",
       "13         0        0           1         0        NaT  ...   \n",
       "14         0        0           1         0        NaT  ...   \n",
       "16         0        0           1         0        NaT  ...   \n",
       "36         0        0           1         0        NaT  ...   \n",
       "41         0        0           1         0 2012-02-22  ...   \n",
       "\n",
       "              race_grouped died lung_age pancreas_age  thyroid_age  \\\n",
       "13  Black/African-American    0      NaN          NaN          NaN   \n",
       "14  Black/African-American    1      NaN          NaN          NaN   \n",
       "16  Black/African-American    0      NaN          NaN          NaN   \n",
       "36                   White    0      NaN          NaN          NaN   \n",
       "41  Black/African-American    0     83.0          NaN          NaN   \n",
       "\n",
       "    colorectal_age  melanoma_age deciles      limit  duration  \n",
       "13            42.0           NaN   41-50 2016-08-25     967.0  \n",
       "14            66.0           NaN   61-70 2016-08-25     464.0  \n",
       "16            67.0           NaN   61-70 2016-08-25    1076.0  \n",
       "36            42.0           NaN   41-50 2016-08-25     990.0  \n",
       "41            85.0           NaN   81-90 2016-08-25     988.0  \n",
       "\n",
       "[5 rows x 27 columns]"
      ]
     },
     "execution_count": 26,
     "metadata": {},
     "output_type": "execute_result"
    }
   ],
   "source": [
    "# Filter for colorectal cancer patients \n",
    "colorectal_df = cancer_df[cancer_df['COLORECTAL_DT'].notnull()]\n",
    "\n",
    "# Bin patients into age categories \n",
    "bins= [0,11,21,31,41,51,61,71,81,91,110]\n",
    "labels = ['0-10','11-20','21-30','31-40','41-50','51-60','61-70','71-80','81-90','>90']\n",
    "colorectal_df['deciles'] = pd.cut(colorectal_df['colorectal_age'], bins=bins, labels=labels, right=False)\n",
    "\n",
    "# Add field that includes duration of illness \n",
    "colorectal_df['limit'] = \"2016-08-25\"\n",
    "colorectal_df['limit'] = pd.to_datetime(colorectal_df['limit'])\n",
    "colorectal_df['duration'] = np.where(colorectal_df[\"died\"]==1, (colorectal_df['DEATH_DATE_off'] - colorectal_df['COLORECTAL_DT']).dt.days, (colorectal_df['limit'] - colorectal_df['COLORECTAL_DT']).dt.days)\n",
    "\n",
    "# Select only fields of interest \n",
    "#colorectal_df = colorectal_df[['BIRTH_DATE_off', 'DEATH_DATE_off', 'sex', 'race_grouped', 'COLORECTAL', 'COLORECTAL_DT', 'died', 'colorectal_age', 'deciles', 'duration']]\n",
    "\n",
    "colorectal_df.head()"
   ]
  },
  {
   "cell_type": "markdown",
   "id": "bc1083aa",
   "metadata": {},
   "source": [
    "### Colorectal Survival Rate Array"
   ]
  },
  {
   "cell_type": "code",
   "execution_count": 27,
   "id": "3a8e1595",
   "metadata": {},
   "outputs": [
    {
     "data": {
      "text/html": [
       "<div>\n",
       "<style scoped>\n",
       "    .dataframe tbody tr th:only-of-type {\n",
       "        vertical-align: middle;\n",
       "    }\n",
       "\n",
       "    .dataframe tbody tr th {\n",
       "        vertical-align: top;\n",
       "    }\n",
       "\n",
       "    .dataframe thead th {\n",
       "        text-align: right;\n",
       "    }\n",
       "</style>\n",
       "<table border=\"1\" class=\"dataframe\">\n",
       "  <thead>\n",
       "    <tr style=\"text-align: right;\">\n",
       "      <th></th>\n",
       "      <th>Kaplan Meier Estimate</th>\n",
       "    </tr>\n",
       "    <tr>\n",
       "      <th>timeline</th>\n",
       "      <th></th>\n",
       "    </tr>\n",
       "  </thead>\n",
       "  <tbody>\n",
       "    <tr>\n",
       "      <th>0.0</th>\n",
       "      <td>0.997886</td>\n",
       "    </tr>\n",
       "    <tr>\n",
       "      <th>7.0</th>\n",
       "      <td>0.996829</td>\n",
       "    </tr>\n",
       "    <tr>\n",
       "      <th>9.0</th>\n",
       "      <td>0.995772</td>\n",
       "    </tr>\n",
       "    <tr>\n",
       "      <th>26.0</th>\n",
       "      <td>0.994715</td>\n",
       "    </tr>\n",
       "    <tr>\n",
       "      <th>28.0</th>\n",
       "      <td>0.993658</td>\n",
       "    </tr>\n",
       "    <tr>\n",
       "      <th>...</th>\n",
       "      <td>...</td>\n",
       "    </tr>\n",
       "    <tr>\n",
       "      <th>5146.0</th>\n",
       "      <td>0.744286</td>\n",
       "    </tr>\n",
       "    <tr>\n",
       "      <th>5279.0</th>\n",
       "      <td>0.744286</td>\n",
       "    </tr>\n",
       "    <tr>\n",
       "      <th>5409.0</th>\n",
       "      <td>0.744286</td>\n",
       "    </tr>\n",
       "    <tr>\n",
       "      <th>5774.0</th>\n",
       "      <td>0.744286</td>\n",
       "    </tr>\n",
       "    <tr>\n",
       "      <th>6094.0</th>\n",
       "      <td>0.744286</td>\n",
       "    </tr>\n",
       "  </tbody>\n",
       "</table>\n",
       "<p>754 rows × 1 columns</p>\n",
       "</div>"
      ],
      "text/plain": [
       "          Kaplan Meier Estimate\n",
       "timeline                       \n",
       "0.0                    0.997886\n",
       "7.0                    0.996829\n",
       "9.0                    0.995772\n",
       "26.0                   0.994715\n",
       "28.0                   0.993658\n",
       "...                         ...\n",
       "5146.0                 0.744286\n",
       "5279.0                 0.744286\n",
       "5409.0                 0.744286\n",
       "5774.0                 0.744286\n",
       "6094.0                 0.744286\n",
       "\n",
       "[754 rows x 1 columns]"
      ]
     },
     "execution_count": 27,
     "metadata": {},
     "output_type": "execute_result"
    }
   ],
   "source": [
    "cancer_km(colorectal_df)"
   ]
  },
  {
   "cell_type": "markdown",
   "id": "665e31ec",
   "metadata": {},
   "source": [
    "### Colorectal Cancer Survival Rates by Gender"
   ]
  },
  {
   "cell_type": "code",
   "execution_count": 28,
   "id": "3290e057",
   "metadata": {},
   "outputs": [
    {
     "data": {
      "text/plain": [
       "Text(0.5, 0, 'Duration of Illness')"
      ]
     },
     "execution_count": 28,
     "metadata": {},
     "output_type": "execute_result"
    },
    {
     "data": {
      "image/png": "[encoded data removed]",
      "text/plain": [
       "<Figure size 864x432 with 1 Axes>"
      ]
     },
     "metadata": {
      "needs_background": "light"
     },
     "output_type": "display_data"
    }
   ],
   "source": [
    "kmf10 = KaplanMeierFitter() ## instantiate the class to create an object\n",
    "\n",
    "# Define duration and death indicators \n",
    "T_colorectal = colorectal_df['duration']     ## time to event\n",
    "E_colorectal = colorectal_df['died']         ## indicator for patient death\n",
    "\n",
    "## Two Cohorts are compared. 1. Male, 2. Female.\n",
    "groups = colorectal_df['sex']   \n",
    "i1 = (groups == 'Male')      ## group i1 , having the pandas series for the 1st cohort\n",
    "i2 = (groups == 'Female')     ## group i2 , having the pandas series for the 2nd cohort\n",
    "\n",
    "\n",
    "## fit the model for 1st cohort\n",
    "kmf10.fit(T_colorectal[i1], E_colorectal[i1], label='Male')\n",
    "a1 = kmf10.plot(ci_show=False)\n",
    "\n",
    "## fit the model for 2nd cohort\n",
    "kmf10.fit(T_colorectal[i2], E_colorectal[i2], label='Female')\n",
    "kmf10.plot(ci_show=False)\n",
    "\n",
    "# Add Title Info \n",
    "plt.title(\"Colorectal Cancer Survival Rates by Gender\")\n",
    "plt.ylabel(\"Survival Rate\")\n",
    "plt.xlabel(\"Duration of Illness\")"
   ]
  },
  {
   "cell_type": "markdown",
   "id": "c8f065bc",
   "metadata": {},
   "source": [
    "### Colorectal Cancer Survival Rates by Race"
   ]
  },
  {
   "cell_type": "code",
   "execution_count": 29,
   "id": "76043190",
   "metadata": {},
   "outputs": [
    {
     "data": {
      "text/plain": [
       "Text(0.5, 0, 'Duration of Illness')"
      ]
     },
     "execution_count": 29,
     "metadata": {},
     "output_type": "execute_result"
    },
    {
     "data": {
      "image/png": "[encoded data removed]",
      "text/plain": [
       "<Figure size 864x432 with 1 Axes>"
      ]
     },
     "metadata": {
      "needs_background": "light"
     },
     "output_type": "display_data"
    }
   ],
   "source": [
    "kmf11 = KaplanMeierFitter() ## instantiate the class to create an object\n",
    "\n",
    "## Two Cohorts are compared. 1. Asian/Mideast Indian, 2. Black/African-American. 3. White. 4. Other \n",
    "groups = colorectal_df['race_grouped']   \n",
    "i1 = (groups == 'Asian/Mideast Indian')      ## group i1 , having the pandas series for the 1st cohort\n",
    "i2 = (groups == 'Black/African-American')     ## group i2 , having the pandas series for the 2nd cohort\n",
    "i3 = (groups == 'White')     ## group i3 , having the pandas series for the 3rd cohort\n",
    "i4 = (groups == 'Other')     ## group i4 , having the pandas series for the 4th cohort\n",
    "\n",
    "\n",
    "## fit the model for 1st cohort\n",
    "kmf11.fit(T_colorectal[i1], E_colorectal[i1], label='Asian/Mideast Indian')\n",
    "a1 = kmf11.plot(ci_show=False)\n",
    "\n",
    "## fit the model for 2nd cohort\n",
    "kmf11.fit(T_colorectal[i2], E_colorectal[i2], label='Black/African-American')\n",
    "kmf11.plot(ci_show=False)\n",
    "\n",
    "## fit the model for 3rd cohort\n",
    "kmf11.fit(T_colorectal[i3], E_colorectal[i3], label='White')\n",
    "kmf11.plot(ci_show=False)\n",
    "\n",
    "## fit the model for 4th cohort \n",
    "kmf11.fit(T_colorectal[i4], E_colorectal[i4], label='Other')\n",
    "kmf11.plot(ci_show=False)\n",
    "\n",
    "# Add Title Info \n",
    "plt.title(\"Colorectal Cancer Survival Rates by Race\")\n",
    "plt.ylabel(\"Survival Rate\")\n",
    "plt.xlabel(\"Duration of Illness\")"
   ]
  },
  {
   "cell_type": "markdown",
   "id": "1eea7710",
   "metadata": {},
   "source": [
    "### Colorectal Cancer Survival Rates by Decile"
   ]
  },
  {
   "cell_type": "code",
   "execution_count": 30,
   "id": "e330c12b",
   "metadata": {},
   "outputs": [
    {
     "data": {
      "text/plain": [
       "Text(0.5, 0, 'Duration of Illness')"
      ]
     },
     "execution_count": 30,
     "metadata": {},
     "output_type": "execute_result"
    },
    {
     "data": {
      "image/png": "[encoded data removed]",
      "text/plain": [
       "<Figure size 864x432 with 1 Axes>"
      ]
     },
     "metadata": {
      "needs_background": "light"
     },
     "output_type": "display_data"
    }
   ],
   "source": [
    "kmf12 = KaplanMeierFitter() ## instantiate the class to create an object\n",
    "\n",
    "## Cohorts are divided into deciles \n",
    "groups = colorectal_df['deciles']   \n",
    "#i1 = (groups == '0-10')      ## no patients in this decile \n",
    "i2 = (groups == '11-20')     ## group i2 , having the pandas series for the 2nd cohort\n",
    "i3 = (groups == '21-30')     ## group i3 , having the pandas series for the 3rd cohort\n",
    "i4 = (groups == '31-40')     ## group i4 , having the pandas series for the 4th cohort\n",
    "i5 = (groups == '41-50')     ## group i5 , having the pandas series for the 5th cohort\n",
    "i6 = (groups == '51-60')     ## group i6 , having the pandas series for the 6th cohort\n",
    "i7 = (groups == '61-70')     ## group i7 , having the pandas series for the 7th cohort\n",
    "i8 = (groups == '71-80')     ## group i8 , having the pandas series for the 8th cohort\n",
    "i9 = (groups == '81-90')     ## group i9 , having the pandas series for the 9th cohort\n",
    "i10 = (groups == '>90')     ## no patients in this group\n",
    "\n",
    "\n",
    "## fit the model for 1st cohort\n",
    "#kmf12.fit(T_thyroid[i1], E_thyroid[i1], label='0-10')\n",
    "#a1 = kmf12.plot(ci_show=False)\n",
    "\n",
    "## fit the model for 2nd cohort\n",
    "kmf12.fit(T_colorectal[i2], E_colorectal[i2], label='11-20')\n",
    "kmf12.plot(ci_show=False)\n",
    "\n",
    "## fit the model for 3rd cohort\n",
    "kmf12.fit(T_colorectal[i3], E_colorectal[i3], label='21-30')\n",
    "kmf12.plot(ci_show=False)\n",
    "\n",
    "## fit the model for 4th cohort \n",
    "kmf12.fit(T_colorectal[i4], E_colorectal[i4], label='31-40')\n",
    "kmf12.plot(ci_show=False)\n",
    "\n",
    "## fit the model for 5th cohort \n",
    "kmf12.fit(T_colorectal[i5], E_colorectal[i5], label='41-50')\n",
    "kmf12.plot(ci_show=False)\n",
    "\n",
    "## fit the model for 6th cohort \n",
    "kmf12.fit(T_colorectal[i6], E_colorectal[i6], label='51-60')\n",
    "kmf12.plot(ci_show=False)\n",
    "\n",
    "## fit the model for 7th cohort \n",
    "kmf12.fit(T_colorectal[i7], E_colorectal[i7], label='61-70')\n",
    "kmf12.plot(ci_show=False)\n",
    "\n",
    "## fit the model for 8th cohort \n",
    "kmf12.fit(T_colorectal[i8], E_colorectal[i8], label='71-80')\n",
    "kmf12.plot(ci_show=False)\n",
    "\n",
    "## fit the model for 9th cohort \n",
    "kmf12.fit(T_colorectal[i9], E_colorectal[i9], label='81-90')\n",
    "kmf12.plot(ci_show=False)\n",
    "\n",
    "## fit the model for 10th cohort \n",
    "kmf12.fit(T_colorectal[i10], E_colorectal[i10], label='>90')\n",
    "kmf12.plot(ci_show=False)\n",
    "\n",
    "# Add Title Info \n",
    "plt.title(\"Colorectal Cancer Survival Rates by Decile\")\n",
    "plt.ylabel(\"Survival Rate\")\n",
    "plt.xlabel(\"Duration of Illness\")"
   ]
  },
  {
   "cell_type": "markdown",
   "id": "d8cf2f9b",
   "metadata": {},
   "source": [
    "## Melanoma Cancer"
   ]
  },
  {
   "cell_type": "code",
   "execution_count": 31,
   "id": "4061cd54",
   "metadata": {},
   "outputs": [
    {
     "name": "stderr",
     "output_type": "stream",
     "text": [
      "<ipython-input-31-ce63222caa26>:7: SettingWithCopyWarning: \n",
      "A value is trying to be set on a copy of a slice from a DataFrame.\n",
      "Try using .loc[row_indexer,col_indexer] = value instead\n",
      "\n",
      "See the caveats in the documentation: https://pandas.pydata.org/pandas-docs/stable/user_guide/indexing.html#returning-a-view-versus-a-copy\n",
      "  melanoma_df['deciles'] = pd.cut(melanoma_df['melanoma_age'], bins=bins, labels=labels, right=False)\n",
      "<ipython-input-31-ce63222caa26>:10: SettingWithCopyWarning: \n",
      "A value is trying to be set on a copy of a slice from a DataFrame.\n",
      "Try using .loc[row_indexer,col_indexer] = value instead\n",
      "\n",
      "See the caveats in the documentation: https://pandas.pydata.org/pandas-docs/stable/user_guide/indexing.html#returning-a-view-versus-a-copy\n",
      "  melanoma_df['limit'] = \"2016-08-25\"\n",
      "<ipython-input-31-ce63222caa26>:11: SettingWithCopyWarning: \n",
      "A value is trying to be set on a copy of a slice from a DataFrame.\n",
      "Try using .loc[row_indexer,col_indexer] = value instead\n",
      "\n",
      "See the caveats in the documentation: https://pandas.pydata.org/pandas-docs/stable/user_guide/indexing.html#returning-a-view-versus-a-copy\n",
      "  melanoma_df['limit'] = pd.to_datetime(melanoma_df['limit'])\n",
      "<ipython-input-31-ce63222caa26>:12: SettingWithCopyWarning: \n",
      "A value is trying to be set on a copy of a slice from a DataFrame.\n",
      "Try using .loc[row_indexer,col_indexer] = value instead\n",
      "\n",
      "See the caveats in the documentation: https://pandas.pydata.org/pandas-docs/stable/user_guide/indexing.html#returning-a-view-versus-a-copy\n",
      "  melanoma_df['duration'] = np.where(melanoma_df[\"died\"]==1, (melanoma_df['DEATH_DATE_off'] - melanoma_df['MELANOMA_DT']).dt.days, (melanoma_df['limit'] - melanoma_df['MELANOMA_DT']).dt.days)\n"
     ]
    },
    {
     "data": {
      "text/html": [
       "<div>\n",
       "<style scoped>\n",
       "    .dataframe tbody tr th:only-of-type {\n",
       "        vertical-align: middle;\n",
       "    }\n",
       "\n",
       "    .dataframe tbody tr th {\n",
       "        vertical-align: top;\n",
       "    }\n",
       "\n",
       "    .dataframe thead th {\n",
       "        text-align: right;\n",
       "    }\n",
       "</style>\n",
       "<table border=\"1\" class=\"dataframe\">\n",
       "  <thead>\n",
       "    <tr style=\"text-align: right;\">\n",
       "      <th></th>\n",
       "      <th>BIRTH_DATE_off</th>\n",
       "      <th>DEATH_DATE_off</th>\n",
       "      <th>sex</th>\n",
       "      <th>race</th>\n",
       "      <th>LUNG</th>\n",
       "      <th>PANCREAS</th>\n",
       "      <th>THYROID</th>\n",
       "      <th>COLORECTAL</th>\n",
       "      <th>MELANOMA</th>\n",
       "      <th>LUNG DT</th>\n",
       "      <th>...</th>\n",
       "      <th>race_grouped</th>\n",
       "      <th>died</th>\n",
       "      <th>lung_age</th>\n",
       "      <th>pancreas_age</th>\n",
       "      <th>thyroid_age</th>\n",
       "      <th>colorectal_age</th>\n",
       "      <th>melanoma_age</th>\n",
       "      <th>deciles</th>\n",
       "      <th>limit</th>\n",
       "      <th>duration</th>\n",
       "    </tr>\n",
       "  </thead>\n",
       "  <tbody>\n",
       "    <tr>\n",
       "      <th>146</th>\n",
       "      <td>1928-06-22</td>\n",
       "      <td>NaT</td>\n",
       "      <td>Male</td>\n",
       "      <td>White</td>\n",
       "      <td>0</td>\n",
       "      <td>0</td>\n",
       "      <td>0</td>\n",
       "      <td>0</td>\n",
       "      <td>1</td>\n",
       "      <td>NaT</td>\n",
       "      <td>...</td>\n",
       "      <td>White</td>\n",
       "      <td>0</td>\n",
       "      <td>NaN</td>\n",
       "      <td>NaN</td>\n",
       "      <td>NaN</td>\n",
       "      <td>NaN</td>\n",
       "      <td>86.0</td>\n",
       "      <td>81-90</td>\n",
       "      <td>2016-08-25</td>\n",
       "      <td>541.0</td>\n",
       "    </tr>\n",
       "    <tr>\n",
       "      <th>178</th>\n",
       "      <td>1933-12-27</td>\n",
       "      <td>2014-11-27</td>\n",
       "      <td>Male</td>\n",
       "      <td>White</td>\n",
       "      <td>0</td>\n",
       "      <td>0</td>\n",
       "      <td>0</td>\n",
       "      <td>0</td>\n",
       "      <td>1</td>\n",
       "      <td>NaT</td>\n",
       "      <td>...</td>\n",
       "      <td>White</td>\n",
       "      <td>1</td>\n",
       "      <td>NaN</td>\n",
       "      <td>NaN</td>\n",
       "      <td>NaN</td>\n",
       "      <td>NaN</td>\n",
       "      <td>78.0</td>\n",
       "      <td>71-80</td>\n",
       "      <td>2016-08-25</td>\n",
       "      <td>707.0</td>\n",
       "    </tr>\n",
       "    <tr>\n",
       "      <th>196</th>\n",
       "      <td>1924-04-08</td>\n",
       "      <td>NaT</td>\n",
       "      <td>Female</td>\n",
       "      <td>White</td>\n",
       "      <td>0</td>\n",
       "      <td>0</td>\n",
       "      <td>0</td>\n",
       "      <td>0</td>\n",
       "      <td>1</td>\n",
       "      <td>NaT</td>\n",
       "      <td>...</td>\n",
       "      <td>White</td>\n",
       "      <td>0</td>\n",
       "      <td>NaN</td>\n",
       "      <td>NaN</td>\n",
       "      <td>NaN</td>\n",
       "      <td>NaN</td>\n",
       "      <td>90.0</td>\n",
       "      <td>81-90</td>\n",
       "      <td>2016-08-25</td>\n",
       "      <td>817.0</td>\n",
       "    </tr>\n",
       "    <tr>\n",
       "      <th>341</th>\n",
       "      <td>1957-10-04</td>\n",
       "      <td>NaT</td>\n",
       "      <td>Female</td>\n",
       "      <td>White</td>\n",
       "      <td>0</td>\n",
       "      <td>0</td>\n",
       "      <td>0</td>\n",
       "      <td>0</td>\n",
       "      <td>1</td>\n",
       "      <td>NaT</td>\n",
       "      <td>...</td>\n",
       "      <td>White</td>\n",
       "      <td>0</td>\n",
       "      <td>NaN</td>\n",
       "      <td>NaN</td>\n",
       "      <td>NaN</td>\n",
       "      <td>NaN</td>\n",
       "      <td>55.0</td>\n",
       "      <td>51-60</td>\n",
       "      <td>2016-08-25</td>\n",
       "      <td>1194.0</td>\n",
       "    </tr>\n",
       "    <tr>\n",
       "      <th>354</th>\n",
       "      <td>1966-08-03</td>\n",
       "      <td>NaT</td>\n",
       "      <td>Male</td>\n",
       "      <td>White</td>\n",
       "      <td>0</td>\n",
       "      <td>0</td>\n",
       "      <td>0</td>\n",
       "      <td>0</td>\n",
       "      <td>1</td>\n",
       "      <td>NaT</td>\n",
       "      <td>...</td>\n",
       "      <td>White</td>\n",
       "      <td>0</td>\n",
       "      <td>NaN</td>\n",
       "      <td>NaN</td>\n",
       "      <td>NaN</td>\n",
       "      <td>NaN</td>\n",
       "      <td>48.0</td>\n",
       "      <td>41-50</td>\n",
       "      <td>2016-08-25</td>\n",
       "      <td>535.0</td>\n",
       "    </tr>\n",
       "  </tbody>\n",
       "</table>\n",
       "<p>5 rows × 27 columns</p>\n",
       "</div>"
      ],
      "text/plain": [
       "    BIRTH_DATE_off DEATH_DATE_off     sex   race  LUNG  PANCREAS  THYROID  \\\n",
       "146     1928-06-22            NaT    Male  White     0         0        0   \n",
       "178     1933-12-27     2014-11-27    Male  White     0         0        0   \n",
       "196     1924-04-08            NaT  Female  White     0         0        0   \n",
       "341     1957-10-04            NaT  Female  White     0         0        0   \n",
       "354     1966-08-03            NaT    Male  White     0         0        0   \n",
       "\n",
       "     COLORECTAL  MELANOMA LUNG DT  ... race_grouped died lung_age  \\\n",
       "146           0         1     NaT  ...        White    0      NaN   \n",
       "178           0         1     NaT  ...        White    1      NaN   \n",
       "196           0         1     NaT  ...        White    0      NaN   \n",
       "341           0         1     NaT  ...        White    0      NaN   \n",
       "354           0         1     NaT  ...        White    0      NaN   \n",
       "\n",
       "    pancreas_age  thyroid_age  colorectal_age  melanoma_age deciles  \\\n",
       "146          NaN          NaN             NaN          86.0   81-90   \n",
       "178          NaN          NaN             NaN          78.0   71-80   \n",
       "196          NaN          NaN             NaN          90.0   81-90   \n",
       "341          NaN          NaN             NaN          55.0   51-60   \n",
       "354          NaN          NaN             NaN          48.0   41-50   \n",
       "\n",
       "         limit  duration  \n",
       "146 2016-08-25     541.0  \n",
       "178 2016-08-25     707.0  \n",
       "196 2016-08-25     817.0  \n",
       "341 2016-08-25    1194.0  \n",
       "354 2016-08-25     535.0  \n",
       "\n",
       "[5 rows x 27 columns]"
      ]
     },
     "execution_count": 31,
     "metadata": {},
     "output_type": "execute_result"
    }
   ],
   "source": [
    "# Filter for melanoma cancer patients \n",
    "melanoma_df = cancer_df[cancer_df['MELANOMA_DT'].notnull()]\n",
    "\n",
    "# Bin patients into age categories \n",
    "bins= [0,11,21,31,41,51,61,71,81,91,110]\n",
    "labels = ['0-10','11-20','21-30','31-40','41-50','51-60','61-70','71-80','81-90','>90']\n",
    "melanoma_df['deciles'] = pd.cut(melanoma_df['melanoma_age'], bins=bins, labels=labels, right=False)\n",
    "\n",
    "# Add field that includes duration of illness \n",
    "melanoma_df['limit'] = \"2016-08-25\"\n",
    "melanoma_df['limit'] = pd.to_datetime(melanoma_df['limit'])\n",
    "melanoma_df['duration'] = np.where(melanoma_df[\"died\"]==1, (melanoma_df['DEATH_DATE_off'] - melanoma_df['MELANOMA_DT']).dt.days, (melanoma_df['limit'] - melanoma_df['MELANOMA_DT']).dt.days)\n",
    "\n",
    "# Select only fields of interest \n",
    "#melanoma_df = melanoma_df[['BIRTH_DATE_off', 'DEATH_DATE_off', 'sex', 'race_grouped', 'MELANOMA', 'MELANOMA_DT', 'died', 'melanoma_age', 'deciles', 'duration']]\n",
    "\n",
    "melanoma_df.head()"
   ]
  },
  {
   "cell_type": "markdown",
   "id": "99c2d317",
   "metadata": {},
   "source": [
    "### Melanoma Cancer Survival Array "
   ]
  },
  {
   "cell_type": "code",
   "execution_count": 32,
   "id": "65732ecb",
   "metadata": {},
   "outputs": [
    {
     "data": {
      "text/html": [
       "<div>\n",
       "<style scoped>\n",
       "    .dataframe tbody tr th:only-of-type {\n",
       "        vertical-align: middle;\n",
       "    }\n",
       "\n",
       "    .dataframe tbody tr th {\n",
       "        vertical-align: top;\n",
       "    }\n",
       "\n",
       "    .dataframe thead th {\n",
       "        text-align: right;\n",
       "    }\n",
       "</style>\n",
       "<table border=\"1\" class=\"dataframe\">\n",
       "  <thead>\n",
       "    <tr style=\"text-align: right;\">\n",
       "      <th></th>\n",
       "      <th>Kaplan Meier Estimate</th>\n",
       "    </tr>\n",
       "    <tr>\n",
       "      <th>timeline</th>\n",
       "      <th></th>\n",
       "    </tr>\n",
       "  </thead>\n",
       "  <tbody>\n",
       "    <tr>\n",
       "      <th>0.0</th>\n",
       "      <td>0.997110</td>\n",
       "    </tr>\n",
       "    <tr>\n",
       "      <th>29.0</th>\n",
       "      <td>0.997110</td>\n",
       "    </tr>\n",
       "    <tr>\n",
       "      <th>55.0</th>\n",
       "      <td>0.994211</td>\n",
       "    </tr>\n",
       "    <tr>\n",
       "      <th>71.0</th>\n",
       "      <td>0.994211</td>\n",
       "    </tr>\n",
       "    <tr>\n",
       "      <th>82.0</th>\n",
       "      <td>0.994211</td>\n",
       "    </tr>\n",
       "    <tr>\n",
       "      <th>...</th>\n",
       "      <td>...</td>\n",
       "    </tr>\n",
       "    <tr>\n",
       "      <th>7227.0</th>\n",
       "      <td>0.711870</td>\n",
       "    </tr>\n",
       "    <tr>\n",
       "      <th>8070.0</th>\n",
       "      <td>0.711870</td>\n",
       "    </tr>\n",
       "    <tr>\n",
       "      <th>8710.0</th>\n",
       "      <td>0.711870</td>\n",
       "    </tr>\n",
       "    <tr>\n",
       "      <th>8850.0</th>\n",
       "      <td>0.711870</td>\n",
       "    </tr>\n",
       "    <tr>\n",
       "      <th>11042.0</th>\n",
       "      <td>0.711870</td>\n",
       "    </tr>\n",
       "  </tbody>\n",
       "</table>\n",
       "<p>314 rows × 1 columns</p>\n",
       "</div>"
      ],
      "text/plain": [
       "          Kaplan Meier Estimate\n",
       "timeline                       \n",
       "0.0                    0.997110\n",
       "29.0                   0.997110\n",
       "55.0                   0.994211\n",
       "71.0                   0.994211\n",
       "82.0                   0.994211\n",
       "...                         ...\n",
       "7227.0                 0.711870\n",
       "8070.0                 0.711870\n",
       "8710.0                 0.711870\n",
       "8850.0                 0.711870\n",
       "11042.0                0.711870\n",
       "\n",
       "[314 rows x 1 columns]"
      ]
     },
     "execution_count": 32,
     "metadata": {},
     "output_type": "execute_result"
    }
   ],
   "source": [
    "cancer_km(melanoma_df)"
   ]
  },
  {
   "cell_type": "markdown",
   "id": "c7ac4b17",
   "metadata": {},
   "source": [
    "### Melanoma Cancer Survival Rates by Gender"
   ]
  },
  {
   "cell_type": "code",
   "execution_count": 33,
   "id": "e893017a",
   "metadata": {},
   "outputs": [
    {
     "data": {
      "text/plain": [
       "Text(0.5, 0, 'Duration of Illness')"
      ]
     },
     "execution_count": 33,
     "metadata": {},
     "output_type": "execute_result"
    },
    {
     "data": {
      "image/png": "[encoded data removed]",
      "text/plain": [
       "<Figure size 864x432 with 1 Axes>"
      ]
     },
     "metadata": {
      "needs_background": "light"
     },
     "output_type": "display_data"
    }
   ],
   "source": [
    "kmf13 = KaplanMeierFitter() ## instantiate the class to create an object\n",
    "\n",
    "# Define duration and death indicators \n",
    "T_melanoma = melanoma_df['duration']     ## time to event\n",
    "E_melanoma = melanoma_df['died']         ## indicator for patient death\n",
    "\n",
    "## Two Cohorts are compared. 1. Male, 2. Female.\n",
    "groups = melanoma_df['sex']   \n",
    "i1 = (groups == 'Male')      ## group i1 , having the pandas series for the 1st cohort\n",
    "i2 = (groups == 'Female')     ## group i2 , having the pandas series for the 2nd cohort\n",
    "\n",
    "\n",
    "## fit the model for 1st cohort\n",
    "kmf13.fit(T_melanoma[i1], E_melanoma[i1], label='Male')\n",
    "a1 = kmf13.plot(ci_show=False)\n",
    "\n",
    "## fit the model for 2nd cohort\n",
    "kmf13.fit(T_melanoma[i2], E_melanoma[i2], label='Female')\n",
    "kmf13.plot(ci_show=False)\n",
    "\n",
    "# Add Title Info \n",
    "plt.title(\"Melanoma Cancer Survival Rates by Gender\")\n",
    "plt.ylabel(\"Survival Rate\")\n",
    "plt.xlabel(\"Duration of Illness\")"
   ]
  },
  {
   "cell_type": "markdown",
   "id": "7782dd7e",
   "metadata": {},
   "source": [
    "### Melanoma Cancer Survival Rates by Race"
   ]
  },
  {
   "cell_type": "code",
   "execution_count": 34,
   "id": "ba06abab",
   "metadata": {},
   "outputs": [
    {
     "data": {
      "text/plain": [
       "Text(0.5, 0, 'Duration of Illness')"
      ]
     },
     "execution_count": 34,
     "metadata": {},
     "output_type": "execute_result"
    },
    {
     "data": {
      "image/png": "[encoded data removed]",
      "text/plain": [
       "<Figure size 864x432 with 1 Axes>"
      ]
     },
     "metadata": {
      "needs_background": "light"
     },
     "output_type": "display_data"
    }
   ],
   "source": [
    "kmf14 = KaplanMeierFitter() ## instantiate the class to create an object\n",
    "\n",
    "## Two Cohorts are compared. 1. Asian/Mideast Indian, 2. Black/African-American. 3. White. 4. Other \n",
    "groups = melanoma_df['race_grouped']   \n",
    "i1 = (groups == 'Asian/Mideast Indian')      ## group i1 , having the pandas series for the 1st cohort\n",
    "i2 = (groups == 'Black/African-American')     ## group i2 , having the pandas series for the 2nd cohort\n",
    "i3 = (groups == 'White')     ## group i3 , having the pandas series for the 3rd cohort\n",
    "i4 = (groups == 'Other')     ## group i4 , having the pandas series for the 4th cohort\n",
    "\n",
    "\n",
    "## fit the model for 1st cohort\n",
    "kmf14.fit(T_melanoma[i1], E_melanoma[i1], label='Asian/Mideast Indian')\n",
    "a1 = kmf14.plot(ci_show=False)\n",
    "\n",
    "## fit the model for 2nd cohort\n",
    "kmf14.fit(T_melanoma[i2], E_melanoma[i2], label='Black/African-American')\n",
    "kmf14.plot(ci_show=False)\n",
    "\n",
    "## fit the model for 3rd cohort\n",
    "kmf14.fit(T_melanoma[i3], E_melanoma[i3], label='White')\n",
    "kmf14.plot(ci_show=False)\n",
    "\n",
    "## fit the model for 4th cohort \n",
    "kmf14.fit(T_melanoma[i4], E_melanoma[i4], label='Other')\n",
    "kmf14.plot(ci_show=False)\n",
    "\n",
    "# Add Title Info \n",
    "plt.title(\"Melanoma Cancer Survival Rates by Race\")\n",
    "plt.ylabel(\"Survival Rate\")\n",
    "plt.xlabel(\"Duration of Illness\")"
   ]
  },
  {
   "cell_type": "markdown",
   "id": "be7a7133",
   "metadata": {},
   "source": [
    "### Melanoma Cancer Survival Rates by Decile"
   ]
  },
  {
   "cell_type": "code",
   "execution_count": 35,
   "id": "5a3bff87",
   "metadata": {},
   "outputs": [
    {
     "data": {
      "text/plain": [
       "Text(0.5, 0, 'Duration of Illness')"
      ]
     },
     "execution_count": 35,
     "metadata": {},
     "output_type": "execute_result"
    },
    {
     "data": {
      "image/png": "[encoded data removed]",
      "text/plain": [
       "<Figure size 864x432 with 1 Axes>"
      ]
     },
     "metadata": {
      "needs_background": "light"
     },
     "output_type": "display_data"
    }
   ],
   "source": [
    "kmf15 = KaplanMeierFitter() ## instantiate the class to create an object\n",
    "\n",
    "## Cohorts are divided into deciles \n",
    "groups = melanoma_df['deciles']   \n",
    "#i1 = (groups == '0-10')      ## no patients in this decile \n",
    "i2 = (groups == '11-20')     ## group i2 , having the pandas series for the 2nd cohort\n",
    "i3 = (groups == '21-30')     ## group i3 , having the pandas series for the 3rd cohort\n",
    "i4 = (groups == '31-40')     ## group i4 , having the pandas series for the 4th cohort\n",
    "i5 = (groups == '41-50')     ## group i5 , having the pandas series for the 5th cohort\n",
    "i6 = (groups == '51-60')     ## group i6 , having the pandas series for the 6th cohort\n",
    "i7 = (groups == '61-70')     ## group i7 , having the pandas series for the 7th cohort\n",
    "i8 = (groups == '71-80')     ## group i8 , having the pandas series for the 8th cohort\n",
    "i9 = (groups == '81-90')     ## group i9 , having the pandas series for the 9th cohort\n",
    "i10 = (groups == '>90')     ## no patients in this group\n",
    "\n",
    "\n",
    "## fit the model for 1st cohort\n",
    "#kmf12.fit(T_thyroid[i1], E_thyroid[i1], label='0-10')\n",
    "#a1 = kmf12.plot(ci_show=False)\n",
    "\n",
    "## fit the model for 2nd cohort\n",
    "kmf15.fit(T_melanoma[i2], E_melanoma[i2], label='11-20')\n",
    "kmf15.plot(ci_show=False)\n",
    "\n",
    "## fit the model for 3rd cohort\n",
    "kmf15.fit(T_melanoma[i3], E_melanoma[i3], label='21-30')\n",
    "kmf15.plot(ci_show=False)\n",
    "\n",
    "## fit the model for 4th cohort \n",
    "kmf15.fit(T_melanoma[i4], E_melanoma[i4], label='31-40')\n",
    "kmf15.plot(ci_show=False)\n",
    "\n",
    "## fit the model for 5th cohort \n",
    "kmf15.fit(T_melanoma[i5], E_melanoma[i5], label='41-50')\n",
    "kmf15.plot(ci_show=False)\n",
    "\n",
    "## fit the model for 6th cohort \n",
    "kmf15.fit(T_melanoma[i6], E_melanoma[i6], label='51-60')\n",
    "kmf15.plot(ci_show=False)\n",
    "\n",
    "## fit the model for 7th cohort \n",
    "kmf15.fit(T_melanoma[i7], E_melanoma[i7], label='61-70')\n",
    "kmf15.plot(ci_show=False)\n",
    "\n",
    "## fit the model for 8th cohort \n",
    "kmf15.fit(T_melanoma[i8], E_melanoma[i8], label='71-80')\n",
    "kmf15.plot(ci_show=False)\n",
    "\n",
    "## fit the model for 9th cohort \n",
    "kmf15.fit(T_melanoma[i9], E_melanoma[i9], label='81-90')\n",
    "kmf15.plot(ci_show=False)\n",
    "\n",
    "## fit the model for 10th cohort \n",
    "kmf15.fit(T_melanoma[i10], E_melanoma[i10], label='>90')\n",
    "kmf15.plot(ci_show=False)\n",
    "\n",
    "# Add Title Info \n",
    "plt.title(\"Melanoma Cancer Survival Rates by Decile\")\n",
    "plt.ylabel(\"Survival Rate\")\n",
    "plt.xlabel(\"Duration of Illness\")"
   ]
  },
  {
   "cell_type": "markdown",
   "id": "eb324bbf",
   "metadata": {},
   "source": [
    "## Answer Homework Questions"
   ]
  },
  {
   "cell_type": "markdown",
   "id": "4bd5513a",
   "metadata": {},
   "source": [
    "### Bind together individual cancer datasets for grouping purposes "
   ]
  },
  {
   "cell_type": "code",
   "execution_count": 36,
   "id": "aa7c0bf0",
   "metadata": {},
   "outputs": [
    {
     "data": {
      "text/plain": [
       "4177"
      ]
     },
     "execution_count": 36,
     "metadata": {},
     "output_type": "execute_result"
    }
   ],
   "source": [
    "cancer_revised = lung_df.append(pd.DataFrame(data = pancreas_df), ignore_index=True)\n",
    "cancer_revised = cancer_revised.append(pd.DataFrame(data = thyroid_df), ignore_index=True)\n",
    "cancer_revised = cancer_revised.append(pd.DataFrame(data = colorectal_df), ignore_index=True)\n",
    "cancer_revised = cancer_revised.append(pd.DataFrame(data = melanoma_df), ignore_index=True)\n",
    "\n",
    "len(cancer_revised)"
   ]
  },
  {
   "cell_type": "markdown",
   "id": "0ae17954",
   "metadata": {},
   "source": [
    "### Create Function to retrieve specific survival rate segments"
   ]
  },
  {
   "cell_type": "code",
   "execution_count": 37,
   "id": "625737de",
   "metadata": {},
   "outputs": [],
   "source": [
    "def km_segment(df, column, segment, duration):\n",
    "    kmf = KaplanMeierFitter() ## instantiate the class to create an object\n",
    "\n",
    "    # Define duration and death indicators \n",
    "    T = df['duration']     ## time to event\n",
    "    E = df['died'] \n",
    "\n",
    "    \n",
    "    groups = df[column]   \n",
    "    i1 = (groups == segment)      ## group i1 , having the pandas series for the 1st cohort\n",
    "\n",
    "\n",
    "    ## fit the model for cohort\n",
    "    kmf.fit(T[i1], E[i1], label=segment)\n",
    "    return kmf.predict(duration)"
   ]
  },
  {
   "cell_type": "markdown",
   "id": "d944ea99",
   "metadata": {},
   "source": [
    "### 1. which cancer has the highest survival for this cohort?\n",
    "\n",
    "Answer: Thyroid Cancer has the highest survival for this cohort."
   ]
  },
  {
   "cell_type": "code",
   "execution_count": 38,
   "id": "b18e8b17",
   "metadata": {},
   "outputs": [
    {
     "data": {
      "text/html": [
       "<div>\n",
       "<style scoped>\n",
       "    .dataframe tbody tr th:only-of-type {\n",
       "        vertical-align: middle;\n",
       "    }\n",
       "\n",
       "    .dataframe tbody tr th {\n",
       "        vertical-align: top;\n",
       "    }\n",
       "\n",
       "    .dataframe thead th {\n",
       "        text-align: right;\n",
       "    }\n",
       "</style>\n",
       "<table border=\"1\" class=\"dataframe\">\n",
       "  <thead>\n",
       "    <tr style=\"text-align: right;\">\n",
       "      <th></th>\n",
       "      <th>Kaplan Meier Estimate</th>\n",
       "    </tr>\n",
       "    <tr>\n",
       "      <th>timeline</th>\n",
       "      <th></th>\n",
       "    </tr>\n",
       "  </thead>\n",
       "  <tbody>\n",
       "    <tr>\n",
       "      <th>0.0</th>\n",
       "      <td>0.998656</td>\n",
       "    </tr>\n",
       "    <tr>\n",
       "      <th>78.0</th>\n",
       "      <td>0.998656</td>\n",
       "    </tr>\n",
       "    <tr>\n",
       "      <th>106.0</th>\n",
       "      <td>0.998656</td>\n",
       "    </tr>\n",
       "    <tr>\n",
       "      <th>108.0</th>\n",
       "      <td>0.998656</td>\n",
       "    </tr>\n",
       "    <tr>\n",
       "      <th>109.0</th>\n",
       "      <td>0.998656</td>\n",
       "    </tr>\n",
       "    <tr>\n",
       "      <th>...</th>\n",
       "      <td>...</td>\n",
       "    </tr>\n",
       "    <tr>\n",
       "      <th>13700.0</th>\n",
       "      <td>0.955013</td>\n",
       "    </tr>\n",
       "    <tr>\n",
       "      <th>13732.0</th>\n",
       "      <td>0.955013</td>\n",
       "    </tr>\n",
       "    <tr>\n",
       "      <th>14498.0</th>\n",
       "      <td>0.955013</td>\n",
       "    </tr>\n",
       "    <tr>\n",
       "      <th>16853.0</th>\n",
       "      <td>0.955013</td>\n",
       "    </tr>\n",
       "    <tr>\n",
       "      <th>20665.0</th>\n",
       "      <td>0.955013</td>\n",
       "    </tr>\n",
       "  </tbody>\n",
       "</table>\n",
       "<p>609 rows × 1 columns</p>\n",
       "</div>"
      ],
      "text/plain": [
       "          Kaplan Meier Estimate\n",
       "timeline                       \n",
       "0.0                    0.998656\n",
       "78.0                   0.998656\n",
       "106.0                  0.998656\n",
       "108.0                  0.998656\n",
       "109.0                  0.998656\n",
       "...                         ...\n",
       "13700.0                0.955013\n",
       "13732.0                0.955013\n",
       "14498.0                0.955013\n",
       "16853.0                0.955013\n",
       "20665.0                0.955013\n",
       "\n",
       "[609 rows x 1 columns]"
      ]
     },
     "execution_count": 38,
     "metadata": {},
     "output_type": "execute_result"
    }
   ],
   "source": [
    "cancer_km(thyroid_df)"
   ]
  },
  {
   "cell_type": "markdown",
   "id": "dbd54c8c",
   "metadata": {},
   "source": [
    "### 2. which cancer has the lowest survival for this cohort?\n",
    "\n",
    "Answer: Lung Cancer has the lowest survival for this cohort."
   ]
  },
  {
   "cell_type": "code",
   "execution_count": 39,
   "id": "53996c45",
   "metadata": {},
   "outputs": [
    {
     "data": {
      "text/html": [
       "<div>\n",
       "<style scoped>\n",
       "    .dataframe tbody tr th:only-of-type {\n",
       "        vertical-align: middle;\n",
       "    }\n",
       "\n",
       "    .dataframe tbody tr th {\n",
       "        vertical-align: top;\n",
       "    }\n",
       "\n",
       "    .dataframe thead th {\n",
       "        text-align: right;\n",
       "    }\n",
       "</style>\n",
       "<table border=\"1\" class=\"dataframe\">\n",
       "  <thead>\n",
       "    <tr style=\"text-align: right;\">\n",
       "      <th></th>\n",
       "      <th>Kaplan Meier Estimate</th>\n",
       "    </tr>\n",
       "    <tr>\n",
       "      <th>timeline</th>\n",
       "      <th></th>\n",
       "    </tr>\n",
       "  </thead>\n",
       "  <tbody>\n",
       "    <tr>\n",
       "      <th>-360.0</th>\n",
       "      <td>0.999326</td>\n",
       "    </tr>\n",
       "    <tr>\n",
       "      <th>0.0</th>\n",
       "      <td>0.998651</td>\n",
       "    </tr>\n",
       "    <tr>\n",
       "      <th>1.0</th>\n",
       "      <td>0.997303</td>\n",
       "    </tr>\n",
       "    <tr>\n",
       "      <th>2.0</th>\n",
       "      <td>0.996628</td>\n",
       "    </tr>\n",
       "    <tr>\n",
       "      <th>3.0</th>\n",
       "      <td>0.995954</td>\n",
       "    </tr>\n",
       "    <tr>\n",
       "      <th>...</th>\n",
       "      <td>...</td>\n",
       "    </tr>\n",
       "    <tr>\n",
       "      <th>3263.0</th>\n",
       "      <td>0.814427</td>\n",
       "    </tr>\n",
       "    <tr>\n",
       "      <th>3319.0</th>\n",
       "      <td>0.814427</td>\n",
       "    </tr>\n",
       "    <tr>\n",
       "      <th>3747.0</th>\n",
       "      <td>0.814427</td>\n",
       "    </tr>\n",
       "    <tr>\n",
       "      <th>5296.0</th>\n",
       "      <td>0.814427</td>\n",
       "    </tr>\n",
       "    <tr>\n",
       "      <th>5497.0</th>\n",
       "      <td>0.000000</td>\n",
       "    </tr>\n",
       "  </tbody>\n",
       "</table>\n",
       "<p>1044 rows × 1 columns</p>\n",
       "</div>"
      ],
      "text/plain": [
       "          Kaplan Meier Estimate\n",
       "timeline                       \n",
       "-360.0                 0.999326\n",
       " 0.0                   0.998651\n",
       " 1.0                   0.997303\n",
       " 2.0                   0.996628\n",
       " 3.0                   0.995954\n",
       "...                         ...\n",
       " 3263.0                0.814427\n",
       " 3319.0                0.814427\n",
       " 3747.0                0.814427\n",
       " 5296.0                0.814427\n",
       " 5497.0                0.000000\n",
       "\n",
       "[1044 rows x 1 columns]"
      ]
     },
     "execution_count": 39,
     "metadata": {},
     "output_type": "execute_result"
    }
   ],
   "source": [
    "cancer_km(lung_df)"
   ]
  },
  {
   "cell_type": "markdown",
   "id": "0b70c438",
   "metadata": {},
   "source": [
    "### 3. how many patients had 2 cancer diagnosis?\n",
    "\n",
    "Answer: 29 patients"
   ]
  },
  {
   "cell_type": "code",
   "execution_count": 40,
   "id": "22f5834b",
   "metadata": {},
   "outputs": [
    {
     "name": "stdout",
     "output_type": "stream",
     "text": [
      "The answer is: 29 patients\n"
     ]
    }
   ],
   "source": [
    "cancer_df['multiple_cancers'] = np.where(cancer_df['LUNG']+cancer_df['PANCREAS']+cancer_df['THYROID']+cancer_df['COLORECTAL']+cancer_df['MELANOMA']>1, 1, 0)\n",
    "print ('The answer is:', len(cancer_df[cancer_df.multiple_cancers==1]), 'patients')"
   ]
  },
  {
   "cell_type": "markdown",
   "id": "2ed04941",
   "metadata": {},
   "source": [
    "### 4. which age group has the lowest survival after 400 days since cancer diagnosis?"
   ]
  },
  {
   "cell_type": "code",
   "execution_count": 41,
   "id": "ae018d77",
   "metadata": {},
   "outputs": [
    {
     "name": "stdout",
     "output_type": "stream",
     "text": [
      "0-10: 1.0\n",
      "11-20: 1.0\n",
      "21-30: 0.9913793103448278\n",
      "31-40: 0.9914656432748542\n",
      "41-50: 0.9849376524213672\n",
      "51-60: 0.9549112752040271\n",
      "61-70: 0.951279699152845\n",
      "71-80: 0.9241054162151388\n",
      "81-90: 0.9358971278620616\n",
      ">90: 0.7916041979010496\n",
      "\n",
      "The >90 age group has the lowest survival rate after 400 days since cancer diagnosis, at 0.7916\n"
     ]
    }
   ],
   "source": [
    "print ('0-10:', km_segment(cancer_revised, 'deciles', '0-10',400))\n",
    "print ('11-20:', km_segment(cancer_revised, 'deciles', '11-20',400))\n",
    "print ('21-30:', km_segment(cancer_revised, 'deciles', '21-30',400))\n",
    "print ('31-40:', km_segment(cancer_revised, 'deciles', '31-40',400))\n",
    "print ('41-50:', km_segment(cancer_revised, 'deciles', '41-50',400))\n",
    "print ('51-60:', km_segment(cancer_revised, 'deciles', '51-60',400))\n",
    "print ('61-70:', km_segment(cancer_revised, 'deciles', '61-70',400))\n",
    "print ('71-80:', km_segment(cancer_revised, 'deciles', '71-80',400))\n",
    "print ('81-90:', km_segment(cancer_revised, 'deciles', '81-90',400))\n",
    "print ('>90:', km_segment(cancer_revised, 'deciles', '>90',400))\n",
    "\n",
    "print('\\nThe >90 age group has the lowest survival rate after 400 days since cancer diagnosis, at 0.7916')"
   ]
  },
  {
   "cell_type": "markdown",
   "id": "568c1321",
   "metadata": {},
   "source": [
    "### 5. what is the survival rate for females with colorectal cancer after 1000 days since diagnosis?"
   ]
  },
  {
   "cell_type": "code",
   "execution_count": 42,
   "id": "0bc3455f",
   "metadata": {},
   "outputs": [
    {
     "name": "stdout",
     "output_type": "stream",
     "text": [
      "The answer is: 0.9484362597817692\n"
     ]
    }
   ],
   "source": [
    "print ('The answer is:', km_segment(colorectal_df, 'sex', 'Female',1000))"
   ]
  },
  {
   "cell_type": "markdown",
   "id": "de2d349d",
   "metadata": {},
   "source": [
    "### 6.what is the survival rate for males with lung cancer after 300 days since diagnosis?"
   ]
  },
  {
   "cell_type": "code",
   "execution_count": 43,
   "id": "e204f435",
   "metadata": {},
   "outputs": [
    {
     "name": "stdout",
     "output_type": "stream",
     "text": [
      "The answer is: 0.9149880203162795\n"
     ]
    }
   ],
   "source": [
    "print ('The answer is:', km_segment(lung_df, 'sex', 'Male',300))"
   ]
  },
  {
   "cell_type": "markdown",
   "id": "a8b17241",
   "metadata": {},
   "source": [
    "### 7. what is the survival rate for females with melanoma cancer after 1200 days since diagnosis?"
   ]
  },
  {
   "cell_type": "code",
   "execution_count": 44,
   "id": "9f21ae49",
   "metadata": {},
   "outputs": [
    {
     "name": "stdout",
     "output_type": "stream",
     "text": [
      "The answer is: 0.9587861344911673\n"
     ]
    }
   ],
   "source": [
    "print ('The answer is:', km_segment(melanoma_df, 'sex', 'Female',1200))"
   ]
  },
  {
   "cell_type": "markdown",
   "id": "fe98166f",
   "metadata": {},
   "source": [
    "### 8. what is the survival rate for males with thyroid cancer after 1500 days since diagnosis?"
   ]
  },
  {
   "cell_type": "code",
   "execution_count": 45,
   "id": "6fe1855c",
   "metadata": {},
   "outputs": [
    {
     "name": "stdout",
     "output_type": "stream",
     "text": [
      "The answer is: 0.9723197357959752\n"
     ]
    }
   ],
   "source": [
    "print ('The answer is:', km_segment(thyroid_df, 'sex', 'Male',1500))"
   ]
  },
  {
   "cell_type": "markdown",
   "id": "6e09a4c9",
   "metadata": {},
   "source": [
    "### 9. what is the survival rate for males with pancreatic cancer after 2200 days since diagnosis?"
   ]
  },
  {
   "cell_type": "code",
   "execution_count": 46,
   "id": "f4e68b54",
   "metadata": {},
   "outputs": [
    {
     "name": "stdout",
     "output_type": "stream",
     "text": [
      "The answer is: 0.9526692572895107\n"
     ]
    }
   ],
   "source": [
    "print ('The answer is:', km_segment(pancreas_df, 'sex', 'Male',2200))"
   ]
  },
  {
   "cell_type": "markdown",
   "id": "411851ea",
   "metadata": {},
   "source": [
    "### 10. what is the survival rate for African-Americans with colorectal cancer after 2000 days since diagnosis?"
   ]
  },
  {
   "cell_type": "code",
   "execution_count": 47,
   "id": "d7761d93",
   "metadata": {},
   "outputs": [
    {
     "name": "stdout",
     "output_type": "stream",
     "text": [
      "The answer is: 0.7706150842786863\n"
     ]
    }
   ],
   "source": [
    "print ('The answer is:', km_segment(colorectal_df, 'race_grouped', 'Black/African-American',2000))"
   ]
  },
  {
   "cell_type": "markdown",
   "id": "87feb387",
   "metadata": {},
   "source": [
    "### 11. what is the survival rate for Whites with lung cancer after 1000 days since diagnosis?"
   ]
  },
  {
   "cell_type": "code",
   "execution_count": 48,
   "id": "61e29486",
   "metadata": {},
   "outputs": [
    {
     "name": "stdout",
     "output_type": "stream",
     "text": [
      "The answer is: 0.9092859116518297\n"
     ]
    }
   ],
   "source": [
    "print ('The answer is:', km_segment(lung_df, 'race_grouped', 'White',1000))"
   ]
  },
  {
   "cell_type": "markdown",
   "id": "0fe81402",
   "metadata": {},
   "source": [
    "### 12. what is the survival rate for African-Americans with melanoma cancer after 2 years since diagnosis?"
   ]
  },
  {
   "cell_type": "code",
   "execution_count": 49,
   "id": "7d5ad6c2",
   "metadata": {},
   "outputs": [
    {
     "name": "stdout",
     "output_type": "stream",
     "text": [
      "The answer is: 0.8253968253968252\n"
     ]
    }
   ],
   "source": [
    "print ('The answer is:', km_segment(melanoma_df, 'race_grouped', 'Black/African-American',730))"
   ]
  },
  {
   "cell_type": "markdown",
   "id": "0f241361",
   "metadata": {},
   "source": [
    "### 13. what is the survival rate for Whites with pancreatic cancer after 3 years since diagnosis?"
   ]
  },
  {
   "cell_type": "code",
   "execution_count": 50,
   "id": "7013db04",
   "metadata": {},
   "outputs": [
    {
     "name": "stdout",
     "output_type": "stream",
     "text": [
      "The answer is: 0.9653081799604994\n"
     ]
    }
   ],
   "source": [
    "print ('The answer is:', km_segment(pancreas_df, 'race_grouped', 'White',1095))"
   ]
  },
  {
   "cell_type": "markdown",
   "id": "30f951d1",
   "metadata": {},
   "source": [
    "### 14. what is the survival rate for Asians with thyroid cancer after 1500 days since diagnosis?"
   ]
  },
  {
   "cell_type": "code",
   "execution_count": 51,
   "id": "0d6a86a2",
   "metadata": {},
   "outputs": [
    {
     "name": "stdout",
     "output_type": "stream",
     "text": [
      "The answer is: 0.9285714285714287\n"
     ]
    }
   ],
   "source": [
    "print ('The answer is:', km_segment(thyroid_df, 'race_grouped', 'Asian/Mideast Indian',1500))"
   ]
  },
  {
   "cell_type": "markdown",
   "id": "8dde3164",
   "metadata": {},
   "source": [
    "### 15. which age group has the lowest survival for colorectal cancer at the end of the study?"
   ]
  },
  {
   "cell_type": "code",
   "execution_count": 52,
   "id": "0af1b557",
   "metadata": {},
   "outputs": [
    {
     "name": "stdout",
     "output_type": "stream",
     "text": [
      "The answer is the 51-60 age group. See Colorectal Cancer Survival Rates by Decile plot above\n"
     ]
    }
   ],
   "source": [
    "print('The answer is the 51-60 age group. See Colorectal Cancer Survival Rates by Decile plot above')"
   ]
  },
  {
   "cell_type": "markdown",
   "id": "080a59bf",
   "metadata": {},
   "source": [
    "### 16. which age group has the highest survival for lung cancer at the end of the study?"
   ]
  },
  {
   "cell_type": "code",
   "execution_count": 53,
   "id": "b003fb03",
   "metadata": {},
   "outputs": [
    {
     "name": "stdout",
     "output_type": "stream",
     "text": [
      "The answer is the 11-20 age group. See Colorectal Lung Cancer survival rate by decile plot above\n"
     ]
    }
   ],
   "source": [
    "print('The answer is the 11-20 age group. See Colorectal Lung Cancer survival rate by decile plot above')"
   ]
  },
  {
   "cell_type": "markdown",
   "id": "f24e0e1c",
   "metadata": {},
   "source": [
    "### 17. what is the survival rate for 61-70 age group with melanoma cancer after 5 years since diagnosis?"
   ]
  },
  {
   "cell_type": "code",
   "execution_count": 54,
   "id": "0d1123f5",
   "metadata": {},
   "outputs": [
    {
     "name": "stdout",
     "output_type": "stream",
     "text": [
      "The answer is: 0.9721568627450982\n"
     ]
    }
   ],
   "source": [
    "print ('The answer is:', km_segment(melanoma_df, 'deciles', '61-70',1825))"
   ]
  },
  {
   "cell_type": "markdown",
   "id": "25633a52",
   "metadata": {},
   "source": [
    "### 18. what is the survival rate for 21 - 30 age group with pancreatic cancer after a year since diagnosis?"
   ]
  },
  {
   "cell_type": "code",
   "execution_count": 55,
   "id": "832143f7",
   "metadata": {},
   "outputs": [
    {
     "name": "stdout",
     "output_type": "stream",
     "text": [
      "The answer is: 0.8\n"
     ]
    }
   ],
   "source": [
    "print ('The answer is:', km_segment(pancreas_df, 'deciles', '21-30',365))"
   ]
  },
  {
   "cell_type": "markdown",
   "id": "3d424b56",
   "metadata": {},
   "source": [
    "### 19. what is the survival rate for 51-60 age group with thyroid cancer after 2200 days since diagnosis?"
   ]
  },
  {
   "cell_type": "code",
   "execution_count": 56,
   "id": "1894a5bd",
   "metadata": {},
   "outputs": [
    {
     "name": "stdout",
     "output_type": "stream",
     "text": [
      "The answer is: 0.9736842105263158\n"
     ]
    }
   ],
   "source": [
    "print ('The answer is:', km_segment(thyroid_df, 'deciles', '51-60',2200))"
   ]
  },
  {
   "cell_type": "markdown",
   "id": "0f701a51",
   "metadata": {},
   "source": [
    "### 20. which race has the high survival for all cancers after 2500 days since diagnosis?"
   ]
  },
  {
   "cell_type": "code",
   "execution_count": 57,
   "id": "1f86485d",
   "metadata": {
    "scrolled": true
   },
   "outputs": [
    {
     "name": "stdout",
     "output_type": "stream",
     "text": [
      "Asian/Mideast Indian: 0.923486855555039\n",
      "Black/African-American: 0.7428461709590117\n",
      "White: 0.9263267598153303\n",
      "Other: 0.9196056751732365\n",
      "\n",
      "The race that has the high survival for all cancers after 2500 days since diagnosis is white, at 0.926\n"
     ]
    }
   ],
   "source": [
    "print ('Asian/Mideast Indian:', km_segment(cancer_revised, 'race_grouped', 'Asian/Mideast Indian',2500))\n",
    "print ('Black/African-American:', km_segment(cancer_revised, 'race_grouped', 'Black/African-American',2500))\n",
    "print ('White:', km_segment(cancer_revised, 'race_grouped', 'White',2500))\n",
    "print ('Other:', km_segment(cancer_revised, 'race_grouped', 'Other',2500))\n",
    "\n",
    "print('\\nThe race that has the high survival for all cancers after 2500 days since diagnosis is white, at 0.926')"
   ]
  }
 ],
 "metadata": {
  "kernelspec": {
   "display_name": "Python 3",
   "language": "python",
   "name": "python3"
  },
  "language_info": {
   "codemirror_mode": {
    "name": "ipython",
    "version": 3
   },
   "file_extension": ".py",
   "mimetype": "text/x-python",
   "name": "python",
   "nbconvert_exporter": "python",
   "pygments_lexer": "ipython3",
   "version": "3.8.8"
  }
 },
 "nbformat": 4,
 "nbformat_minor": 5
}
