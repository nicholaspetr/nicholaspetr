{
 "cells": [
  {
   "cell_type": "markdown",
   "metadata": {},
   "source": [
    "## Assignment 4 : Ensembles & PCA\n",
    "NOTE : PLEASE DO NOT POST/SHARE THE CODE OR YOUR SOLUTIONS ON THE WEB/GIT except CANVAS FOR GRADING\n",
    "\n",
    "References:\n",
    "https://towardsdatascience.com/predicting-housing-prices-using-a-scikit-learns-random-forest-model-e736b59d56c5\n",
    "https://www.kaggle.com/sanikamal/xgboost-boston-housing-dataset\n",
    "https://towardsdatascience.com/machine-learning-project-predicting-boston-house-prices-with-regression-b4e47493633d "
   ]
  },
  {
   "cell_type": "markdown",
   "metadata": {},
   "source": [
    "Description:\n",
    "You will compete in the Kaggle.com Digit Recognizer competition which involves classical digit recognition from hand-written images. https://www.kaggle.com/c/digit-recognizer/. Dataset ( train.csv and test.csv ) can be found at https://www.kaggle.com/competitions/digit-recognizer/data\n",
    "\n",
    "Read the competition rules, and download the MNIST training and test set data (data consist of 70,000 observations. Utilize the first 60,000 as a model development set and the final 10,000 as a holdout test set).This binary classification task is NOT what is required for the current assignment. In this assignment we are asking for a multiclass classifier. The entire MNIST data set will be used for input data. For this assignment, you will develop a classifier that may be used to predict which of the 10 digits is being written.\n",
    "\n",
    "Note : \n",
    "The MNIST dataset consists of 60,000 training examples and 10,000 examples in the test set. It’s a good dataset for those who want to learn techniques and pattern recognition methods on real-world data without much effort in data-preprocessing.\n",
    "Since the aim of this assignment is to learn the optimization methods to improve the accuracy of our classifier, we will re-group the dataset into 48,000 training examples and 28,000 test examples to reduce data available for training.\n",
    "\n",
    "\n",
    "(1) Begin by fitting a random forest classifier using the full set of 784 explanatory variables and the model training set (train.csv). Record the time it takes to fit the model and then evaluate the model on the test.csv data\n",
    "\n",
    "(2) Execute principal components analysis (PCA) on the combined training and test set data together, generating principal components that represent 95 percent of the variability in the explanatory variables. The number of principal components in the solution should be substantially fewer than the 784 explanatory variables. Record the time it takes to identify the principal components.\n",
    "\n",
    "(3) Using the identified principal components from step (2), use the train.csv to build another random forest classifier. Record the time it takes to fit the model and to evaluate the model on the test.csv data \n",
    "\n",
    "(4) The experiment proposed has a MAJOR design flaw. Identify the flaw. Fix it. Rerun the experiment in a way that is consistent with a training-and-test regimen.\n",
    "\n",
    "(5) Use k-means clustering to group MNIST observations into 1 of 10 categories and then assign labels. \n",
    "\n",
    "\n",
    "Report total elapsed time measures for the training set analysis.  It is sufficient to run a single time-elapsed test for this assignment. In practice, we might consider the possibility of repeated executions of the relevant portions of the programs, much as the Benchmark Example programs do. Some code that might help you with reporting elapsed total time follows. \n",
    "\n",
    "start=datetime.now()\n",
    "rf2.fit(trainimages,labels)\n",
    "end=datetime.now()\n",
    "print(end-start)\n",
    "\n",
    "The purpose of this assignment is to assess the effectiveness of PCA.\n",
    "2 types of muti-class classifier to predict which of the ten digits is being written　by using MNIST data set are to be developed for this assigment. One model is built by original MNIST data set, the other model is built by principle components as reduced explanatory variables.Elapsed time for each process are recorded and compared each other as benchmarking to assess effectiveness of applying PCA.\n",
    "\n",
    "Relevant scikit-learn documentation includes:\n",
    "- Random Forest Classifier(https://scikit-learn.org/stable/modules/generated/sklearn.ensemble.RandomForestClassifier.html)\n",
    "- Metrics Classification Report(https://scikit-learn.org/stable/modules/generated/sklearn.metrics.classification_report.html)\n",
    "- Plot Digits Classification(https://scikit-learn.org/stable/auto_examples/classification/plot_digits_classification.html#sphx-glr-auto-examples-classification-plot-digits-classification-py)\n",
    "- Sklearn Decomposition(https://scikit-learn.org/stable/modules/generated/sklearn.decomposition.PCA.html)\n",
    "\n",
    "(Optional reading) If you want to learn about the time it takes to execute individual functions or code segments within Python, this article demonstrates a variety of ways to do it (https://www.sicara.ai/blog/2017-09-12-surgical-time-tracking-Python).\n",
    "\n",
    "Regarding the F1 score and the evaluation of multiclass classifiers, refer to the literature on information retrieval. See pages 142–145 of this classic reference:\n",
    "Manning, C. D., Raghaven, P., & Schutze, H. (2008). Introduction to information retrieval. Cambridge, UK: Cambridge University Press. [ISBN-13: 978-0521865715]\n",
    "\n",
    "Or see pages 154–158 of the free online version of the book here (https://nlp.stanford.edu/IR-book/pdf/irbookonlinereading.pdf). \n",
    "\n",
    "Additional information about this book is available online here (https://nlp.stanford.edu/IR-book/information-retrieval-book.html).\n",
    "\n",
    " \n",
    "Programming Notes\n",
    "One of the key parameters in setting up random forests is the number of explanatory variables to include in the individual trees. For this classification problem, I would suggest that we follow the advice of Müller and Guido (2017) and use max_features = 'sqrt' .\n",
    "\n",
    "Regarding the other meta-parameters ...  ensure that bootstrap = True and, given the large number of observations, we might as well keep the default value of n_estimators = 10.\n",
    "\n",
    "Müller, A. C., & Guido, S. (2017). Introduction to machine learning with Python: A guide for data scientists. Sebastopol, CA: O’Reilly. [ISBN-13: 978-1449369415]. Code examples here (https://github.com/amueller/introduction_to_ml_with_python.).\n",
    "\n",
    "Another useful reference that discusses the MNIST data set and principal components analysis is:\n",
    "VanderPlas, J. (2017). Python data science handbook: Essential tools for working with data. Sebastopol, CA: O’Reilly [ISBN-13: 978-1491912058]. Python code examples here (https://github.com/jakevdp/PythonDataScienceHandbook). \n",
    "\n",
    " \n",
    "\n",
    "Deliverables and File Formats\n",
    "- Python notebook that address the problem and the writeup as indicated towards the end of this notebook (Audience:Director Data Science/Analytics)\n",
    "\n",
    "Optional (Audience:Business/C-Suite) - Additional 20 points\n",
    "1. Provide a double-spaced paper with a two-page maximum for the text. The paper in pdf format should include \n",
    "    (1) Summary and problem definition for management; \n",
    "    (2) Discussion of the methodology, data findings and traditional machine learning methods employed; \n",
    "    (3) List assumptions, programming work, issues along with model evaluation metrics; and \n",
    "    (4) Review of results/ insight swith recommendations for management.\n",
    "\n",
    "Formatting Python Code\n",
    "Refer to Google’s Python Style Guide (https://google.github.iostyleguide/pyguide.html) for ideas about formatting Python code:\n",
    "\n",
    "\n",
    "NOTE : \n",
    "- Below is the starter code and please feel free to update/edit/change to provide your thoughts/solutions to the problem. \n",
    "- Comment often and in detail, highlighting major sections of code, describing the thinking behind the programming methods being employed.\n",
    "- This code has a lot of errors so please make sure to updated all the cells based on best practices along with your analysis/findings.\n",
    "\n",
    "\n",
    "GRADING GUIDELINES (100 points)\n",
    "--------------------------------\n",
    "(1) Data preparation, exploration, visualization (20 points)\n",
    "(2) Review research design and modeling methods (20 points)\n",
    "(3) Review results, evaluate models (20 points)\n",
    "(4) Implementation and programming (20 points)\n",
    "(5) Exposition, problem description, and management recommendations (20 points) "
   ]
  },
  {
   "cell_type": "code",
   "execution_count": 1,
   "metadata": {},
   "outputs": [],
   "source": [
    "# Ignore warnings\n",
    "import warnings\n",
    "warnings.filterwarnings(\"ignore\")"
   ]
  },
  {
   "cell_type": "code",
   "execution_count": 2,
   "metadata": {},
   "outputs": [],
   "source": [
    "%matplotlib inline\n",
    "\n",
    "# import base packages into the namespace for this program\n",
    "import matplotlib.pyplot as plt\n",
    "import numpy as np\n",
    "import time\n",
    "import os\n",
    "import subprocess\n",
    "import pandas as pd\n",
    "import seaborn as sns\n",
    "\n",
    "#SKlearn\n",
    "from sklearn.model_selection import train_test_split\n",
    "from sklearn.preprocessing import StandardScaler\n",
    "from sklearn.datasets import fetch_openml\n",
    "from sklearn.decomposition import PCA\n",
    "from sklearn.ensemble import RandomForestClassifier\n",
    "from sklearn.model_selection import cross_val_predict, cross_val_score\n",
    "from sklearn.metrics import confusion_matrix\n",
    "from sklearn.metrics import f1_score, classification_report"
   ]
  },
  {
   "cell_type": "code",
   "execution_count": 3,
   "metadata": {},
   "outputs": [],
   "source": [
    "# seed value for random number generators to obtain reproducible results\n",
    "RANDOM_SEED = 85"
   ]
  },
  {
   "cell_type": "code",
   "execution_count": 4,
   "metadata": {},
   "outputs": [],
   "source": [
    "# Get MNIST Data Set  ( https://github.com/ageron/handson-ml/issues/301#issuecomment-448853256 )\n",
    "# The issue of obtaining MNIST data is solved by following \"https://github.com/ageron/handson-ml/issues/143\".\n",
    "from sklearn.datasets import fetch_openml\n",
    "mnist = fetch_openml('mnist_784', version=1, cache=True)"
   ]
  },
  {
   "cell_type": "markdown",
   "metadata": {},
   "source": [
    "### Convert to df for later use"
   ]
  },
  {
   "cell_type": "code",
   "execution_count": 5,
   "metadata": {},
   "outputs": [
    {
     "data": {
      "text/plain": [
       "(70000, 784)"
      ]
     },
     "execution_count": 5,
     "metadata": {},
     "output_type": "execute_result"
    }
   ],
   "source": [
    "df = pd.DataFrame(data=mnist.data, columns=mnist.feature_names)\n",
    "df.shape"
   ]
  },
  {
   "cell_type": "markdown",
   "metadata": {},
   "source": [
    "##### (1) Begin by fitting a random forest classifier using the full set of 784 explanatory variables and the model development set of 60,000 observations. Record the time it takes to fit the model and evaluate the model on the holdout data. Assess classification performance using the F1 score, which is the harmonic mean of precision and recall."
   ]
  },
  {
   "cell_type": "code",
   "execution_count": 6,
   "metadata": {},
   "outputs": [],
   "source": [
    "#Split training data (60,000) and test data (10,000)\n",
    "split = 60000\n",
    "X_train, X_test = mnist[\"data\"][:split], mnist[\"data\"][split:]\n",
    "y_train, y_test = mnist[\"target\"][:split], mnist[\"target\"][split:]"
   ]
  },
  {
   "cell_type": "code",
   "execution_count": 7,
   "metadata": {},
   "outputs": [
    {
     "name": "stdout",
     "output_type": "stream",
     "text": [
      "Shape of X_train_data: (60000, 784) (10000, 784)\n",
      "Shape of y_train_data: (60000,) (10000,)\n"
     ]
    }
   ],
   "source": [
    "# Check the shape of the trainig data set array\n",
    "print('Shape of X_train_data:', X_train.shape, X_test.shape)\n",
    "print('Shape of y_train_data:', y_train.shape, y_test.shape)"
   ]
  },
  {
   "cell_type": "markdown",
   "metadata": {},
   "source": [
    "## Update time.clock() to time.perf_counter(), as time.clock has been removed "
   ]
  },
  {
   "cell_type": "code",
   "execution_count": 8,
   "metadata": {},
   "outputs": [
    {
     "data": {
      "text/plain": [
       "RandomForestClassifier(max_features='sqrt', n_estimators=10, random_state=85)"
      ]
     },
     "execution_count": 8,
     "metadata": {},
     "output_type": "execute_result"
    }
   ],
   "source": [
    "#RANDOM FOREST with MNIST data set (no PCA)\n",
    "start_RF = time.perf_counter() #Record start time of RANDOM FOREST Process\n",
    "\n",
    "RF_clf = RandomForestClassifier(\n",
    "  bootstrap = True,\n",
    "  n_estimators=10,\n",
    "  max_features='sqrt', \n",
    "  random_state=RANDOM_SEED\n",
    ")\n",
    "RF_clf.fit(X_train, y_train)"
   ]
  },
  {
   "cell_type": "code",
   "execution_count": 9,
   "metadata": {},
   "outputs": [
    {
     "name": "stdout",
     "output_type": "stream",
     "text": [
      "[0.89769205 0.84517996 0.89344755 0.8767158  0.8778325  0.9304023\n",
      " 0.91656575 0.92699056 0.95049895 0.9092583 ]\n"
     ]
    }
   ],
   "source": [
    "# Evaluate a score of RANDOM FOREST by cross-validation\n",
    "# http://scikit-learn.org/stable/modules/generated/sklearn.model_selection.cross_val_score.html\n",
    "# http://scikit-learn.org/stable/modules/model_evaluation.html#scoring-parameter\n",
    "print(cross_val_score(\n",
    "  RF_clf, \n",
    "  X_test, y_test, \n",
    "  cv=10, \n",
    "  scoring='f1_macro'\n",
    "))"
   ]
  },
  {
   "cell_type": "code",
   "execution_count": 10,
   "metadata": {},
   "outputs": [
    {
     "name": "stdout",
     "output_type": "stream",
     "text": [
      "              precision    recall  f1-score   support\n",
      "\n",
      "           0       0.93      0.97      0.95       980\n",
      "           1       0.94      0.98      0.96      1135\n",
      "           2       0.89      0.91      0.90      1032\n",
      "           3       0.85      0.90      0.87      1010\n",
      "           4       0.88      0.92      0.90       982\n",
      "           5       0.89      0.84      0.86       892\n",
      "           6       0.93      0.92      0.93       958\n",
      "           7       0.93      0.90      0.92      1028\n",
      "           8       0.91      0.83      0.87       974\n",
      "           9       0.90      0.85      0.87      1009\n",
      "\n",
      "    accuracy                           0.90     10000\n",
      "   macro avg       0.90      0.90      0.90     10000\n",
      "weighted avg       0.90      0.90      0.90     10000\n",
      "\n"
     ]
    }
   ],
   "source": [
    "#Generate cross-validated estimates for each input data point\n",
    "#http://scikit-learn.org/stable/modules/generated/sklearn.model_selection.cross_val_predict.html\n",
    "y_pred = cross_val_predict(\n",
    "  RF_clf,\n",
    "  X_test, y_test,\n",
    "  cv=10\n",
    ")\n",
    "\n",
    "# Show Precision, Recall and F1-Score\n",
    "#http://scikit-learn.org/stable/modules/generated/sklearn.metrics.classification_report.html\n",
    "print(classification_report(y_test, y_pred))"
   ]
  },
  {
   "cell_type": "code",
   "execution_count": 11,
   "metadata": {},
   "outputs": [
    {
     "data": {
      "text/plain": [
       "0.9027042584259733"
      ]
     },
     "execution_count": 11,
     "metadata": {},
     "output_type": "execute_result"
    }
   ],
   "source": [
    "# Calculate Average F1 Score\n",
    "# http://scikit-learn.org/stable/modules/generated/sklearn.metrics.f1_score.html#sklearn.metrics.f1_score\n",
    "f1score_RF_clf = f1_score(y_test, y_pred, average='macro')\n",
    "f1score_RF_clf"
   ]
  },
  {
   "cell_type": "code",
   "execution_count": 12,
   "metadata": {},
   "outputs": [
    {
     "name": "stdout",
     "output_type": "stream",
     "text": [
      "Start time for Random Forest without PCA: 32.3512379\n",
      "End_time for Random Forest without PCA: 42.8471171\n",
      "Runtime for Random Forest without PCA: 10.495879199999997\n"
     ]
    }
   ],
   "source": [
    "#Elapsed Time to perform Random Forest\n",
    "stop_RF = time.perf_counter()\n",
    "time_RF = stop_RF - start_RF\n",
    "\n",
    "print('Start time for Random Forest without PCA:', start_RF)\n",
    "print('End_time for Random Forest without PCA:', stop_RF)\n",
    "print('Runtime for Random Forest without PCA:', time_RF)"
   ]
  },
  {
   "cell_type": "code",
   "execution_count": 13,
   "metadata": {},
   "outputs": [
    {
     "data": {
      "text/plain": [
       "array([[ 955,    1,    0,    2,    0,    6,    8,    2,    6,    0],\n",
       "       [   0, 1117,    6,    2,    0,    2,    3,    0,    4,    1],\n",
       "       [  15,    3,  937,   13,   15,    4,   15,   15,   10,    5],\n",
       "       [   3,    6,   28,  905,    1,   23,    3,    8,   25,    8],\n",
       "       [   3,    3,    7,    5,  905,    3,    9,    2,    6,   39],\n",
       "       [  16,    8,    5,   69,    8,  745,   11,    6,   13,   11],\n",
       "       [  16,    6,   13,    5,   10,   17,  882,    1,    8,    0],\n",
       "       [   5,   16,   25,    7,   17,    2,    1,  927,    2,   26],\n",
       "       [   5,   18,   27,   39,   13,   25,   14,   12,  811,   10],\n",
       "       [  11,    8,    9,   17,   58,   13,    1,   22,   11,  859]],\n",
       "      dtype=int64)"
      ]
     },
     "execution_count": 13,
     "metadata": {},
     "output_type": "execute_result"
    }
   ],
   "source": [
    "#Confusion Matrix for RANDOM FOREST with MNIST data set (no PCA)\n",
    "cm_RF_clf = confusion_matrix(y_test, y_pred)\n",
    "cm_RF_clf"
   ]
  },
  {
   "cell_type": "code",
   "execution_count": 14,
   "metadata": {},
   "outputs": [
    {
     "data": {
      "image/png": "[encoded data removed]",
      "text/plain": [
       "<Figure size 288x288 with 1 Axes>"
      ]
     },
     "metadata": {
      "needs_background": "light"
     },
     "output_type": "display_data"
    }
   ],
   "source": [
    "# Show Confusion Matrix Plot for RANDOM FOREST with MNIST data set (no PCA)\n",
    "plt.matshow(cm_RF_clf, cmap=plt.cm.gray)\n",
    "plt.title('ConfusionMatrix_RF_Clf')\n",
    "plt.show()"
   ]
  },
  {
   "cell_type": "code",
   "execution_count": 15,
   "metadata": {},
   "outputs": [
    {
     "data": {
      "image/png": "[encoded data removed]",
      "text/plain": [
       "<Figure size 288x288 with 1 Axes>"
      ]
     },
     "metadata": {
      "needs_background": "light"
     },
     "output_type": "display_data"
    }
   ],
   "source": [
    "# Show Error Plot for RANDOM FOREST with MNIST data set (no PCA) \n",
    "rws = cm_RF_clf.sum(axis=1, keepdims=True)\n",
    "norm = cm_RF_clf / rws\n",
    "\n",
    "np.fill_diagonal(norm, 0)\n",
    "plt.matshow(norm, cmap=plt.cm.gray)\n",
    "plt.title('Error_Matrix_RF_Clf')\n",
    "plt.show()"
   ]
  },
  {
   "cell_type": "markdown",
   "metadata": {},
   "source": [
    "##### (2) Execute principal components analysis (PCA) on the full set of 70,000, generating principal components that represent 95 percent of the variability in the explanatory variables. The number of principal components in the solution should be substantially fewer than the 784 explanatory variables. Record the time it takes to identify the principal components.\n",
    "\n",
    "Additional Resources for PCA Analysis: \n",
    "https://towardsdatascience.com/principal-component-analysis-pca-with-scikit-learn-1e84a0c731b0"
   ]
  },
  {
   "cell_type": "markdown",
   "metadata": {},
   "source": [
    "### To apply PCA on the full set, we will re-combine X_train and X_test. We will also re-combine y_train and y_test to apply back to the dataset after pca has been implemented"
   ]
  },
  {
   "cell_type": "code",
   "execution_count": 16,
   "metadata": {},
   "outputs": [
    {
     "data": {
      "text/plain": [
       "pandas.core.frame.DataFrame"
      ]
     },
     "execution_count": 16,
     "metadata": {},
     "output_type": "execute_result"
    }
   ],
   "source": [
    "type(X_train)"
   ]
  },
  {
   "cell_type": "code",
   "execution_count": 17,
   "metadata": {},
   "outputs": [
    {
     "name": "stdout",
     "output_type": "stream",
     "text": [
      "X Shape: (70000, 784)\n"
     ]
    }
   ],
   "source": [
    "# Bind train and test features \n",
    "X = df.values\n",
    "\n",
    "# Check shape to ensure we have all 70,000 records and 784 pixel variables \n",
    "print(\"X Shape:\",X.shape)"
   ]
  },
  {
   "cell_type": "markdown",
   "metadata": {},
   "source": [
    "### Now we will begin to choose the number of principle components that represent 95% of the dataset. We will start by selecting all features for review"
   ]
  },
  {
   "cell_type": "markdown",
   "metadata": {},
   "source": [
    "### Record how much time it takes to identify all principal components"
   ]
  },
  {
   "cell_type": "markdown",
   "metadata": {},
   "source": [
    "### Apply/transform pca for all components "
   ]
  },
  {
   "cell_type": "code",
   "execution_count": 18,
   "metadata": {},
   "outputs": [],
   "source": [
    "pca_784 = PCA(n_components=X.shape[1], random_state=RANDOM_SEED)\n",
    "pca_784.fit(X)\n",
    "df_pca_784 = pca_784.transform(X)"
   ]
  },
  {
   "cell_type": "markdown",
   "metadata": {},
   "source": [
    "### As expected, this explains 100% of the variance"
   ]
  },
  {
   "cell_type": "code",
   "execution_count": 19,
   "metadata": {},
   "outputs": [
    {
     "name": "stdout",
     "output_type": "stream",
     "text": [
      "Variance explained by all 784 principal components = 100.00000000000006\n"
     ]
    }
   ],
   "source": [
    "print(\"Variance explained by all 784 principal components =\", sum(pca_784.explained_variance_ratio_ * 100))"
   ]
  },
  {
   "cell_type": "markdown",
   "metadata": {},
   "source": [
    "### The following array shows how the amount of variance explained increases as we introduce each additional component "
   ]
  },
  {
   "cell_type": "code",
   "execution_count": 20,
   "metadata": {},
   "outputs": [
    {
     "data": {
      "text/plain": [
       "array([  9.74611592,  16.90156051,  23.05109149,  28.45447602,\n",
       "        33.34340972,  37.64863675,  40.92689828,  43.81653984,\n",
       "        46.57490404,  48.91704421,  51.02373276,  53.061286  ,\n",
       "        54.76835031,  56.46237009,  58.04575233,  59.53209723,\n",
       "        60.85145572,  62.13046998,  63.31774246,  64.47067917,\n",
       "        65.53671895,  66.54651329,  67.50566452,  68.4152996 ,\n",
       "        69.29858642,  70.13740462,  70.94723642,  71.73295432,\n",
       "        72.47321655,  73.16323071,  73.8193747 ,  74.46484499,\n",
       "        75.06566429,  75.65127604,  76.2180296 ,  76.76150026,\n",
       "        77.26621733,  77.75329675,  78.23225188,  78.69984553,\n",
       "        79.15421416,  79.59913217,  80.01734877,  80.41351268,\n",
       "        80.79722042,  81.17300523,  81.53443151,  81.88345611,\n",
       "        82.22218771,  82.54188388,  82.85873791,  83.16888282,\n",
       "        83.46536318,  83.75246462,  84.03497842,  84.30440113,\n",
       "        84.57279344,  84.82930277,  85.08247063,  85.32711866,\n",
       "        85.56682089,  85.8054019 ,  86.03463564,  86.25558463,\n",
       "        86.46864511,  86.67496257,  86.87774395,  87.07277907,\n",
       "        87.2642497 ,  87.4527992 ,  87.63977534,  87.8198796 ,\n",
       "        87.99666664,  88.17002529,  88.33487465,  88.49811169,\n",
       "        88.65951975,  88.8138238 ,  88.96084425,  89.10304373,\n",
       "        89.24405991,  89.38420615,  89.52381102,  89.65883552,\n",
       "        89.791207  ,  89.92309994,  90.05229739,  90.17746941,\n",
       "        90.29999891,  90.42041816,  90.53678109,  90.65110001,\n",
       "        90.76364693,  90.87350864,  90.9818518 ,  91.08902716,\n",
       "        91.19271931,  91.29613767,  91.39672834,  91.49666085,\n",
       "        91.59433445,  91.68849571,  91.78207856,  91.87324494,\n",
       "        91.96331897,  92.05226899,  92.1384272 ,  92.22368204,\n",
       "        92.30778207,  92.3895047 ,  92.46810708,  92.54585745,\n",
       "        92.62343851,  92.69991724,  92.77597436,  92.85085291,\n",
       "        92.923877  ,  92.99641337,  93.06799705,  93.13833756,\n",
       "        93.20751215,  93.27620413,  93.34414201,  93.41131644,\n",
       "        93.47744348,  93.5417105 ,  93.60498785,  93.66782832,\n",
       "        93.72979087,  93.78993122,  93.84995753,  93.90933702,\n",
       "        93.96796491,  94.0263099 ,  94.08420026,  94.14147499,\n",
       "        94.19781277,  94.25304243,  94.30659989,  94.35917238,\n",
       "        94.41144631,  94.4624367 ,  94.51266621,  94.56248031,\n",
       "        94.61206522,  94.66129961,  94.70967782,  94.75776783,\n",
       "        94.80492469,  94.85159607,  94.89801906,  94.94421826,\n",
       "        94.99004671,  95.03499702,  95.07971427,  95.12380474,\n",
       "        95.16760458,  95.21024207,  95.2523278 ,  95.29414526,\n",
       "        95.33544543,  95.37628694,  95.41611259,  95.45551175,\n",
       "        95.49468732,  95.53359944,  95.57193923,  95.60978789,\n",
       "        95.64743213,  95.68463847,  95.72127067,  95.75775081,\n",
       "        95.79395424,  95.82963737,  95.86501215,  95.90024152,\n",
       "        95.93490336,  95.96938227,  96.00356758,  96.03745496,\n",
       "        96.07094995,  96.10386107,  96.13664829,  96.16906546,\n",
       "        96.20134447,  96.23336006,  96.26502162,  96.29655686,\n",
       "        96.32754355,  96.35848134,  96.38906739,  96.41932203,\n",
       "        96.44944427,  96.47947601,  96.50902768,  96.53853962,\n",
       "        96.56782362,  96.59699881,  96.62566107,  96.65395399,\n",
       "        96.68211026,  96.70984685,  96.73728156,  96.7644866 ,\n",
       "        96.79133716,  96.81803215,  96.84449068,  96.87085397,\n",
       "        96.89701074,  96.92287846,  96.94862289,  96.97427829,\n",
       "        96.99972371,  97.02499884,  97.05017212,  97.07502138,\n",
       "        97.09970931,  97.12422343,  97.14847917,  97.17258523,\n",
       "        97.19665814,  97.22057392,  97.24441082,  97.26805737,\n",
       "        97.29123126,  97.31434637,  97.3372942 ,  97.36004417,\n",
       "        97.38275001,  97.40506838,  97.42715697,  97.44913304,\n",
       "        97.47087018,  97.49248219,  97.51393187,  97.53522929,\n",
       "        97.55648532,  97.57747345,  97.59840957,  97.61904128,\n",
       "        97.63950404,  97.65977903,  97.67991044,  97.69999134,\n",
       "        97.71983386,  97.7395821 ,  97.75913285,  97.77842079,\n",
       "        97.79768416,  97.81685959,  97.83594238,  97.85480962,\n",
       "        97.87353877,  97.89226036,  97.91081783,  97.92931832,\n",
       "        97.94770672,  97.96593376,  97.98413299,  98.0021305 ,\n",
       "        98.01982687,  98.03747432,  98.05503201,  98.07240997,\n",
       "        98.08971775,  98.10693985,  98.12406257,  98.14107646,\n",
       "        98.15795009,  98.17465426,  98.19131272,  98.20794362,\n",
       "        98.22434249,  98.24069078,  98.25698299,  98.27315527,\n",
       "        98.2891535 ,  98.30511385,  98.32099767,  98.33673604,\n",
       "        98.35233637,  98.36778773,  98.38314706,  98.3984511 ,\n",
       "        98.41362215,  98.42861415,  98.44356137,  98.45835849,\n",
       "        98.47313591,  98.48774585,  98.5021984 ,  98.51652039,\n",
       "        98.53079747,  98.54500598,  98.55915268,  98.5731785 ,\n",
       "        98.58695428,  98.60068544,  98.61431104,  98.62788257,\n",
       "        98.6413893 ,  98.65482561,  98.66818002,  98.68142338,\n",
       "        98.69450817,  98.7074554 ,  98.72032669,  98.73309621,\n",
       "        98.74583013,  98.75850629,  98.7711206 ,  98.78371671,\n",
       "        98.79617948,  98.80849991,  98.82069342,  98.83283949,\n",
       "        98.84489787,  98.85687302,  98.86878068,  98.88066349,\n",
       "        98.89239159,  98.90407897,  98.91568277,  98.9272708 ,\n",
       "        98.93875425,  98.95018197,  98.96139895,  98.97250909,\n",
       "        98.98352615,  98.99452872,  99.00550293,  99.0164161 ,\n",
       "        99.02724017,  99.03798534,  99.04863898,  99.05926537,\n",
       "        99.06988491,  99.08036885,  99.09068584,  99.10094975,\n",
       "        99.11111855,  99.12116126,  99.13117532,  99.14111185,\n",
       "        99.15103573,  99.16086843,  99.17061909,  99.18030774,\n",
       "        99.18980067,  99.19921132,  99.20859838,  99.21792908,\n",
       "        99.22716223,  99.23632263,  99.24543948,  99.25447757,\n",
       "        99.26345579,  99.27237303,  99.28125935,  99.29005573,\n",
       "        99.29875245,  99.30738218,  99.31594507,  99.32442728,\n",
       "        99.33289394,  99.34125492,  99.34952048,  99.35775913,\n",
       "        99.36596112,  99.37405129,  99.38213513,  99.39007227,\n",
       "        99.39799099,  99.40581354,  99.41360133,  99.42131742,\n",
       "        99.42894129,  99.43653111,  99.44397792,  99.45136566,\n",
       "        99.45869804,  99.46599872,  99.47323892,  99.4804347 ,\n",
       "        99.487561  ,  99.49458783,  99.50154722,  99.50847725,\n",
       "        99.51527555,  99.52201655,  99.5287045 ,  99.53529462,\n",
       "        99.54177076,  99.54817047,  99.55450456,  99.56081818,\n",
       "        99.56699519,  99.57309834,  99.57910361,  99.58507826,\n",
       "        99.59097023,  99.59682481,  99.60262815,  99.60836068,\n",
       "        99.61400308,  99.61960003,  99.62513955,  99.63058756,\n",
       "        99.6360241 ,  99.64144886,  99.6467417 ,  99.65201989,\n",
       "        99.65724693,  99.66241038,  99.66752526,  99.6725904 ,\n",
       "        99.67756459,  99.68250264,  99.68740146,  99.69222806,\n",
       "        99.69697745,  99.70166994,  99.70630422,  99.71093049,\n",
       "        99.71545373,  99.71991404,  99.72425637,  99.728497  ,\n",
       "        99.73270335,  99.73689755,  99.74101975,  99.74514055,\n",
       "        99.74922472,  99.75327379,  99.75729289,  99.76114283,\n",
       "        99.76496368,  99.76876318,  99.77253334,  99.77625396,\n",
       "        99.7799426 ,  99.78358563,  99.78711416,  99.79062299,\n",
       "        99.79411847,  99.79756699,  99.80100166,  99.80442683,\n",
       "        99.80772434,  99.81098801,  99.81419211,  99.81737035,\n",
       "        99.82050945,  99.82359023,  99.82657575,  99.82954542,\n",
       "        99.83246746,  99.83536621,  99.83825824,  99.84108978,\n",
       "        99.84385966,  99.84660899,  99.8493263 ,  99.85200146,\n",
       "        99.85456637,  99.8570878 ,  99.85958408,  99.86205063,\n",
       "        99.86449688,  99.86693092,  99.86934475,  99.87174289,\n",
       "        99.87408821,  99.87642438,  99.87873415,  99.88097779,\n",
       "        99.88319409,  99.88534912,  99.88748791,  99.8896095 ,\n",
       "        99.89169543,  99.89376295,  99.89579098,  99.8977809 ,\n",
       "        99.89975576,  99.90170457,  99.90363414,  99.90553674,\n",
       "        99.90741597,  99.90925411,  99.91105802,  99.91285417,\n",
       "        99.91458093,  99.91629304,  99.91791309,  99.91952364,\n",
       "        99.92110559,  99.92268164,  99.92422212,  99.92575927,\n",
       "        99.92728346,  99.92876912,  99.93023617,  99.93167849,\n",
       "        99.93309294,  99.93448549,  99.93584892,  99.93720106,\n",
       "        99.93854417,  99.93987317,  99.94116047,  99.94241609,\n",
       "        99.94364248,  99.94486595,  99.94608075,  99.94727492,\n",
       "        99.94843432,  99.94958275,  99.9507259 ,  99.95185773,\n",
       "        99.95297884,  99.95407741,  99.95515854,  99.95621306,\n",
       "        99.95725479,  99.95828163,  99.9592839 ,  99.9602194 ,\n",
       "        99.96113929,  99.96205363,  99.96296362,  99.96385827,\n",
       "        99.96472436,  99.965569  ,  99.96637497,  99.96716128,\n",
       "        99.96794355,  99.96872193,  99.96949879,  99.9702597 ,\n",
       "        99.97101226,  99.97175392,  99.97248328,  99.97320214,\n",
       "        99.97391564,  99.9746171 ,  99.97529198,  99.97596504,\n",
       "        99.97659774,  99.97722324,  99.97783987,  99.97842285,\n",
       "        99.97898938,  99.97954027,  99.98008856,  99.98062579,\n",
       "        99.98115763,  99.98167828,  99.98216802,  99.98265264,\n",
       "        99.983136  ,  99.98361522,  99.98406988,  99.98451984,\n",
       "        99.98496635,  99.98541083,  99.98584767,  99.98626228,\n",
       "        99.98667275,  99.98706802,  99.98745637,  99.98784022,\n",
       "        99.98822079,  99.98855962,  99.98889169,  99.98921198,\n",
       "        99.98952918,  99.98984394,  99.99015534,  99.99046267,\n",
       "        99.99076814,  99.99106359,  99.99135401,  99.99164279,\n",
       "        99.99191811,  99.99217012,  99.99242031,  99.99265838,\n",
       "        99.99288901,  99.99310453,  99.99331961,  99.99353088,\n",
       "        99.99374097,  99.99394441,  99.99414565,  99.994343  ,\n",
       "        99.9945347 ,  99.99471668,  99.99489587,  99.99507044,\n",
       "        99.99524449,  99.995412  ,  99.99557556,  99.99573733,\n",
       "        99.99589658,  99.99605222,  99.9962015 ,  99.99633224,\n",
       "        99.99646237,  99.99659103,  99.99671844,  99.99683885,\n",
       "        99.9969536 ,  99.99706282,  99.99717112,  99.99727891,\n",
       "        99.99738488,  99.99748886,  99.997591  ,  99.99768993,\n",
       "        99.99778368,  99.99787614,  99.99796001,  99.99804382,\n",
       "        99.99812627,  99.99820742,  99.9982866 ,  99.99836029,\n",
       "        99.9984299 ,  99.99849645,  99.99856082,  99.99862336,\n",
       "        99.99868421,  99.99874495,  99.99880507,  99.99886216,\n",
       "        99.99891746,  99.99897233,  99.99902423,  99.99907514,\n",
       "        99.99912293,  99.99916774,  99.99921251,  99.99925449,\n",
       "        99.99929281,  99.9993307 ,  99.99936813,  99.99940476,\n",
       "        99.99943902,  99.99946815,  99.99949636,  99.99952366,\n",
       "        99.99955082,  99.99957781,  99.99960432,  99.99963024,\n",
       "        99.99965421,  99.99967523,  99.99969556,  99.99971451,\n",
       "        99.99973297,  99.99975138,  99.99976897,  99.99978464,\n",
       "        99.99980024,  99.99981482,  99.99982838,  99.99984057,\n",
       "        99.99985233,  99.99986405,  99.99987573,  99.99988704,\n",
       "        99.99989806,  99.99990724,  99.99991557,  99.99992362,\n",
       "        99.99993143,  99.99993866,  99.99994506,  99.99995093,\n",
       "        99.99995575,  99.99996053,  99.9999647 ,  99.99996852,\n",
       "        99.99997234,  99.99997562,  99.9999784 ,  99.99998109,\n",
       "        99.99998366,  99.99998575,  99.99998751,  99.99998904,\n",
       "        99.99999047,  99.9999919 ,  99.99999298,  99.99999401,\n",
       "        99.99999489,  99.99999564,  99.99999632,  99.99999692,\n",
       "        99.99999752,  99.99999799,  99.99999841,  99.99999883,\n",
       "        99.99999925,  99.99999957,  99.99999974,  99.99999982,\n",
       "        99.99999989,  99.99999995,  99.99999997,  99.99999999,\n",
       "       100.        , 100.        , 100.        , 100.        ,\n",
       "       100.        , 100.        , 100.        , 100.        ,\n",
       "       100.        , 100.        , 100.        , 100.        ,\n",
       "       100.        , 100.        , 100.        , 100.        ,\n",
       "       100.        , 100.        , 100.        , 100.        ,\n",
       "       100.        , 100.        , 100.        , 100.        ,\n",
       "       100.        , 100.        , 100.        , 100.        ,\n",
       "       100.        , 100.        , 100.        , 100.        ,\n",
       "       100.        , 100.        , 100.        , 100.        ,\n",
       "       100.        , 100.        , 100.        , 100.        ,\n",
       "       100.        , 100.        , 100.        , 100.        ,\n",
       "       100.        , 100.        , 100.        , 100.        ,\n",
       "       100.        , 100.        , 100.        , 100.        ,\n",
       "       100.        , 100.        , 100.        , 100.        ,\n",
       "       100.        , 100.        , 100.        , 100.        ,\n",
       "       100.        , 100.        , 100.        , 100.        ,\n",
       "       100.        , 100.        , 100.        , 100.        ,\n",
       "       100.        , 100.        , 100.        , 100.        ])"
      ]
     },
     "execution_count": 20,
     "metadata": {},
     "output_type": "execute_result"
    }
   ],
   "source": [
    "np.cumsum(pca_784.explained_variance_ratio_ * 100)"
   ]
  },
  {
   "cell_type": "markdown",
   "metadata": {},
   "source": [
    "### Looking at a plot of the explained variance by component, we can see that we reach the 95% threshold somewhere around the 150 components range"
   ]
  },
  {
   "cell_type": "code",
   "execution_count": 21,
   "metadata": {},
   "outputs": [
    {
     "data": {
      "image/png": "[encoded data removed]",
      "text/plain": [
       "<Figure size 720x432 with 1 Axes>"
      ]
     },
     "metadata": {},
     "output_type": "display_data"
    },
    {
     "data": {
      "text/plain": [
       "<Figure size 432x288 with 0 Axes>"
      ]
     },
     "metadata": {},
     "output_type": "display_data"
    }
   ],
   "source": [
    "# We compute the cumulaive variance\n",
    "lmts = [0.75, 0.9, 0.95, 0.99]\n",
    "vars = np.cumsum(pca_784.explained_variance_ratio_)\n",
    "vls = np.array([np.argmax(vars > i) for i in lmts])\n",
    "\n",
    "# Make the plot\n",
    "sns.set(style=\"ticks\", font_scale=2.0)\n",
    "fig, ax = plt.subplots(figsize=(10,6))\n",
    "\n",
    "# Decorate the plot\n",
    "ax.set_xlabel('Dimension #')\n",
    "ax.set_ylabel('Explained Variance Ratio')\n",
    "ax.set_title('Fraction of Explained Variance')\n",
    "\n",
    "ax.set_xlim(0, 400.0)\n",
    "ax.set_ylim(0, 0.15)\n",
    "\n",
    "# Draw lines for the cumulative variance\n",
    "ax.vlines(vls, 0.0, 0.05, linestyles='dashed') #colors=sns.xkcd_rgb)\n",
    "for xl, txt in zip(vls, lmts):\n",
    "    ax.text(xl, 0.055, str(txt), fontsize = 18, \\\n",
    "            color=sns.xkcd_rgb[\"pale red\"], \\\n",
    "            horizontalalignment='center')\n",
    "    \n",
    "# Now draw the points, with bolder colors.\n",
    "plt.plot(pca_784.explained_variance_ratio_, color=sns.xkcd_rgb[\"denim blue\"], linewidth=3)\n",
    "\n",
    "plt.show()\n",
    "sns.despine(offset=5, trim=True)"
   ]
  },
  {
   "cell_type": "markdown",
   "metadata": {},
   "source": [
    "### To capture 95% of the explained variance, let's set n_components to 0.95"
   ]
  },
  {
   "cell_type": "code",
   "execution_count": 22,
   "metadata": {},
   "outputs": [],
   "source": [
    "pca_95 = PCA(n_components=0.95, random_state=RANDOM_SEED)\n",
    "pca_95.fit(X)\n",
    "X_pca_95 = pca_95.transform(X)"
   ]
  },
  {
   "cell_type": "markdown",
   "metadata": {},
   "source": [
    "### Let's see how much time it takes to identify 95% of the variance and compare against identifying all components. Surprisingly, the amount of time to identify 95% of the variance is quite similar to identifying all components!"
   ]
  },
  {
   "cell_type": "code",
   "execution_count": 23,
   "metadata": {},
   "outputs": [
    {
     "name": "stdout",
     "output_type": "stream",
     "text": [
      "Wall time: 3.82 s\n"
     ]
    },
    {
     "data": {
      "text/plain": [
       "PCA(n_components=0.95, random_state=85)"
      ]
     },
     "execution_count": 23,
     "metadata": {},
     "output_type": "execute_result"
    }
   ],
   "source": [
    "%%time\n",
    "pca_95.fit(X)"
   ]
  },
  {
   "cell_type": "code",
   "execution_count": 24,
   "metadata": {},
   "outputs": [
    {
     "name": "stdout",
     "output_type": "stream",
     "text": [
      "Wall time: 3.97 s\n"
     ]
    },
    {
     "data": {
      "text/plain": [
       "PCA(n_components=784, random_state=85)"
      ]
     },
     "execution_count": 24,
     "metadata": {},
     "output_type": "execute_result"
    }
   ],
   "source": [
    "%%time\n",
    "pca_784.fit(X)"
   ]
  },
  {
   "cell_type": "markdown",
   "metadata": {},
   "source": [
    "### We can see that 154 components will provide us with 95% of the explained variance "
   ]
  },
  {
   "cell_type": "code",
   "execution_count": 25,
   "metadata": {},
   "outputs": [
    {
     "data": {
      "text/plain": [
       "(70000, 154)"
      ]
     },
     "execution_count": 25,
     "metadata": {},
     "output_type": "execute_result"
    }
   ],
   "source": [
    "X_pca_95.shape"
   ]
  },
  {
   "cell_type": "markdown",
   "metadata": {},
   "source": [
    "### Let's now take our components explaining 95% of the variance and add back in the labels to use for our random forrest classifier "
   ]
  },
  {
   "cell_type": "code",
   "execution_count": 26,
   "metadata": {},
   "outputs": [],
   "source": [
    "df_new = pd.DataFrame(X_pca_95)\n",
    "df_new['label'] = mnist.target"
   ]
  },
  {
   "cell_type": "code",
   "execution_count": 27,
   "metadata": {},
   "outputs": [
    {
     "data": {
      "text/plain": [
       "(70000, 155)"
      ]
     },
     "execution_count": 27,
     "metadata": {},
     "output_type": "execute_result"
    }
   ],
   "source": [
    "df_new.shape"
   ]
  },
  {
   "cell_type": "markdown",
   "metadata": {},
   "source": [
    "##### (3) Using the identified principal components from step (2), use the first 60,000 observations to build another random forest classifier. Record the time it takes to fit the model and to evaluate the model on the holdout data (the last 10,000 observations). Assess classification performance using the F1 score, which is the harmonic mean of precision and recall."
   ]
  },
  {
   "cell_type": "markdown",
   "metadata": {},
   "source": [
    "### Split df_new with the principal components based on the instructions (48,000 training records, 22,000 testing records)"
   ]
  },
  {
   "cell_type": "code",
   "execution_count": 28,
   "metadata": {},
   "outputs": [
    {
     "data": {
      "text/plain": [
       "(60000, 60000, 10000, 10000, 70000)"
      ]
     },
     "execution_count": 28,
     "metadata": {},
     "output_type": "execute_result"
    }
   ],
   "source": [
    "X = df_new.iloc[:, 0:153]\n",
    "y = df_new.iloc[:, 154]\n",
    "x_trainPCA, x_testPCA, y_trainPCA, y_testPCA = train_test_split(X, y, test_size = 10000, random_state=RANDOM_SEED)\n",
    "\n",
    "# check split of data\n",
    "len(x_trainPCA), len(y_trainPCA), len(x_testPCA), len(y_testPCA), len(df_new)"
   ]
  },
  {
   "cell_type": "markdown",
   "metadata": {},
   "source": [
    "### Establish Random Forest Classifier and fit on PCA data. We also start the timer for the time it takes to fit the model and to evaluate the model on the holdout data (the last 22,000 observations) here"
   ]
  },
  {
   "cell_type": "code",
   "execution_count": 29,
   "metadata": {},
   "outputs": [
    {
     "data": {
      "text/plain": [
       "RandomForestClassifier(max_features='sqrt', n_estimators=10, random_state=85)"
      ]
     },
     "execution_count": 29,
     "metadata": {},
     "output_type": "execute_result"
    }
   ],
   "source": [
    "#RANDOM FOREST with PCA MNIST data set \n",
    "start_RF_PCA = time.perf_counter() #Record start time of RANDOM FOREST Process that uses PCA Data\n",
    "\n",
    "RF_clf_pca = RandomForestClassifier(\n",
    "  bootstrap = True,\n",
    "  n_estimators=10,\n",
    "  max_features='sqrt', \n",
    "  random_state=RANDOM_SEED\n",
    ")\n",
    "RF_clf.fit(x_trainPCA, y_trainPCA)"
   ]
  },
  {
   "cell_type": "markdown",
   "metadata": {},
   "source": [
    "### Reveiw CV components"
   ]
  },
  {
   "cell_type": "code",
   "execution_count": 30,
   "metadata": {},
   "outputs": [
    {
     "name": "stdout",
     "output_type": "stream",
     "text": [
      "[0.82275374 0.82626755 0.80292182 0.81972106 0.82335776 0.83810926\n",
      " 0.80116272 0.8434256  0.80710822 0.79824766]\n"
     ]
    }
   ],
   "source": [
    "print(cross_val_score(\n",
    "  RF_clf_pca, \n",
    "  x_testPCA, y_testPCA, \n",
    "  cv=10, \n",
    "  scoring='f1_macro'\n",
    "))"
   ]
  },
  {
   "cell_type": "markdown",
   "metadata": {},
   "source": [
    "### Generate cross-validated estimates for each input data point "
   ]
  },
  {
   "cell_type": "code",
   "execution_count": 31,
   "metadata": {},
   "outputs": [
    {
     "name": "stdout",
     "output_type": "stream",
     "text": [
      "              precision    recall  f1-score   support\n",
      "\n",
      "           0       0.80      0.91      0.86       940\n",
      "           1       0.94      0.98      0.96      1079\n",
      "           2       0.76      0.84      0.80       970\n",
      "           3       0.73      0.79      0.76      1003\n",
      "           4       0.80      0.83      0.81      1009\n",
      "           5       0.76      0.71      0.74       943\n",
      "           6       0.89      0.88      0.88      1020\n",
      "           7       0.87      0.85      0.86      1029\n",
      "           8       0.83      0.68      0.75       995\n",
      "           9       0.83      0.72      0.77      1012\n",
      "\n",
      "    accuracy                           0.82     10000\n",
      "   macro avg       0.82      0.82      0.82     10000\n",
      "weighted avg       0.82      0.82      0.82     10000\n",
      "\n"
     ]
    }
   ],
   "source": [
    "#Generate cross-validated estimates for each input data point\n",
    "#http://scikit-learn.org/stable/modules/generated/sklearn.model_selection.cross_val_predict.html\n",
    "y_pred_pca = cross_val_predict(\n",
    "  RF_clf_pca,\n",
    "  x_testPCA, y_testPCA,\n",
    "  cv=10\n",
    ")\n",
    "\n",
    "# Show Precision, Recall and F1-Score\n",
    "#http://scikit-learn.org/stable/modules/generated/sklearn.metrics.classification_report.html\n",
    "print(classification_report(y_testPCA, y_pred_pca))"
   ]
  },
  {
   "cell_type": "markdown",
   "metadata": {},
   "source": [
    "### We can see that the average F1 score is slightly lower than the classifier using all components, which is to be expected"
   ]
  },
  {
   "cell_type": "code",
   "execution_count": 32,
   "metadata": {},
   "outputs": [
    {
     "data": {
      "text/plain": [
       "0.8184772893086836"
      ]
     },
     "execution_count": 32,
     "metadata": {},
     "output_type": "execute_result"
    }
   ],
   "source": [
    "# Calculate Average F1 Score\n",
    "# http://scikit-learn.org/stable/modules/generated/sklearn.metrics.f1_score.html#sklearn.metrics.f1_score\n",
    "f1score_RF_clf_pca = f1_score(y_testPCA, y_pred_pca, average='macro')\n",
    "f1score_RF_clf_pca"
   ]
  },
  {
   "cell_type": "markdown",
   "metadata": {},
   "source": [
    "### Stop the clock for performance time here. The code matches the code in step 1 here to ensure there are not discrepancies in the processing time "
   ]
  },
  {
   "cell_type": "code",
   "execution_count": 33,
   "metadata": {},
   "outputs": [
    {
     "name": "stdout",
     "output_type": "stream",
     "text": [
      "Start time for Random Forest with PCA: 59.5384527\n",
      "End_time for Random Forest with PCA: 79.6665776\n",
      "Runtime for Random Forest with PCA: 20.128124899999996\n"
     ]
    }
   ],
   "source": [
    "#Elapsed Time to perform Random Forest\n",
    "stop_RF_PCA = time.perf_counter()\n",
    "time_RF_PCA = stop_RF_PCA - start_RF_PCA\n",
    "\n",
    "print('Start time for Random Forest with PCA:', start_RF_PCA)\n",
    "print('End_time for Random Forest with PCA:', stop_RF_PCA)\n",
    "print('Runtime for Random Forest with PCA:', time_RF_PCA)"
   ]
  },
  {
   "cell_type": "markdown",
   "metadata": {},
   "source": [
    "##### (4) Compare test set performance across the two modeling approaches: original 784-variable model versus the 95-percent-PCA model. Also evaluate the time required to perform (1) versus the time required to perform (2) and (3) together. Ensure that accurate measures are made of the total time it takes to execute each of the modeling approaches in training the models."
   ]
  },
  {
   "cell_type": "markdown",
   "metadata": {},
   "source": [
    "### Comparrison of the the Average F1 Score  for the original 784-variable model versus the 95-percent-PCA model. \n",
    "\n",
    "### As we can see below, the 784-variable model outperforms the PCA model by about 8%. We would expect a higher F1 score from the 784-variable model given the reduction in components "
   ]
  },
  {
   "cell_type": "code",
   "execution_count": 34,
   "metadata": {},
   "outputs": [
    {
     "name": "stdout",
     "output_type": "stream",
     "text": [
      "Average F1 score using the original 784-variable model: 0.9027042584259733\n",
      "Average F1 score using the 95-percent-PCA model: 0.8184772893086836\n"
     ]
    }
   ],
   "source": [
    "print(\"Average F1 score using the original 784-variable model:\", f1score_RF_clf)\n",
    "print(\"Average F1 score using the 95-percent-PCA model:\", f1score_RF_clf_pca)"
   ]
  },
  {
   "cell_type": "markdown",
   "metadata": {},
   "source": [
    "### Comparrison of the the runtime for the original 784-variable model versus the 95-percent-PCA model. The time comparrision was run over the same code snippets, with the only difference being the model being employed (PCA and Non-PCA)\n",
    "\n",
    "### Surprisingly, we see that the runtime for the PCA model is significantly slower than the 784-variable model. We would expect the CPA model to have a quicker runtime given the dimmension reduction"
   ]
  },
  {
   "cell_type": "code",
   "execution_count": 35,
   "metadata": {
    "scrolled": true
   },
   "outputs": [
    {
     "name": "stdout",
     "output_type": "stream",
     "text": [
      "Runtime for Random Forest with 784-variable model: 10.495879199999997\n",
      "Runtime for Random Forest with PCA: 20.128124899999996\n"
     ]
    }
   ],
   "source": [
    "print('Runtime for Random Forest with 784-variable model:', time_RF)\n",
    "print('Runtime for Random Forest with PCA:', time_RF_PCA)"
   ]
  },
  {
   "cell_type": "markdown",
   "metadata": {},
   "source": [
    "##### (5) The experiment we have proposed has a design flaw. Identify the flaw. Fix it. Rerun the experiment in a way that is consistent with a training-and-test regimen.\n",
    "\n",
    "### The flaw with the design is that we should employ PCA on only the train dataset, not the entire dataset. To fix this, we will split the dataset into train/test, then employ PCA on only the train set, and compare perforamance again"
   ]
  },
  {
   "cell_type": "markdown",
   "metadata": {},
   "source": [
    "### Create new Feature and Label Variables"
   ]
  },
  {
   "cell_type": "code",
   "execution_count": 36,
   "metadata": {},
   "outputs": [
    {
     "name": "stdout",
     "output_type": "stream",
     "text": [
      "X1 Shape: (70000, 784)\n",
      "y1 Shape: (70000,)\n"
     ]
    }
   ],
   "source": [
    "# Get features from original dataset into new X variable\n",
    "X1 = df.values\n",
    "\n",
    "# Check shape to ensure we have all 70,000 records and 784 pixel variables \n",
    "print(\"X1 Shape:\",X1.shape)\n",
    "\n",
    "# Get labels from original dataset into new y variable\n",
    "y1 = mnist.target\n",
    "print(\"y1 Shape:\",y1.shape)"
   ]
  },
  {
   "cell_type": "markdown",
   "metadata": {},
   "source": [
    "### Split Features and Labels into Test/Train Datasets"
   ]
  },
  {
   "cell_type": "code",
   "execution_count": 37,
   "metadata": {},
   "outputs": [
    {
     "data": {
      "text/plain": [
       "(60000, 60000, 10000, 10000, 70000)"
      ]
     },
     "execution_count": 37,
     "metadata": {},
     "output_type": "execute_result"
    }
   ],
   "source": [
    "x_train1, x_test1, y_train1, y_test1 = train_test_split(X1, y1, test_size = 10000, random_state=RANDOM_SEED)\n",
    "\n",
    "# check split of data\n",
    "len(x_train1), len(y_train1), len(x_test1), len(y_test1), len(df)"
   ]
  },
  {
   "cell_type": "markdown",
   "metadata": {},
   "source": [
    "### Apply PCA to Train Dataset ONLY using our pca_95 variable that was previously used on the entire dataset"
   ]
  },
  {
   "cell_type": "code",
   "execution_count": 38,
   "metadata": {},
   "outputs": [],
   "source": [
    "pca_95.fit(x_train1)\n",
    "X_pca_95_trainOnly = pca_95.transform(x_train1)"
   ]
  },
  {
   "cell_type": "markdown",
   "metadata": {},
   "source": [
    "### We can see that the new PCA dataset has 154 components, but only includes the 48,000 records that are indicated in the training split"
   ]
  },
  {
   "cell_type": "code",
   "execution_count": 39,
   "metadata": {
    "scrolled": true
   },
   "outputs": [
    {
     "data": {
      "text/plain": [
       "(60000, 154)"
      ]
     },
     "execution_count": 39,
     "metadata": {},
     "output_type": "execute_result"
    }
   ],
   "source": [
    "X_pca_95_trainOnly.shape"
   ]
  },
  {
   "cell_type": "markdown",
   "metadata": {},
   "source": [
    "### Now we will apply the Random Forest Classifier to the training dataset with the applied PCA feature reduction "
   ]
  },
  {
   "cell_type": "code",
   "execution_count": 40,
   "metadata": {},
   "outputs": [
    {
     "data": {
      "text/plain": [
       "RandomForestClassifier(max_features='sqrt', n_estimators=10, random_state=85)"
      ]
     },
     "execution_count": 40,
     "metadata": {},
     "output_type": "execute_result"
    }
   ],
   "source": [
    "#RANDOM FOREST with PCA MNIST data set \n",
    "start_RF_PCA_Adjusted = time.perf_counter() #Record start time of RANDOM FOREST Process that uses PCA Data\n",
    "\n",
    "RF_clf_pca_adjusted = RandomForestClassifier(\n",
    "  bootstrap = True,\n",
    "  n_estimators=10,\n",
    "  max_features='sqrt', \n",
    "  random_state=RANDOM_SEED\n",
    ")\n",
    "RF_clf_pca_adjusted.fit(X_pca_95_trainOnly, y_train1)"
   ]
  },
  {
   "cell_type": "markdown",
   "metadata": {},
   "source": [
    "### Review CV components. NOTE: This looks at the test set, which will not include the PCA dimmension reduction we incorporated on the training dataset"
   ]
  },
  {
   "cell_type": "code",
   "execution_count": 41,
   "metadata": {},
   "outputs": [
    {
     "name": "stdout",
     "output_type": "stream",
     "text": [
      "[0.90175264 0.90354636 0.89834293 0.90580737 0.92729018 0.92211225\n",
      " 0.90107332 0.90308681 0.89797438 0.90091944]\n"
     ]
    }
   ],
   "source": [
    "print(cross_val_score(\n",
    "  RF_clf_pca_adjusted, \n",
    "  x_test1, y_test1, \n",
    "  cv=10, \n",
    "  scoring='f1_macro'\n",
    "))"
   ]
  },
  {
   "cell_type": "markdown",
   "metadata": {},
   "source": [
    "### Generate cross-validated estimates for each input data point"
   ]
  },
  {
   "cell_type": "code",
   "execution_count": 42,
   "metadata": {},
   "outputs": [
    {
     "name": "stdout",
     "output_type": "stream",
     "text": [
      "              precision    recall  f1-score   support\n",
      "\n",
      "           0       0.92      0.97      0.94       940\n",
      "           1       0.94      0.98      0.96      1079\n",
      "           2       0.89      0.92      0.90       970\n",
      "           3       0.88      0.87      0.87      1003\n",
      "           4       0.89      0.91      0.90      1009\n",
      "           5       0.88      0.86      0.87       943\n",
      "           6       0.95      0.93      0.94      1020\n",
      "           7       0.92      0.93      0.92      1029\n",
      "           8       0.90      0.83      0.86       995\n",
      "           9       0.89      0.87      0.88      1012\n",
      "\n",
      "    accuracy                           0.91     10000\n",
      "   macro avg       0.91      0.91      0.91     10000\n",
      "weighted avg       0.91      0.91      0.91     10000\n",
      "\n"
     ]
    }
   ],
   "source": [
    "#Generate cross-validated estimates for each input data point\n",
    "#http://scikit-learn.org/stable/modules/generated/sklearn.model_selection.cross_val_predict.html\n",
    "y_pred_pca_adjusted = cross_val_predict(\n",
    "  RF_clf_pca_adjusted,\n",
    "  x_test1, y_test1,\n",
    "  cv=10\n",
    ")\n",
    "\n",
    "# Show Precision, Recall and F1-Score\n",
    "#http://scikit-learn.org/stable/modules/generated/sklearn.metrics.classification_report.html\n",
    "print(classification_report(y_test1, y_pred_pca_adjusted))"
   ]
  },
  {
   "cell_type": "markdown",
   "metadata": {},
   "source": [
    "### Review average F1 score on adjusted pca dataset that only applies PCA to training data. We can see, now that we have only applied PCA to the training data, the average F1 score is much better!"
   ]
  },
  {
   "cell_type": "code",
   "execution_count": 43,
   "metadata": {},
   "outputs": [
    {
     "data": {
      "text/plain": [
       "0.9062433692847657"
      ]
     },
     "execution_count": 43,
     "metadata": {},
     "output_type": "execute_result"
    }
   ],
   "source": [
    "# Calculate Average F1 Score\n",
    "# http://scikit-learn.org/stable/modules/generated/sklearn.metrics.f1_score.html#sklearn.metrics.f1_score\n",
    "f1score_RF_clf_pca_adjusted = f1_score(y_test1, y_pred_pca_adjusted, average='macro')\n",
    "f1score_RF_clf_pca_adjusted"
   ]
  },
  {
   "cell_type": "markdown",
   "metadata": {},
   "source": [
    "### Stop the clock for performance time here. The code matches the code in step 1 and step 3 here to ensure there are not discrepancies in the processing time"
   ]
  },
  {
   "cell_type": "code",
   "execution_count": 44,
   "metadata": {},
   "outputs": [
    {
     "name": "stdout",
     "output_type": "stream",
     "text": [
      "Start time for Random Forest with Adjusted Training Data PCA: 84.4921449\n",
      "End_time for Random Forest with Adjusted Training Data PCA: 97.8629737\n",
      "Runtime for Random Forest with Adjusted Training Data PCA: 13.370828799999998\n"
     ]
    }
   ],
   "source": [
    "#Elapsed Time to perform Random Forest\n",
    "stop_RF_PCA_Adjusted = time.perf_counter()\n",
    "time_RF_PCA_Adjusted = stop_RF_PCA_Adjusted - start_RF_PCA_Adjusted\n",
    "\n",
    "print('Start time for Random Forest with Adjusted Training Data PCA:', start_RF_PCA_Adjusted)\n",
    "print('End_time for Random Forest with Adjusted Training Data PCA:', stop_RF_PCA_Adjusted)\n",
    "print('Runtime for Random Forest with Adjusted Training Data PCA:', time_RF_PCA_Adjusted)"
   ]
  },
  {
   "cell_type": "markdown",
   "metadata": {},
   "source": [
    "### Compare the Runtime Outputs for the full 784-variable model and the Adjusted PCA Model that only applies PCA to the training dataset. We now see that the PCA model has a quicker run-time than the 784-Variable model. "
   ]
  },
  {
   "cell_type": "code",
   "execution_count": 45,
   "metadata": {},
   "outputs": [
    {
     "name": "stdout",
     "output_type": "stream",
     "text": [
      "Runtime for Random Forest with Adjusted Training Data PCA: 13.370828799999998\n",
      "Runtime for Random Forest with 784-variable model: 10.495879199999997\n"
     ]
    }
   ],
   "source": [
    "print('Runtime for Random Forest with Adjusted Training Data PCA:', time_RF_PCA_Adjusted)\n",
    "print('Runtime for Random Forest with 784-variable model:', time_RF)"
   ]
  },
  {
   "cell_type": "markdown",
   "metadata": {},
   "source": [
    "### Compare the average F1 score for the full 784-variable model and the Adjusted PCA Model that only applies PCA to the training dataset. We see now that the PCA model is only slightly lower on the F1 score than the 784-variable model."
   ]
  },
  {
   "cell_type": "code",
   "execution_count": 46,
   "metadata": {
    "scrolled": true
   },
   "outputs": [
    {
     "name": "stdout",
     "output_type": "stream",
     "text": [
      "Average F1 score using the 95-percent-PCA model: 0.9062433692847657\n",
      "Average F1 score using the original 784-variable model: 0.9027042584259733\n"
     ]
    }
   ],
   "source": [
    "print(\"Average F1 score using the 95-percent-PCA model:\", f1score_RF_clf_pca_adjusted)\n",
    "print(\"Average F1 score using the original 784-variable model:\", f1score_RF_clf)"
   ]
  },
  {
   "cell_type": "markdown",
   "metadata": {},
   "source": [
    "Management Problem:\n",
    "From a management perspective, the predictive accuracy of models must be weighed against the costs of model development and implementation. Suppose you were the manager of a data science team responsible for implementing models for computer vision (classification of images analogous to the MINST problem). Would you recommend using PCA as a preliminary to machine learning classification? Explain your thinking.\n",
    "\n",
    "\n",
    "#### REPORT/FINDINGS: \n",
    "(1) A summary and problem definition for management; \n",
    "\n",
    "(2) Discussion of the research design, measurement and statistical methods, traditional and machine learning methods employed \n",
    "\n",
    "(3) Overview of programming work; \n",
    "\n",
    "(4) Review of results with recommendations for management."
   ]
  },
  {
   "cell_type": "markdown",
   "metadata": {},
   "source": [
    "### (1) A summary and problem definition for management:\n",
    "\n",
    "The goal of this analysis is to train a model that can accurately identify hand-written numbers. We want to do this as accurately and quickly as possible. To do this, we will review accuracy and timing scores between a model using all pixel variables in the dataset and a model that employs Principal Component Analysis (PCA) to reduce the number of dimmensions we look at. After reviewing accuracy and timing associated with the regular and PCA model, we can determine which model to use."
   ]
  },
  {
   "cell_type": "markdown",
   "metadata": {},
   "source": [
    "### (2) Discussion of the research design, measurement and statistical methods, traditional and machine learning methods employed\n",
    "\n",
    "We begin analysis by loading the data and fitting a Random Forest Classifier model to all associated variables (784 variables) in the dataset. As indicated in the instructions, we are focussing on the F1 score for our outcome metric of interest, therefore we look at the average F1 score along with the amount of time it took the model to fit and apply to the entire dataset. We then apply PCA to the entire dataset and fit/score a new model using the PCA data. We find that the F1 score goes down (to be expected) and the time it takes to fit and apply the model increases (not to be expected). \n",
    "\n",
    "The reason the F1 score goes significantly down and the processing time increases is because we have applied PCA to the entire dataset. Instead, we should only be applying PCA to our training data. After we develop a new model where we only apply PCA to the training data, we see a revised F1 score that is much closer to the F1 score for the model using the entire variable set. We also see that the processing time is now significantly faster for the adjusted PCA model."
   ]
  },
  {
   "cell_type": "markdown",
   "metadata": {},
   "source": [
    "### (3) Overview of programming work\n",
    "\n",
    "Primary programming work centered around the development and adjustment of PCA introduction to the dataset. This involved applying PCA, determining the amount of components requried to reach the 95% threshold, running the original PCA model that used PCA on the entire dataset and then the adjusted PCA model that only applies PCA to the training data. Additional programming work involved outputting the metrics of interest (time it takes to fit/apply each model and F1 scoring outputs in this case). "
   ]
  },
  {
   "cell_type": "markdown",
   "metadata": {},
   "source": [
    "### (4) Review of results with recommendations for management.\n",
    "\n",
    "Management Problem:\n",
    "From a management perspective, the predictive accuracy of models must be weighed against the costs of model development and implementation. Suppose you were the manager of a data science team responsible for implementing models for computer vision (classification of images analogous to the MINST problem). Would you recommend using PCA as a preliminary to machine learning classification? Explain your thinking.\n",
    "\n",
    "Answer:\n",
    "After correctly applying PCA to the trianing data, we can see that we achieve a F1 score that is very similar to the model employing the 784-variables. We also see that the adjusted PCA model has a similar run-time than the full 784-variable model. \n",
    "\n",
    "Because of the similar F1 scoring and the associated run-time, I would recommend using the PCA model moving forward. This is primarly because the PCA model will scale much more efficiently as you begin to introduce more data into the model. "
   ]
  }
 ],
 "metadata": {
  "kernelspec": {
   "display_name": "Python 3",
   "language": "python",
   "name": "python3"
  },
  "language_info": {
   "codemirror_mode": {
    "name": "ipython",
    "version": 3
   },
   "file_extension": ".py",
   "mimetype": "text/x-python",
   "name": "python",
   "nbconvert_exporter": "python",
   "pygments_lexer": "ipython3",
   "version": "3.8.8"
  }
 },
 "nbformat": 4,
 "nbformat_minor": 2
}
