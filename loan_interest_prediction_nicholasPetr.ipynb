{
 "cells": [
  {
   "cell_type": "markdown",
   "metadata": {},
   "source": [
    "# Assignment 3: Loan Prediction, Nicholas Petr, MSCA 31008 5 Data Mining Principles\n",
    "\n",
    "Resources:\n",
    "\n",
    "https://www.kaggle.com/junkal/selecting-the-best-regression-model"
   ]
  },
  {
   "cell_type": "markdown",
   "metadata": {},
   "source": [
    "## Load packages, functions, and training dataset"
   ]
  },
  {
   "cell_type": "code",
   "execution_count": 2,
   "metadata": {},
   "outputs": [],
   "source": [
    "%matplotlib inline\n",
    "import numpy as np\n",
    "import pandas as pd\n",
    "from scipy import stats\n",
    "import matplotlib.pyplot as plt\n",
    "import seaborn as sns\n",
    "from sklearn.model_selection import train_test_split\n",
    "from sklearn import metrics\n",
    "from sklearn.metrics import classification_report, confusion_matrix\n",
    "from imblearn.over_sampling import SMOTE\n",
    "import pickle\n",
    "from sklearn.experimental import enable_iterative_imputer\n",
    "from sklearn.impute import IterativeImputer\n",
    "from sklearn.impute import SimpleImputer\n",
    "from scipy import stats\n",
    "from sklearn.pipeline import Pipeline\n",
    "from sklearn.model_selection import KFold\n",
    "from sklearn.model_selection import cross_val_score\n",
    "from sklearn.preprocessing import StandardScaler\n",
    "# Importing Classifier Modules\n",
    "from sklearn.linear_model import LinearRegression\n",
    "from sklearn.linear_model import Lasso\n",
    "from sklearn.linear_model import ElasticNet\n",
    "from sklearn.tree import DecisionTreeRegressor\n",
    "from sklearn.neighbors import KNeighborsRegressor\n",
    "from sklearn.ensemble import GradientBoostingRegressor\n",
    "from sklearn.ensemble import RandomForestRegressor\n",
    "from sklearn.linear_model import RidgeCV"
   ]
  },
  {
   "cell_type": "code",
   "execution_count": 2,
   "metadata": {},
   "outputs": [],
   "source": [
    "def grid(x_var):\n",
    "    sns.set(style=\"whitegrid\")\n",
    "    g = sns.PairGrid(data=df, x_vars=[x_var], y_vars='X1', size=5)\n",
    "    g.map(sns.pointplot, color=sns.xkcd_rgb[\"red\"])\n",
    "    g.set(ylim=(0, 1))"
   ]
  },
  {
   "cell_type": "code",
   "execution_count": 3,
   "metadata": {},
   "outputs": [],
   "source": [
    "def money_numeric(col):\n",
    "    df[col] = df[col].str.strip('$')\n",
    "    df[col] = df[col].str.strip(',')\n",
    "    df[col] = pd.to_numeric(df[col])"
   ]
  },
  {
   "cell_type": "markdown",
   "metadata": {},
   "source": [
    "# Extract random 10% of dataframe to increase processing speed. We will comment this out later once the data has been cleaned and run through modeling"
   ]
  },
  {
   "cell_type": "code",
   "execution_count": 3,
   "metadata": {
    "scrolled": true
   },
   "outputs": [
    {
     "name": "stderr",
     "output_type": "stream",
     "text": [
      "C:\\ProgramData\\Anaconda3\\lib\\site-packages\\IPython\\core\\interactiveshell.py:3165: DtypeWarning: Columns (15) have mixed types.Specify dtype option on import or set low_memory=False.\n",
      "  has_raised = await self.run_ast_nodes(code_ast.body, cell_name,\n"
     ]
    },
    {
     "data": {
      "text/html": [
       "<div>\n",
       "<style scoped>\n",
       "    .dataframe tbody tr th:only-of-type {\n",
       "        vertical-align: middle;\n",
       "    }\n",
       "\n",
       "    .dataframe tbody tr th {\n",
       "        vertical-align: top;\n",
       "    }\n",
       "\n",
       "    .dataframe thead th {\n",
       "        text-align: right;\n",
       "    }\n",
       "</style>\n",
       "<table border=\"1\" class=\"dataframe\">\n",
       "  <thead>\n",
       "    <tr style=\"text-align: right;\">\n",
       "      <th></th>\n",
       "      <th>X1</th>\n",
       "      <th>X2</th>\n",
       "      <th>X3</th>\n",
       "      <th>X4</th>\n",
       "      <th>X5</th>\n",
       "      <th>X6</th>\n",
       "      <th>X7</th>\n",
       "      <th>X8</th>\n",
       "      <th>X9</th>\n",
       "      <th>X10</th>\n",
       "      <th>...</th>\n",
       "      <th>X23</th>\n",
       "      <th>X24</th>\n",
       "      <th>X25</th>\n",
       "      <th>X26</th>\n",
       "      <th>X27</th>\n",
       "      <th>X28</th>\n",
       "      <th>X29</th>\n",
       "      <th>X30</th>\n",
       "      <th>X31</th>\n",
       "      <th>X32</th>\n",
       "    </tr>\n",
       "  </thead>\n",
       "  <tbody>\n",
       "    <tr>\n",
       "      <th>0</th>\n",
       "      <td>11.89%</td>\n",
       "      <td>54734.0</td>\n",
       "      <td>80364.0</td>\n",
       "      <td>$25,000</td>\n",
       "      <td>$25,000</td>\n",
       "      <td>$19,080</td>\n",
       "      <td>36 months</td>\n",
       "      <td>B</td>\n",
       "      <td>B4</td>\n",
       "      <td>NaN</td>\n",
       "      <td>...</td>\n",
       "      <td>Feb-94</td>\n",
       "      <td>0.0</td>\n",
       "      <td>NaN</td>\n",
       "      <td>NaN</td>\n",
       "      <td>10.0</td>\n",
       "      <td>0.0</td>\n",
       "      <td>28854.0</td>\n",
       "      <td>52.10%</td>\n",
       "      <td>42.0</td>\n",
       "      <td>f</td>\n",
       "    </tr>\n",
       "    <tr>\n",
       "      <th>1</th>\n",
       "      <td>10.71%</td>\n",
       "      <td>55742.0</td>\n",
       "      <td>114426.0</td>\n",
       "      <td>$7,000</td>\n",
       "      <td>$7,000</td>\n",
       "      <td>$673</td>\n",
       "      <td>36 months</td>\n",
       "      <td>B</td>\n",
       "      <td>B5</td>\n",
       "      <td>CNN</td>\n",
       "      <td>...</td>\n",
       "      <td>Oct-00</td>\n",
       "      <td>0.0</td>\n",
       "      <td>NaN</td>\n",
       "      <td>NaN</td>\n",
       "      <td>7.0</td>\n",
       "      <td>0.0</td>\n",
       "      <td>33623.0</td>\n",
       "      <td>76.70%</td>\n",
       "      <td>7.0</td>\n",
       "      <td>f</td>\n",
       "    </tr>\n",
       "    <tr>\n",
       "      <th>2</th>\n",
       "      <td>16.99%</td>\n",
       "      <td>57167.0</td>\n",
       "      <td>137225.0</td>\n",
       "      <td>$25,000</td>\n",
       "      <td>$25,000</td>\n",
       "      <td>$24,725</td>\n",
       "      <td>36 months</td>\n",
       "      <td>D</td>\n",
       "      <td>D3</td>\n",
       "      <td>Web Programmer</td>\n",
       "      <td>...</td>\n",
       "      <td>Jun-00</td>\n",
       "      <td>0.0</td>\n",
       "      <td>41.0</td>\n",
       "      <td>NaN</td>\n",
       "      <td>10.0</td>\n",
       "      <td>0.0</td>\n",
       "      <td>19878.0</td>\n",
       "      <td>66.30%</td>\n",
       "      <td>17.0</td>\n",
       "      <td>f</td>\n",
       "    </tr>\n",
       "    <tr>\n",
       "      <th>3</th>\n",
       "      <td>13.11%</td>\n",
       "      <td>57245.0</td>\n",
       "      <td>138150.0</td>\n",
       "      <td>$1,200</td>\n",
       "      <td>$1,200</td>\n",
       "      <td>$1,200</td>\n",
       "      <td>36 months</td>\n",
       "      <td>C</td>\n",
       "      <td>C2</td>\n",
       "      <td>city of beaumont texas</td>\n",
       "      <td>...</td>\n",
       "      <td>Jan-85</td>\n",
       "      <td>0.0</td>\n",
       "      <td>64.0</td>\n",
       "      <td>NaN</td>\n",
       "      <td>5.0</td>\n",
       "      <td>0.0</td>\n",
       "      <td>2584.0</td>\n",
       "      <td>40.40%</td>\n",
       "      <td>31.0</td>\n",
       "      <td>f</td>\n",
       "    </tr>\n",
       "    <tr>\n",
       "      <th>4</th>\n",
       "      <td>13.57%</td>\n",
       "      <td>57416.0</td>\n",
       "      <td>139635.0</td>\n",
       "      <td>$10,800</td>\n",
       "      <td>$10,800</td>\n",
       "      <td>$10,692</td>\n",
       "      <td>36 months</td>\n",
       "      <td>C</td>\n",
       "      <td>C3</td>\n",
       "      <td>State Farm Insurance</td>\n",
       "      <td>...</td>\n",
       "      <td>Dec-96</td>\n",
       "      <td>1.0</td>\n",
       "      <td>58.0</td>\n",
       "      <td>NaN</td>\n",
       "      <td>14.0</td>\n",
       "      <td>0.0</td>\n",
       "      <td>3511.0</td>\n",
       "      <td>25.60%</td>\n",
       "      <td>40.0</td>\n",
       "      <td>f</td>\n",
       "    </tr>\n",
       "  </tbody>\n",
       "</table>\n",
       "<p>5 rows × 32 columns</p>\n",
       "</div>"
      ],
      "text/plain": [
       "       X1       X2        X3       X4       X5       X6          X7 X8  X9  \\\n",
       "0  11.89%  54734.0   80364.0  $25,000  $25,000  $19,080   36 months  B  B4   \n",
       "1  10.71%  55742.0  114426.0   $7,000   $7,000     $673   36 months  B  B5   \n",
       "2  16.99%  57167.0  137225.0  $25,000  $25,000  $24,725   36 months  D  D3   \n",
       "3  13.11%  57245.0  138150.0   $1,200   $1,200   $1,200   36 months  C  C2   \n",
       "4  13.57%  57416.0  139635.0  $10,800  $10,800  $10,692   36 months  C  C3   \n",
       "\n",
       "                      X10  ...     X23  X24   X25 X26   X27  X28      X29  \\\n",
       "0                     NaN  ...  Feb-94  0.0   NaN NaN  10.0  0.0  28854.0   \n",
       "1                     CNN  ...  Oct-00  0.0   NaN NaN   7.0  0.0  33623.0   \n",
       "2          Web Programmer  ...  Jun-00  0.0  41.0 NaN  10.0  0.0  19878.0   \n",
       "3  city of beaumont texas  ...  Jan-85  0.0  64.0 NaN   5.0  0.0   2584.0   \n",
       "4    State Farm Insurance  ...  Dec-96  1.0  58.0 NaN  14.0  0.0   3511.0   \n",
       "\n",
       "      X30   X31 X32  \n",
       "0  52.10%  42.0   f  \n",
       "1  76.70%   7.0   f  \n",
       "2  66.30%  17.0   f  \n",
       "3  40.40%  31.0   f  \n",
       "4  25.60%  40.0   f  \n",
       "\n",
       "[5 rows x 32 columns]"
      ]
     },
     "execution_count": 3,
     "metadata": {},
     "output_type": "execute_result"
    }
   ],
   "source": [
    "df = pd.read_csv('Data for Cleaning & Modeling.csv')\n",
    "#df = df.sample(frac=0.1)\n",
    "\n",
    "df.head()"
   ]
  },
  {
   "cell_type": "markdown",
   "metadata": {},
   "source": [
    "## Check null values in dataset."
   ]
  },
  {
   "cell_type": "markdown",
   "metadata": {},
   "source": [
    "### We see that Cabin is largely empty, meaning it is most likely beyond the point of imputation. Age is missing some values, but will likely be an important variable, so we will use imputation. "
   ]
  },
  {
   "cell_type": "code",
   "execution_count": 5,
   "metadata": {
    "scrolled": true
   },
   "outputs": [
    {
     "data": {
      "text/plain": [
       "40000"
      ]
     },
     "execution_count": 5,
     "metadata": {},
     "output_type": "execute_result"
    }
   ],
   "source": [
    "len(df)"
   ]
  },
  {
   "cell_type": "markdown",
   "metadata": {},
   "source": [
    "### After reviewing the dataset and corresponding column names, the following can immediately be dropped due to irrelevance: X2, X3, X10, X15, X18, X23"
   ]
  },
  {
   "cell_type": "markdown",
   "metadata": {},
   "source": [
    "### Drop any rows where interest rate (X1) is not populated "
   ]
  },
  {
   "cell_type": "code",
   "execution_count": 6,
   "metadata": {},
   "outputs": [
    {
     "data": {
      "text/plain": [
       "33798"
      ]
     },
     "execution_count": 6,
     "metadata": {},
     "output_type": "execute_result"
    }
   ],
   "source": [
    "df = df[df['X1'].notna()]\n",
    "len(df)"
   ]
  },
  {
   "cell_type": "markdown",
   "metadata": {},
   "source": [
    "### X16, X25, and X26 are largely unpopulated, so we will drop. "
   ]
  },
  {
   "cell_type": "code",
   "execution_count": 7,
   "metadata": {},
   "outputs": [
    {
     "data": {
      "text/plain": [
       "X1         0\n",
       "X2         0\n",
       "X3         0\n",
       "X4         0\n",
       "X5         0\n",
       "X6         0\n",
       "X7         0\n",
       "X8      5158\n",
       "X9      5158\n",
       "X10     2052\n",
       "X11     1496\n",
       "X12     5291\n",
       "X13     5140\n",
       "X14        0\n",
       "X15        0\n",
       "X16    23404\n",
       "X17        0\n",
       "X18        3\n",
       "X19        0\n",
       "X20        0\n",
       "X21        0\n",
       "X22        0\n",
       "X23        0\n",
       "X24        0\n",
       "X25    18326\n",
       "X26    29460\n",
       "X27        0\n",
       "X28        0\n",
       "X29        0\n",
       "X30       21\n",
       "X31        0\n",
       "X32        0\n",
       "dtype: int64"
      ]
     },
     "execution_count": 7,
     "metadata": {},
     "output_type": "execute_result"
    }
   ],
   "source": [
    "# check the number of null values our dataset has.\n",
    "df.isnull().sum()"
   ]
  },
  {
   "cell_type": "markdown",
   "metadata": {},
   "source": [
    "## Review columns where there is some missing data, or we are unclear about what value is being provided to determine what can be dropped from the dataset"
   ]
  },
  {
   "cell_type": "markdown",
   "metadata": {},
   "source": [
    "### Loan Grade (X8) will be important, so we will convert to numeric and imputate "
   ]
  },
  {
   "cell_type": "code",
   "execution_count": 8,
   "metadata": {
    "scrolled": true
   },
   "outputs": [
    {
     "data": {
      "text/plain": [
       "B    8580\n",
       "C    7682\n",
       "D    4698\n",
       "A    4483\n",
       "E    2158\n",
       "F     832\n",
       "G     207\n",
       "Name: X8, dtype: int64"
      ]
     },
     "execution_count": 8,
     "metadata": {},
     "output_type": "execute_result"
    }
   ],
   "source": [
    "df['X8'].value_counts()"
   ]
  },
  {
   "cell_type": "code",
   "execution_count": 9,
   "metadata": {},
   "outputs": [],
   "source": [
    "df['X8'].replace(['A', 'B', 'C', 'D', 'E', 'F', 'G'],\n",
    "                        [0, 1, 2, 3, 4, 5, 6], inplace=True)"
   ]
  },
  {
   "cell_type": "markdown",
   "metadata": {},
   "source": [
    "## NOTE: For imputation of categorical variables, I am using mode once converted to numeric, as this indicates the most frequent entry for the column"
   ]
  },
  {
   "cell_type": "code",
   "execution_count": 10,
   "metadata": {},
   "outputs": [],
   "source": [
    "df['X8'].fillna(df['X8'].mode()[0], inplace=True)"
   ]
  },
  {
   "cell_type": "markdown",
   "metadata": {},
   "source": [
    "### Loan subgrade has a substantial amount of unique values, and appears to be a sub-classification of X8, so we will remove "
   ]
  },
  {
   "cell_type": "code",
   "execution_count": 11,
   "metadata": {},
   "outputs": [
    {
     "data": {
      "text/plain": [
       "B3    2034\n",
       "B4    1913\n",
       "C2    1689\n",
       "B2    1660\n",
       "B5    1588\n",
       "C1    1565\n",
       "C3    1564\n",
       "C4    1453\n",
       "C5    1411\n",
       "B1    1385\n",
       "A5    1331\n",
       "D1    1206\n",
       "A4    1131\n",
       "D2    1060\n",
       "D3     892\n",
       "D4     857\n",
       "A3     727\n",
       "D5     683\n",
       "A1     653\n",
       "A2     641\n",
       "E1     563\n",
       "E2     527\n",
       "E3     447\n",
       "E4     342\n",
       "E5     279\n",
       "F1     248\n",
       "F2     187\n",
       "F3     176\n",
       "F4     122\n",
       "F5      99\n",
       "G2      63\n",
       "G1      62\n",
       "G4      28\n",
       "G5      27\n",
       "G3      27\n",
       "Name: X9, dtype: int64"
      ]
     },
     "execution_count": 11,
     "metadata": {},
     "output_type": "execute_result"
    }
   ],
   "source": [
    "df['X9'].value_counts()"
   ]
  },
  {
   "cell_type": "markdown",
   "metadata": {},
   "source": [
    "### Convery X11 to numeric and imputate "
   ]
  },
  {
   "cell_type": "code",
   "execution_count": 12,
   "metadata": {},
   "outputs": [],
   "source": [
    "df['X11'].replace(['< 1 year', '1 year', '2 years', '3 years', '4 years', '5 years', '6 years', '7 years', '8 years', '9 years', '10+ years'],\n",
    "                        [0, 1, 2, 3, 4, 5, 6, 7, 8, 9, 10], inplace=True)"
   ]
  },
  {
   "cell_type": "code",
   "execution_count": 13,
   "metadata": {},
   "outputs": [],
   "source": [
    "df['X11'].fillna(df['X11'].mode()[0], inplace=True)"
   ]
  },
  {
   "cell_type": "markdown",
   "metadata": {},
   "source": [
    "### Convert X12 to numeric and imputate"
   ]
  },
  {
   "cell_type": "code",
   "execution_count": 14,
   "metadata": {},
   "outputs": [],
   "source": [
    "df['X12'].replace(['MORTGAGE', 'RENT', 'OWN', 'OTHER', 'NONE', 'ANY'],\n",
    "                        [0, 1, 2, 3, 4, 5], inplace=True)"
   ]
  },
  {
   "cell_type": "code",
   "execution_count": 15,
   "metadata": {},
   "outputs": [],
   "source": [
    "df['X12'].fillna(df['X12'].mode()[0], inplace=True)"
   ]
  },
  {
   "cell_type": "markdown",
   "metadata": {},
   "source": [
    "### Imputate X13"
   ]
  },
  {
   "cell_type": "code",
   "execution_count": 16,
   "metadata": {},
   "outputs": [],
   "source": [
    "df['X13'].fillna(df['X13'].mean(), inplace = True)"
   ]
  },
  {
   "cell_type": "markdown",
   "metadata": {},
   "source": [
    "### Convert X30 to numeric and imputate "
   ]
  },
  {
   "cell_type": "code",
   "execution_count": 17,
   "metadata": {},
   "outputs": [],
   "source": [
    "df['X30'] = df['X30'].str.strip('%')"
   ]
  },
  {
   "cell_type": "code",
   "execution_count": 18,
   "metadata": {},
   "outputs": [],
   "source": [
    "df['X30'] = pd.to_numeric(df['X30'])"
   ]
  },
  {
   "cell_type": "code",
   "execution_count": 19,
   "metadata": {},
   "outputs": [],
   "source": [
    "df['X30'].fillna(df['X30'].mean(), inplace = True)"
   ]
  },
  {
   "cell_type": "markdown",
   "metadata": {},
   "source": [
    "## Confirm Null values have been imputated (we see that there are a few null values in most columns"
   ]
  },
  {
   "cell_type": "code",
   "execution_count": 20,
   "metadata": {},
   "outputs": [
    {
     "data": {
      "text/plain": [
       "X1         0\n",
       "X2         0\n",
       "X3         0\n",
       "X4         0\n",
       "X5         0\n",
       "X6         0\n",
       "X7         0\n",
       "X8         0\n",
       "X9      5158\n",
       "X10     2052\n",
       "X11        0\n",
       "X12        0\n",
       "X13        0\n",
       "X14        0\n",
       "X15        0\n",
       "X16    23404\n",
       "X17        0\n",
       "X18        3\n",
       "X19        0\n",
       "X20        0\n",
       "X21        0\n",
       "X22        0\n",
       "X23        0\n",
       "X24        0\n",
       "X25    18326\n",
       "X26    29460\n",
       "X27        0\n",
       "X28        0\n",
       "X29        0\n",
       "X30        0\n",
       "X31        0\n",
       "X32        0\n",
       "dtype: int64"
      ]
     },
     "execution_count": 20,
     "metadata": {},
     "output_type": "execute_result"
    }
   ],
   "source": [
    "df.isnull().sum()"
   ]
  },
  {
   "cell_type": "markdown",
   "metadata": {},
   "source": [
    "## Drop fields that will not provide value in determining survival rate after initial assessment "
   ]
  },
  {
   "cell_type": "code",
   "execution_count": 21,
   "metadata": {
    "scrolled": true
   },
   "outputs": [
    {
     "data": {
      "text/html": [
       "<div>\n",
       "<style scoped>\n",
       "    .dataframe tbody tr th:only-of-type {\n",
       "        vertical-align: middle;\n",
       "    }\n",
       "\n",
       "    .dataframe tbody tr th {\n",
       "        vertical-align: top;\n",
       "    }\n",
       "\n",
       "    .dataframe thead th {\n",
       "        text-align: right;\n",
       "    }\n",
       "</style>\n",
       "<table border=\"1\" class=\"dataframe\">\n",
       "  <thead>\n",
       "    <tr style=\"text-align: right;\">\n",
       "      <th></th>\n",
       "      <th>X1</th>\n",
       "      <th>X4</th>\n",
       "      <th>X5</th>\n",
       "      <th>X6</th>\n",
       "      <th>X7</th>\n",
       "      <th>X8</th>\n",
       "      <th>X11</th>\n",
       "      <th>X12</th>\n",
       "      <th>X13</th>\n",
       "      <th>X14</th>\n",
       "      <th>...</th>\n",
       "      <th>X20</th>\n",
       "      <th>X21</th>\n",
       "      <th>X22</th>\n",
       "      <th>X24</th>\n",
       "      <th>X27</th>\n",
       "      <th>X28</th>\n",
       "      <th>X29</th>\n",
       "      <th>X30</th>\n",
       "      <th>X31</th>\n",
       "      <th>X32</th>\n",
       "    </tr>\n",
       "  </thead>\n",
       "  <tbody>\n",
       "    <tr>\n",
       "      <th>280179</th>\n",
       "      <td>15.31%</td>\n",
       "      <td>$16,425</td>\n",
       "      <td>$16,425</td>\n",
       "      <td>$16,425</td>\n",
       "      <td>36 months</td>\n",
       "      <td>2.0</td>\n",
       "      <td>0.0</td>\n",
       "      <td>1.0</td>\n",
       "      <td>41208.000000</td>\n",
       "      <td>VERIFIED - income source</td>\n",
       "      <td>...</td>\n",
       "      <td>SC</td>\n",
       "      <td>15.06</td>\n",
       "      <td>0.0</td>\n",
       "      <td>0.0</td>\n",
       "      <td>11.0</td>\n",
       "      <td>0.0</td>\n",
       "      <td>19659.0</td>\n",
       "      <td>69.5</td>\n",
       "      <td>23.0</td>\n",
       "      <td>f</td>\n",
       "    </tr>\n",
       "    <tr>\n",
       "      <th>93751</th>\n",
       "      <td>7.90%</td>\n",
       "      <td>$15,000</td>\n",
       "      <td>$15,000</td>\n",
       "      <td>$14,975</td>\n",
       "      <td>36 months</td>\n",
       "      <td>0.0</td>\n",
       "      <td>2.0</td>\n",
       "      <td>0.0</td>\n",
       "      <td>200000.000000</td>\n",
       "      <td>VERIFIED - income source</td>\n",
       "      <td>...</td>\n",
       "      <td>NY</td>\n",
       "      <td>2.86</td>\n",
       "      <td>0.0</td>\n",
       "      <td>4.0</td>\n",
       "      <td>5.0</td>\n",
       "      <td>0.0</td>\n",
       "      <td>10995.0</td>\n",
       "      <td>41.8</td>\n",
       "      <td>9.0</td>\n",
       "      <td>f</td>\n",
       "    </tr>\n",
       "    <tr>\n",
       "      <th>363479</th>\n",
       "      <td>12.49%</td>\n",
       "      <td>$6,000</td>\n",
       "      <td>$6,000</td>\n",
       "      <td>$6,000</td>\n",
       "      <td>36 months</td>\n",
       "      <td>1.0</td>\n",
       "      <td>3.0</td>\n",
       "      <td>0.0</td>\n",
       "      <td>53753.000000</td>\n",
       "      <td>not verified</td>\n",
       "      <td>...</td>\n",
       "      <td>NY</td>\n",
       "      <td>14.13</td>\n",
       "      <td>0.0</td>\n",
       "      <td>0.0</td>\n",
       "      <td>15.0</td>\n",
       "      <td>0.0</td>\n",
       "      <td>3671.0</td>\n",
       "      <td>57.0</td>\n",
       "      <td>19.0</td>\n",
       "      <td>f</td>\n",
       "    </tr>\n",
       "    <tr>\n",
       "      <th>305867</th>\n",
       "      <td>7.12%</td>\n",
       "      <td>$26,000</td>\n",
       "      <td>$26,000</td>\n",
       "      <td>$26,000</td>\n",
       "      <td>36 months</td>\n",
       "      <td>0.0</td>\n",
       "      <td>1.0</td>\n",
       "      <td>1.0</td>\n",
       "      <td>70000.000000</td>\n",
       "      <td>VERIFIED - income source</td>\n",
       "      <td>...</td>\n",
       "      <td>NY</td>\n",
       "      <td>7.90</td>\n",
       "      <td>0.0</td>\n",
       "      <td>0.0</td>\n",
       "      <td>12.0</td>\n",
       "      <td>1.0</td>\n",
       "      <td>13594.0</td>\n",
       "      <td>27.5</td>\n",
       "      <td>51.0</td>\n",
       "      <td>w</td>\n",
       "    </tr>\n",
       "    <tr>\n",
       "      <th>10089</th>\n",
       "      <td>9.88%</td>\n",
       "      <td>$18,000</td>\n",
       "      <td>$13,125</td>\n",
       "      <td>$13,125</td>\n",
       "      <td>36 months</td>\n",
       "      <td>1.0</td>\n",
       "      <td>10.0</td>\n",
       "      <td>1.0</td>\n",
       "      <td>73011.004033</td>\n",
       "      <td>not verified</td>\n",
       "      <td>...</td>\n",
       "      <td>CA</td>\n",
       "      <td>12.60</td>\n",
       "      <td>0.0</td>\n",
       "      <td>0.0</td>\n",
       "      <td>12.0</td>\n",
       "      <td>0.0</td>\n",
       "      <td>5663.0</td>\n",
       "      <td>37.0</td>\n",
       "      <td>21.0</td>\n",
       "      <td>f</td>\n",
       "    </tr>\n",
       "  </tbody>\n",
       "</table>\n",
       "<p>5 rows × 22 columns</p>\n",
       "</div>"
      ],
      "text/plain": [
       "            X1       X4       X5       X6          X7   X8   X11  X12  \\\n",
       "280179  15.31%  $16,425  $16,425  $16,425   36 months  2.0   0.0  1.0   \n",
       "93751    7.90%  $15,000  $15,000  $14,975   36 months  0.0   2.0  0.0   \n",
       "363479  12.49%   $6,000   $6,000   $6,000   36 months  1.0   3.0  0.0   \n",
       "305867   7.12%  $26,000  $26,000  $26,000   36 months  0.0   1.0  1.0   \n",
       "10089    9.88%  $18,000  $13,125  $13,125   36 months  1.0  10.0  1.0   \n",
       "\n",
       "                  X13                       X14  ... X20    X21  X22  X24  \\\n",
       "280179   41208.000000  VERIFIED - income source  ...  SC  15.06  0.0  0.0   \n",
       "93751   200000.000000  VERIFIED - income source  ...  NY   2.86  0.0  4.0   \n",
       "363479   53753.000000              not verified  ...  NY  14.13  0.0  0.0   \n",
       "305867   70000.000000  VERIFIED - income source  ...  NY   7.90  0.0  0.0   \n",
       "10089    73011.004033              not verified  ...  CA  12.60  0.0  0.0   \n",
       "\n",
       "         X27  X28      X29   X30   X31  X32  \n",
       "280179  11.0  0.0  19659.0  69.5  23.0    f  \n",
       "93751    5.0  0.0  10995.0  41.8   9.0    f  \n",
       "363479  15.0  0.0   3671.0  57.0  19.0    f  \n",
       "305867  12.0  1.0  13594.0  27.5  51.0    w  \n",
       "10089   12.0  0.0   5663.0  37.0  21.0    f  \n",
       "\n",
       "[5 rows x 22 columns]"
      ]
     },
     "execution_count": 21,
     "metadata": {},
     "output_type": "execute_result"
    }
   ],
   "source": [
    "df.drop(['X2', 'X3', 'X9', 'X10' , 'X15', 'X16', 'X18', 'X23', 'X25', 'X26'], axis=1, inplace=True)\n",
    "df.head()"
   ]
  },
  {
   "cell_type": "markdown",
   "metadata": {},
   "source": [
    "## Convert fields that were not cleaned during imputation to float variables"
   ]
  },
  {
   "cell_type": "markdown",
   "metadata": {},
   "source": [
    "### Fields with dollar value strings "
   ]
  },
  {
   "cell_type": "code",
   "execution_count": 22,
   "metadata": {},
   "outputs": [],
   "source": [
    "df[['X4', 'X5', 'X6']] = df[['X4', 'X5', 'X6']].replace('[\\$,]', '', regex=True).astype(float)"
   ]
  },
  {
   "cell_type": "markdown",
   "metadata": {},
   "source": [
    "### Fields with percentage strings "
   ]
  },
  {
   "cell_type": "code",
   "execution_count": 23,
   "metadata": {},
   "outputs": [],
   "source": [
    "df[['X1']] = df[['X1']].replace('[\\%]', '', regex=True).astype(float)"
   ]
  },
  {
   "cell_type": "code",
   "execution_count": 24,
   "metadata": {},
   "outputs": [
    {
     "data": {
      "text/html": [
       "<div>\n",
       "<style scoped>\n",
       "    .dataframe tbody tr th:only-of-type {\n",
       "        vertical-align: middle;\n",
       "    }\n",
       "\n",
       "    .dataframe tbody tr th {\n",
       "        vertical-align: top;\n",
       "    }\n",
       "\n",
       "    .dataframe thead th {\n",
       "        text-align: right;\n",
       "    }\n",
       "</style>\n",
       "<table border=\"1\" class=\"dataframe\">\n",
       "  <thead>\n",
       "    <tr style=\"text-align: right;\">\n",
       "      <th></th>\n",
       "      <th>X1</th>\n",
       "      <th>X4</th>\n",
       "      <th>X5</th>\n",
       "      <th>X6</th>\n",
       "      <th>X7</th>\n",
       "      <th>X8</th>\n",
       "      <th>X11</th>\n",
       "      <th>X12</th>\n",
       "      <th>X13</th>\n",
       "      <th>X14</th>\n",
       "      <th>...</th>\n",
       "      <th>X20</th>\n",
       "      <th>X21</th>\n",
       "      <th>X22</th>\n",
       "      <th>X24</th>\n",
       "      <th>X27</th>\n",
       "      <th>X28</th>\n",
       "      <th>X29</th>\n",
       "      <th>X30</th>\n",
       "      <th>X31</th>\n",
       "      <th>X32</th>\n",
       "    </tr>\n",
       "  </thead>\n",
       "  <tbody>\n",
       "    <tr>\n",
       "      <th>280179</th>\n",
       "      <td>15.31</td>\n",
       "      <td>16425.0</td>\n",
       "      <td>16425.0</td>\n",
       "      <td>16425.0</td>\n",
       "      <td>36 months</td>\n",
       "      <td>2.0</td>\n",
       "      <td>0.0</td>\n",
       "      <td>1.0</td>\n",
       "      <td>41208.000000</td>\n",
       "      <td>VERIFIED - income source</td>\n",
       "      <td>...</td>\n",
       "      <td>SC</td>\n",
       "      <td>15.06</td>\n",
       "      <td>0.0</td>\n",
       "      <td>0.0</td>\n",
       "      <td>11.0</td>\n",
       "      <td>0.0</td>\n",
       "      <td>19659.0</td>\n",
       "      <td>69.5</td>\n",
       "      <td>23.0</td>\n",
       "      <td>f</td>\n",
       "    </tr>\n",
       "    <tr>\n",
       "      <th>93751</th>\n",
       "      <td>7.90</td>\n",
       "      <td>15000.0</td>\n",
       "      <td>15000.0</td>\n",
       "      <td>14975.0</td>\n",
       "      <td>36 months</td>\n",
       "      <td>0.0</td>\n",
       "      <td>2.0</td>\n",
       "      <td>0.0</td>\n",
       "      <td>200000.000000</td>\n",
       "      <td>VERIFIED - income source</td>\n",
       "      <td>...</td>\n",
       "      <td>NY</td>\n",
       "      <td>2.86</td>\n",
       "      <td>0.0</td>\n",
       "      <td>4.0</td>\n",
       "      <td>5.0</td>\n",
       "      <td>0.0</td>\n",
       "      <td>10995.0</td>\n",
       "      <td>41.8</td>\n",
       "      <td>9.0</td>\n",
       "      <td>f</td>\n",
       "    </tr>\n",
       "    <tr>\n",
       "      <th>363479</th>\n",
       "      <td>12.49</td>\n",
       "      <td>6000.0</td>\n",
       "      <td>6000.0</td>\n",
       "      <td>6000.0</td>\n",
       "      <td>36 months</td>\n",
       "      <td>1.0</td>\n",
       "      <td>3.0</td>\n",
       "      <td>0.0</td>\n",
       "      <td>53753.000000</td>\n",
       "      <td>not verified</td>\n",
       "      <td>...</td>\n",
       "      <td>NY</td>\n",
       "      <td>14.13</td>\n",
       "      <td>0.0</td>\n",
       "      <td>0.0</td>\n",
       "      <td>15.0</td>\n",
       "      <td>0.0</td>\n",
       "      <td>3671.0</td>\n",
       "      <td>57.0</td>\n",
       "      <td>19.0</td>\n",
       "      <td>f</td>\n",
       "    </tr>\n",
       "    <tr>\n",
       "      <th>305867</th>\n",
       "      <td>7.12</td>\n",
       "      <td>26000.0</td>\n",
       "      <td>26000.0</td>\n",
       "      <td>26000.0</td>\n",
       "      <td>36 months</td>\n",
       "      <td>0.0</td>\n",
       "      <td>1.0</td>\n",
       "      <td>1.0</td>\n",
       "      <td>70000.000000</td>\n",
       "      <td>VERIFIED - income source</td>\n",
       "      <td>...</td>\n",
       "      <td>NY</td>\n",
       "      <td>7.90</td>\n",
       "      <td>0.0</td>\n",
       "      <td>0.0</td>\n",
       "      <td>12.0</td>\n",
       "      <td>1.0</td>\n",
       "      <td>13594.0</td>\n",
       "      <td>27.5</td>\n",
       "      <td>51.0</td>\n",
       "      <td>w</td>\n",
       "    </tr>\n",
       "    <tr>\n",
       "      <th>10089</th>\n",
       "      <td>9.88</td>\n",
       "      <td>18000.0</td>\n",
       "      <td>13125.0</td>\n",
       "      <td>13125.0</td>\n",
       "      <td>36 months</td>\n",
       "      <td>1.0</td>\n",
       "      <td>10.0</td>\n",
       "      <td>1.0</td>\n",
       "      <td>73011.004033</td>\n",
       "      <td>not verified</td>\n",
       "      <td>...</td>\n",
       "      <td>CA</td>\n",
       "      <td>12.60</td>\n",
       "      <td>0.0</td>\n",
       "      <td>0.0</td>\n",
       "      <td>12.0</td>\n",
       "      <td>0.0</td>\n",
       "      <td>5663.0</td>\n",
       "      <td>37.0</td>\n",
       "      <td>21.0</td>\n",
       "      <td>f</td>\n",
       "    </tr>\n",
       "  </tbody>\n",
       "</table>\n",
       "<p>5 rows × 22 columns</p>\n",
       "</div>"
      ],
      "text/plain": [
       "           X1       X4       X5       X6          X7   X8   X11  X12  \\\n",
       "280179  15.31  16425.0  16425.0  16425.0   36 months  2.0   0.0  1.0   \n",
       "93751    7.90  15000.0  15000.0  14975.0   36 months  0.0   2.0  0.0   \n",
       "363479  12.49   6000.0   6000.0   6000.0   36 months  1.0   3.0  0.0   \n",
       "305867   7.12  26000.0  26000.0  26000.0   36 months  0.0   1.0  1.0   \n",
       "10089    9.88  18000.0  13125.0  13125.0   36 months  1.0  10.0  1.0   \n",
       "\n",
       "                  X13                       X14  ... X20    X21  X22  X24  \\\n",
       "280179   41208.000000  VERIFIED - income source  ...  SC  15.06  0.0  0.0   \n",
       "93751   200000.000000  VERIFIED - income source  ...  NY   2.86  0.0  4.0   \n",
       "363479   53753.000000              not verified  ...  NY  14.13  0.0  0.0   \n",
       "305867   70000.000000  VERIFIED - income source  ...  NY   7.90  0.0  0.0   \n",
       "10089    73011.004033              not verified  ...  CA  12.60  0.0  0.0   \n",
       "\n",
       "         X27  X28      X29   X30   X31  X32  \n",
       "280179  11.0  0.0  19659.0  69.5  23.0    f  \n",
       "93751    5.0  0.0  10995.0  41.8   9.0    f  \n",
       "363479  15.0  0.0   3671.0  57.0  19.0    f  \n",
       "305867  12.0  1.0  13594.0  27.5  51.0    w  \n",
       "10089   12.0  0.0   5663.0  37.0  21.0    f  \n",
       "\n",
       "[5 rows x 22 columns]"
      ]
     },
     "execution_count": 24,
     "metadata": {},
     "output_type": "execute_result"
    }
   ],
   "source": [
    "df.head()"
   ]
  },
  {
   "cell_type": "markdown",
   "metadata": {},
   "source": [
    "### String fields"
   ]
  },
  {
   "cell_type": "code",
   "execution_count": 25,
   "metadata": {},
   "outputs": [],
   "source": [
    "df['X7'].replace([' 36 months', ' 60 months'],\n",
    "                        [0, 1], inplace=True)"
   ]
  },
  {
   "cell_type": "code",
   "execution_count": 26,
   "metadata": {},
   "outputs": [],
   "source": [
    "df['X14'].replace(['VERIFIED - income', 'not verified', 'VERIFIED - income source'],\n",
    "                        [0, 1, 2], inplace=True)"
   ]
  },
  {
   "cell_type": "code",
   "execution_count": 27,
   "metadata": {},
   "outputs": [],
   "source": [
    "df['X17'].replace(['debt_consolidation', 'credit_card', 'home_improvement', 'other', 'major_purchase', 'small_business',\n",
    "                  'car', 'medical', 'wedding', 'moving', 'vacation', 'house', 'renewable_energy','educational'],\n",
    "                        [0, 1, 2, 3, 4, 5, 6, 7, 8, 9, 10, 11, 12, 13], inplace=True)"
   ]
  },
  {
   "cell_type": "code",
   "execution_count": 28,
   "metadata": {},
   "outputs": [],
   "source": [
    "df[['X19']] = df['X19'].str.rstrip('xx').astype(float)"
   ]
  },
  {
   "cell_type": "code",
   "execution_count": 29,
   "metadata": {},
   "outputs": [],
   "source": [
    "df.X20 = pd.Categorical(df.X20)\n",
    "df['X20'] = df['X20'].cat.codes"
   ]
  },
  {
   "cell_type": "code",
   "execution_count": 30,
   "metadata": {},
   "outputs": [],
   "source": [
    "df['X32'].replace(['f', 'w'],\n",
    "                        [0, 1], inplace=True)"
   ]
  },
  {
   "cell_type": "markdown",
   "metadata": {},
   "source": [
    "### Confirm all null values have been removed "
   ]
  },
  {
   "cell_type": "code",
   "execution_count": 31,
   "metadata": {},
   "outputs": [
    {
     "data": {
      "text/plain": [
       "X1     0\n",
       "X4     0\n",
       "X5     0\n",
       "X6     0\n",
       "X7     0\n",
       "X8     0\n",
       "X11    0\n",
       "X12    0\n",
       "X13    0\n",
       "X14    0\n",
       "X17    0\n",
       "X19    0\n",
       "X20    0\n",
       "X21    0\n",
       "X22    0\n",
       "X24    0\n",
       "X27    0\n",
       "X28    0\n",
       "X29    0\n",
       "X30    0\n",
       "X31    0\n",
       "X32    0\n",
       "dtype: int64"
      ]
     },
     "execution_count": 31,
     "metadata": {},
     "output_type": "execute_result"
    }
   ],
   "source": [
    "df.isnull().sum()"
   ]
  },
  {
   "cell_type": "markdown",
   "metadata": {},
   "source": [
    "### Remove any remaining rows where there are null values "
   ]
  },
  {
   "cell_type": "code",
   "execution_count": 32,
   "metadata": {},
   "outputs": [
    {
     "data": {
      "text/plain": [
       "33798"
      ]
     },
     "execution_count": 32,
     "metadata": {},
     "output_type": "execute_result"
    }
   ],
   "source": [
    "len(df)"
   ]
  },
  {
   "cell_type": "code",
   "execution_count": 33,
   "metadata": {},
   "outputs": [],
   "source": [
    "df = df[df['X4'].notna()]\n",
    "df = df[df['X5'].notna()]\n",
    "df = df[df['X6'].notna()]\n",
    "df = df[df['X7'].notna()]\n",
    "df = df[df['X8'].notna()]\n",
    "df = df[df['X11'].notna()]\n",
    "df = df[df['X12'].notna()]\n",
    "df = df[df['X13'].notna()]\n",
    "df = df[df['X14'].notna()]\n",
    "df = df[df['X17'].notna()]\n",
    "df = df[df['X19'].notna()]\n",
    "df = df[df['X20'].notna()]\n",
    "df = df[df['X21'].notna()]\n",
    "df = df[df['X22'].notna()]\n",
    "df = df[df['X24'].notna()]\n",
    "df = df[df['X27'].notna()]\n",
    "df = df[df['X28'].notna()]\n",
    "df = df[df['X29'].notna()]\n",
    "df = df[df['X30'].notna()]\n",
    "df = df[df['X31'].notna()]\n",
    "df = df[df['X32'].notna()]"
   ]
  },
  {
   "cell_type": "code",
   "execution_count": 34,
   "metadata": {},
   "outputs": [
    {
     "data": {
      "text/plain": [
       "33798"
      ]
     },
     "execution_count": 34,
     "metadata": {},
     "output_type": "execute_result"
    }
   ],
   "source": [
    "len(df)"
   ]
  },
  {
   "cell_type": "code",
   "execution_count": 35,
   "metadata": {},
   "outputs": [
    {
     "data": {
      "text/plain": [
       "X1     0\n",
       "X4     0\n",
       "X5     0\n",
       "X6     0\n",
       "X7     0\n",
       "X8     0\n",
       "X11    0\n",
       "X12    0\n",
       "X13    0\n",
       "X14    0\n",
       "X17    0\n",
       "X19    0\n",
       "X20    0\n",
       "X21    0\n",
       "X22    0\n",
       "X24    0\n",
       "X27    0\n",
       "X28    0\n",
       "X29    0\n",
       "X30    0\n",
       "X31    0\n",
       "X32    0\n",
       "dtype: int64"
      ]
     },
     "execution_count": 35,
     "metadata": {},
     "output_type": "execute_result"
    }
   ],
   "source": [
    "df.isnull().sum()"
   ]
  },
  {
   "cell_type": "markdown",
   "metadata": {},
   "source": [
    "### Confirm all variables have been converted to numeric "
   ]
  },
  {
   "cell_type": "code",
   "execution_count": 36,
   "metadata": {},
   "outputs": [
    {
     "data": {
      "text/plain": [
       "X1     float64\n",
       "X4     float64\n",
       "X5     float64\n",
       "X6     float64\n",
       "X7       int64\n",
       "X8     float64\n",
       "X11    float64\n",
       "X12    float64\n",
       "X13    float64\n",
       "X14      int64\n",
       "X17      int64\n",
       "X19    float64\n",
       "X20       int8\n",
       "X21    float64\n",
       "X22    float64\n",
       "X24    float64\n",
       "X27    float64\n",
       "X28    float64\n",
       "X29    float64\n",
       "X30    float64\n",
       "X31    float64\n",
       "X32      int64\n",
       "dtype: object"
      ]
     },
     "execution_count": 36,
     "metadata": {},
     "output_type": "execute_result"
    }
   ],
   "source": [
    "df.dtypes"
   ]
  },
  {
   "cell_type": "markdown",
   "metadata": {},
   "source": [
    "### Plot variables to review distributions "
   ]
  },
  {
   "cell_type": "code",
   "execution_count": 37,
   "metadata": {
    "scrolled": false
   },
   "outputs": [
    {
     "data": {
      "image/png": "[encoded data removed]",
      "text/plain": [
       "<Figure size 1440x1440 with 25 Axes>"
      ]
     },
     "metadata": {
      "needs_background": "light"
     },
     "output_type": "display_data"
    }
   ],
   "source": [
    "p = df.hist(figsize = (20,20))"
   ]
  },
  {
   "cell_type": "markdown",
   "metadata": {},
   "source": [
    "### I removed outliers from the dataset to see if it would improve model scoring. While the MSE was slightly better, the accuracy scores were worse, so I will not remove outliers "
   ]
  },
  {
   "cell_type": "code",
   "execution_count": 38,
   "metadata": {},
   "outputs": [],
   "source": [
    "#df = df[(np.abs(stats.zscore(df)) < 3).all(axis=1)]"
   ]
  },
  {
   "cell_type": "markdown",
   "metadata": {},
   "source": [
    "### Remove index column"
   ]
  },
  {
   "cell_type": "code",
   "execution_count": 39,
   "metadata": {},
   "outputs": [],
   "source": [
    "df.reset_index(drop=True, inplace=True)"
   ]
  },
  {
   "cell_type": "markdown",
   "metadata": {},
   "source": [
    "## Review updated dataset"
   ]
  },
  {
   "cell_type": "code",
   "execution_count": 40,
   "metadata": {},
   "outputs": [
    {
     "data": {
      "text/html": [
       "<div>\n",
       "<style scoped>\n",
       "    .dataframe tbody tr th:only-of-type {\n",
       "        vertical-align: middle;\n",
       "    }\n",
       "\n",
       "    .dataframe tbody tr th {\n",
       "        vertical-align: top;\n",
       "    }\n",
       "\n",
       "    .dataframe thead th {\n",
       "        text-align: right;\n",
       "    }\n",
       "</style>\n",
       "<table border=\"1\" class=\"dataframe\">\n",
       "  <thead>\n",
       "    <tr style=\"text-align: right;\">\n",
       "      <th></th>\n",
       "      <th>X1</th>\n",
       "      <th>X4</th>\n",
       "      <th>X5</th>\n",
       "      <th>X6</th>\n",
       "      <th>X7</th>\n",
       "      <th>X8</th>\n",
       "      <th>X11</th>\n",
       "      <th>X12</th>\n",
       "      <th>X13</th>\n",
       "      <th>X14</th>\n",
       "      <th>...</th>\n",
       "      <th>X20</th>\n",
       "      <th>X21</th>\n",
       "      <th>X22</th>\n",
       "      <th>X24</th>\n",
       "      <th>X27</th>\n",
       "      <th>X28</th>\n",
       "      <th>X29</th>\n",
       "      <th>X30</th>\n",
       "      <th>X31</th>\n",
       "      <th>X32</th>\n",
       "    </tr>\n",
       "  </thead>\n",
       "  <tbody>\n",
       "    <tr>\n",
       "      <th>0</th>\n",
       "      <td>15.31</td>\n",
       "      <td>16425.0</td>\n",
       "      <td>16425.0</td>\n",
       "      <td>16425.0</td>\n",
       "      <td>0</td>\n",
       "      <td>2.0</td>\n",
       "      <td>0.0</td>\n",
       "      <td>1.0</td>\n",
       "      <td>41208.000000</td>\n",
       "      <td>2</td>\n",
       "      <td>...</td>\n",
       "      <td>35</td>\n",
       "      <td>15.06</td>\n",
       "      <td>0.0</td>\n",
       "      <td>0.0</td>\n",
       "      <td>11.0</td>\n",
       "      <td>0.0</td>\n",
       "      <td>19659.0</td>\n",
       "      <td>69.5</td>\n",
       "      <td>23.0</td>\n",
       "      <td>0</td>\n",
       "    </tr>\n",
       "    <tr>\n",
       "      <th>1</th>\n",
       "      <td>7.90</td>\n",
       "      <td>15000.0</td>\n",
       "      <td>15000.0</td>\n",
       "      <td>14975.0</td>\n",
       "      <td>0</td>\n",
       "      <td>0.0</td>\n",
       "      <td>2.0</td>\n",
       "      <td>0.0</td>\n",
       "      <td>200000.000000</td>\n",
       "      <td>2</td>\n",
       "      <td>...</td>\n",
       "      <td>29</td>\n",
       "      <td>2.86</td>\n",
       "      <td>0.0</td>\n",
       "      <td>4.0</td>\n",
       "      <td>5.0</td>\n",
       "      <td>0.0</td>\n",
       "      <td>10995.0</td>\n",
       "      <td>41.8</td>\n",
       "      <td>9.0</td>\n",
       "      <td>0</td>\n",
       "    </tr>\n",
       "    <tr>\n",
       "      <th>2</th>\n",
       "      <td>12.49</td>\n",
       "      <td>6000.0</td>\n",
       "      <td>6000.0</td>\n",
       "      <td>6000.0</td>\n",
       "      <td>0</td>\n",
       "      <td>1.0</td>\n",
       "      <td>3.0</td>\n",
       "      <td>0.0</td>\n",
       "      <td>53753.000000</td>\n",
       "      <td>1</td>\n",
       "      <td>...</td>\n",
       "      <td>29</td>\n",
       "      <td>14.13</td>\n",
       "      <td>0.0</td>\n",
       "      <td>0.0</td>\n",
       "      <td>15.0</td>\n",
       "      <td>0.0</td>\n",
       "      <td>3671.0</td>\n",
       "      <td>57.0</td>\n",
       "      <td>19.0</td>\n",
       "      <td>0</td>\n",
       "    </tr>\n",
       "    <tr>\n",
       "      <th>3</th>\n",
       "      <td>7.12</td>\n",
       "      <td>26000.0</td>\n",
       "      <td>26000.0</td>\n",
       "      <td>26000.0</td>\n",
       "      <td>0</td>\n",
       "      <td>0.0</td>\n",
       "      <td>1.0</td>\n",
       "      <td>1.0</td>\n",
       "      <td>70000.000000</td>\n",
       "      <td>2</td>\n",
       "      <td>...</td>\n",
       "      <td>29</td>\n",
       "      <td>7.90</td>\n",
       "      <td>0.0</td>\n",
       "      <td>0.0</td>\n",
       "      <td>12.0</td>\n",
       "      <td>1.0</td>\n",
       "      <td>13594.0</td>\n",
       "      <td>27.5</td>\n",
       "      <td>51.0</td>\n",
       "      <td>1</td>\n",
       "    </tr>\n",
       "    <tr>\n",
       "      <th>4</th>\n",
       "      <td>9.88</td>\n",
       "      <td>18000.0</td>\n",
       "      <td>13125.0</td>\n",
       "      <td>13125.0</td>\n",
       "      <td>0</td>\n",
       "      <td>1.0</td>\n",
       "      <td>10.0</td>\n",
       "      <td>1.0</td>\n",
       "      <td>73011.004033</td>\n",
       "      <td>1</td>\n",
       "      <td>...</td>\n",
       "      <td>4</td>\n",
       "      <td>12.60</td>\n",
       "      <td>0.0</td>\n",
       "      <td>0.0</td>\n",
       "      <td>12.0</td>\n",
       "      <td>0.0</td>\n",
       "      <td>5663.0</td>\n",
       "      <td>37.0</td>\n",
       "      <td>21.0</td>\n",
       "      <td>0</td>\n",
       "    </tr>\n",
       "  </tbody>\n",
       "</table>\n",
       "<p>5 rows × 22 columns</p>\n",
       "</div>"
      ],
      "text/plain": [
       "      X1       X4       X5       X6  X7   X8   X11  X12            X13  X14  \\\n",
       "0  15.31  16425.0  16425.0  16425.0   0  2.0   0.0  1.0   41208.000000    2   \n",
       "1   7.90  15000.0  15000.0  14975.0   0  0.0   2.0  0.0  200000.000000    2   \n",
       "2  12.49   6000.0   6000.0   6000.0   0  1.0   3.0  0.0   53753.000000    1   \n",
       "3   7.12  26000.0  26000.0  26000.0   0  0.0   1.0  1.0   70000.000000    2   \n",
       "4   9.88  18000.0  13125.0  13125.0   0  1.0  10.0  1.0   73011.004033    1   \n",
       "\n",
       "   ...  X20    X21  X22  X24   X27  X28      X29   X30   X31  X32  \n",
       "0  ...   35  15.06  0.0  0.0  11.0  0.0  19659.0  69.5  23.0    0  \n",
       "1  ...   29   2.86  0.0  4.0   5.0  0.0  10995.0  41.8   9.0    0  \n",
       "2  ...   29  14.13  0.0  0.0  15.0  0.0   3671.0  57.0  19.0    0  \n",
       "3  ...   29   7.90  0.0  0.0  12.0  1.0  13594.0  27.5  51.0    1  \n",
       "4  ...    4  12.60  0.0  0.0  12.0  0.0   5663.0  37.0  21.0    0  \n",
       "\n",
       "[5 rows x 22 columns]"
      ]
     },
     "execution_count": 40,
     "metadata": {},
     "output_type": "execute_result"
    }
   ],
   "source": [
    "df.head()"
   ]
  },
  {
   "cell_type": "code",
   "execution_count": 41,
   "metadata": {},
   "outputs": [
    {
     "data": {
      "text/plain": [
       "10000.0    2372\n",
       "12000.0    1856\n",
       "15000.0    1670\n",
       "20000.0    1637\n",
       "35000.0    1143\n",
       "           ... \n",
       "27025.0       1\n",
       "26950.0       1\n",
       "22725.0       1\n",
       "26700.0       1\n",
       "26125.0       1\n",
       "Name: X5, Length: 1089, dtype: int64"
      ]
     },
     "execution_count": 41,
     "metadata": {},
     "output_type": "execute_result"
    }
   ],
   "source": [
    "df['X5'].value_counts()"
   ]
  },
  {
   "cell_type": "markdown",
   "metadata": {},
   "source": [
    "## Remove loan rate variable and use standard scaling on remaining columns "
   ]
  },
  {
   "cell_type": "code",
   "execution_count": 42,
   "metadata": {},
   "outputs": [
    {
     "data": {
      "text/html": [
       "<div>\n",
       "<style scoped>\n",
       "    .dataframe tbody tr th:only-of-type {\n",
       "        vertical-align: middle;\n",
       "    }\n",
       "\n",
       "    .dataframe tbody tr th {\n",
       "        vertical-align: top;\n",
       "    }\n",
       "\n",
       "    .dataframe thead th {\n",
       "        text-align: right;\n",
       "    }\n",
       "</style>\n",
       "<table border=\"1\" class=\"dataframe\">\n",
       "  <thead>\n",
       "    <tr style=\"text-align: right;\">\n",
       "      <th></th>\n",
       "      <th>X4</th>\n",
       "      <th>X5</th>\n",
       "      <th>X6</th>\n",
       "      <th>X7</th>\n",
       "      <th>X8</th>\n",
       "      <th>X11</th>\n",
       "      <th>X12</th>\n",
       "      <th>X13</th>\n",
       "      <th>X14</th>\n",
       "      <th>X17</th>\n",
       "      <th>...</th>\n",
       "      <th>X20</th>\n",
       "      <th>X21</th>\n",
       "      <th>X22</th>\n",
       "      <th>X24</th>\n",
       "      <th>X27</th>\n",
       "      <th>X28</th>\n",
       "      <th>X29</th>\n",
       "      <th>X30</th>\n",
       "      <th>X31</th>\n",
       "      <th>X32</th>\n",
       "    </tr>\n",
       "  </thead>\n",
       "  <tbody>\n",
       "    <tr>\n",
       "      <th>0</th>\n",
       "      <td>0.269530</td>\n",
       "      <td>0.273025</td>\n",
       "      <td>0.281030</td>\n",
       "      <td>-0.610745</td>\n",
       "      <td>0.245803</td>\n",
       "      <td>-1.698507</td>\n",
       "      <td>0.801373</td>\n",
       "      <td>-5.367120e-01</td>\n",
       "      <td>1.296767</td>\n",
       "      <td>-0.527949</td>\n",
       "      <td>...</td>\n",
       "      <td>1.124494</td>\n",
       "      <td>-0.254923</td>\n",
       "      <td>-0.347167</td>\n",
       "      <td>-0.769166</td>\n",
       "      <td>-0.028820</td>\n",
       "      <td>-0.325509</td>\n",
       "      <td>0.176843</td>\n",
       "      <td>0.553590</td>\n",
       "      <td>-0.177850</td>\n",
       "      <td>-0.676388</td>\n",
       "    </tr>\n",
       "    <tr>\n",
       "      <th>1</th>\n",
       "      <td>0.095837</td>\n",
       "      <td>0.099109</td>\n",
       "      <td>0.104410</td>\n",
       "      <td>-0.610745</td>\n",
       "      <td>-1.357063</td>\n",
       "      <td>-1.146116</td>\n",
       "      <td>-0.776260</td>\n",
       "      <td>2.143084e+00</td>\n",
       "      <td>1.296767</td>\n",
       "      <td>-0.017241</td>\n",
       "      <td>...</td>\n",
       "      <td>0.666757</td>\n",
       "      <td>-1.832126</td>\n",
       "      <td>-0.347167</td>\n",
       "      <td>3.003056</td>\n",
       "      <td>-1.248929</td>\n",
       "      <td>-0.325509</td>\n",
       "      <td>-0.234880</td>\n",
       "      <td>-0.616436</td>\n",
       "      <td>-1.394943</td>\n",
       "      <td>-0.676388</td>\n",
       "    </tr>\n",
       "    <tr>\n",
       "      <th>2</th>\n",
       "      <td>-1.001174</td>\n",
       "      <td>-0.999313</td>\n",
       "      <td>-0.988807</td>\n",
       "      <td>-0.610745</td>\n",
       "      <td>-0.555630</td>\n",
       "      <td>-0.869920</td>\n",
       "      <td>-0.776260</td>\n",
       "      <td>-3.250008e-01</td>\n",
       "      <td>0.081816</td>\n",
       "      <td>2.536297</td>\n",
       "      <td>...</td>\n",
       "      <td>0.666757</td>\n",
       "      <td>-0.375152</td>\n",
       "      <td>-0.347167</td>\n",
       "      <td>-0.769166</td>\n",
       "      <td>0.784586</td>\n",
       "      <td>-0.325509</td>\n",
       "      <td>-0.582925</td>\n",
       "      <td>0.025600</td>\n",
       "      <td>-0.525591</td>\n",
       "      <td>-0.676388</td>\n",
       "    </tr>\n",
       "    <tr>\n",
       "      <th>3</th>\n",
       "      <td>1.436629</td>\n",
       "      <td>1.441624</td>\n",
       "      <td>1.447330</td>\n",
       "      <td>-0.610745</td>\n",
       "      <td>-1.357063</td>\n",
       "      <td>-1.422311</td>\n",
       "      <td>0.801373</td>\n",
       "      <td>-5.081413e-02</td>\n",
       "      <td>1.296767</td>\n",
       "      <td>-0.527949</td>\n",
       "      <td>...</td>\n",
       "      <td>0.666757</td>\n",
       "      <td>-1.180560</td>\n",
       "      <td>-0.347167</td>\n",
       "      <td>-0.769166</td>\n",
       "      <td>0.174532</td>\n",
       "      <td>1.817788</td>\n",
       "      <td>-0.111373</td>\n",
       "      <td>-1.220457</td>\n",
       "      <td>2.256337</td>\n",
       "      <td>1.478440</td>\n",
       "    </tr>\n",
       "    <tr>\n",
       "      <th>4</th>\n",
       "      <td>0.461507</td>\n",
       "      <td>-0.129729</td>\n",
       "      <td>-0.120933</td>\n",
       "      <td>-0.610745</td>\n",
       "      <td>-0.555630</td>\n",
       "      <td>1.063448</td>\n",
       "      <td>0.801373</td>\n",
       "      <td>2.455802e-16</td>\n",
       "      <td>0.081816</td>\n",
       "      <td>-0.527949</td>\n",
       "      <td>...</td>\n",
       "      <td>-1.240484</td>\n",
       "      <td>-0.572949</td>\n",
       "      <td>-0.347167</td>\n",
       "      <td>-0.769166</td>\n",
       "      <td>0.174532</td>\n",
       "      <td>-0.325509</td>\n",
       "      <td>-0.488263</td>\n",
       "      <td>-0.819185</td>\n",
       "      <td>-0.351720</td>\n",
       "      <td>-0.676388</td>\n",
       "    </tr>\n",
       "  </tbody>\n",
       "</table>\n",
       "<p>5 rows × 21 columns</p>\n",
       "</div>"
      ],
      "text/plain": [
       "         X4        X5        X6        X7        X8       X11       X12  \\\n",
       "0  0.269530  0.273025  0.281030 -0.610745  0.245803 -1.698507  0.801373   \n",
       "1  0.095837  0.099109  0.104410 -0.610745 -1.357063 -1.146116 -0.776260   \n",
       "2 -1.001174 -0.999313 -0.988807 -0.610745 -0.555630 -0.869920 -0.776260   \n",
       "3  1.436629  1.441624  1.447330 -0.610745 -1.357063 -1.422311  0.801373   \n",
       "4  0.461507 -0.129729 -0.120933 -0.610745 -0.555630  1.063448  0.801373   \n",
       "\n",
       "            X13       X14       X17  ...       X20       X21       X22  \\\n",
       "0 -5.367120e-01  1.296767 -0.527949  ...  1.124494 -0.254923 -0.347167   \n",
       "1  2.143084e+00  1.296767 -0.017241  ...  0.666757 -1.832126 -0.347167   \n",
       "2 -3.250008e-01  0.081816  2.536297  ...  0.666757 -0.375152 -0.347167   \n",
       "3 -5.081413e-02  1.296767 -0.527949  ...  0.666757 -1.180560 -0.347167   \n",
       "4  2.455802e-16  0.081816 -0.527949  ... -1.240484 -0.572949 -0.347167   \n",
       "\n",
       "        X24       X27       X28       X29       X30       X31       X32  \n",
       "0 -0.769166 -0.028820 -0.325509  0.176843  0.553590 -0.177850 -0.676388  \n",
       "1  3.003056 -1.248929 -0.325509 -0.234880 -0.616436 -1.394943 -0.676388  \n",
       "2 -0.769166  0.784586 -0.325509 -0.582925  0.025600 -0.525591 -0.676388  \n",
       "3 -0.769166  0.174532  1.817788 -0.111373 -1.220457  2.256337  1.478440  \n",
       "4 -0.769166  0.174532 -0.325509 -0.488263 -0.819185 -0.351720 -0.676388  \n",
       "\n",
       "[5 rows x 21 columns]"
      ]
     },
     "execution_count": 42,
     "metadata": {},
     "output_type": "execute_result"
    }
   ],
   "source": [
    "# Conduct Standard Scaling \n",
    "sc_X = StandardScaler()\n",
    "X =  pd.DataFrame(sc_X.fit_transform(df.drop([\"X1\"],axis = 1),), columns=['X4', \n",
    "'X5', 'X6', 'X7', 'X8', 'X11', 'X12', 'X13', 'X14', 'X17', 'X19', 'X20', 'X21', 'X22', 'X24', 'X27', 'X28', 'X29',\n",
    "'X30', 'X31', 'X32'])\n",
    "X.head()"
   ]
  },
  {
   "cell_type": "markdown",
   "metadata": {},
   "source": [
    "### Establish target outcome variable for training set"
   ]
  },
  {
   "cell_type": "code",
   "execution_count": 43,
   "metadata": {},
   "outputs": [
    {
     "data": {
      "text/plain": [
       "0        15.31\n",
       "1         7.90\n",
       "2        12.49\n",
       "3         7.12\n",
       "4         9.88\n",
       "         ...  \n",
       "33793     8.90\n",
       "33794    15.61\n",
       "33795    24.99\n",
       "33796     8.39\n",
       "33797     7.62\n",
       "Name: X1, Length: 33798, dtype: float64"
      ]
     },
     "execution_count": 43,
     "metadata": {},
     "output_type": "execute_result"
    }
   ],
   "source": [
    "# Establish Target Outcome Variable \n",
    "Y = df.X1\n",
    "Y"
   ]
  },
  {
   "cell_type": "markdown",
   "metadata": {},
   "source": [
    "# Model Builing: This is where you create your test and train samples, which we fit with a number of different model types to find the best results"
   ]
  },
  {
   "cell_type": "code",
   "execution_count": 44,
   "metadata": {},
   "outputs": [],
   "source": [
    "X_train, X_test, Y_train, Y_test = train_test_split (X, Y, test_size = 0.20, random_state=42)"
   ]
  },
  {
   "cell_type": "markdown",
   "metadata": {},
   "source": [
    "## Review MSE of models to determine which modeling type to select. "
   ]
  },
  {
   "cell_type": "code",
   "execution_count": 45,
   "metadata": {},
   "outputs": [
    {
     "name": "stdout",
     "output_type": "stream",
     "text": [
      "ScaledLR: -4.346861 (0.290211)\n",
      "ScaledLASSO: -6.073862 (0.292066)\n",
      "ScaledEN: -6.897415 (0.243956)\n",
      "ScaledKNN: -6.386111 (0.222842)\n",
      "ScaledCART: -6.962973 (0.287379)\n",
      "ScaledGBM: -3.451274 (0.226345)\n",
      "ScaledRandomForestRegressor: -3.392230 (0.211072)\n",
      "RidgeCV: -4.347354 (0.290117)\n"
     ]
    }
   ],
   "source": [
    "pipelines = []\n",
    "pipelines.append(('ScaledLR', Pipeline([('LR',LinearRegression())])))\n",
    "pipelines.append(('ScaledLASSO', Pipeline([('LASSO', Lasso())])))\n",
    "pipelines.append(('ScaledEN', Pipeline([('EN', ElasticNet())])))\n",
    "pipelines.append(('ScaledKNN', Pipeline([('KNN', KNeighborsRegressor())])))\n",
    "pipelines.append(('ScaledCART', Pipeline([('CART', DecisionTreeRegressor())])))\n",
    "pipelines.append(('ScaledGBM', Pipeline([('GBM', GradientBoostingRegressor())])))\n",
    "pipelines.append(('ScaledRandomForestRegressor', Pipeline([('RFR', RandomForestRegressor())])))\n",
    "pipelines.append(('RidgeCV', Pipeline([('RIDGE', RidgeCV())])))\n",
    "\n",
    "results = []\n",
    "names = []\n",
    "for name, model in pipelines:\n",
    "    kfold = KFold(n_splits=10, random_state=21, shuffle=True)\n",
    "    cv_results = cross_val_score(model, X_train, Y_train, cv=kfold, scoring='neg_mean_squared_error')\n",
    "    results.append(cv_results)\n",
    "    names.append(name)\n",
    "    msg = \"%s: %f (%f)\" % (name, cv_results.mean(), cv_results.std())\n",
    "    print(msg)"
   ]
  },
  {
   "cell_type": "markdown",
   "metadata": {},
   "source": [
    "## After reviewing MSE scores, we can see that the RandomForestRegressor and GBM models our the top performers. Let's now review accuracy scores"
   ]
  },
  {
   "cell_type": "code",
   "execution_count": 46,
   "metadata": {},
   "outputs": [
    {
     "data": {
      "text/plain": [
       "81.53"
      ]
     },
     "execution_count": 46,
     "metadata": {},
     "output_type": "execute_result"
    }
   ],
   "source": [
    "# Produce and save the model, then load and apply the model.\n",
    "gbm = GradientBoostingRegressor()\n",
    "gbm.fit(X_train, Y_train)\n",
    "gbm_predictions = gbm.predict(X_test)\n",
    "gbm_score = round(gbm.score(X_test, Y_test) * 100, 2)\n",
    "gbm_score"
   ]
  },
  {
   "cell_type": "code",
   "execution_count": 47,
   "metadata": {},
   "outputs": [
    {
     "data": {
      "text/plain": [
       "81.99"
      ]
     },
     "execution_count": 47,
     "metadata": {},
     "output_type": "execute_result"
    }
   ],
   "source": [
    "# Produce and save the model, then load and apply the model.\n",
    "rfr = RandomForestRegressor()\n",
    "rfr.fit(X_train, Y_train)\n",
    "rfr_predictions = rfr.predict(X_test)\n",
    "rfr_score = round(rfr.score(X_test, Y_test) * 100, 2)\n",
    "rfr_score"
   ]
  },
  {
   "cell_type": "markdown",
   "metadata": {},
   "source": [
    "## RandomForestRegressor gives us the lowest MSE and highest accuracy score, so we will use this on the test data"
   ]
  },
  {
   "cell_type": "markdown",
   "metadata": {},
   "source": [
    "### Review feature analysis. We will use this information to see if reduction of variables helps improve scoring for one of our higher-scoring models"
   ]
  },
  {
   "cell_type": "code",
   "execution_count": 48,
   "metadata": {},
   "outputs": [
    {
     "data": {
      "text/plain": [
       "<AxesSubplot:>"
      ]
     },
     "execution_count": 48,
     "metadata": {},
     "output_type": "execute_result"
    },
    {
     "data": {
      "image/png": "[encoded data removed]",
      "text/plain": [
       "<Figure size 432x288 with 1 Axes>"
      ]
     },
     "metadata": {
      "needs_background": "light"
     },
     "output_type": "display_data"
    }
   ],
   "source": [
    "(pd.Series(rfr.feature_importances_, index=X.columns).plot(kind='barh'))"
   ]
  },
  {
   "cell_type": "markdown",
   "metadata": {},
   "source": [
    "# Save the RandomForestRegressor Model with the best output by using pickle. "
   ]
  },
  {
   "cell_type": "code",
   "execution_count": 74,
   "metadata": {},
   "outputs": [],
   "source": [
    "# Firstly we will be using the dump() function to save the model using pickle\n",
    "saved_model = pickle.dumps(rfr)\n",
    "\n",
    "# Then we will be loading that saved model\n",
    "rfr_from_pickle = pickle.loads(saved_model)"
   ]
  },
  {
   "cell_type": "markdown",
   "metadata": {},
   "source": [
    "# Incorporation of Test Data"
   ]
  },
  {
   "cell_type": "code",
   "execution_count": 75,
   "metadata": {
    "scrolled": true
   },
   "outputs": [
    {
     "data": {
      "text/html": [
       "<div>\n",
       "<style scoped>\n",
       "    .dataframe tbody tr th:only-of-type {\n",
       "        vertical-align: middle;\n",
       "    }\n",
       "\n",
       "    .dataframe tbody tr th {\n",
       "        vertical-align: top;\n",
       "    }\n",
       "\n",
       "    .dataframe thead th {\n",
       "        text-align: right;\n",
       "    }\n",
       "</style>\n",
       "<table border=\"1\" class=\"dataframe\">\n",
       "  <thead>\n",
       "    <tr style=\"text-align: right;\">\n",
       "      <th></th>\n",
       "      <th>X1</th>\n",
       "      <th>X2</th>\n",
       "      <th>X3</th>\n",
       "      <th>X4</th>\n",
       "      <th>X5</th>\n",
       "      <th>X6</th>\n",
       "      <th>X7</th>\n",
       "      <th>X8</th>\n",
       "      <th>X9</th>\n",
       "      <th>X10</th>\n",
       "      <th>...</th>\n",
       "      <th>X23</th>\n",
       "      <th>X24</th>\n",
       "      <th>X25</th>\n",
       "      <th>X26</th>\n",
       "      <th>X27</th>\n",
       "      <th>X28</th>\n",
       "      <th>X29</th>\n",
       "      <th>X30</th>\n",
       "      <th>X31</th>\n",
       "      <th>X32</th>\n",
       "    </tr>\n",
       "  </thead>\n",
       "  <tbody>\n",
       "    <tr>\n",
       "      <th>0</th>\n",
       "      <td>NaN</td>\n",
       "      <td>44409194</td>\n",
       "      <td>47416907</td>\n",
       "      <td>$6,000</td>\n",
       "      <td>$6,000</td>\n",
       "      <td>$6,000</td>\n",
       "      <td>36 months</td>\n",
       "      <td>C</td>\n",
       "      <td>C5</td>\n",
       "      <td>Electrician</td>\n",
       "      <td>...</td>\n",
       "      <td>2-Nov</td>\n",
       "      <td>1</td>\n",
       "      <td>26.0</td>\n",
       "      <td>NaN</td>\n",
       "      <td>18</td>\n",
       "      <td>0</td>\n",
       "      <td>19861</td>\n",
       "      <td>64.50%</td>\n",
       "      <td>33</td>\n",
       "      <td>f</td>\n",
       "    </tr>\n",
       "    <tr>\n",
       "      <th>1</th>\n",
       "      <td>NaN</td>\n",
       "      <td>44017917</td>\n",
       "      <td>47034722</td>\n",
       "      <td>$24,000</td>\n",
       "      <td>$24,000</td>\n",
       "      <td>$24,000</td>\n",
       "      <td>36 months</td>\n",
       "      <td>A</td>\n",
       "      <td>A1</td>\n",
       "      <td>Executive Assistant</td>\n",
       "      <td>...</td>\n",
       "      <td>Dec-68</td>\n",
       "      <td>1</td>\n",
       "      <td>NaN</td>\n",
       "      <td>NaN</td>\n",
       "      <td>12</td>\n",
       "      <td>0</td>\n",
       "      <td>17001</td>\n",
       "      <td>26.20%</td>\n",
       "      <td>36</td>\n",
       "      <td>w</td>\n",
       "    </tr>\n",
       "    <tr>\n",
       "      <th>2</th>\n",
       "      <td>NaN</td>\n",
       "      <td>44259158</td>\n",
       "      <td>47306871</td>\n",
       "      <td>$35,000</td>\n",
       "      <td>$35,000</td>\n",
       "      <td>$35,000</td>\n",
       "      <td>36 months</td>\n",
       "      <td>C</td>\n",
       "      <td>C2</td>\n",
       "      <td>District Sales Leader</td>\n",
       "      <td>...</td>\n",
       "      <td>Oct-98</td>\n",
       "      <td>0</td>\n",
       "      <td>NaN</td>\n",
       "      <td>NaN</td>\n",
       "      <td>16</td>\n",
       "      <td>0</td>\n",
       "      <td>25797</td>\n",
       "      <td>49.90%</td>\n",
       "      <td>33</td>\n",
       "      <td>w</td>\n",
       "    </tr>\n",
       "    <tr>\n",
       "      <th>3</th>\n",
       "      <td>NaN</td>\n",
       "      <td>44429213</td>\n",
       "      <td>47476932</td>\n",
       "      <td>$10,000</td>\n",
       "      <td>$10,000</td>\n",
       "      <td>$10,000</td>\n",
       "      <td>60 months</td>\n",
       "      <td>D</td>\n",
       "      <td>D1</td>\n",
       "      <td>pharmacy associate</td>\n",
       "      <td>...</td>\n",
       "      <td>Feb-99</td>\n",
       "      <td>1</td>\n",
       "      <td>NaN</td>\n",
       "      <td>114.0</td>\n",
       "      <td>13</td>\n",
       "      <td>1</td>\n",
       "      <td>9586</td>\n",
       "      <td>43.80%</td>\n",
       "      <td>21</td>\n",
       "      <td>w</td>\n",
       "    </tr>\n",
       "    <tr>\n",
       "      <th>4</th>\n",
       "      <td>NaN</td>\n",
       "      <td>44299188</td>\n",
       "      <td>47346901</td>\n",
       "      <td>$24,000</td>\n",
       "      <td>$24,000</td>\n",
       "      <td>$24,000</td>\n",
       "      <td>60 months</td>\n",
       "      <td>B</td>\n",
       "      <td>B1</td>\n",
       "      <td>Medical case manager</td>\n",
       "      <td>...</td>\n",
       "      <td>2-Dec</td>\n",
       "      <td>0</td>\n",
       "      <td>48.0</td>\n",
       "      <td>NaN</td>\n",
       "      <td>27</td>\n",
       "      <td>0</td>\n",
       "      <td>31842</td>\n",
       "      <td>41.30%</td>\n",
       "      <td>43</td>\n",
       "      <td>w</td>\n",
       "    </tr>\n",
       "  </tbody>\n",
       "</table>\n",
       "<p>5 rows × 32 columns</p>\n",
       "</div>"
      ],
      "text/plain": [
       "   X1        X2        X3       X4       X5       X6          X7 X8  X9  \\\n",
       "0 NaN  44409194  47416907   $6,000   $6,000   $6,000   36 months  C  C5   \n",
       "1 NaN  44017917  47034722  $24,000  $24,000  $24,000   36 months  A  A1   \n",
       "2 NaN  44259158  47306871  $35,000  $35,000  $35,000   36 months  C  C2   \n",
       "3 NaN  44429213  47476932  $10,000  $10,000  $10,000   60 months  D  D1   \n",
       "4 NaN  44299188  47346901  $24,000  $24,000  $24,000   60 months  B  B1   \n",
       "\n",
       "                     X10  ...     X23 X24   X25    X26 X27 X28    X29     X30  \\\n",
       "0            Electrician  ...   2-Nov   1  26.0    NaN  18   0  19861  64.50%   \n",
       "1    Executive Assistant  ...  Dec-68   1   NaN    NaN  12   0  17001  26.20%   \n",
       "2  District Sales Leader  ...  Oct-98   0   NaN    NaN  16   0  25797  49.90%   \n",
       "3     pharmacy associate  ...  Feb-99   1   NaN  114.0  13   1   9586  43.80%   \n",
       "4   Medical case manager  ...   2-Dec   0  48.0    NaN  27   0  31842  41.30%   \n",
       "\n",
       "  X31 X32  \n",
       "0  33   f  \n",
       "1  36   w  \n",
       "2  33   w  \n",
       "3  21   w  \n",
       "4  43   w  \n",
       "\n",
       "[5 rows x 32 columns]"
      ]
     },
     "execution_count": 75,
     "metadata": {},
     "output_type": "execute_result"
    }
   ],
   "source": [
    "test_df = pd.read_csv('Holdout for Testing.csv')\n",
    "test_df.head()"
   ]
  },
  {
   "cell_type": "markdown",
   "metadata": {},
   "source": [
    "### Conduct cleaning and preprocessing "
   ]
  },
  {
   "cell_type": "code",
   "execution_count": 76,
   "metadata": {},
   "outputs": [],
   "source": [
    "test_df['X8'].replace(['A', 'B', 'C', 'D', 'E', 'F', 'G'],\n",
    "                        [0, 1, 2, 3, 4, 5, 6], inplace=True)"
   ]
  },
  {
   "cell_type": "code",
   "execution_count": 77,
   "metadata": {},
   "outputs": [],
   "source": [
    "test_df['X8'].fillna(test_df['X8'].mode()[0], inplace=True)"
   ]
  },
  {
   "cell_type": "code",
   "execution_count": 78,
   "metadata": {},
   "outputs": [],
   "source": [
    "test_df['X11'].replace(['< 1 year', '1 year', '2 years', '3 years', '4 years', '5 years', '6 years', '7 years', '8 years', '9 years', '10+ years'],\n",
    "                        [0, 1, 2, 3, 4, 5, 6, 7, 8, 9, 10], inplace=True)"
   ]
  },
  {
   "cell_type": "code",
   "execution_count": 79,
   "metadata": {},
   "outputs": [],
   "source": [
    "test_df['X11'].fillna(test_df['X11'].mode()[0], inplace=True)"
   ]
  },
  {
   "cell_type": "code",
   "execution_count": 80,
   "metadata": {},
   "outputs": [],
   "source": [
    "test_df['X12'].replace(['MORTGAGE', 'RENT', 'OWN', 'OTHER', 'NONE'],\n",
    "                        [0, 1, 2, 3, 4], inplace=True)"
   ]
  },
  {
   "cell_type": "code",
   "execution_count": 81,
   "metadata": {},
   "outputs": [],
   "source": [
    "test_df['X12'].fillna(test_df['X12'].mode()[0], inplace=True)"
   ]
  },
  {
   "cell_type": "code",
   "execution_count": 82,
   "metadata": {},
   "outputs": [],
   "source": [
    "test_df['X13'].fillna(test_df['X13'].mean(), inplace = True)"
   ]
  },
  {
   "cell_type": "code",
   "execution_count": 83,
   "metadata": {},
   "outputs": [],
   "source": [
    "test_df['X30'] = test_df['X30'].str.strip('%')\n",
    "test_df['X30'] = pd.to_numeric(test_df['X30'])\n",
    "test_df['X30'].fillna(test_df['X30'].mean(), inplace = True)"
   ]
  },
  {
   "cell_type": "code",
   "execution_count": 84,
   "metadata": {},
   "outputs": [],
   "source": [
    "test_df.drop(['X2', 'X3', 'X9', 'X10' , 'X15', 'X16', 'X18', 'X23', 'X25', 'X26'], axis=1, inplace=True)"
   ]
  },
  {
   "cell_type": "code",
   "execution_count": 85,
   "metadata": {},
   "outputs": [],
   "source": [
    "test_df[['X4', 'X5', 'X6']] = test_df[['X4', 'X5', 'X6']].replace('[\\$,]', '', regex=True).astype(float)"
   ]
  },
  {
   "cell_type": "code",
   "execution_count": 86,
   "metadata": {},
   "outputs": [],
   "source": [
    "test_df['X7'].replace([' 36 months', ' 60 months'],\n",
    "                        [0, 1], inplace=True)"
   ]
  },
  {
   "cell_type": "code",
   "execution_count": 87,
   "metadata": {},
   "outputs": [],
   "source": [
    "test_df['X14'].replace(['VERIFIED - income', 'not verified', 'VERIFIED - income source'],\n",
    "                        [0, 1, 2], inplace=True)"
   ]
  },
  {
   "cell_type": "code",
   "execution_count": 88,
   "metadata": {},
   "outputs": [],
   "source": [
    "test_df['X17'].replace(['debt_consolidation', 'credit_card', 'home_improvement', 'other', 'major_purchase', 'small_business',\n",
    "                  'car', 'medical', 'wedding', 'moving', 'vacation', 'house', 'renewable_energy','educational'],\n",
    "                        [0, 1, 2, 3, 4, 5, 6, 7, 8, 9, 10, 11, 12, 13], inplace=True)"
   ]
  },
  {
   "cell_type": "code",
   "execution_count": 89,
   "metadata": {},
   "outputs": [],
   "source": [
    "test_df[['X19']] = test_df['X19'].str.rstrip('xx').astype(float)"
   ]
  },
  {
   "cell_type": "code",
   "execution_count": 90,
   "metadata": {},
   "outputs": [],
   "source": [
    "test_df.X20 = pd.Categorical(test_df.X20)\n",
    "test_df['X20'] = test_df['X20'].cat.codes"
   ]
  },
  {
   "cell_type": "code",
   "execution_count": 91,
   "metadata": {},
   "outputs": [],
   "source": [
    "test_df['X32'].replace(['f', 'w'],\n",
    "                        [0, 1], inplace=True)"
   ]
  },
  {
   "cell_type": "code",
   "execution_count": 92,
   "metadata": {},
   "outputs": [
    {
     "data": {
      "text/plain": [
       "X1     80000\n",
       "X4         0\n",
       "X5         0\n",
       "X6         0\n",
       "X7         0\n",
       "X8         0\n",
       "X11        0\n",
       "X12        0\n",
       "X13        0\n",
       "X14        0\n",
       "X17        0\n",
       "X19        0\n",
       "X20        0\n",
       "X21        0\n",
       "X22        0\n",
       "X24        0\n",
       "X27        0\n",
       "X28        0\n",
       "X29        0\n",
       "X30        0\n",
       "X31        0\n",
       "X32        0\n",
       "dtype: int64"
      ]
     },
     "execution_count": 92,
     "metadata": {},
     "output_type": "execute_result"
    }
   ],
   "source": [
    "test_df.isnull().sum()"
   ]
  },
  {
   "cell_type": "code",
   "execution_count": 93,
   "metadata": {},
   "outputs": [
    {
     "data": {
      "text/plain": [
       "X1     float64\n",
       "X4     float64\n",
       "X5     float64\n",
       "X6     float64\n",
       "X7       int64\n",
       "X8       int64\n",
       "X11    float64\n",
       "X12      int64\n",
       "X13    float64\n",
       "X14      int64\n",
       "X17      int64\n",
       "X19    float64\n",
       "X20       int8\n",
       "X21    float64\n",
       "X22      int64\n",
       "X24      int64\n",
       "X27      int64\n",
       "X28      int64\n",
       "X29      int64\n",
       "X30    float64\n",
       "X31      int64\n",
       "X32      int64\n",
       "dtype: object"
      ]
     },
     "execution_count": 93,
     "metadata": {},
     "output_type": "execute_result"
    }
   ],
   "source": [
    "test_df.dtypes"
   ]
  },
  {
   "cell_type": "code",
   "execution_count": 94,
   "metadata": {},
   "outputs": [
    {
     "data": {
      "image/png": "[encoded data removed]",
      "text/plain": [
       "<Figure size 1440x1440 with 25 Axes>"
      ]
     },
     "metadata": {
      "needs_background": "light"
     },
     "output_type": "display_data"
    }
   ],
   "source": [
    "p = test_df.hist(figsize = (20,20))"
   ]
  },
  {
   "cell_type": "code",
   "execution_count": 95,
   "metadata": {},
   "outputs": [],
   "source": [
    "test_df.reset_index(drop=True, inplace=True)"
   ]
  },
  {
   "cell_type": "code",
   "execution_count": 96,
   "metadata": {},
   "outputs": [
    {
     "data": {
      "text/html": [
       "<div>\n",
       "<style scoped>\n",
       "    .dataframe tbody tr th:only-of-type {\n",
       "        vertical-align: middle;\n",
       "    }\n",
       "\n",
       "    .dataframe tbody tr th {\n",
       "        vertical-align: top;\n",
       "    }\n",
       "\n",
       "    .dataframe thead th {\n",
       "        text-align: right;\n",
       "    }\n",
       "</style>\n",
       "<table border=\"1\" class=\"dataframe\">\n",
       "  <thead>\n",
       "    <tr style=\"text-align: right;\">\n",
       "      <th></th>\n",
       "      <th>X1</th>\n",
       "      <th>X4</th>\n",
       "      <th>X5</th>\n",
       "      <th>X6</th>\n",
       "      <th>X7</th>\n",
       "      <th>X8</th>\n",
       "      <th>X11</th>\n",
       "      <th>X12</th>\n",
       "      <th>X13</th>\n",
       "      <th>X14</th>\n",
       "      <th>...</th>\n",
       "      <th>X20</th>\n",
       "      <th>X21</th>\n",
       "      <th>X22</th>\n",
       "      <th>X24</th>\n",
       "      <th>X27</th>\n",
       "      <th>X28</th>\n",
       "      <th>X29</th>\n",
       "      <th>X30</th>\n",
       "      <th>X31</th>\n",
       "      <th>X32</th>\n",
       "    </tr>\n",
       "  </thead>\n",
       "  <tbody>\n",
       "    <tr>\n",
       "      <th>0</th>\n",
       "      <td>NaN</td>\n",
       "      <td>6000.0</td>\n",
       "      <td>6000.0</td>\n",
       "      <td>6000.0</td>\n",
       "      <td>0</td>\n",
       "      <td>2</td>\n",
       "      <td>10.0</td>\n",
       "      <td>0</td>\n",
       "      <td>68000.0</td>\n",
       "      <td>0</td>\n",
       "      <td>...</td>\n",
       "      <td>30</td>\n",
       "      <td>28.31</td>\n",
       "      <td>0</td>\n",
       "      <td>1</td>\n",
       "      <td>18</td>\n",
       "      <td>0</td>\n",
       "      <td>19861</td>\n",
       "      <td>64.5</td>\n",
       "      <td>33</td>\n",
       "      <td>0</td>\n",
       "    </tr>\n",
       "    <tr>\n",
       "      <th>1</th>\n",
       "      <td>NaN</td>\n",
       "      <td>24000.0</td>\n",
       "      <td>24000.0</td>\n",
       "      <td>24000.0</td>\n",
       "      <td>0</td>\n",
       "      <td>0</td>\n",
       "      <td>8.0</td>\n",
       "      <td>1</td>\n",
       "      <td>110480.0</td>\n",
       "      <td>0</td>\n",
       "      <td>...</td>\n",
       "      <td>4</td>\n",
       "      <td>16.03</td>\n",
       "      <td>0</td>\n",
       "      <td>1</td>\n",
       "      <td>12</td>\n",
       "      <td>0</td>\n",
       "      <td>17001</td>\n",
       "      <td>26.2</td>\n",
       "      <td>36</td>\n",
       "      <td>1</td>\n",
       "    </tr>\n",
       "    <tr>\n",
       "      <th>2</th>\n",
       "      <td>NaN</td>\n",
       "      <td>35000.0</td>\n",
       "      <td>35000.0</td>\n",
       "      <td>35000.0</td>\n",
       "      <td>0</td>\n",
       "      <td>2</td>\n",
       "      <td>10.0</td>\n",
       "      <td>0</td>\n",
       "      <td>86000.0</td>\n",
       "      <td>0</td>\n",
       "      <td>...</td>\n",
       "      <td>33</td>\n",
       "      <td>32.49</td>\n",
       "      <td>0</td>\n",
       "      <td>0</td>\n",
       "      <td>16</td>\n",
       "      <td>0</td>\n",
       "      <td>25797</td>\n",
       "      <td>49.9</td>\n",
       "      <td>33</td>\n",
       "      <td>1</td>\n",
       "    </tr>\n",
       "    <tr>\n",
       "      <th>3</th>\n",
       "      <td>NaN</td>\n",
       "      <td>10000.0</td>\n",
       "      <td>10000.0</td>\n",
       "      <td>10000.0</td>\n",
       "      <td>1</td>\n",
       "      <td>3</td>\n",
       "      <td>10.0</td>\n",
       "      <td>1</td>\n",
       "      <td>30000.0</td>\n",
       "      <td>2</td>\n",
       "      <td>...</td>\n",
       "      <td>4</td>\n",
       "      <td>32.96</td>\n",
       "      <td>0</td>\n",
       "      <td>1</td>\n",
       "      <td>13</td>\n",
       "      <td>1</td>\n",
       "      <td>9586</td>\n",
       "      <td>43.8</td>\n",
       "      <td>21</td>\n",
       "      <td>1</td>\n",
       "    </tr>\n",
       "    <tr>\n",
       "      <th>4</th>\n",
       "      <td>NaN</td>\n",
       "      <td>24000.0</td>\n",
       "      <td>24000.0</td>\n",
       "      <td>24000.0</td>\n",
       "      <td>1</td>\n",
       "      <td>1</td>\n",
       "      <td>10.0</td>\n",
       "      <td>0</td>\n",
       "      <td>82500.0</td>\n",
       "      <td>0</td>\n",
       "      <td>...</td>\n",
       "      <td>33</td>\n",
       "      <td>31.03</td>\n",
       "      <td>0</td>\n",
       "      <td>0</td>\n",
       "      <td>27</td>\n",
       "      <td>0</td>\n",
       "      <td>31842</td>\n",
       "      <td>41.3</td>\n",
       "      <td>43</td>\n",
       "      <td>1</td>\n",
       "    </tr>\n",
       "  </tbody>\n",
       "</table>\n",
       "<p>5 rows × 22 columns</p>\n",
       "</div>"
      ],
      "text/plain": [
       "   X1       X4       X5       X6  X7  X8   X11  X12       X13  X14  ...  X20  \\\n",
       "0 NaN   6000.0   6000.0   6000.0   0   2  10.0    0   68000.0    0  ...   30   \n",
       "1 NaN  24000.0  24000.0  24000.0   0   0   8.0    1  110480.0    0  ...    4   \n",
       "2 NaN  35000.0  35000.0  35000.0   0   2  10.0    0   86000.0    0  ...   33   \n",
       "3 NaN  10000.0  10000.0  10000.0   1   3  10.0    1   30000.0    2  ...    4   \n",
       "4 NaN  24000.0  24000.0  24000.0   1   1  10.0    0   82500.0    0  ...   33   \n",
       "\n",
       "     X21  X22  X24  X27  X28    X29   X30  X31  X32  \n",
       "0  28.31    0    1   18    0  19861  64.5   33    0  \n",
       "1  16.03    0    1   12    0  17001  26.2   36    1  \n",
       "2  32.49    0    0   16    0  25797  49.9   33    1  \n",
       "3  32.96    0    1   13    1   9586  43.8   21    1  \n",
       "4  31.03    0    0   27    0  31842  41.3   43    1  \n",
       "\n",
       "[5 rows x 22 columns]"
      ]
     },
     "execution_count": 96,
     "metadata": {},
     "output_type": "execute_result"
    }
   ],
   "source": [
    "test_df.head()"
   ]
  },
  {
   "cell_type": "code",
   "execution_count": 97,
   "metadata": {},
   "outputs": [
    {
     "data": {
      "text/html": [
       "<div>\n",
       "<style scoped>\n",
       "    .dataframe tbody tr th:only-of-type {\n",
       "        vertical-align: middle;\n",
       "    }\n",
       "\n",
       "    .dataframe tbody tr th {\n",
       "        vertical-align: top;\n",
       "    }\n",
       "\n",
       "    .dataframe thead th {\n",
       "        text-align: right;\n",
       "    }\n",
       "</style>\n",
       "<table border=\"1\" class=\"dataframe\">\n",
       "  <thead>\n",
       "    <tr style=\"text-align: right;\">\n",
       "      <th></th>\n",
       "      <th>X4</th>\n",
       "      <th>X5</th>\n",
       "      <th>X6</th>\n",
       "      <th>X7</th>\n",
       "      <th>X8</th>\n",
       "      <th>X11</th>\n",
       "      <th>X12</th>\n",
       "      <th>X13</th>\n",
       "      <th>X14</th>\n",
       "      <th>X17</th>\n",
       "      <th>...</th>\n",
       "      <th>X20</th>\n",
       "      <th>X21</th>\n",
       "      <th>X22</th>\n",
       "      <th>X24</th>\n",
       "      <th>X27</th>\n",
       "      <th>X28</th>\n",
       "      <th>X29</th>\n",
       "      <th>X30</th>\n",
       "      <th>X31</th>\n",
       "      <th>X32</th>\n",
       "    </tr>\n",
       "  </thead>\n",
       "  <tbody>\n",
       "    <tr>\n",
       "      <th>0</th>\n",
       "      <td>-1.101316</td>\n",
       "      <td>-1.101316</td>\n",
       "      <td>-1.101120</td>\n",
       "      <td>-0.701215</td>\n",
       "      <td>0.142434</td>\n",
       "      <td>1.013752</td>\n",
       "      <td>-0.925292</td>\n",
       "      <td>-0.116705</td>\n",
       "      <td>-1.398090</td>\n",
       "      <td>-0.490139</td>\n",
       "      <td>...</td>\n",
       "      <td>0.717263</td>\n",
       "      <td>1.066280</td>\n",
       "      <td>-0.371851</td>\n",
       "      <td>0.479242</td>\n",
       "      <td>1.111393</td>\n",
       "      <td>-0.366451</td>\n",
       "      <td>0.111491</td>\n",
       "      <td>0.368657</td>\n",
       "      <td>0.601190</td>\n",
       "      <td>-0.989060</td>\n",
       "    </tr>\n",
       "    <tr>\n",
       "      <th>1</th>\n",
       "      <td>1.031554</td>\n",
       "      <td>1.031554</td>\n",
       "      <td>1.032158</td>\n",
       "      <td>-0.701215</td>\n",
       "      <td>-1.380316</td>\n",
       "      <td>0.473790</td>\n",
       "      <td>0.578209</td>\n",
       "      <td>0.573733</td>\n",
       "      <td>-1.398090</td>\n",
       "      <td>-0.490139</td>\n",
       "      <td>...</td>\n",
       "      <td>-1.266664</td>\n",
       "      <td>-0.360828</td>\n",
       "      <td>-0.371851</td>\n",
       "      <td>0.479242</td>\n",
       "      <td>0.026538</td>\n",
       "      <td>-0.366451</td>\n",
       "      <td>-0.018966</td>\n",
       "      <td>-1.260254</td>\n",
       "      <td>0.848839</td>\n",
       "      <td>1.011061</td>\n",
       "    </tr>\n",
       "    <tr>\n",
       "      <th>2</th>\n",
       "      <td>2.334974</td>\n",
       "      <td>2.334974</td>\n",
       "      <td>2.335828</td>\n",
       "      <td>-0.701215</td>\n",
       "      <td>0.142434</td>\n",
       "      <td>1.013752</td>\n",
       "      <td>-0.925292</td>\n",
       "      <td>0.175854</td>\n",
       "      <td>-1.398090</td>\n",
       "      <td>-0.490139</td>\n",
       "      <td>...</td>\n",
       "      <td>0.946178</td>\n",
       "      <td>1.552055</td>\n",
       "      <td>-0.371851</td>\n",
       "      <td>-0.663171</td>\n",
       "      <td>0.749774</td>\n",
       "      <td>-0.366451</td>\n",
       "      <td>0.382259</td>\n",
       "      <td>-0.252286</td>\n",
       "      <td>0.601190</td>\n",
       "      <td>1.011061</td>\n",
       "    </tr>\n",
       "    <tr>\n",
       "      <th>3</th>\n",
       "      <td>-0.627345</td>\n",
       "      <td>-0.627345</td>\n",
       "      <td>-0.627058</td>\n",
       "      <td>1.426096</td>\n",
       "      <td>0.903810</td>\n",
       "      <td>1.013752</td>\n",
       "      <td>0.578209</td>\n",
       "      <td>-0.734329</td>\n",
       "      <td>0.997002</td>\n",
       "      <td>-0.490139</td>\n",
       "      <td>...</td>\n",
       "      <td>-1.266664</td>\n",
       "      <td>1.606676</td>\n",
       "      <td>-0.371851</td>\n",
       "      <td>0.479242</td>\n",
       "      <td>0.207347</td>\n",
       "      <td>1.243261</td>\n",
       "      <td>-0.357198</td>\n",
       "      <td>-0.511720</td>\n",
       "      <td>-0.389403</td>\n",
       "      <td>1.011061</td>\n",
       "    </tr>\n",
       "    <tr>\n",
       "      <th>4</th>\n",
       "      <td>1.031554</td>\n",
       "      <td>1.031554</td>\n",
       "      <td>1.032158</td>\n",
       "      <td>1.426096</td>\n",
       "      <td>-0.618941</td>\n",
       "      <td>1.013752</td>\n",
       "      <td>-0.925292</td>\n",
       "      <td>0.118967</td>\n",
       "      <td>-1.398090</td>\n",
       "      <td>-0.490139</td>\n",
       "      <td>...</td>\n",
       "      <td>0.946178</td>\n",
       "      <td>1.382382</td>\n",
       "      <td>-0.371851</td>\n",
       "      <td>-0.663171</td>\n",
       "      <td>2.738674</td>\n",
       "      <td>-0.366451</td>\n",
       "      <td>0.658000</td>\n",
       "      <td>-0.618046</td>\n",
       "      <td>1.426685</td>\n",
       "      <td>1.011061</td>\n",
       "    </tr>\n",
       "  </tbody>\n",
       "</table>\n",
       "<p>5 rows × 21 columns</p>\n",
       "</div>"
      ],
      "text/plain": [
       "         X4        X5        X6        X7        X8       X11       X12  \\\n",
       "0 -1.101316 -1.101316 -1.101120 -0.701215  0.142434  1.013752 -0.925292   \n",
       "1  1.031554  1.031554  1.032158 -0.701215 -1.380316  0.473790  0.578209   \n",
       "2  2.334974  2.334974  2.335828 -0.701215  0.142434  1.013752 -0.925292   \n",
       "3 -0.627345 -0.627345 -0.627058  1.426096  0.903810  1.013752  0.578209   \n",
       "4  1.031554  1.031554  1.032158  1.426096 -0.618941  1.013752 -0.925292   \n",
       "\n",
       "        X13       X14       X17  ...       X20       X21       X22       X24  \\\n",
       "0 -0.116705 -1.398090 -0.490139  ...  0.717263  1.066280 -0.371851  0.479242   \n",
       "1  0.573733 -1.398090 -0.490139  ... -1.266664 -0.360828 -0.371851  0.479242   \n",
       "2  0.175854 -1.398090 -0.490139  ...  0.946178  1.552055 -0.371851 -0.663171   \n",
       "3 -0.734329  0.997002 -0.490139  ... -1.266664  1.606676 -0.371851  0.479242   \n",
       "4  0.118967 -1.398090 -0.490139  ...  0.946178  1.382382 -0.371851 -0.663171   \n",
       "\n",
       "        X27       X28       X29       X30       X31       X32  \n",
       "0  1.111393 -0.366451  0.111491  0.368657  0.601190 -0.989060  \n",
       "1  0.026538 -0.366451 -0.018966 -1.260254  0.848839  1.011061  \n",
       "2  0.749774 -0.366451  0.382259 -0.252286  0.601190  1.011061  \n",
       "3  0.207347  1.243261 -0.357198 -0.511720 -0.389403  1.011061  \n",
       "4  2.738674 -0.366451  0.658000 -0.618046  1.426685  1.011061  \n",
       "\n",
       "[5 rows x 21 columns]"
      ]
     },
     "execution_count": 97,
     "metadata": {},
     "output_type": "execute_result"
    }
   ],
   "source": [
    "# Conduct Standard Scaling \n",
    "sc_X_final = StandardScaler()\n",
    "X_final =  pd.DataFrame(sc_X_final.fit_transform(test_df.drop([\"X1\"],axis = 1),), columns=['X4', \n",
    "'X5', 'X6', 'X7', 'X8', 'X11', 'X12', 'X13', 'X14', 'X17', 'X19', 'X20', 'X21', 'X22', 'X24', 'X27', 'X28', 'X29',\n",
    "'X30', 'X31', 'X32'])\n",
    "X_final.head()"
   ]
  },
  {
   "cell_type": "markdown",
   "metadata": {},
   "source": [
    "# Once we have cleaned test data exactly like data used to train/test model, we apply RandomForestRegressor model on it"
   ]
  },
  {
   "cell_type": "code",
   "execution_count": 98,
   "metadata": {},
   "outputs": [],
   "source": [
    "# lastly, after loading that model we will use this to make predictions\n",
    "loanOutput = rfr_from_pickle.predict(X_final)"
   ]
  },
  {
   "cell_type": "markdown",
   "metadata": {},
   "source": [
    "# Finally, we merge it back in with the holdout dataset as a model predicted value column"
   ]
  },
  {
   "cell_type": "code",
   "execution_count": 99,
   "metadata": {},
   "outputs": [],
   "source": [
    "export = pd.DataFrame(loanOutput, columns=['LoanRateModelOutput']) "
   ]
  },
  {
   "cell_type": "code",
   "execution_count": 100,
   "metadata": {},
   "outputs": [
    {
     "data": {
      "text/html": [
       "<div>\n",
       "<style scoped>\n",
       "    .dataframe tbody tr th:only-of-type {\n",
       "        vertical-align: middle;\n",
       "    }\n",
       "\n",
       "    .dataframe tbody tr th {\n",
       "        vertical-align: top;\n",
       "    }\n",
       "\n",
       "    .dataframe thead th {\n",
       "        text-align: right;\n",
       "    }\n",
       "</style>\n",
       "<table border=\"1\" class=\"dataframe\">\n",
       "  <thead>\n",
       "    <tr style=\"text-align: right;\">\n",
       "      <th></th>\n",
       "      <th>LoanRateModelOutput</th>\n",
       "    </tr>\n",
       "  </thead>\n",
       "  <tbody>\n",
       "    <tr>\n",
       "      <th>0</th>\n",
       "      <td>14.9169</td>\n",
       "    </tr>\n",
       "    <tr>\n",
       "      <th>1</th>\n",
       "      <td>7.3167</td>\n",
       "    </tr>\n",
       "    <tr>\n",
       "      <th>2</th>\n",
       "      <td>14.4970</td>\n",
       "    </tr>\n",
       "    <tr>\n",
       "      <th>3</th>\n",
       "      <td>17.2125</td>\n",
       "    </tr>\n",
       "    <tr>\n",
       "      <th>4</th>\n",
       "      <td>14.1012</td>\n",
       "    </tr>\n",
       "    <tr>\n",
       "      <th>5</th>\n",
       "      <td>15.0025</td>\n",
       "    </tr>\n",
       "    <tr>\n",
       "      <th>6</th>\n",
       "      <td>14.4021</td>\n",
       "    </tr>\n",
       "    <tr>\n",
       "      <th>7</th>\n",
       "      <td>12.3456</td>\n",
       "    </tr>\n",
       "    <tr>\n",
       "      <th>8</th>\n",
       "      <td>14.3150</td>\n",
       "    </tr>\n",
       "  </tbody>\n",
       "</table>\n",
       "</div>"
      ],
      "text/plain": [
       "   LoanRateModelOutput\n",
       "0              14.9169\n",
       "1               7.3167\n",
       "2              14.4970\n",
       "3              17.2125\n",
       "4              14.1012\n",
       "5              15.0025\n",
       "6              14.4021\n",
       "7              12.3456\n",
       "8              14.3150"
      ]
     },
     "execution_count": 100,
     "metadata": {},
     "output_type": "execute_result"
    }
   ],
   "source": [
    "export.head(9)"
   ]
  },
  {
   "cell_type": "code",
   "execution_count": 101,
   "metadata": {},
   "outputs": [],
   "source": [
    "holdout_test = pd.read_csv('Holdout for Testing.csv')"
   ]
  },
  {
   "cell_type": "code",
   "execution_count": 102,
   "metadata": {},
   "outputs": [
    {
     "data": {
      "text/html": [
       "<div>\n",
       "<style scoped>\n",
       "    .dataframe tbody tr th:only-of-type {\n",
       "        vertical-align: middle;\n",
       "    }\n",
       "\n",
       "    .dataframe tbody tr th {\n",
       "        vertical-align: top;\n",
       "    }\n",
       "\n",
       "    .dataframe thead th {\n",
       "        text-align: right;\n",
       "    }\n",
       "</style>\n",
       "<table border=\"1\" class=\"dataframe\">\n",
       "  <thead>\n",
       "    <tr style=\"text-align: right;\">\n",
       "      <th></th>\n",
       "      <th>X1</th>\n",
       "      <th>X2</th>\n",
       "      <th>X3</th>\n",
       "      <th>X4</th>\n",
       "      <th>X5</th>\n",
       "      <th>X6</th>\n",
       "      <th>X7</th>\n",
       "      <th>X8</th>\n",
       "      <th>X9</th>\n",
       "      <th>X10</th>\n",
       "      <th>...</th>\n",
       "      <th>X24</th>\n",
       "      <th>X25</th>\n",
       "      <th>X26</th>\n",
       "      <th>X27</th>\n",
       "      <th>X28</th>\n",
       "      <th>X29</th>\n",
       "      <th>X30</th>\n",
       "      <th>X31</th>\n",
       "      <th>X32</th>\n",
       "      <th>LoanRateModelOutput</th>\n",
       "    </tr>\n",
       "  </thead>\n",
       "  <tbody>\n",
       "    <tr>\n",
       "      <th>0</th>\n",
       "      <td>NaN</td>\n",
       "      <td>44409194</td>\n",
       "      <td>47416907</td>\n",
       "      <td>$6,000</td>\n",
       "      <td>$6,000</td>\n",
       "      <td>$6,000</td>\n",
       "      <td>36 months</td>\n",
       "      <td>C</td>\n",
       "      <td>C5</td>\n",
       "      <td>Electrician</td>\n",
       "      <td>...</td>\n",
       "      <td>1</td>\n",
       "      <td>26.0</td>\n",
       "      <td>NaN</td>\n",
       "      <td>18</td>\n",
       "      <td>0</td>\n",
       "      <td>19861</td>\n",
       "      <td>64.50%</td>\n",
       "      <td>33</td>\n",
       "      <td>f</td>\n",
       "      <td>14.9169</td>\n",
       "    </tr>\n",
       "    <tr>\n",
       "      <th>1</th>\n",
       "      <td>NaN</td>\n",
       "      <td>44017917</td>\n",
       "      <td>47034722</td>\n",
       "      <td>$24,000</td>\n",
       "      <td>$24,000</td>\n",
       "      <td>$24,000</td>\n",
       "      <td>36 months</td>\n",
       "      <td>A</td>\n",
       "      <td>A1</td>\n",
       "      <td>Executive Assistant</td>\n",
       "      <td>...</td>\n",
       "      <td>1</td>\n",
       "      <td>NaN</td>\n",
       "      <td>NaN</td>\n",
       "      <td>12</td>\n",
       "      <td>0</td>\n",
       "      <td>17001</td>\n",
       "      <td>26.20%</td>\n",
       "      <td>36</td>\n",
       "      <td>w</td>\n",
       "      <td>7.3167</td>\n",
       "    </tr>\n",
       "    <tr>\n",
       "      <th>2</th>\n",
       "      <td>NaN</td>\n",
       "      <td>44259158</td>\n",
       "      <td>47306871</td>\n",
       "      <td>$35,000</td>\n",
       "      <td>$35,000</td>\n",
       "      <td>$35,000</td>\n",
       "      <td>36 months</td>\n",
       "      <td>C</td>\n",
       "      <td>C2</td>\n",
       "      <td>District Sales Leader</td>\n",
       "      <td>...</td>\n",
       "      <td>0</td>\n",
       "      <td>NaN</td>\n",
       "      <td>NaN</td>\n",
       "      <td>16</td>\n",
       "      <td>0</td>\n",
       "      <td>25797</td>\n",
       "      <td>49.90%</td>\n",
       "      <td>33</td>\n",
       "      <td>w</td>\n",
       "      <td>14.4970</td>\n",
       "    </tr>\n",
       "    <tr>\n",
       "      <th>3</th>\n",
       "      <td>NaN</td>\n",
       "      <td>44429213</td>\n",
       "      <td>47476932</td>\n",
       "      <td>$10,000</td>\n",
       "      <td>$10,000</td>\n",
       "      <td>$10,000</td>\n",
       "      <td>60 months</td>\n",
       "      <td>D</td>\n",
       "      <td>D1</td>\n",
       "      <td>pharmacy associate</td>\n",
       "      <td>...</td>\n",
       "      <td>1</td>\n",
       "      <td>NaN</td>\n",
       "      <td>114.0</td>\n",
       "      <td>13</td>\n",
       "      <td>1</td>\n",
       "      <td>9586</td>\n",
       "      <td>43.80%</td>\n",
       "      <td>21</td>\n",
       "      <td>w</td>\n",
       "      <td>17.2125</td>\n",
       "    </tr>\n",
       "    <tr>\n",
       "      <th>4</th>\n",
       "      <td>NaN</td>\n",
       "      <td>44299188</td>\n",
       "      <td>47346901</td>\n",
       "      <td>$24,000</td>\n",
       "      <td>$24,000</td>\n",
       "      <td>$24,000</td>\n",
       "      <td>60 months</td>\n",
       "      <td>B</td>\n",
       "      <td>B1</td>\n",
       "      <td>Medical case manager</td>\n",
       "      <td>...</td>\n",
       "      <td>0</td>\n",
       "      <td>48.0</td>\n",
       "      <td>NaN</td>\n",
       "      <td>27</td>\n",
       "      <td>0</td>\n",
       "      <td>31842</td>\n",
       "      <td>41.30%</td>\n",
       "      <td>43</td>\n",
       "      <td>w</td>\n",
       "      <td>14.1012</td>\n",
       "    </tr>\n",
       "    <tr>\n",
       "      <th>5</th>\n",
       "      <td>NaN</td>\n",
       "      <td>44057008</td>\n",
       "      <td>47073801</td>\n",
       "      <td>$18,000</td>\n",
       "      <td>$18,000</td>\n",
       "      <td>$18,000</td>\n",
       "      <td>60 months</td>\n",
       "      <td>B</td>\n",
       "      <td>B3</td>\n",
       "      <td>Solutions Development Senior Analyst</td>\n",
       "      <td>...</td>\n",
       "      <td>0</td>\n",
       "      <td>NaN</td>\n",
       "      <td>NaN</td>\n",
       "      <td>8</td>\n",
       "      <td>0</td>\n",
       "      <td>18652</td>\n",
       "      <td>64.80%</td>\n",
       "      <td>21</td>\n",
       "      <td>w</td>\n",
       "      <td>15.0025</td>\n",
       "    </tr>\n",
       "    <tr>\n",
       "      <th>6</th>\n",
       "      <td>NaN</td>\n",
       "      <td>41399898</td>\n",
       "      <td>44316683</td>\n",
       "      <td>$8,000</td>\n",
       "      <td>$8,000</td>\n",
       "      <td>$8,000</td>\n",
       "      <td>36 months</td>\n",
       "      <td>C</td>\n",
       "      <td>C3</td>\n",
       "      <td>Department Manager</td>\n",
       "      <td>...</td>\n",
       "      <td>0</td>\n",
       "      <td>NaN</td>\n",
       "      <td>NaN</td>\n",
       "      <td>7</td>\n",
       "      <td>0</td>\n",
       "      <td>13775</td>\n",
       "      <td>63.20%</td>\n",
       "      <td>10</td>\n",
       "      <td>w</td>\n",
       "      <td>14.4021</td>\n",
       "    </tr>\n",
       "    <tr>\n",
       "      <th>7</th>\n",
       "      <td>NaN</td>\n",
       "      <td>43801789</td>\n",
       "      <td>46818598</td>\n",
       "      <td>$24,000</td>\n",
       "      <td>$24,000</td>\n",
       "      <td>$24,000</td>\n",
       "      <td>36 months</td>\n",
       "      <td>B</td>\n",
       "      <td>B2</td>\n",
       "      <td>Senior pastor</td>\n",
       "      <td>...</td>\n",
       "      <td>1</td>\n",
       "      <td>31.0</td>\n",
       "      <td>NaN</td>\n",
       "      <td>10</td>\n",
       "      <td>0</td>\n",
       "      <td>20417</td>\n",
       "      <td>68.70%</td>\n",
       "      <td>19</td>\n",
       "      <td>w</td>\n",
       "      <td>12.3456</td>\n",
       "    </tr>\n",
       "    <tr>\n",
       "      <th>8</th>\n",
       "      <td>NaN</td>\n",
       "      <td>44409120</td>\n",
       "      <td>47416833</td>\n",
       "      <td>$18,000</td>\n",
       "      <td>$18,000</td>\n",
       "      <td>$18,000</td>\n",
       "      <td>60 months</td>\n",
       "      <td>C</td>\n",
       "      <td>C4</td>\n",
       "      <td>Regulatory Compliance</td>\n",
       "      <td>...</td>\n",
       "      <td>0</td>\n",
       "      <td>72.0</td>\n",
       "      <td>NaN</td>\n",
       "      <td>9</td>\n",
       "      <td>0</td>\n",
       "      <td>3948</td>\n",
       "      <td>66.90%</td>\n",
       "      <td>23</td>\n",
       "      <td>w</td>\n",
       "      <td>14.3150</td>\n",
       "    </tr>\n",
       "  </tbody>\n",
       "</table>\n",
       "<p>9 rows × 33 columns</p>\n",
       "</div>"
      ],
      "text/plain": [
       "   X1        X2        X3       X4       X5       X6          X7 X8  X9  \\\n",
       "0 NaN  44409194  47416907   $6,000   $6,000   $6,000   36 months  C  C5   \n",
       "1 NaN  44017917  47034722  $24,000  $24,000  $24,000   36 months  A  A1   \n",
       "2 NaN  44259158  47306871  $35,000  $35,000  $35,000   36 months  C  C2   \n",
       "3 NaN  44429213  47476932  $10,000  $10,000  $10,000   60 months  D  D1   \n",
       "4 NaN  44299188  47346901  $24,000  $24,000  $24,000   60 months  B  B1   \n",
       "5 NaN  44057008  47073801  $18,000  $18,000  $18,000   60 months  B  B3   \n",
       "6 NaN  41399898  44316683   $8,000   $8,000   $8,000   36 months  C  C3   \n",
       "7 NaN  43801789  46818598  $24,000  $24,000  $24,000   36 months  B  B2   \n",
       "8 NaN  44409120  47416833  $18,000  $18,000  $18,000   60 months  C  C4   \n",
       "\n",
       "                                    X10  ... X24   X25    X26 X27 X28    X29  \\\n",
       "0                           Electrician  ...   1  26.0    NaN  18   0  19861   \n",
       "1                   Executive Assistant  ...   1   NaN    NaN  12   0  17001   \n",
       "2                 District Sales Leader  ...   0   NaN    NaN  16   0  25797   \n",
       "3                    pharmacy associate  ...   1   NaN  114.0  13   1   9586   \n",
       "4                  Medical case manager  ...   0  48.0    NaN  27   0  31842   \n",
       "5  Solutions Development Senior Analyst  ...   0   NaN    NaN   8   0  18652   \n",
       "6                   Department Manager   ...   0   NaN    NaN   7   0  13775   \n",
       "7                         Senior pastor  ...   1  31.0    NaN  10   0  20417   \n",
       "8                 Regulatory Compliance  ...   0  72.0    NaN   9   0   3948   \n",
       "\n",
       "      X30 X31 X32 LoanRateModelOutput  \n",
       "0  64.50%  33   f             14.9169  \n",
       "1  26.20%  36   w              7.3167  \n",
       "2  49.90%  33   w             14.4970  \n",
       "3  43.80%  21   w             17.2125  \n",
       "4  41.30%  43   w             14.1012  \n",
       "5  64.80%  21   w             15.0025  \n",
       "6  63.20%  10   w             14.4021  \n",
       "7  68.70%  19   w             12.3456  \n",
       "8  66.90%  23   w             14.3150  \n",
       "\n",
       "[9 rows x 33 columns]"
      ]
     },
     "execution_count": 102,
     "metadata": {},
     "output_type": "execute_result"
    }
   ],
   "source": [
    "df_export = holdout_test.join(export)\n",
    "df_export.head(9)"
   ]
  },
  {
   "cell_type": "code",
   "execution_count": null,
   "metadata": {},
   "outputs": [],
   "source": [
    "#df_export.to_csv(r\"C:\\Users\\Nick's Laptop\\Desktop\\Data Mining Principles\\assignment-3\\Loan_Prediction\\Results_from_nicholas_petr_loan_predictions.csv\", sep=',')"
   ]
  }
 ],
 "metadata": {
  "kernelspec": {
   "display_name": "Python 3",
   "language": "python",
   "name": "python3"
  },
  "language_info": {
   "codemirror_mode": {
    "name": "ipython",
    "version": 3
   },
   "file_extension": ".py",
   "mimetype": "text/x-python",
   "name": "python",
   "nbconvert_exporter": "python",
   "pygments_lexer": "ipython3",
   "version": "3.8.8"
  }
 },
 "nbformat": 4,
 "nbformat_minor": 2
}
