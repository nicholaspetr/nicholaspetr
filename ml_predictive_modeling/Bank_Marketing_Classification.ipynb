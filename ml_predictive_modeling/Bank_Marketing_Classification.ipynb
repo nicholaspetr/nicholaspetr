{
 "cells": [
  {
   "cell_type": "markdown",
   "metadata": {},
   "source": [
    "## Assignment 3: Evaluating Classification Models\n",
    "NOTE : PLEASE DO NOT POST/SHARE THE CODE OR YOUR SOLUTIONS ON THE WEB/GIT except CANVAS FOR GRADING\n",
    "\n",
    "References : \n",
    "https://rpubs.com/MatthewDSmith22/634473\n",
    "https://medium.com/@ogbeide331/bank-marketing-campaign-prediction-using-logistic-regression-d3a1072ac155\n",
    "https://github.com/prakhardogra921/Bank-Marketing-Classification#readme\n",
    "https://towardsdatascience.com/the-5-classification-evaluation-metrics-you-must-know-aa97784ff226\n"
   ]
  },
  {
   "cell_type": "markdown",
   "metadata": {
    "id": "nYXSrUk3RLkX"
   },
   "source": [
    "Problem Statement : The bank is interested in identifying factors that affect client responses to new term deposit offerings, which are the focus of the marketing campaigns. What kinds of clients are most likely to subscribe to new term deposits? In other words, identify the list of banking clients that appear to be the best target for direct marketing efforts \n",
    "\n",
    "Background Materials/Data: Bank Marketing Study\n",
    "For this assignment you are asked to fit classification models to data from the Bank Marketing Study, as described in the miller_mds_bank_marketing_study-1.pdf handout.\n",
    "\n",
    "Instructions:\n",
    "Use three binary explanatory variables relating to client banking history: default, housing, and loan. \n",
    "- Predict the binary response variable: Has the client subscribed to a term deposit? \n",
    "- Use all banking client observations with complete data for these study variables. \n",
    "\n",
    "Employ atleast two of the below classification methods: \n",
    "(1) logistic regression \n",
    "(2) naïve Bayes classification. \n",
    "(3) SVM\n",
    "Evaluate each of the models’ assumptions. Conduct hyperparameter tuning for the SVM kernel(if used). Evaluate goodness of fit metrics including TPR, FPR, precision, recall, and accuracy on the training and validation sets. Build ROC and Precision / Recall graphs. Evaluate your models' performance on the validation set using the F1-score. \n",
    "\n",
    "\n",
    "Regarding the management problem, imagine that you are advising the bank about machine learning methods to guide telephone marketing campaigns: \n",
    "- Which of the two modeling methods would you recommend and why? \n",
    "- And, given the results of your research, which group (based on attributes) of banking clients appears to be the best target for direct marketing efforts? \n",
    "\n",
    " \n",
    "Deliverables and File Formats\n",
    "- Python notebook that address the problem and the writeup as indicated towards the end of this notebook (Audience:Director Data Science/Analytics)\n",
    "\n",
    "Optional (Audience:Business/C-Suite) - Additional 20 points\n",
    "1. Provide a double-spaced paper with a two-page maximum for the text. The paper in pdf format should include \n",
    "    (1) Summary and problem definition for management; \n",
    "    (2) Discussion of the methodology, data findings and traditional machine learning methods employed; \n",
    "    (3) List assumptions, programming work, issues along with model evaluation metrics; and \n",
    "    (4) Review of results/ insight swith recommendations for management.\n",
    "\n",
    "Formatting Python Code\n",
    "Refer to Google’s Python Style Guide (https://google.github.iostyleguide/pyguide.html) for ideas about formatting Python code:\n",
    "\n",
    "\n",
    "NOTE : \n",
    "- Below is the starter code and please feel free to update/edit/change to provide your thoughts/solutions to the problem. \n",
    "- Comment often and in detail, highlighting major sections of code, describing the thinking behind the programming methods being employed.\n",
    "- This code has a lot of errors (intentionally, including the data dictionary) make sure to updated all the cells based on best practices along with your analysis/findings.\n",
    "\n",
    "\n",
    "GRADING GUIDELINES (100 points)\n",
    "--------------------------------\n",
    "(1) Data preparation, exploration, visualization (20 points)\n",
    "(2) Review research design and modeling methods (20 points)\n",
    "(3) Review results, evaluate models (20 points)\n",
    "(4) Implementation and programming (20 points)\n",
    "(5) Exposition, problem description, and management recommendations (20 points)\n"
   ]
  },
  {
   "cell_type": "code",
   "execution_count": 1,
   "metadata": {
    "id": "g9SDzg2bRLka"
   },
   "outputs": [],
   "source": [
    "# Bank Marketing Study as described in Marketing Data Science: Modeling Techniques\n",
    "# for Predictive Analytics with R and Python (Miller 2015)\n",
    "# https://www.amazon.com/Marketing-Data-Science-Techniques-Predictive/dp/0133886557 "
   ]
  },
  {
   "cell_type": "code",
   "execution_count": 2,
   "metadata": {
    "id": "vypz8PqyRLkb"
   },
   "outputs": [],
   "source": [
    "# Ignore warnings\n",
    "import warnings\n",
    "warnings.filterwarnings(\"ignore\", category=Warning)"
   ]
  },
  {
   "cell_type": "code",
   "execution_count": 3,
   "metadata": {
    "id": "5gUJfCALRLkb"
   },
   "outputs": [],
   "source": [
    "###Loading Packages###\n",
    "import numpy as np\n",
    "import pandas as pd\n",
    "pd.set_option('display.max_rows', 500)\n",
    "pd.set_option('display.max_columns', 1000)\n",
    "pd.set_option('display.width', 1000)\n",
    "from IPython.core.interactiveshell import InteractiveShell\n",
    "InteractiveShell.ast_node_interactivity = \"all\"\n",
    "import pickle\n",
    "from matplotlib import pyplot\n",
    "\n",
    "# import base packages into the namespace for this program\n",
    "import numpy as np\n",
    "import matplotlib.pyplot as plt\n",
    "plt.style.use('ggplot')\n",
    "import seaborn as sns\n",
    "from pandas.plotting import scatter_matrix\n",
    "\n",
    "# import sklearn packages \n",
    "from sklearn.metrics import make_scorer, roc_auc_score, classification_report, confusion_matrix, f1_score, \\\n",
    "precision_score, recall_score, precision_recall_curve, auc\n",
    "from sklearn import linear_model, metrics\n",
    "from sklearn.naive_bayes import GaussianNB\n",
    "from sklearn.svm import SVC\n",
    "from sklearn.model_selection import GridSearchCV, RepeatedStratifiedKFold, train_test_split, cross_val_score\n",
    "from sklearn.preprocessing import PowerTransformer\n",
    "\n",
    "# import of smote for imbalanced dataset\n",
    "from imblearn.over_sampling import SMOTE"
   ]
  },
  {
   "cell_type": "code",
   "execution_count": 4,
   "metadata": {
    "id": "ICouiuwkRLkb"
   },
   "outputs": [],
   "source": [
    "# output of plotting commands is displayed inline directly below the code cell that produced it\n",
    "%matplotlib inline"
   ]
  },
  {
   "cell_type": "code",
   "execution_count": 5,
   "metadata": {
    "id": "d4TL9cmXRLkc"
   },
   "outputs": [],
   "source": [
    "# seed value for random number generators to obtain reproducible results\n",
    "RANDOM_SEED = 42"
   ]
  },
  {
   "cell_type": "code",
   "execution_count": 6,
   "metadata": {
    "colab": {
     "base_uri": "https://localhost:8080/"
    },
    "id": "e1LOZiILRW9f",
    "outputId": "376eb4d2-a913-4e10-8189-5bdd310cd0c7"
   },
   "outputs": [],
   "source": [
    "# #S2 Mount Google Drive to Colab Enviorment\n",
    "# from google.colab import drive\n",
    "# drive.mount('/content/gdrive')"
   ]
  },
  {
   "cell_type": "code",
   "execution_count": 7,
   "metadata": {
    "colab": {
     "base_uri": "https://localhost:8080/",
     "height": 103
    },
    "id": "beS3I3mpReS6",
    "outputId": "83ae229c-6032-49d5-d54f-a8c3b3380e78"
   },
   "outputs": [],
   "source": [
    "# #S3 Establish working directory\n",
    "# import os # Operation System\n",
    "# os.getcwd()\n",
    "# %cd /content/gdrive/My Drive/Assignments/3/\n",
    "# !pwd\n",
    "# !ls\n",
    "# print('Working Directory')\n",
    "# print(os.getcwd())\n",
    "# work_dir = \"/content/gdrive/My Drive/Assignments/3/\""
   ]
  },
  {
   "cell_type": "code",
   "execution_count": 8,
   "metadata": {
    "colab": {
     "base_uri": "https://localhost:8080/",
     "height": 612
    },
    "id": "tzhjn8GzRLkc",
    "outputId": "e0001f55-da59-4ce3-e42d-fffb8629d711"
   },
   "outputs": [
    {
     "data": {
      "text/html": [
       "<div>\n",
       "<style scoped>\n",
       "    .dataframe tbody tr th:only-of-type {\n",
       "        vertical-align: middle;\n",
       "    }\n",
       "\n",
       "    .dataframe tbody tr th {\n",
       "        vertical-align: top;\n",
       "    }\n",
       "\n",
       "    .dataframe thead th {\n",
       "        text-align: right;\n",
       "    }\n",
       "</style>\n",
       "<table border=\"1\" class=\"dataframe\">\n",
       "  <thead>\n",
       "    <tr style=\"text-align: right;\">\n",
       "      <th></th>\n",
       "      <th>age</th>\n",
       "      <th>job</th>\n",
       "      <th>marital</th>\n",
       "      <th>education</th>\n",
       "      <th>default</th>\n",
       "      <th>balance</th>\n",
       "      <th>housing</th>\n",
       "      <th>loan</th>\n",
       "      <th>contact</th>\n",
       "      <th>day</th>\n",
       "      <th>month</th>\n",
       "      <th>duration</th>\n",
       "      <th>campaign</th>\n",
       "      <th>pdays</th>\n",
       "      <th>previous</th>\n",
       "      <th>poutcome</th>\n",
       "      <th>response</th>\n",
       "    </tr>\n",
       "  </thead>\n",
       "  <tbody>\n",
       "    <tr>\n",
       "      <th>0</th>\n",
       "      <td>30</td>\n",
       "      <td>unemployed</td>\n",
       "      <td>married</td>\n",
       "      <td>primary</td>\n",
       "      <td>no</td>\n",
       "      <td>1787</td>\n",
       "      <td>no</td>\n",
       "      <td>no</td>\n",
       "      <td>cellular</td>\n",
       "      <td>19</td>\n",
       "      <td>oct</td>\n",
       "      <td>79</td>\n",
       "      <td>1</td>\n",
       "      <td>-1</td>\n",
       "      <td>0</td>\n",
       "      <td>unknown</td>\n",
       "      <td>no</td>\n",
       "    </tr>\n",
       "    <tr>\n",
       "      <th>1</th>\n",
       "      <td>33</td>\n",
       "      <td>services</td>\n",
       "      <td>married</td>\n",
       "      <td>secondary</td>\n",
       "      <td>no</td>\n",
       "      <td>4789</td>\n",
       "      <td>yes</td>\n",
       "      <td>yes</td>\n",
       "      <td>cellular</td>\n",
       "      <td>11</td>\n",
       "      <td>may</td>\n",
       "      <td>220</td>\n",
       "      <td>1</td>\n",
       "      <td>339</td>\n",
       "      <td>4</td>\n",
       "      <td>failure</td>\n",
       "      <td>no</td>\n",
       "    </tr>\n",
       "    <tr>\n",
       "      <th>2</th>\n",
       "      <td>35</td>\n",
       "      <td>management</td>\n",
       "      <td>single</td>\n",
       "      <td>tertiary</td>\n",
       "      <td>no</td>\n",
       "      <td>1350</td>\n",
       "      <td>yes</td>\n",
       "      <td>no</td>\n",
       "      <td>cellular</td>\n",
       "      <td>16</td>\n",
       "      <td>apr</td>\n",
       "      <td>185</td>\n",
       "      <td>1</td>\n",
       "      <td>330</td>\n",
       "      <td>1</td>\n",
       "      <td>failure</td>\n",
       "      <td>no</td>\n",
       "    </tr>\n",
       "    <tr>\n",
       "      <th>3</th>\n",
       "      <td>30</td>\n",
       "      <td>management</td>\n",
       "      <td>married</td>\n",
       "      <td>tertiary</td>\n",
       "      <td>no</td>\n",
       "      <td>1476</td>\n",
       "      <td>yes</td>\n",
       "      <td>yes</td>\n",
       "      <td>unknown</td>\n",
       "      <td>3</td>\n",
       "      <td>jun</td>\n",
       "      <td>199</td>\n",
       "      <td>4</td>\n",
       "      <td>-1</td>\n",
       "      <td>0</td>\n",
       "      <td>unknown</td>\n",
       "      <td>no</td>\n",
       "    </tr>\n",
       "    <tr>\n",
       "      <th>4</th>\n",
       "      <td>59</td>\n",
       "      <td>blue-collar</td>\n",
       "      <td>married</td>\n",
       "      <td>secondary</td>\n",
       "      <td>no</td>\n",
       "      <td>0</td>\n",
       "      <td>yes</td>\n",
       "      <td>no</td>\n",
       "      <td>unknown</td>\n",
       "      <td>5</td>\n",
       "      <td>may</td>\n",
       "      <td>226</td>\n",
       "      <td>1</td>\n",
       "      <td>-1</td>\n",
       "      <td>0</td>\n",
       "      <td>unknown</td>\n",
       "      <td>no</td>\n",
       "    </tr>\n",
       "  </tbody>\n",
       "</table>\n",
       "</div>"
      ],
      "text/plain": [
       "   age          job  marital  education default  balance housing loan   contact  day month  duration  campaign  pdays  previous poutcome response\n",
       "0   30   unemployed  married    primary      no     1787      no   no  cellular   19   oct        79         1     -1         0  unknown       no\n",
       "1   33     services  married  secondary      no     4789     yes  yes  cellular   11   may       220         1    339         4  failure       no\n",
       "2   35   management   single   tertiary      no     1350     yes   no  cellular   16   apr       185         1    330         1  failure       no\n",
       "3   30   management  married   tertiary      no     1476     yes  yes   unknown    3   jun       199         4     -1         0  unknown       no\n",
       "4   59  blue-collar  married  secondary      no        0     yes   no   unknown    5   may       226         1     -1         0  unknown       no"
      ]
     },
     "execution_count": 8,
     "metadata": {},
     "output_type": "execute_result"
    },
    {
     "name": "stdout",
     "output_type": "stream",
     "text": [
      "<class 'pandas.core.frame.DataFrame'>\n",
      "RangeIndex: 4521 entries, 0 to 4520\n",
      "Data columns (total 17 columns):\n",
      " #   Column     Non-Null Count  Dtype \n",
      "---  ------     --------------  ----- \n",
      " 0   age        4521 non-null   int64 \n",
      " 1   job        4521 non-null   object\n",
      " 2   marital    4521 non-null   object\n",
      " 3   education  4521 non-null   object\n",
      " 4   default    4521 non-null   object\n",
      " 5   balance    4521 non-null   int64 \n",
      " 6   housing    4521 non-null   object\n",
      " 7   loan       4521 non-null   object\n",
      " 8   contact    4521 non-null   object\n",
      " 9   day        4521 non-null   int64 \n",
      " 10  month      4521 non-null   object\n",
      " 11  duration   4521 non-null   int64 \n",
      " 12  campaign   4521 non-null   int64 \n",
      " 13  pdays      4521 non-null   int64 \n",
      " 14  previous   4521 non-null   int64 \n",
      " 15  poutcome   4521 non-null   object\n",
      " 16  response   4521 non-null   object\n",
      "dtypes: int64(7), object(10)\n",
      "memory usage: 600.6+ KB\n"
     ]
    }
   ],
   "source": [
    "# initial work with the data set\n",
    "# bank = pd.read_csv(work_dir+'./data/bank.csv', sep = ';')\n",
    "bank = pd.read_csv('bank.csv', sep = ';')\n",
    "\n",
    "# print first few rows of df \n",
    "bank.head()\n",
    "bank.info()"
   ]
  },
  {
   "cell_type": "code",
   "execution_count": 9,
   "metadata": {
    "colab": {
     "base_uri": "https://localhost:8080/"
    },
    "id": "nmPmUyHqRLkd",
    "outputId": "4fda9823-bb6c-452a-c04f-4a6d597b01a6"
   },
   "outputs": [
    {
     "name": "stdout",
     "output_type": "stream",
     "text": [
      "(4521, 17)\n"
     ]
    }
   ],
   "source": [
    "# examine the shape of original input data\n",
    "print(bank.shape)"
   ]
  },
  {
   "cell_type": "code",
   "execution_count": 10,
   "metadata": {
    "colab": {
     "base_uri": "https://localhost:8080/"
    },
    "id": "qJdTOnGORLkd",
    "outputId": "9165fc0f-3858-4e4d-f262-53916c4d35d2"
   },
   "outputs": [
    {
     "data": {
      "text/plain": [
       "(4521, 17)"
      ]
     },
     "execution_count": 10,
     "metadata": {},
     "output_type": "execute_result"
    }
   ],
   "source": [
    "# # drop observations with missing data, if any\n",
    "# bank.dropna()\n",
    "\n",
    "# examine the shape of original input data\n",
    "bank.shape"
   ]
  },
  {
   "cell_type": "code",
   "execution_count": 11,
   "metadata": {
    "colab": {
     "base_uri": "https://localhost:8080/",
     "height": 493
    },
    "id": "PLOjAvedRLkd",
    "outputId": "3c0135df-aabb-4f25-de6d-c4b129a4bb34"
   },
   "outputs": [
    {
     "data": {
      "text/plain": [
       "['age',\n",
       " 'job',\n",
       " 'marital',\n",
       " 'education',\n",
       " 'default',\n",
       " 'balance',\n",
       " 'housing',\n",
       " 'loan',\n",
       " 'contact',\n",
       " 'day',\n",
       " 'month',\n",
       " 'duration',\n",
       " 'campaign',\n",
       " 'pdays',\n",
       " 'previous',\n",
       " 'poutcome',\n",
       " 'response']"
      ]
     },
     "execution_count": 11,
     "metadata": {},
     "output_type": "execute_result"
    },
    {
     "data": {
      "text/html": [
       "<div>\n",
       "<style scoped>\n",
       "    .dataframe tbody tr th:only-of-type {\n",
       "        vertical-align: middle;\n",
       "    }\n",
       "\n",
       "    .dataframe tbody tr th {\n",
       "        vertical-align: top;\n",
       "    }\n",
       "\n",
       "    .dataframe thead th {\n",
       "        text-align: right;\n",
       "    }\n",
       "</style>\n",
       "<table border=\"1\" class=\"dataframe\">\n",
       "  <thead>\n",
       "    <tr style=\"text-align: right;\">\n",
       "      <th></th>\n",
       "      <th>age</th>\n",
       "      <th>job</th>\n",
       "      <th>marital</th>\n",
       "      <th>education</th>\n",
       "      <th>default</th>\n",
       "      <th>balance</th>\n",
       "      <th>housing</th>\n",
       "      <th>loan</th>\n",
       "      <th>contact</th>\n",
       "      <th>day</th>\n",
       "      <th>month</th>\n",
       "      <th>duration</th>\n",
       "      <th>campaign</th>\n",
       "      <th>pdays</th>\n",
       "      <th>previous</th>\n",
       "      <th>poutcome</th>\n",
       "      <th>response</th>\n",
       "    </tr>\n",
       "  </thead>\n",
       "  <tbody>\n",
       "    <tr>\n",
       "      <th>0</th>\n",
       "      <td>30</td>\n",
       "      <td>unemployed</td>\n",
       "      <td>married</td>\n",
       "      <td>primary</td>\n",
       "      <td>no</td>\n",
       "      <td>1787</td>\n",
       "      <td>no</td>\n",
       "      <td>no</td>\n",
       "      <td>cellular</td>\n",
       "      <td>19</td>\n",
       "      <td>oct</td>\n",
       "      <td>79</td>\n",
       "      <td>1</td>\n",
       "      <td>-1</td>\n",
       "      <td>0</td>\n",
       "      <td>unknown</td>\n",
       "      <td>no</td>\n",
       "    </tr>\n",
       "    <tr>\n",
       "      <th>1</th>\n",
       "      <td>33</td>\n",
       "      <td>services</td>\n",
       "      <td>married</td>\n",
       "      <td>secondary</td>\n",
       "      <td>no</td>\n",
       "      <td>4789</td>\n",
       "      <td>yes</td>\n",
       "      <td>yes</td>\n",
       "      <td>cellular</td>\n",
       "      <td>11</td>\n",
       "      <td>may</td>\n",
       "      <td>220</td>\n",
       "      <td>1</td>\n",
       "      <td>339</td>\n",
       "      <td>4</td>\n",
       "      <td>failure</td>\n",
       "      <td>no</td>\n",
       "    </tr>\n",
       "    <tr>\n",
       "      <th>2</th>\n",
       "      <td>35</td>\n",
       "      <td>management</td>\n",
       "      <td>single</td>\n",
       "      <td>tertiary</td>\n",
       "      <td>no</td>\n",
       "      <td>1350</td>\n",
       "      <td>yes</td>\n",
       "      <td>no</td>\n",
       "      <td>cellular</td>\n",
       "      <td>16</td>\n",
       "      <td>apr</td>\n",
       "      <td>185</td>\n",
       "      <td>1</td>\n",
       "      <td>330</td>\n",
       "      <td>1</td>\n",
       "      <td>failure</td>\n",
       "      <td>no</td>\n",
       "    </tr>\n",
       "    <tr>\n",
       "      <th>3</th>\n",
       "      <td>30</td>\n",
       "      <td>management</td>\n",
       "      <td>married</td>\n",
       "      <td>tertiary</td>\n",
       "      <td>no</td>\n",
       "      <td>1476</td>\n",
       "      <td>yes</td>\n",
       "      <td>yes</td>\n",
       "      <td>unknown</td>\n",
       "      <td>3</td>\n",
       "      <td>jun</td>\n",
       "      <td>199</td>\n",
       "      <td>4</td>\n",
       "      <td>-1</td>\n",
       "      <td>0</td>\n",
       "      <td>unknown</td>\n",
       "      <td>no</td>\n",
       "    </tr>\n",
       "    <tr>\n",
       "      <th>4</th>\n",
       "      <td>59</td>\n",
       "      <td>blue-collar</td>\n",
       "      <td>married</td>\n",
       "      <td>secondary</td>\n",
       "      <td>no</td>\n",
       "      <td>0</td>\n",
       "      <td>yes</td>\n",
       "      <td>no</td>\n",
       "      <td>unknown</td>\n",
       "      <td>5</td>\n",
       "      <td>may</td>\n",
       "      <td>226</td>\n",
       "      <td>1</td>\n",
       "      <td>-1</td>\n",
       "      <td>0</td>\n",
       "      <td>unknown</td>\n",
       "      <td>no</td>\n",
       "    </tr>\n",
       "  </tbody>\n",
       "</table>\n",
       "</div>"
      ],
      "text/plain": [
       "   age          job  marital  education default  balance housing loan   contact  day month  duration  campaign  pdays  previous poutcome response\n",
       "0   30   unemployed  married    primary      no     1787      no   no  cellular   19   oct        79         1     -1         0  unknown       no\n",
       "1   33     services  married  secondary      no     4789     yes  yes  cellular   11   may       220         1    339         4  failure       no\n",
       "2   35   management   single   tertiary      no     1350     yes   no  cellular   16   apr       185         1    330         1  failure       no\n",
       "3   30   management  married   tertiary      no     1476     yes  yes   unknown    3   jun       199         4     -1         0  unknown       no\n",
       "4   59  blue-collar  married  secondary      no        0     yes   no   unknown    5   may       226         1     -1         0  unknown       no"
      ]
     },
     "execution_count": 11,
     "metadata": {},
     "output_type": "execute_result"
    }
   ],
   "source": [
    "# look at the list of column names, note that y is the response\n",
    "list(bank.columns.values)\n",
    "\n",
    "# look at the beginning of the DataFrame\n",
    "bank.head()"
   ]
  },
  {
   "cell_type": "code",
   "execution_count": 12,
   "metadata": {
    "colab": {
     "base_uri": "https://localhost:8080/",
     "height": 297
    },
    "id": "DKsvFzAKRLke",
    "outputId": "4595dbc4-a9f9-4a81-b4a3-5b01ddf2c06c"
   },
   "outputs": [
    {
     "data": {
      "text/html": [
       "<div>\n",
       "<style scoped>\n",
       "    .dataframe tbody tr th:only-of-type {\n",
       "        vertical-align: middle;\n",
       "    }\n",
       "\n",
       "    .dataframe tbody tr th {\n",
       "        vertical-align: top;\n",
       "    }\n",
       "\n",
       "    .dataframe thead th {\n",
       "        text-align: right;\n",
       "    }\n",
       "</style>\n",
       "<table border=\"1\" class=\"dataframe\">\n",
       "  <thead>\n",
       "    <tr style=\"text-align: right;\">\n",
       "      <th></th>\n",
       "      <th>age</th>\n",
       "      <th>balance</th>\n",
       "      <th>day</th>\n",
       "      <th>duration</th>\n",
       "      <th>campaign</th>\n",
       "      <th>pdays</th>\n",
       "      <th>previous</th>\n",
       "    </tr>\n",
       "  </thead>\n",
       "  <tbody>\n",
       "    <tr>\n",
       "      <th>count</th>\n",
       "      <td>4521.000000</td>\n",
       "      <td>4521.000000</td>\n",
       "      <td>4521.000000</td>\n",
       "      <td>4521.000000</td>\n",
       "      <td>4521.000000</td>\n",
       "      <td>4521.000000</td>\n",
       "      <td>4521.000000</td>\n",
       "    </tr>\n",
       "    <tr>\n",
       "      <th>mean</th>\n",
       "      <td>41.170095</td>\n",
       "      <td>1422.657819</td>\n",
       "      <td>15.915284</td>\n",
       "      <td>263.961292</td>\n",
       "      <td>2.793630</td>\n",
       "      <td>39.766645</td>\n",
       "      <td>0.542579</td>\n",
       "    </tr>\n",
       "    <tr>\n",
       "      <th>std</th>\n",
       "      <td>10.576211</td>\n",
       "      <td>3009.638142</td>\n",
       "      <td>8.247667</td>\n",
       "      <td>259.856633</td>\n",
       "      <td>3.109807</td>\n",
       "      <td>100.121124</td>\n",
       "      <td>1.693562</td>\n",
       "    </tr>\n",
       "    <tr>\n",
       "      <th>min</th>\n",
       "      <td>19.000000</td>\n",
       "      <td>-3313.000000</td>\n",
       "      <td>1.000000</td>\n",
       "      <td>4.000000</td>\n",
       "      <td>1.000000</td>\n",
       "      <td>-1.000000</td>\n",
       "      <td>0.000000</td>\n",
       "    </tr>\n",
       "    <tr>\n",
       "      <th>25%</th>\n",
       "      <td>33.000000</td>\n",
       "      <td>69.000000</td>\n",
       "      <td>9.000000</td>\n",
       "      <td>104.000000</td>\n",
       "      <td>1.000000</td>\n",
       "      <td>-1.000000</td>\n",
       "      <td>0.000000</td>\n",
       "    </tr>\n",
       "    <tr>\n",
       "      <th>50%</th>\n",
       "      <td>39.000000</td>\n",
       "      <td>444.000000</td>\n",
       "      <td>16.000000</td>\n",
       "      <td>185.000000</td>\n",
       "      <td>2.000000</td>\n",
       "      <td>-1.000000</td>\n",
       "      <td>0.000000</td>\n",
       "    </tr>\n",
       "    <tr>\n",
       "      <th>75%</th>\n",
       "      <td>49.000000</td>\n",
       "      <td>1480.000000</td>\n",
       "      <td>21.000000</td>\n",
       "      <td>329.000000</td>\n",
       "      <td>3.000000</td>\n",
       "      <td>-1.000000</td>\n",
       "      <td>0.000000</td>\n",
       "    </tr>\n",
       "    <tr>\n",
       "      <th>max</th>\n",
       "      <td>87.000000</td>\n",
       "      <td>71188.000000</td>\n",
       "      <td>31.000000</td>\n",
       "      <td>3025.000000</td>\n",
       "      <td>50.000000</td>\n",
       "      <td>871.000000</td>\n",
       "      <td>25.000000</td>\n",
       "    </tr>\n",
       "  </tbody>\n",
       "</table>\n",
       "</div>"
      ],
      "text/plain": [
       "               age       balance          day     duration     campaign        pdays     previous\n",
       "count  4521.000000   4521.000000  4521.000000  4521.000000  4521.000000  4521.000000  4521.000000\n",
       "mean     41.170095   1422.657819    15.915284   263.961292     2.793630    39.766645     0.542579\n",
       "std      10.576211   3009.638142     8.247667   259.856633     3.109807   100.121124     1.693562\n",
       "min      19.000000  -3313.000000     1.000000     4.000000     1.000000    -1.000000     0.000000\n",
       "25%      33.000000     69.000000     9.000000   104.000000     1.000000    -1.000000     0.000000\n",
       "50%      39.000000    444.000000    16.000000   185.000000     2.000000    -1.000000     0.000000\n",
       "75%      49.000000   1480.000000    21.000000   329.000000     3.000000    -1.000000     0.000000\n",
       "max      87.000000  71188.000000    31.000000  3025.000000    50.000000   871.000000    25.000000"
      ]
     },
     "execution_count": 12,
     "metadata": {},
     "output_type": "execute_result"
    }
   ],
   "source": [
    "# Descriptive Statistics for non-categorical variables\n",
    "bank.describe()"
   ]
  },
  {
   "cell_type": "code",
   "execution_count": 13,
   "metadata": {
    "colab": {
     "base_uri": "https://localhost:8080/",
     "height": 717
    },
    "id": "CTuxbSKCRLke",
    "outputId": "a6a33176-3226-4d8b-c0d7-3a2c24e9cdfb"
   },
   "outputs": [
    {
     "data": {
      "image/png": "[encoded data removed]",
      "text/plain": [
       "<Figure size 1296x864 with 9 Axes>"
      ]
     },
     "metadata": {
      "needs_background": "light"
     },
     "output_type": "display_data"
    }
   ],
   "source": [
    "# Check distributions of non-categorical variables\n",
    "bank.hist(figsize=(18,12));"
   ]
  },
  {
   "cell_type": "code",
   "execution_count": 14,
   "metadata": {
    "colab": {
     "base_uri": "https://localhost:8080/"
    },
    "id": "oZYcselnRLke",
    "outputId": "8d456d58-090e-4c68-de30-0c99a41c314a"
   },
   "outputs": [
    {
     "data": {
      "text/plain": [
       "no     4000\n",
       "yes     521\n",
       "Name: response, dtype: int64"
      ]
     },
     "execution_count": 14,
     "metadata": {},
     "output_type": "execute_result"
    }
   ],
   "source": [
    "bank['response'].value_counts()"
   ]
  },
  {
   "cell_type": "code",
   "execution_count": 15,
   "metadata": {
    "colab": {
     "base_uri": "https://localhost:8080/",
     "height": 649
    },
    "id": "H_sg386zRLke",
    "outputId": "f94a2137-cfb9-4d05-b9f8-cf5bd971e610"
   },
   "outputs": [
    {
     "data": {
      "text/plain": [
       "<Figure size 432x288 with 0 Axes>"
      ]
     },
     "metadata": {},
     "output_type": "display_data"
    },
    {
     "data": {
      "image/png": "[encoded data removed]",
      "text/plain": [
       "<Figure size 864x864 with 2 Axes>"
      ]
     },
     "metadata": {
      "needs_background": "light"
     },
     "output_type": "display_data"
    }
   ],
   "source": [
    "# correlation heat map setup for seaborn\n",
    "def corr_chart(df_corr):\n",
    "    corr=df_corr.corr()\n",
    "    #screen top half to get a triangle\n",
    "    top = np.zeros_like(corr, dtype=np.bool)\n",
    "    top[np.triu_indices_from(top)] = True\n",
    "    fig=plt.figure()\n",
    "    fig, ax = plt.subplots(figsize=(12,12))\n",
    "    sns.heatmap(corr, mask=top, cmap='coolwarm', \n",
    "        center = 0, square=True, \n",
    "        linewidths=.5, cbar_kws={'shrink':.5}, \n",
    "        annot = True, annot_kws={'size': 9}, fmt = '.3f')           \n",
    "    plt.xticks(rotation=45) # rotate variable labels on columns (x axis)\n",
    "    plt.yticks(rotation=0) # use horizontal variable labels on rows (y axis)\n",
    "    plt.title('Correlation Heat Map')   \n",
    "    plt.savefig('plot-corr-map.pdf', \n",
    "        bbox_inches = 'tight', dpi=None, facecolor='w', edgecolor='b', \n",
    "        orientation='portrait', papertype=None, format=None, \n",
    "        transparent=True, pad_inches=0.25, frameon=None)      \n",
    "\n",
    "np.set_printoptions(precision=3)\n",
    "\n",
    "# examine correlations\n",
    "corr_chart(df_corr = bank) "
   ]
  },
  {
   "cell_type": "code",
   "execution_count": 16,
   "metadata": {
    "colab": {
     "base_uri": "https://localhost:8080/"
    },
    "id": "-o5wAmL-RLkf",
    "outputId": "df0682d6-68a0-4f4f-9403-b07529677a99"
   },
   "outputs": [
    {
     "name": "stdout",
     "output_type": "stream",
     "text": [
      "(4521, 4)\n"
     ]
    }
   ],
   "source": [
    "# mapping function to convert text no/yes to integer 0/1\n",
    "convert_to_binary = {'no' : 0, 'yes' : 1}\n",
    "\n",
    "# define binary variable for having credit in default\n",
    "default = bank['default'].map(convert_to_binary)\n",
    "\n",
    "# define binary variable for having a mortgage or housing loan\n",
    "housing = bank['housing'].map(convert_to_binary)\n",
    "\n",
    "# define binary variable for having a personal loan\n",
    "loan = bank['loan'].map(convert_to_binary)\n",
    "\n",
    "# define response variable to use in the model\n",
    "response = bank['response'].map(convert_to_binary)\n",
    "\n",
    "# gather three explanatory variables and response into a numpy array \n",
    "# here we use .T to obtain the transpose for the structure we want\n",
    "model_data = np.array([np.array(default), np.array(housing), np.array(loan), \n",
    "    np.array(response)]).T\n",
    "\n",
    "# examine the shape of model_data, which we will use in subsequent modeling\n",
    "print(model_data.shape)"
   ]
  },
  {
   "cell_type": "code",
   "execution_count": 17,
   "metadata": {
    "colab": {
     "base_uri": "https://localhost:8080/"
    },
    "id": "VfIirUb5RLkf",
    "outputId": "2a1cd4f3-b9fb-418a-c294-64adcca6213c"
   },
   "outputs": [
    {
     "name": "stdout",
     "output_type": "stream",
     "text": [
      "[[0 0 0 0]\n",
      " [0 1 1 0]\n",
      " [0 1 0 0]\n",
      " ...\n",
      " [0 0 0 0]\n",
      " [0 0 0 0]\n",
      " [0 1 1 0]]\n"
     ]
    }
   ],
   "source": [
    "#Check \"model_data\" structure\n",
    "print(model_data)"
   ]
  },
  {
   "cell_type": "code",
   "execution_count": 18,
   "metadata": {
    "colab": {
     "base_uri": "https://localhost:8080/",
     "height": 359
    },
    "id": "oeYLsmMmRLkg",
    "outputId": "d291398d-49ab-40fc-e9a2-916045ccdca2"
   },
   "outputs": [
    {
     "data": {
      "text/html": [
       "<div>\n",
       "<style scoped>\n",
       "    .dataframe tbody tr th:only-of-type {\n",
       "        vertical-align: middle;\n",
       "    }\n",
       "\n",
       "    .dataframe tbody tr th {\n",
       "        vertical-align: top;\n",
       "    }\n",
       "\n",
       "    .dataframe thead th {\n",
       "        text-align: right;\n",
       "    }\n",
       "</style>\n",
       "<table border=\"1\" class=\"dataframe\">\n",
       "  <thead>\n",
       "    <tr style=\"text-align: right;\">\n",
       "      <th></th>\n",
       "      <th></th>\n",
       "      <th>response</th>\n",
       "      <th>no</th>\n",
       "      <th>yes</th>\n",
       "      <th>All</th>\n",
       "    </tr>\n",
       "    <tr>\n",
       "      <th>default</th>\n",
       "      <th>loan</th>\n",
       "      <th>housing</th>\n",
       "      <th></th>\n",
       "      <th></th>\n",
       "      <th></th>\n",
       "    </tr>\n",
       "  </thead>\n",
       "  <tbody>\n",
       "    <tr>\n",
       "      <th rowspan=\"4\" valign=\"top\">no</th>\n",
       "      <th rowspan=\"2\" valign=\"top\">no</th>\n",
       "      <th>no</th>\n",
       "      <td>1381</td>\n",
       "      <td>279</td>\n",
       "      <td>1660</td>\n",
       "    </tr>\n",
       "    <tr>\n",
       "      <th>yes</th>\n",
       "      <td>1927</td>\n",
       "      <td>192</td>\n",
       "      <td>2119</td>\n",
       "    </tr>\n",
       "    <tr>\n",
       "      <th rowspan=\"2\" valign=\"top\">yes</th>\n",
       "      <th>no</th>\n",
       "      <td>255</td>\n",
       "      <td>16</td>\n",
       "      <td>271</td>\n",
       "    </tr>\n",
       "    <tr>\n",
       "      <th>yes</th>\n",
       "      <td>370</td>\n",
       "      <td>25</td>\n",
       "      <td>395</td>\n",
       "    </tr>\n",
       "    <tr>\n",
       "      <th rowspan=\"4\" valign=\"top\">yes</th>\n",
       "      <th rowspan=\"2\" valign=\"top\">no</th>\n",
       "      <th>no</th>\n",
       "      <td>13</td>\n",
       "      <td>4</td>\n",
       "      <td>17</td>\n",
       "    </tr>\n",
       "    <tr>\n",
       "      <th>yes</th>\n",
       "      <td>31</td>\n",
       "      <td>3</td>\n",
       "      <td>34</td>\n",
       "    </tr>\n",
       "    <tr>\n",
       "      <th rowspan=\"2\" valign=\"top\">yes</th>\n",
       "      <th>no</th>\n",
       "      <td>12</td>\n",
       "      <td>2</td>\n",
       "      <td>14</td>\n",
       "    </tr>\n",
       "    <tr>\n",
       "      <th>yes</th>\n",
       "      <td>11</td>\n",
       "      <td>0</td>\n",
       "      <td>11</td>\n",
       "    </tr>\n",
       "    <tr>\n",
       "      <th>All</th>\n",
       "      <th></th>\n",
       "      <th></th>\n",
       "      <td>4000</td>\n",
       "      <td>521</td>\n",
       "      <td>4521</td>\n",
       "    </tr>\n",
       "  </tbody>\n",
       "</table>\n",
       "</div>"
      ],
      "text/plain": [
       "response                no  yes   All\n",
       "default loan housing                 \n",
       "no      no   no       1381  279  1660\n",
       "             yes      1927  192  2119\n",
       "        yes  no        255   16   271\n",
       "             yes       370   25   395\n",
       "yes     no   no         13    4    17\n",
       "             yes        31    3    34\n",
       "        yes  no         12    2    14\n",
       "             yes        11    0    11\n",
       "All                   4000  521  4521"
      ]
     },
     "execution_count": 18,
     "metadata": {},
     "output_type": "execute_result"
    }
   ],
   "source": [
    "# Check the frequency of \"default\", \"loan\", \"housing\" by \"response\"\n",
    "(pd.crosstab([bank['default'],bank['loan'],bank['housing']], [bank['response']], margins=True))\n",
    "\n",
    "# pd.crosstab([bank['default'],bank['loan'],bank['housing']],columns=bank['response'])\n",
    "\n",
    "# # Check the frequency of \"default\", \"loan\", \"housing\" by \"response\"\n",
    "# print(pd.crosstab([bank['default'],bank['loan'],bank['housing']], [bank['response']], margins=True))"
   ]
  },
  {
   "cell_type": "code",
   "execution_count": 19,
   "metadata": {
    "id": "vlqxTk3eRLkg"
   },
   "outputs": [],
   "source": [
    "ct = (pd.crosstab([bank['default'],bank['loan'],bank['housing']], \n",
    "                  [bank['response']], margins=True))\n",
    "ct_nm = (pd.crosstab([bank['default'],bank['loan'],bank['housing']], \n",
    "                  [bank['response']], margins=False))\n",
    "ct2 = pd.crosstab(bank.response,bank.default)\n",
    "ct3 = pd.crosstab(bank.response,bank.loan)\n",
    "ct4 = pd.crosstab(bank.response,bank.housing)"
   ]
  },
  {
   "cell_type": "code",
   "execution_count": 20,
   "metadata": {
    "colab": {
     "base_uri": "https://localhost:8080/",
     "height": 1000
    },
    "id": "QI1F7yriRLkg",
    "outputId": "68fe8c27-b23a-41bb-f544-ea9671b07b10"
   },
   "outputs": [
    {
     "data": {
      "image/png": "[encoded data removed]",
      "text/plain": [
       "<Figure size 432x288 with 2 Axes>"
      ]
     },
     "metadata": {
      "needs_background": "light"
     },
     "output_type": "display_data"
    },
    {
     "data": {
      "text/plain": [
       "<Figure size 432x288 with 0 Axes>"
      ]
     },
     "metadata": {},
     "output_type": "display_data"
    },
    {
     "data": {
      "image/png": "[encoded data removed]",
      "text/plain": [
       "<Figure size 432x288 with 1 Axes>"
      ]
     },
     "metadata": {
      "needs_background": "light"
     },
     "output_type": "display_data"
    },
    {
     "data": {
      "image/png": "[encoded data removed]",
      "text/plain": [
       "<Figure size 432x288 with 1 Axes>"
      ]
     },
     "metadata": {
      "needs_background": "light"
     },
     "output_type": "display_data"
    },
    {
     "data": {
      "image/png": "[encoded data removed]",
      "text/plain": [
       "<Figure size 432x288 with 1 Axes>"
      ]
     },
     "metadata": {
      "needs_background": "light"
     },
     "output_type": "display_data"
    }
   ],
   "source": [
    "plt.figure()\n",
    "sns.heatmap(ct_nm,cmap=\"Spectral\", annot=True, cbar=True,fmt='g');\n",
    "\n",
    "plt.figure()\n",
    "ct2.plot.bar(stacked=True)\n",
    "plt.legend(title='default - Has credit in default?')\n",
    "plt.title(\"Default Credit vs Response\")\n",
    "plt.show();\n",
    "\n",
    "ct3.plot.bar(stacked=True)\n",
    "plt.legend(title='loan- Has personal loan?')\n",
    "plt.title(\"Personal Loan vs Response\")\n",
    "plt.show();\n",
    "\n",
    "ct4.plot.bar(stacked=True)\n",
    "plt.legend(title='housing - Has housing loan?')\n",
    "plt.title(\"Housing Loan vs Response\")\n",
    "plt.show();\n"
   ]
  },
  {
   "cell_type": "code",
   "execution_count": 21,
   "metadata": {
    "colab": {
     "base_uri": "https://localhost:8080/",
     "height": 386
    },
    "id": "ebMAsJY5RLkh",
    "outputId": "3c921f12-df8b-4e07-c698-8cb4c561b5df"
   },
   "outputs": [
    {
     "data": {
      "text/plain": [
       "<seaborn.axisgrid.FacetGrid at 0x24e800cf0d0>"
      ]
     },
     "execution_count": 21,
     "metadata": {},
     "output_type": "execute_result"
    },
    {
     "data": {
      "image/png": "[encoded data removed]",
      "text/plain": [
       "<Figure size 1440x360 with 4 Axes>"
      ]
     },
     "metadata": {
      "needs_background": "light"
     },
     "output_type": "display_data"
    }
   ],
   "source": [
    "sns.catplot(x=\"response\", col=\"poutcome\", data=bank, kind=\"count\")"
   ]
  },
  {
   "cell_type": "markdown",
   "metadata": {
    "id": "_vfUwQdJRLkh"
   },
   "source": [
    "####  The rest of the program should set up the modeling methods & evaluation within a cross-validation design"
   ]
  },
  {
   "cell_type": "code",
   "execution_count": 22,
   "metadata": {
    "colab": {
     "base_uri": "https://localhost:8080/"
    },
    "id": "uRcfpzQNRLkh",
    "outputId": "9e309899-8f01-4325-d3ec-f7857c0348d5"
   },
   "outputs": [
    {
     "name": "stdout",
     "output_type": "stream",
     "text": [
      "\n",
      "Data dimensions: (4521, 4)\n"
     ]
    }
   ],
   "source": [
    "# shuffle is by the first index, which is the rows\n",
    "np.random.seed(RANDOM_SEED)\n",
    "# np.random.shuffle(model_data)\n",
    "\n",
    "# dimensions of the additive model X input and y response\n",
    "print('\\nData dimensions:', model_data.shape)\n",
    "\n",
    "# --------------------------------------------------------"
   ]
  },
  {
   "cell_type": "markdown",
   "metadata": {},
   "source": [
    "## Convert np.array to pandas df for modeling, as it is easier to work with"
   ]
  },
  {
   "cell_type": "code",
   "execution_count": 23,
   "metadata": {},
   "outputs": [
    {
     "data": {
      "text/html": [
       "<div>\n",
       "<style scoped>\n",
       "    .dataframe tbody tr th:only-of-type {\n",
       "        vertical-align: middle;\n",
       "    }\n",
       "\n",
       "    .dataframe tbody tr th {\n",
       "        vertical-align: top;\n",
       "    }\n",
       "\n",
       "    .dataframe thead th {\n",
       "        text-align: right;\n",
       "    }\n",
       "</style>\n",
       "<table border=\"1\" class=\"dataframe\">\n",
       "  <thead>\n",
       "    <tr style=\"text-align: right;\">\n",
       "      <th></th>\n",
       "      <th>Default</th>\n",
       "      <th>Housing</th>\n",
       "      <th>Loan</th>\n",
       "      <th>Response</th>\n",
       "    </tr>\n",
       "  </thead>\n",
       "  <tbody>\n",
       "    <tr>\n",
       "      <th>0</th>\n",
       "      <td>0</td>\n",
       "      <td>0</td>\n",
       "      <td>0</td>\n",
       "      <td>0</td>\n",
       "    </tr>\n",
       "    <tr>\n",
       "      <th>1</th>\n",
       "      <td>0</td>\n",
       "      <td>1</td>\n",
       "      <td>1</td>\n",
       "      <td>0</td>\n",
       "    </tr>\n",
       "    <tr>\n",
       "      <th>2</th>\n",
       "      <td>0</td>\n",
       "      <td>1</td>\n",
       "      <td>0</td>\n",
       "      <td>0</td>\n",
       "    </tr>\n",
       "    <tr>\n",
       "      <th>3</th>\n",
       "      <td>0</td>\n",
       "      <td>1</td>\n",
       "      <td>1</td>\n",
       "      <td>0</td>\n",
       "    </tr>\n",
       "    <tr>\n",
       "      <th>4</th>\n",
       "      <td>0</td>\n",
       "      <td>1</td>\n",
       "      <td>0</td>\n",
       "      <td>0</td>\n",
       "    </tr>\n",
       "  </tbody>\n",
       "</table>\n",
       "</div>"
      ],
      "text/plain": [
       "   Default  Housing  Loan  Response\n",
       "0        0        0     0         0\n",
       "1        0        1     1         0\n",
       "2        0        1     0         0\n",
       "3        0        1     1         0\n",
       "4        0        1     0         0"
      ]
     },
     "execution_count": 23,
     "metadata": {},
     "output_type": "execute_result"
    }
   ],
   "source": [
    "model_df = pd.DataFrame({'Default': model_data[:, 0], 'Housing': model_data[:, 1], 'Loan': model_data[:, 2], 'Response': model_data[:, 3]})\n",
    "model_df.head()"
   ]
  },
  {
   "cell_type": "markdown",
   "metadata": {},
   "source": [
    "## Split Dataset into test/train, check to ensure spilt and binary ratios match between train and test data"
   ]
  },
  {
   "cell_type": "code",
   "execution_count": 24,
   "metadata": {},
   "outputs": [
    {
     "data": {
      "text/plain": [
       "(3616, 3616, 905, 905, 4521)"
      ]
     },
     "execution_count": 24,
     "metadata": {},
     "output_type": "execute_result"
    }
   ],
   "source": [
    "X = model_df.iloc[:, 0:3]\n",
    "y = model_df.iloc[:, 3]\n",
    "x_train, x_test, y_train, y_test = train_test_split(X, y, test_size = 0.2, stratify = y)\n",
    "\n",
    "# check split of data\n",
    "len(x_train), len(y_train), len(x_test), len(y_test), len(model_df)"
   ]
  },
  {
   "cell_type": "code",
   "execution_count": 25,
   "metadata": {},
   "outputs": [
    {
     "name": "stdout",
     "output_type": "stream",
     "text": [
      "0    0.884679\n",
      "1    0.115321\n",
      "Name: Response, dtype: float64\n",
      "0    0.885083\n",
      "1    0.114917\n",
      "Name: Response, dtype: float64\n"
     ]
    }
   ],
   "source": [
    "print(y_train.value_counts(normalize=True))\n",
    "print(y_test.value_counts(normalize=True))"
   ]
  },
  {
   "cell_type": "markdown",
   "metadata": {},
   "source": [
    "## Employ SMOTE on dataset. We are using SMOTE because of the imbalance in the response variable. This is an oversampling technique"
   ]
  },
  {
   "cell_type": "code",
   "execution_count": 26,
   "metadata": {},
   "outputs": [
    {
     "name": "stdout",
     "output_type": "stream",
     "text": [
      "(6398, 3)\n",
      "(6398,)\n",
      "0    0.5\n",
      "1    0.5\n",
      "Name: Response, dtype: float64\n"
     ]
    }
   ],
   "source": [
    "sm = SMOTE()\n",
    "x_train, y_train = sm.fit_resample(x_train, y_train)\n",
    "\n",
    "# check shape of x_train and y_train, and new response variable ratio\n",
    "print(x_train.shape)\n",
    "print(y_train.shape)\n",
    "print(y_train.value_counts(normalize = True))"
   ]
  },
  {
   "cell_type": "markdown",
   "metadata": {},
   "source": [
    "## Develop individual models, employing hyperparameter tuning and cross-validation within each function"
   ]
  },
  {
   "cell_type": "markdown",
   "metadata": {},
   "source": [
    "## Model 1: Logistic Regression "
   ]
  },
  {
   "cell_type": "code",
   "execution_count": 27,
   "metadata": {},
   "outputs": [
    {
     "name": "stdout",
     "output_type": "stream",
     "text": [
      "{'C': 0.040949150623804234, 'penalty': 'l2', 'solver': 'liblinear'}\n",
      "0.6057928187451018\n"
     ]
    },
    {
     "data": {
      "text/plain": [
       "LogisticRegression(C=0.040949150623804234, random_state=42, solver='liblinear')"
      ]
     },
     "execution_count": 27,
     "metadata": {},
     "output_type": "execute_result"
    }
   ],
   "source": [
    "def createRandomGrid():\n",
    "    # hyperparameters for logistic regression\n",
    "    C = np.logspace(-4, 4, 50)\n",
    "    penalty = ['none', 'l1', 'l2', 'elasticnet']\n",
    "    solver = ['newton-cg', 'lbfgs', 'liblinear', 'sag', 'saga']\n",
    "    \n",
    "    random_grid = {\"C\": C ,\n",
    "             \"penalty\": penalty, \n",
    "             \"solver\": solver\n",
    "              }\n",
    "        \n",
    "    \n",
    "    return random_grid\n",
    "\n",
    "def runCLF(random_grid, x_train, y_train):\n",
    "    \n",
    "    #rmse_score = make_scorer(rmse, greater_is_better = False)\n",
    "    \n",
    "    clf = linear_model.LogisticRegression(random_state=RANDOM_SEED)\n",
    "    #cv_method = RepeatedStratifiedKFold(n_splits=10,  n_repeats=3, random_state=RANDOM_SEED)\n",
    "    grid_search = GridSearchCV(clf, random_grid, cv=10, scoring='roc_auc', n_jobs = -1)\n",
    "    grid_search.fit(x_train, y_train)\n",
    "    final = grid_search.best_params_\n",
    "    print(final)\n",
    "    print(grid_search.best_score_)\n",
    "    return grid_search.best_estimator_\n",
    "\n",
    "param_set = createRandomGrid()\n",
    "best_clf_model = runCLF(param_set, x_train, y_train)\n",
    "best_clf_model.fit(x_train,y_train)\n",
    "pickle.dump(best_clf_model, open(\"clf.pkl\", 'wb'))"
   ]
  },
  {
   "cell_type": "markdown",
   "metadata": {},
   "source": [
    "## ROC Graph: Logistic Regression\n",
    "\n",
    "Resrouces: https://github.com/finnqiao/bank-logistic/blob/master/bank-logistic-v2.ipynb"
   ]
  },
  {
   "cell_type": "code",
   "execution_count": 28,
   "metadata": {},
   "outputs": [],
   "source": [
    "def roc_curve(model):\n",
    "    probs = model.predict_proba(x_test)\n",
    "    preds = probs[:,1]\n",
    "    fpr, tpr, threshold = metrics.roc_curve(y_test, preds)\n",
    "    roc_auc = metrics.auc(fpr, tpr)\n",
    "\n",
    "    plt.figure()\n",
    "    plt.plot(fpr, tpr, label='GridSearchCV (area = %0.2f)' % roc_auc)\n",
    "    plt.plot([0, 1], [0, 1],'r--')\n",
    "    plt.xlim([0.0, 1.0])\n",
    "    plt.ylim([0.0, 1.05])\n",
    "    plt.xlabel('False Positive Rate')\n",
    "    plt.ylabel('True Positive Rate')\n",
    "    plt.title('Receiver operating characteristic')\n",
    "    plt.legend(loc=\"lower right\")\n",
    "    plt.savefig('Log_ROC')\n",
    "    plt.show()"
   ]
  },
  {
   "cell_type": "code",
   "execution_count": 29,
   "metadata": {},
   "outputs": [
    {
     "data": {
      "image/png": "[encoded data removed]",
      "text/plain": [
       "<Figure size 432x288 with 1 Axes>"
      ]
     },
     "metadata": {
      "needs_background": "light"
     },
     "output_type": "display_data"
    }
   ],
   "source": [
    "roc_curve(best_clf_model)"
   ]
  },
  {
   "cell_type": "markdown",
   "metadata": {},
   "source": [
    "## Precision-Recall Graph: Logistic Regression\n",
    "\n",
    "Resources: https://machinelearningmastery.com/roc-curves-and-precision-recall-curves-for-classification-in-python/"
   ]
  },
  {
   "cell_type": "code",
   "execution_count": 30,
   "metadata": {},
   "outputs": [],
   "source": [
    "def pr_graph(model):\n",
    "    # predict probabilities\n",
    "    lr_probs = model.predict_proba(x_test)\n",
    "    # keep probabilities for the positive outcome only\n",
    "    lr_probs = lr_probs[:, 1]\n",
    "    # predict class values\n",
    "    yhat = model.predict(x_test)\n",
    "    lr_precision, lr_recall, _ = precision_recall_curve(y_test, lr_probs)\n",
    "    lr_f1, lr_auc = f1_score(y_test, yhat), auc(lr_recall, lr_precision)\n",
    "\n",
    "    # plot the precision-recall curves\n",
    "    no_skill = len(y_test[y_test==1]) / len(y_test)\n",
    "    pyplot.plot([0, 1], [no_skill, no_skill], linestyle='--', label='No Skill')\n",
    "    pyplot.plot(lr_recall, lr_precision, marker='.', label='Logistic')\n",
    "    # axis labels\n",
    "    pyplot.xlabel('Recall')\n",
    "    pyplot.ylabel('Precision')\n",
    "    # show the legend\n",
    "    pyplot.legend()\n",
    "    # show the plot\n",
    "    pyplot.show()"
   ]
  },
  {
   "cell_type": "code",
   "execution_count": 31,
   "metadata": {},
   "outputs": [
    {
     "data": {
      "image/png": "[encoded data removed]",
      "text/plain": [
       "<Figure size 432x288 with 1 Axes>"
      ]
     },
     "metadata": {
      "needs_background": "light"
     },
     "output_type": "display_data"
    }
   ],
   "source": [
    "pr_graph(best_clf_model)"
   ]
  },
  {
   "cell_type": "markdown",
   "metadata": {},
   "source": [
    "## Naïve Bayes Classification"
   ]
  },
  {
   "cell_type": "code",
   "execution_count": 32,
   "metadata": {},
   "outputs": [
    {
     "name": "stdout",
     "output_type": "stream",
     "text": [
      "Fitting 15 folds for each of 100 candidates, totalling 1500 fits\n"
     ]
    },
    {
     "data": {
      "text/plain": [
       "GridSearchCV(cv=RepeatedStratifiedKFold(n_repeats=3, n_splits=5, random_state=42),\n",
       "             estimator=GaussianNB(),\n",
       "             param_grid={'var_smoothing': array([1.000e+00, 8.111e-01, 6.579e-01, 5.337e-01, 4.329e-01, 3.511e-01,\n",
       "       2.848e-01, 2.310e-01, 1.874e-01, 1.520e-01, 1.233e-01, 1.000e-01,\n",
       "       8.111e-02, 6.579e-02, 5.337e-02, 4.329e-02, 3.511e-02, 2.848e-02,\n",
       "       2.310e-02, 1.874e-02, 1.520e-02, 1....\n",
       "       1.000e-06, 8.111e-07, 6.579e-07, 5.337e-07, 4.329e-07, 3.511e-07,\n",
       "       2.848e-07, 2.310e-07, 1.874e-07, 1.520e-07, 1.233e-07, 1.000e-07,\n",
       "       8.111e-08, 6.579e-08, 5.337e-08, 4.329e-08, 3.511e-08, 2.848e-08,\n",
       "       2.310e-08, 1.874e-08, 1.520e-08, 1.233e-08, 1.000e-08, 8.111e-09,\n",
       "       6.579e-09, 5.337e-09, 4.329e-09, 3.511e-09, 2.848e-09, 2.310e-09,\n",
       "       1.874e-09, 1.520e-09, 1.233e-09, 1.000e-09])},\n",
       "             scoring='roc_auc', verbose=1)"
      ]
     },
     "execution_count": 32,
     "metadata": {},
     "output_type": "execute_result"
    },
    {
     "name": "stdout",
     "output_type": "stream",
     "text": [
      "Best Model Parameters: {'var_smoothing': 1.0}\n",
      "Best GNB Score: 0.6036890061069542\n"
     ]
    }
   ],
   "source": [
    "# establish Naive Bayes model\n",
    "nbc = GaussianNB()\n",
    "\n",
    "# Establish CV method and hyperparameter boundaries \n",
    "cv_method = RepeatedStratifiedKFold(n_splits=5, n_repeats=3, random_state=RANDOM_SEED)\n",
    "params_NB = {'var_smoothing': np.logspace(0,-9, num=100)}\n",
    "\n",
    "nbc_gs = GridSearchCV(estimator=nbc, param_grid=params_NB, cv=cv_method, verbose=1, scoring='roc_auc')\n",
    "\n",
    "# Transform x_test variables using PowerTransformer\n",
    "Data_transformed = PowerTransformer().fit_transform(x_train)\n",
    "\n",
    "nbc_gs.fit(Data_transformed, y_train);\n",
    "print (\"Best Model Parameters:\", nbc_gs.best_params_)\n",
    "print (\"Best GNB Score:\",nbc_gs.best_score_)\n",
    "\n",
    "# pickle model for later use \n",
    "pickle.dump(nbc_gs, open(\"nbc.pkl\", 'wb'))"
   ]
  },
  {
   "cell_type": "markdown",
   "metadata": {},
   "source": [
    "## ROC Graph: Naïve Bayes Classification"
   ]
  },
  {
   "cell_type": "code",
   "execution_count": 33,
   "metadata": {},
   "outputs": [
    {
     "data": {
      "image/png": "[encoded data removed]",
      "text/plain": [
       "<Figure size 432x288 with 1 Axes>"
      ]
     },
     "metadata": {
      "needs_background": "light"
     },
     "output_type": "display_data"
    }
   ],
   "source": [
    "roc_curve(nbc_gs)"
   ]
  },
  {
   "cell_type": "markdown",
   "metadata": {},
   "source": [
    "## Precision-Recall Graph: Naïve Bayes Classification"
   ]
  },
  {
   "cell_type": "code",
   "execution_count": 34,
   "metadata": {},
   "outputs": [
    {
     "data": {
      "image/png": "[encoded data removed]",
      "text/plain": [
       "<Figure size 432x288 with 1 Axes>"
      ]
     },
     "metadata": {
      "needs_background": "light"
     },
     "output_type": "display_data"
    }
   ],
   "source": [
    "pr_graph(nbc_gs)"
   ]
  },
  {
   "cell_type": "markdown",
   "metadata": {},
   "source": [
    "### Retrieve optimized models for each modeling type that were pickled"
   ]
  },
  {
   "cell_type": "code",
   "execution_count": 35,
   "metadata": {},
   "outputs": [],
   "source": [
    "clf_model = pickle.load(open(\"clf.pkl\", 'rb'))\n",
    "nbc_model = pickle.load(open(\"nbc.pkl\", 'rb'))"
   ]
  },
  {
   "cell_type": "markdown",
   "metadata": {},
   "source": [
    "### Create RMSE and Brier Score function for additional scoring metrics"
   ]
  },
  {
   "cell_type": "code",
   "execution_count": 36,
   "metadata": {},
   "outputs": [],
   "source": [
    "def rmse(predict, actual):\n",
    "    predict = np.array(predict)\n",
    "    actual = np.array(actual)\n",
    "\n",
    "    distance = predict - actual\n",
    "\n",
    "    square_distance = distance ** 2\n",
    "\n",
    "    mean_square_distance = square_distance.mean()\n",
    "\n",
    "    score = np.sqrt(mean_square_distance)\n",
    "\n",
    "    return score\n",
    "\n",
    "rmse_score = make_scorer(rmse, greater_is_better = False)\n",
    "features = x_train.columns"
   ]
  },
  {
   "cell_type": "code",
   "execution_count": 37,
   "metadata": {},
   "outputs": [],
   "source": [
    "def brier_score(y_test, y_pred):\n",
    "    return (1 / len(y_pred)) * sum((y_pred - y_test)**2)"
   ]
  },
  {
   "cell_type": "markdown",
   "metadata": {},
   "source": [
    "### Pass models of interest through pipeline that will apply different scoring methodologies to train, CV, and test sets"
   ]
  },
  {
   "cell_type": "code",
   "execution_count": 38,
   "metadata": {},
   "outputs": [],
   "source": [
    "model_list = [clf_model, nbc_model]\n",
    "model_names = [\"Logistic Regression\", \"Naive Bayes\"]\n",
    "roc_auc_list = []\n",
    "results_df_list = []\n",
    "for i in range(2):\n",
    "    model = model_list[i]\n",
    "    model_name = model_names[i]\n",
    "    y_test_predictions =  model.predict(x_test)\n",
    "    y_train_predictions = model.predict(x_train)\n",
    "\n",
    "#     rmse_test = math.sqrt(mean_squared_error(y_test, y_test_predictions))\n",
    "#     rmse_train = math.sqrt(mean_squared_error(y_train, y_train_predictions))\n",
    "    roc_auc_test = roc_auc_score(y_test, y_test_predictions)\n",
    "    roc_auc_train = roc_auc_score(y_train, y_train_predictions)\n",
    "    cv_scores = cross_val_score(model, x_train, y_train, cv=10, scoring='roc_auc', n_jobs=-1)\n",
    "    roc_auc_cv = cv_scores.mean()\n",
    "    f1 = f1_score(y_test, y_test_predictions)\n",
    "    # we will not be using a voting classifier model for the purposes of this assignment \n",
    "    if(model_name == 'VotingClassifier'):\n",
    "        brier = np.nan\n",
    "    else:\n",
    "        y_test_pred_prob = model.predict_proba(x_test)[:, 1]\n",
    "        brier = brier_score(y_test, y_test_pred_prob)\n",
    "    precision_test = precision_score(y_test, y_test_predictions)\n",
    "    recall_test = recall_score(y_test, y_test_predictions)\n",
    "    cf = confusion_matrix(y_test, y_test_predictions)\n",
    "    cf = cf.flatten()\n",
    "    TPR = cf[3]/(cf[3]+cf[1])\n",
    "    FPR = cf[2]/(cf[2]+cf[0])\n",
    "\n",
    "    roc_auc_list.append([model_name,roc_auc_train,roc_auc_cv, roc_auc_test, f1, brier, precision_test, recall_test, \n",
    "                         cf[0], cf[1], cf[2], cf[3],TPR, FPR])\n",
    "    \n",
    "    y_test = np.array(list(y_test))\n",
    "    y_test_predictions = np.array(y_test_predictions)\n",
    "    dfi = pd.DataFrame({'Actual IR': y_test, 'Predicted IR': y_test_predictions})\n",
    "    results_df_list.append(dfi)"
   ]
  },
  {
   "cell_type": "markdown",
   "metadata": {},
   "source": [
    "### Output of scoring metrics for models of interest. This includes ROC AUC, F1, Brier Score, Precision, Recall and confusion matrix outputs"
   ]
  },
  {
   "cell_type": "code",
   "execution_count": 39,
   "metadata": {},
   "outputs": [
    {
     "data": {
      "text/html": [
       "<div>\n",
       "<style scoped>\n",
       "    .dataframe tbody tr th:only-of-type {\n",
       "        vertical-align: middle;\n",
       "    }\n",
       "\n",
       "    .dataframe tbody tr th {\n",
       "        vertical-align: top;\n",
       "    }\n",
       "\n",
       "    .dataframe thead th {\n",
       "        text-align: right;\n",
       "    }\n",
       "</style>\n",
       "<table border=\"1\" class=\"dataframe\">\n",
       "  <thead>\n",
       "    <tr style=\"text-align: right;\">\n",
       "      <th></th>\n",
       "      <th>Model Name</th>\n",
       "      <th>Train ROC AUC</th>\n",
       "      <th>CV ROC AUC</th>\n",
       "      <th>Test ROC AUC</th>\n",
       "      <th>Test F1 Score</th>\n",
       "      <th>Brier Score</th>\n",
       "      <th>Test Precision</th>\n",
       "      <th>Test Recall</th>\n",
       "      <th>Test TN</th>\n",
       "      <th>Test FN</th>\n",
       "      <th>Test FP</th>\n",
       "      <th>Test TP</th>\n",
       "      <th>TPR</th>\n",
       "      <th>FPR</th>\n",
       "    </tr>\n",
       "  </thead>\n",
       "  <tbody>\n",
       "    <tr>\n",
       "      <th>0</th>\n",
       "      <td>Logistic Regression</td>\n",
       "      <td>0.594561</td>\n",
       "      <td>0.605793</td>\n",
       "      <td>0.576719</td>\n",
       "      <td>0.239468</td>\n",
       "      <td>0.243936</td>\n",
       "      <td>0.15562</td>\n",
       "      <td>0.519231</td>\n",
       "      <td>508</td>\n",
       "      <td>293</td>\n",
       "      <td>50</td>\n",
       "      <td>54</td>\n",
       "      <td>0.15562</td>\n",
       "      <td>0.089606</td>\n",
       "    </tr>\n",
       "    <tr>\n",
       "      <th>1</th>\n",
       "      <td>Naive Bayes</td>\n",
       "      <td>0.524070</td>\n",
       "      <td>0.605667</td>\n",
       "      <td>0.521530</td>\n",
       "      <td>0.212675</td>\n",
       "      <td>0.283012</td>\n",
       "      <td>0.11971</td>\n",
       "      <td>0.951923</td>\n",
       "      <td>73</td>\n",
       "      <td>728</td>\n",
       "      <td>5</td>\n",
       "      <td>99</td>\n",
       "      <td>0.11971</td>\n",
       "      <td>0.064103</td>\n",
       "    </tr>\n",
       "  </tbody>\n",
       "</table>\n",
       "</div>"
      ],
      "text/plain": [
       "            Model Name  Train ROC AUC  CV ROC AUC  Test ROC AUC  Test F1 Score  Brier Score  Test Precision  Test Recall  Test TN  Test FN  Test FP  Test TP      TPR       FPR\n",
       "0  Logistic Regression       0.594561    0.605793      0.576719       0.239468     0.243936         0.15562     0.519231      508      293       50       54  0.15562  0.089606\n",
       "1          Naive Bayes       0.524070    0.605667      0.521530       0.212675     0.283012         0.11971     0.951923       73      728        5       99  0.11971  0.064103"
      ]
     },
     "execution_count": 39,
     "metadata": {},
     "output_type": "execute_result"
    }
   ],
   "source": [
    "roc_auc_df = pd.DataFrame(roc_auc_list, columns = [\"Model Name\", \"Train ROC AUC\", \"CV ROC AUC\", \"Test ROC AUC\", \n",
    "                                                   'Test F1 Score', 'Brier Score', 'Test Precision', 'Test Recall', \n",
    "                                                   'Test TN', 'Test FN', 'Test FP', 'Test TP', 'TPR', 'FPR'])\n",
    "roc_auc_df.sort_values(by=['Test ROC AUC'], ascending = False)"
   ]
  },
  {
   "cell_type": "markdown",
   "metadata": {
    "id": "WbtyFvkHRLkj"
   },
   "source": [
    "### Bank Marketing Study: \n",
    "Imagine that you are advising the bank about machine learning methods to guide telephone marketing campaigns: \n",
    "- Which of the two modeling methods would you recommend and why? \n",
    "- And, given the results of your research, which group of banking clients appears to be the best target for direct marketing \n",
    "  efforts? \n",
    "\n",
    "#### REPORT/FINDINGS: \n",
    "\n",
    "##### (1) A summary and problem definition for management; \n",
    "\n",
    "\n",
    "---\n",
    "##### (2) Discussion of the methodology, data findings and traditional machine learning methods employed; \n",
    "\n",
    "\n",
    "---\n",
    "##### (3) List assumptions, programming work, issues along with model evaluation metrics; and \n",
    "\n",
    "\n",
    "---\n",
    "##### (4) Review of results/ insight swith recommendations for management\n"
   ]
  },
  {
   "cell_type": "markdown",
   "metadata": {},
   "source": [
    "### (1) A summary and problem definition for management\n",
    "\n",
    "Summary: The bank is looking to employ machine learning methodologies to optimize how they target perspective clients via new term deposit offerings. This will be completed by attempting to identify and target clients that are most likely to respond to marketing efforts via a classification model attempting to answer if a prespective client will respond to new offerings. \n",
    "\n",
    "Problem Definition: The bank is interested in identifying factors that affect client responses to new term deposit offerings, which are the focus of the marketing campaigns. What kinds of clients are most likely to subscribe to new term deposits? In other words, identify the list of banking clients that appear to be the best target for direct marketing efforts. "
   ]
  },
  {
   "cell_type": "markdown",
   "metadata": {},
   "source": [
    "### (2) Discussion of the methodology, data findings and traditional machine learning methods employed;\n",
    "\n",
    "Methodology: Per the instructions given, the methodology employed was to use the three binary indicators from the original dataset to use as input variables: Default, Housing, Loan. Once these variables were converted to binary indicators, other features were stripped from the dataset and we were left with the three binary indicators and the output variable: Reponse to campaign. \n",
    "\n",
    "Data Findings: Using the features identified in the instructions, the only major data findings was that we have a highly imbalanced response variable (approximately 88% no response). Because of this, an oversampling technique called SMOTE to balance the reponse variable for better modeling outputs. \n",
    "\n",
    "Machine Learning Mehods Employed: The machine learning classification methods utilized include a logsitic regression model, a Naive Bayes Model, and a SVM mode (via SVC). "
   ]
  },
  {
   "cell_type": "markdown",
   "metadata": {},
   "source": [
    "### (3) List assumptions, programming work, issues along with model evaluation metrics\n",
    "Assumptions: The primary assumption here was that, per the instructions, we should only use the binary indicator variables within the banking dataset. If we were to use all available features within the dataset, the scoring would most likely improve by a large amount. Given that the instructions identify Precision, Recall, and AUC, I made the assumption that these were the primary metrics of interest for evaluation. \n",
    "\n",
    "Programming Work/Issues: The bulk of the programming work centered around tuning models for optimized hyperparamters and development of the assocaited scoring pipeline. Additional components included prepping and cleaning the dataset for modeling along with employing SMOTE to the training dataset.\n",
    "\n",
    "Model Evaluation Metrics: I decided to use an exhausitive scoring pipeline to review a number of different evalutaion metrics. However, given that the instructions identify Precision, Recall, and AUC, I made the assumption that these were the primary metrics of interest for evaluation."
   ]
  },
  {
   "cell_type": "markdown",
   "metadata": {},
   "source": [
    "### (4) Review of results/ insight swith recommendations for management\n",
    "\n",
    "Review of results/ insight: While the Logistic Regression model performs slightly better in ROC and Precision scoring, because recall is so much better within recall (95% compared to 51%) I would recommend the use of the Naive Bayes model. Recall is important in this case because we want to make sure we have a strong understanding of who will respond to our campaign (True Positives). The Naive Bayes model is much better at giving us this information over the Logistic Regression Model. \n",
    "\n",
    "Recommendations for management: I would reccommend initially employing the Naive Bayes model within a larger sample size to continue improvement of scoring on the original model. I would also recommend the inclusion of all variables within the dataset, which will vastly improve scoring components within the dataset."
   ]
  }
 ],
 "metadata": {
  "colab": {
   "name": "PML-Assignment3-GettingStarted.ipynb",
   "provenance": []
  },
  "kernelspec": {
   "display_name": "Python 3",
   "language": "python",
   "name": "python3"
  },
  "language_info": {
   "codemirror_mode": {
    "name": "ipython",
    "version": 3
   },
   "file_extension": ".py",
   "mimetype": "text/x-python",
   "name": "python",
   "nbconvert_exporter": "python",
   "pygments_lexer": "ipython3",
   "version": "3.8.8"
  }
 },
 "nbformat": 4,
 "nbformat_minor": 1
}
