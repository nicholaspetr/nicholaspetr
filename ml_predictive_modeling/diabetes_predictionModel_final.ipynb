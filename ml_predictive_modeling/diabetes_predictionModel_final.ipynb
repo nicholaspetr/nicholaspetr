{
 "cells": [
  {
   "cell_type": "markdown",
   "id": "968b46dd",
   "metadata": {},
   "source": [
    "# Diabetes Predictive Model \n",
    "\n",
    "Resources: \n",
    "\n",
    "https://www.analyticsvidhya.com/blog/2022/01/diabetes-prediction-using-machine-learning/"
   ]
  },
  {
   "cell_type": "code",
   "execution_count": 1,
   "id": "20ef0dbb",
   "metadata": {},
   "outputs": [],
   "source": [
    "from mlxtend.plotting import plot_decision_regions\n",
    "import missingno as msno\n",
    "from pandas.plotting import scatter_matrix\n",
    "from sklearn.preprocessing import StandardScaler\n",
    "from sklearn.model_selection import train_test_split\n",
    "from sklearn.neighbors import KNeighborsClassifier\n",
    "import pandas as pd\n",
    "import numpy as np\n",
    "import matplotlib as plt\n",
    "\n",
    "from sklearn.metrics import confusion_matrix\n",
    "from sklearn import metrics\n",
    "from sklearn.metrics import classification_report\n",
    "import warnings\n",
    "warnings.filterwarnings('ignore')\n",
    "%matplotlib inline"
   ]
  },
  {
   "cell_type": "markdown",
   "id": "32fb9d08",
   "metadata": {},
   "source": [
    "## Import dataset from R and clean for model prep"
   ]
  },
  {
   "cell_type": "code",
   "execution_count": 268,
   "id": "7fb20c50",
   "metadata": {},
   "outputs": [
    {
     "data": {
      "text/html": [
       "<div>\n",
       "<style scoped>\n",
       "    .dataframe tbody tr th:only-of-type {\n",
       "        vertical-align: middle;\n",
       "    }\n",
       "\n",
       "    .dataframe tbody tr th {\n",
       "        vertical-align: top;\n",
       "    }\n",
       "\n",
       "    .dataframe thead th {\n",
       "        text-align: right;\n",
       "    }\n",
       "</style>\n",
       "<table border=\"1\" class=\"dataframe\">\n",
       "  <thead>\n",
       "    <tr style=\"text-align: right;\">\n",
       "      <th></th>\n",
       "      <th>DMIndicator</th>\n",
       "      <th>Gender</th>\n",
       "      <th>YearOfBirth</th>\n",
       "      <th>State</th>\n",
       "      <th>AllergyType</th>\n",
       "      <th>ICD9CodeDiagnosis</th>\n",
       "      <th>AcuteDiagnosis</th>\n",
       "      <th>SmokingStatusGuid</th>\n",
       "      <th>Height</th>\n",
       "      <th>Weight</th>\n",
       "      <th>BMI</th>\n",
       "      <th>SystolicBP</th>\n",
       "      <th>DiastolicBP</th>\n",
       "      <th>RespiratoryRate</th>\n",
       "    </tr>\n",
       "  </thead>\n",
       "  <tbody>\n",
       "    <tr>\n",
       "      <th>0</th>\n",
       "      <td>0</td>\n",
       "      <td>1</td>\n",
       "      <td>1929</td>\n",
       "      <td>46.0</td>\n",
       "      <td>0</td>\n",
       "      <td>1626</td>\n",
       "      <td>0</td>\n",
       "      <td>8</td>\n",
       "      <td>NaN</td>\n",
       "      <td>137.0</td>\n",
       "      <td>0.0</td>\n",
       "      <td>142.0</td>\n",
       "      <td>71.0</td>\n",
       "      <td>NaN</td>\n",
       "    </tr>\n",
       "    <tr>\n",
       "      <th>1</th>\n",
       "      <td>0</td>\n",
       "      <td>0</td>\n",
       "      <td>1984</td>\n",
       "      <td>34.0</td>\n",
       "      <td>0</td>\n",
       "      <td>566</td>\n",
       "      <td>0</td>\n",
       "      <td>8</td>\n",
       "      <td>NaN</td>\n",
       "      <td>0.0</td>\n",
       "      <td>0.0</td>\n",
       "      <td>NaN</td>\n",
       "      <td>NaN</td>\n",
       "      <td>NaN</td>\n",
       "    </tr>\n",
       "    <tr>\n",
       "      <th>2</th>\n",
       "      <td>1</td>\n",
       "      <td>0</td>\n",
       "      <td>1951</td>\n",
       "      <td>40.0</td>\n",
       "      <td>0</td>\n",
       "      <td>1355</td>\n",
       "      <td>0</td>\n",
       "      <td>8</td>\n",
       "      <td>NaN</td>\n",
       "      <td>252.0</td>\n",
       "      <td>0.0</td>\n",
       "      <td>198.0</td>\n",
       "      <td>82.0</td>\n",
       "      <td>NaN</td>\n",
       "    </tr>\n",
       "    <tr>\n",
       "      <th>3</th>\n",
       "      <td>1</td>\n",
       "      <td>0</td>\n",
       "      <td>1924</td>\n",
       "      <td>1.0</td>\n",
       "      <td>0</td>\n",
       "      <td>1260</td>\n",
       "      <td>0</td>\n",
       "      <td>8</td>\n",
       "      <td>NaN</td>\n",
       "      <td>0.0</td>\n",
       "      <td>0.0</td>\n",
       "      <td>142.0</td>\n",
       "      <td>74.0</td>\n",
       "      <td>20.0</td>\n",
       "    </tr>\n",
       "    <tr>\n",
       "      <th>4</th>\n",
       "      <td>0</td>\n",
       "      <td>0</td>\n",
       "      <td>1981</td>\n",
       "      <td>36.0</td>\n",
       "      <td>0</td>\n",
       "      <td>1626</td>\n",
       "      <td>0</td>\n",
       "      <td>8</td>\n",
       "      <td>NaN</td>\n",
       "      <td>0.0</td>\n",
       "      <td>0.0</td>\n",
       "      <td>110.0</td>\n",
       "      <td>70.0</td>\n",
       "      <td>12.0</td>\n",
       "    </tr>\n",
       "  </tbody>\n",
       "</table>\n",
       "</div>"
      ],
      "text/plain": [
       "   DMIndicator  Gender  YearOfBirth  State  AllergyType  ICD9CodeDiagnosis  \\\n",
       "0            0       1         1929   46.0            0               1626   \n",
       "1            0       0         1984   34.0            0                566   \n",
       "2            1       0         1951   40.0            0               1355   \n",
       "3            1       0         1924    1.0            0               1260   \n",
       "4            0       0         1981   36.0            0               1626   \n",
       "\n",
       "   AcuteDiagnosis  SmokingStatusGuid  Height  Weight  BMI  SystolicBP  \\\n",
       "0               0                  8     NaN   137.0  0.0       142.0   \n",
       "1               0                  8     NaN     0.0  0.0         NaN   \n",
       "2               0                  8     NaN   252.0  0.0       198.0   \n",
       "3               0                  8     NaN     0.0  0.0       142.0   \n",
       "4               0                  8     NaN     0.0  0.0       110.0   \n",
       "\n",
       "   DiastolicBP  RespiratoryRate  \n",
       "0         71.0              NaN  \n",
       "1          NaN              NaN  \n",
       "2         82.0              NaN  \n",
       "3         74.0             20.0  \n",
       "4         70.0             12.0  "
      ]
     },
     "execution_count": 268,
     "metadata": {},
     "output_type": "execute_result"
    }
   ],
   "source": [
    "diabetes_df = pd.read_csv(r\"C:\\Users\\Nick's Laptop\\Desktop\\Health Analyics\\diabetesDF_numeric.csv\")\n",
    "diabetes_df.head()"
   ]
  },
  {
   "cell_type": "code",
   "execution_count": 269,
   "id": "64aef1aa",
   "metadata": {},
   "outputs": [
    {
     "data": {
      "text/html": [
       "<div>\n",
       "<style scoped>\n",
       "    .dataframe tbody tr th:only-of-type {\n",
       "        vertical-align: middle;\n",
       "    }\n",
       "\n",
       "    .dataframe tbody tr th {\n",
       "        vertical-align: top;\n",
       "    }\n",
       "\n",
       "    .dataframe thead th {\n",
       "        text-align: right;\n",
       "    }\n",
       "</style>\n",
       "<table border=\"1\" class=\"dataframe\">\n",
       "  <thead>\n",
       "    <tr style=\"text-align: right;\">\n",
       "      <th></th>\n",
       "      <th>DMIndicator</th>\n",
       "      <th>Gender</th>\n",
       "      <th>YearOfBirth</th>\n",
       "      <th>State</th>\n",
       "      <th>AllergyType</th>\n",
       "      <th>ICD9CodeDiagnosis</th>\n",
       "      <th>AcuteDiagnosis</th>\n",
       "      <th>SmokingStatusGuid</th>\n",
       "      <th>Height</th>\n",
       "      <th>Weight</th>\n",
       "      <th>BMI</th>\n",
       "      <th>SystolicBP</th>\n",
       "      <th>DiastolicBP</th>\n",
       "      <th>RespiratoryRate</th>\n",
       "    </tr>\n",
       "  </thead>\n",
       "  <tbody>\n",
       "    <tr>\n",
       "      <th>count</th>\n",
       "      <td>7764.000000</td>\n",
       "      <td>7764.000000</td>\n",
       "      <td>7764.000000</td>\n",
       "      <td>7745.000000</td>\n",
       "      <td>7764.000000</td>\n",
       "      <td>7764.000000</td>\n",
       "      <td>7764.000000</td>\n",
       "      <td>7764.000000</td>\n",
       "      <td>4721.000000</td>\n",
       "      <td>7764.000000</td>\n",
       "      <td>7764.000000</td>\n",
       "      <td>5838.000000</td>\n",
       "      <td>5838.000000</td>\n",
       "      <td>3447.000000</td>\n",
       "    </tr>\n",
       "    <tr>\n",
       "      <th>mean</th>\n",
       "      <td>0.198867</td>\n",
       "      <td>0.411257</td>\n",
       "      <td>1956.890520</td>\n",
       "      <td>26.073338</td>\n",
       "      <td>2.231324</td>\n",
       "      <td>813.335781</td>\n",
       "      <td>0.163318</td>\n",
       "      <td>6.510819</td>\n",
       "      <td>65.863557</td>\n",
       "      <td>123.553043</td>\n",
       "      <td>17.487446</td>\n",
       "      <td>126.988695</td>\n",
       "      <td>76.832819</td>\n",
       "      <td>16.737163</td>\n",
       "    </tr>\n",
       "    <tr>\n",
       "      <th>std</th>\n",
       "      <td>0.399173</td>\n",
       "      <td>0.492093</td>\n",
       "      <td>17.461225</td>\n",
       "      <td>16.412374</td>\n",
       "      <td>3.741908</td>\n",
       "      <td>476.747061</td>\n",
       "      <td>0.369679</td>\n",
       "      <td>1.861150</td>\n",
       "      <td>4.266394</td>\n",
       "      <td>91.766210</td>\n",
       "      <td>15.093914</td>\n",
       "      <td>17.676801</td>\n",
       "      <td>11.049229</td>\n",
       "      <td>2.863395</td>\n",
       "    </tr>\n",
       "    <tr>\n",
       "      <th>min</th>\n",
       "      <td>0.000000</td>\n",
       "      <td>0.000000</td>\n",
       "      <td>1922.000000</td>\n",
       "      <td>1.000000</td>\n",
       "      <td>0.000000</td>\n",
       "      <td>1.000000</td>\n",
       "      <td>0.000000</td>\n",
       "      <td>1.000000</td>\n",
       "      <td>5.000000</td>\n",
       "      <td>0.000000</td>\n",
       "      <td>0.000000</td>\n",
       "      <td>10.000000</td>\n",
       "      <td>2.000000</td>\n",
       "      <td>1.000000</td>\n",
       "    </tr>\n",
       "    <tr>\n",
       "      <th>25%</th>\n",
       "      <td>0.000000</td>\n",
       "      <td>0.000000</td>\n",
       "      <td>1944.000000</td>\n",
       "      <td>6.000000</td>\n",
       "      <td>0.000000</td>\n",
       "      <td>378.000000</td>\n",
       "      <td>0.000000</td>\n",
       "      <td>5.000000</td>\n",
       "      <td>63.000000</td>\n",
       "      <td>0.000000</td>\n",
       "      <td>0.000000</td>\n",
       "      <td>116.000000</td>\n",
       "      <td>70.000000</td>\n",
       "      <td>16.000000</td>\n",
       "    </tr>\n",
       "    <tr>\n",
       "      <th>50%</th>\n",
       "      <td>0.000000</td>\n",
       "      <td>0.000000</td>\n",
       "      <td>1956.000000</td>\n",
       "      <td>29.000000</td>\n",
       "      <td>0.000000</td>\n",
       "      <td>740.000000</td>\n",
       "      <td>0.000000</td>\n",
       "      <td>8.000000</td>\n",
       "      <td>66.000000</td>\n",
       "      <td>150.000000</td>\n",
       "      <td>23.108000</td>\n",
       "      <td>126.000000</td>\n",
       "      <td>78.000000</td>\n",
       "      <td>16.000000</td>\n",
       "    </tr>\n",
       "    <tr>\n",
       "      <th>75%</th>\n",
       "      <td>0.000000</td>\n",
       "      <td>1.000000</td>\n",
       "      <td>1970.000000</td>\n",
       "      <td>39.000000</td>\n",
       "      <td>8.000000</td>\n",
       "      <td>1246.000000</td>\n",
       "      <td>0.000000</td>\n",
       "      <td>8.000000</td>\n",
       "      <td>69.000000</td>\n",
       "      <td>193.000000</td>\n",
       "      <td>29.798000</td>\n",
       "      <td>137.000000</td>\n",
       "      <td>83.000000</td>\n",
       "      <td>18.000000</td>\n",
       "    </tr>\n",
       "    <tr>\n",
       "      <th>max</th>\n",
       "      <td>1.000000</td>\n",
       "      <td>1.000000</td>\n",
       "      <td>1994.000000</td>\n",
       "      <td>56.000000</td>\n",
       "      <td>18.000000</td>\n",
       "      <td>1685.000000</td>\n",
       "      <td>1.000000</td>\n",
       "      <td>10.000000</td>\n",
       "      <td>79.000000</td>\n",
       "      <td>488.000000</td>\n",
       "      <td>65.806000</td>\n",
       "      <td>220.000000</td>\n",
       "      <td>147.000000</td>\n",
       "      <td>71.000000</td>\n",
       "    </tr>\n",
       "  </tbody>\n",
       "</table>\n",
       "</div>"
      ],
      "text/plain": [
       "       DMIndicator       Gender  YearOfBirth        State  AllergyType  \\\n",
       "count  7764.000000  7764.000000  7764.000000  7745.000000  7764.000000   \n",
       "mean      0.198867     0.411257  1956.890520    26.073338     2.231324   \n",
       "std       0.399173     0.492093    17.461225    16.412374     3.741908   \n",
       "min       0.000000     0.000000  1922.000000     1.000000     0.000000   \n",
       "25%       0.000000     0.000000  1944.000000     6.000000     0.000000   \n",
       "50%       0.000000     0.000000  1956.000000    29.000000     0.000000   \n",
       "75%       0.000000     1.000000  1970.000000    39.000000     8.000000   \n",
       "max       1.000000     1.000000  1994.000000    56.000000    18.000000   \n",
       "\n",
       "       ICD9CodeDiagnosis  AcuteDiagnosis  SmokingStatusGuid       Height  \\\n",
       "count        7764.000000     7764.000000        7764.000000  4721.000000   \n",
       "mean          813.335781        0.163318           6.510819    65.863557   \n",
       "std           476.747061        0.369679           1.861150     4.266394   \n",
       "min             1.000000        0.000000           1.000000     5.000000   \n",
       "25%           378.000000        0.000000           5.000000    63.000000   \n",
       "50%           740.000000        0.000000           8.000000    66.000000   \n",
       "75%          1246.000000        0.000000           8.000000    69.000000   \n",
       "max          1685.000000        1.000000          10.000000    79.000000   \n",
       "\n",
       "            Weight          BMI   SystolicBP  DiastolicBP  RespiratoryRate  \n",
       "count  7764.000000  7764.000000  5838.000000  5838.000000      3447.000000  \n",
       "mean    123.553043    17.487446   126.988695    76.832819        16.737163  \n",
       "std      91.766210    15.093914    17.676801    11.049229         2.863395  \n",
       "min       0.000000     0.000000    10.000000     2.000000         1.000000  \n",
       "25%       0.000000     0.000000   116.000000    70.000000        16.000000  \n",
       "50%     150.000000    23.108000   126.000000    78.000000        16.000000  \n",
       "75%     193.000000    29.798000   137.000000    83.000000        18.000000  \n",
       "max     488.000000    65.806000   220.000000   147.000000        71.000000  "
      ]
     },
     "execution_count": 269,
     "metadata": {},
     "output_type": "execute_result"
    }
   ],
   "source": [
    "diabetes_df.describe()"
   ]
  },
  {
   "cell_type": "code",
   "execution_count": 270,
   "id": "3d08b631",
   "metadata": {},
   "outputs": [
    {
     "data": {
      "text/plain": [
       "DMIndicator             0\n",
       "Gender                  0\n",
       "YearOfBirth             0\n",
       "State                  19\n",
       "AllergyType             0\n",
       "ICD9CodeDiagnosis       0\n",
       "AcuteDiagnosis          0\n",
       "SmokingStatusGuid       0\n",
       "Height               3043\n",
       "Weight                  0\n",
       "BMI                     0\n",
       "SystolicBP           1926\n",
       "DiastolicBP          1926\n",
       "RespiratoryRate      4317\n",
       "dtype: int64"
      ]
     },
     "execution_count": 270,
     "metadata": {},
     "output_type": "execute_result"
    }
   ],
   "source": [
    "# check the number of null values our dataset has.\n",
    "diabetes_df.isnull().sum()"
   ]
  },
  {
   "cell_type": "markdown",
   "id": "5cd89269",
   "metadata": {},
   "source": [
    "### Find all null values. It will negatively impact your model if you have 0's that should be NA"
   ]
  },
  {
   "cell_type": "code",
   "execution_count": 271,
   "id": "954f971d",
   "metadata": {},
   "outputs": [
    {
     "name": "stdout",
     "output_type": "stream",
     "text": [
      "DMIndicator             0\n",
      "Gender                  0\n",
      "YearOfBirth             0\n",
      "State                  19\n",
      "AllergyType             0\n",
      "ICD9CodeDiagnosis       0\n",
      "AcuteDiagnosis          0\n",
      "SmokingStatusGuid       0\n",
      "Height               3043\n",
      "Weight               2457\n",
      "BMI                  3103\n",
      "SystolicBP           1926\n",
      "DiastolicBP          1926\n",
      "RespiratoryRate      4317\n",
      "dtype: int64\n"
     ]
    }
   ],
   "source": [
    "# Convert any instances where 0 or NULL was used to NA to improve authenticity of dataset\n",
    "diabetes_df_copy = diabetes_df.copy(deep = True)\n",
    "diabetes_df_copy[['Height','Weight','BMI','SystolicBP','DiastolicBP','RespiratoryRate']] = diabetes_df_copy[['Height','Weight','BMI','SystolicBP','DiastolicBP','RespiratoryRate']].replace(0,np.NaN)\n",
    "\n",
    "# Showing the Count of NANs\n",
    "print(diabetes_df_copy.isnull().sum())"
   ]
  },
  {
   "cell_type": "code",
   "execution_count": 8,
   "id": "38dc4b6c",
   "metadata": {},
   "outputs": [
    {
     "data": {
      "image/png": "[encoded data removed]",
      "text/plain": [
       "<Figure size 720x720 with 16 Axes>"
      ]
     },
     "metadata": {
      "needs_background": "light"
     },
     "output_type": "display_data"
    }
   ],
   "source": [
    "# Plotting the data distribution plots before removing null values\n",
    "p = diabetes_df.hist(figsize = (10,10))"
   ]
  },
  {
   "cell_type": "markdown",
   "id": "9d3a795e",
   "metadata": {},
   "source": [
    "### Replace null values you just found with mean values for numeric variables "
   ]
  },
  {
   "cell_type": "code",
   "execution_count": 272,
   "id": "2b13634c",
   "metadata": {},
   "outputs": [],
   "source": [
    "# imputing the mean value of the column to each missing value of that particular column\n",
    "diabetes_df_copy['Height'].fillna(diabetes_df_copy['Height'].mean(), inplace = True)\n",
    "diabetes_df_copy['Weight'].fillna(diabetes_df_copy['Weight'].mean(), inplace = True)\n",
    "diabetes_df_copy['BMI'].fillna(diabetes_df_copy['BMI'].mean(), inplace = True)\n",
    "diabetes_df_copy['SystolicBP'].fillna(diabetes_df_copy['SystolicBP'].mean(), inplace = True)\n",
    "diabetes_df_copy['DiastolicBP'].fillna(diabetes_df_copy['DiastolicBP'].mean(), inplace = True)\n",
    "diabetes_df_copy['RespiratoryRate'].fillna(diabetes_df_copy['RespiratoryRate'].mean(), inplace = True)\n",
    "diabetes_df_copy['State'].fillna(diabetes_df_copy['State'].mean(), inplace = True)"
   ]
  },
  {
   "cell_type": "code",
   "execution_count": 89,
   "id": "8d6cad76",
   "metadata": {},
   "outputs": [
    {
     "data": {
      "image/png": "[encoded data removed]",
      "text/plain": [
       "<Figure size 1440x1440 with 16 Axes>"
      ]
     },
     "metadata": {
      "needs_background": "light"
     },
     "output_type": "display_data"
    }
   ],
   "source": [
    "# Plotting the distributions after removing the NAN values.\n",
    "p = diabetes_df_copy.hist(figsize = (20,20))"
   ]
  },
  {
   "cell_type": "markdown",
   "id": "cb11d0bd",
   "metadata": {},
   "source": [
    "# If you are getting a bad prediction score, try removing imputation values from Height-Respiratory rate. Can also try median instead of mean in case outliers are causing issue"
   ]
  },
  {
   "cell_type": "code",
   "execution_count": 273,
   "id": "c7e30363",
   "metadata": {},
   "outputs": [
    {
     "data": {
      "image/png": "[encoded data removed]",
      "text/plain": [
       "<Figure size 1800x720 with 3 Axes>"
      ]
     },
     "metadata": {
      "needs_background": "light"
     },
     "output_type": "display_data"
    }
   ],
   "source": [
    "# Check histogram to see if any null values remain (we want no null values. nulls should be either turned into another category or average of sample)\n",
    "p = msno.bar(diabetes_df_copy)"
   ]
  },
  {
   "cell_type": "markdown",
   "id": "8d46f626",
   "metadata": {},
   "source": [
    "### Looking at the dataset, we see there is an imbalance between the number of patients with and without diabetes. This can lead to overfitting in your model (model is too complex, which negatively impacts accuracy) "
   ]
  },
  {
   "cell_type": "code",
   "execution_count": 274,
   "id": "c27da028",
   "metadata": {},
   "outputs": [
    {
     "name": "stdout",
     "output_type": "stream",
     "text": [
      "0    6220\n",
      "1    1544\n",
      "Name: DMIndicator, dtype: int64\n"
     ]
    },
    {
     "data": {
      "image/png": "[encoded data removed]",
      "text/plain": [
       "<Figure size 432x288 with 1 Axes>"
      ]
     },
     "metadata": {
      "needs_background": "light"
     },
     "output_type": "display_data"
    }
   ],
   "source": [
    "# Check that how well our BMIndicator column is balanced\n",
    "color_wheel = {1: \"#0392cf\", 2: \"#7bc043\"}\n",
    "colors = diabetes_df[\"DMIndicator\"].map(lambda x: color_wheel.get(x + 1))\n",
    "print(diabetes_df.DMIndicator.value_counts())\n",
    "p=diabetes_df.DMIndicator.value_counts().plot(kind=\"bar\")"
   ]
  },
  {
   "cell_type": "code",
   "execution_count": 275,
   "id": "7e68cbb4",
   "metadata": {
    "scrolled": true
   },
   "outputs": [
    {
     "data": {
      "text/html": [
       "<div>\n",
       "<style scoped>\n",
       "    .dataframe tbody tr th:only-of-type {\n",
       "        vertical-align: middle;\n",
       "    }\n",
       "\n",
       "    .dataframe tbody tr th {\n",
       "        vertical-align: top;\n",
       "    }\n",
       "\n",
       "    .dataframe thead th {\n",
       "        text-align: right;\n",
       "    }\n",
       "</style>\n",
       "<table border=\"1\" class=\"dataframe\">\n",
       "  <thead>\n",
       "    <tr style=\"text-align: right;\">\n",
       "      <th></th>\n",
       "      <th>DMIndicator</th>\n",
       "      <th>Gender</th>\n",
       "      <th>YearOfBirth</th>\n",
       "      <th>State</th>\n",
       "      <th>AllergyType</th>\n",
       "      <th>ICD9CodeDiagnosis</th>\n",
       "      <th>AcuteDiagnosis</th>\n",
       "      <th>SmokingStatusGuid</th>\n",
       "      <th>Height</th>\n",
       "      <th>Weight</th>\n",
       "      <th>BMI</th>\n",
       "      <th>SystolicBP</th>\n",
       "      <th>DiastolicBP</th>\n",
       "      <th>RespiratoryRate</th>\n",
       "    </tr>\n",
       "  </thead>\n",
       "  <tbody>\n",
       "    <tr>\n",
       "      <th>0</th>\n",
       "      <td>0</td>\n",
       "      <td>1</td>\n",
       "      <td>1929</td>\n",
       "      <td>46.0</td>\n",
       "      <td>0</td>\n",
       "      <td>1626</td>\n",
       "      <td>0</td>\n",
       "      <td>8</td>\n",
       "      <td>65.863557</td>\n",
       "      <td>137.000000</td>\n",
       "      <td>29.129486</td>\n",
       "      <td>142.000000</td>\n",
       "      <td>71.000000</td>\n",
       "      <td>16.737163</td>\n",
       "    </tr>\n",
       "    <tr>\n",
       "      <th>1</th>\n",
       "      <td>0</td>\n",
       "      <td>0</td>\n",
       "      <td>1984</td>\n",
       "      <td>34.0</td>\n",
       "      <td>0</td>\n",
       "      <td>566</td>\n",
       "      <td>0</td>\n",
       "      <td>8</td>\n",
       "      <td>65.863557</td>\n",
       "      <td>180.754819</td>\n",
       "      <td>29.129486</td>\n",
       "      <td>126.988695</td>\n",
       "      <td>76.832819</td>\n",
       "      <td>16.737163</td>\n",
       "    </tr>\n",
       "    <tr>\n",
       "      <th>2</th>\n",
       "      <td>1</td>\n",
       "      <td>0</td>\n",
       "      <td>1951</td>\n",
       "      <td>40.0</td>\n",
       "      <td>0</td>\n",
       "      <td>1355</td>\n",
       "      <td>0</td>\n",
       "      <td>8</td>\n",
       "      <td>65.863557</td>\n",
       "      <td>252.000000</td>\n",
       "      <td>29.129486</td>\n",
       "      <td>198.000000</td>\n",
       "      <td>82.000000</td>\n",
       "      <td>16.737163</td>\n",
       "    </tr>\n",
       "    <tr>\n",
       "      <th>3</th>\n",
       "      <td>1</td>\n",
       "      <td>0</td>\n",
       "      <td>1924</td>\n",
       "      <td>1.0</td>\n",
       "      <td>0</td>\n",
       "      <td>1260</td>\n",
       "      <td>0</td>\n",
       "      <td>8</td>\n",
       "      <td>65.863557</td>\n",
       "      <td>180.754819</td>\n",
       "      <td>29.129486</td>\n",
       "      <td>142.000000</td>\n",
       "      <td>74.000000</td>\n",
       "      <td>20.000000</td>\n",
       "    </tr>\n",
       "    <tr>\n",
       "      <th>4</th>\n",
       "      <td>0</td>\n",
       "      <td>0</td>\n",
       "      <td>1981</td>\n",
       "      <td>36.0</td>\n",
       "      <td>0</td>\n",
       "      <td>1626</td>\n",
       "      <td>0</td>\n",
       "      <td>8</td>\n",
       "      <td>65.863557</td>\n",
       "      <td>180.754819</td>\n",
       "      <td>29.129486</td>\n",
       "      <td>110.000000</td>\n",
       "      <td>70.000000</td>\n",
       "      <td>12.000000</td>\n",
       "    </tr>\n",
       "  </tbody>\n",
       "</table>\n",
       "</div>"
      ],
      "text/plain": [
       "   DMIndicator  Gender  YearOfBirth  State  AllergyType  ICD9CodeDiagnosis  \\\n",
       "0            0       1         1929   46.0            0               1626   \n",
       "1            0       0         1984   34.0            0                566   \n",
       "2            1       0         1951   40.0            0               1355   \n",
       "3            1       0         1924    1.0            0               1260   \n",
       "4            0       0         1981   36.0            0               1626   \n",
       "\n",
       "   AcuteDiagnosis  SmokingStatusGuid     Height      Weight        BMI  \\\n",
       "0               0                  8  65.863557  137.000000  29.129486   \n",
       "1               0                  8  65.863557  180.754819  29.129486   \n",
       "2               0                  8  65.863557  252.000000  29.129486   \n",
       "3               0                  8  65.863557  180.754819  29.129486   \n",
       "4               0                  8  65.863557  180.754819  29.129486   \n",
       "\n",
       "   SystolicBP  DiastolicBP  RespiratoryRate  \n",
       "0  142.000000    71.000000        16.737163  \n",
       "1  126.988695    76.832819        16.737163  \n",
       "2  198.000000    82.000000        16.737163  \n",
       "3  142.000000    74.000000        20.000000  \n",
       "4  110.000000    70.000000        12.000000  "
      ]
     },
     "execution_count": 275,
     "metadata": {},
     "output_type": "execute_result"
    }
   ],
   "source": [
    "diabetes_df_copy.head()"
   ]
  },
  {
   "cell_type": "markdown",
   "id": "2d4515ef",
   "metadata": {},
   "source": [
    "### Use standard scaling to scale variables "
   ]
  },
  {
   "cell_type": "code",
   "execution_count": 276,
   "id": "d95f563a",
   "metadata": {
    "scrolled": true
   },
   "outputs": [
    {
     "data": {
      "text/html": [
       "<div>\n",
       "<style scoped>\n",
       "    .dataframe tbody tr th:only-of-type {\n",
       "        vertical-align: middle;\n",
       "    }\n",
       "\n",
       "    .dataframe tbody tr th {\n",
       "        vertical-align: top;\n",
       "    }\n",
       "\n",
       "    .dataframe thead th {\n",
       "        text-align: right;\n",
       "    }\n",
       "</style>\n",
       "<table border=\"1\" class=\"dataframe\">\n",
       "  <thead>\n",
       "    <tr style=\"text-align: right;\">\n",
       "      <th></th>\n",
       "      <th>Gender</th>\n",
       "      <th>YearOfBirth</th>\n",
       "      <th>State</th>\n",
       "      <th>AllergyType</th>\n",
       "      <th>ICD9CodeDiagnosis</th>\n",
       "      <th>AcuteDiagnosis</th>\n",
       "      <th>SmokingStatusGuid</th>\n",
       "      <th>Height</th>\n",
       "      <th>Weight</th>\n",
       "      <th>BMI</th>\n",
       "      <th>SystolicBP</th>\n",
       "      <th>DiastolicBP</th>\n",
       "      <th>RespiratoryRate</th>\n",
       "    </tr>\n",
       "  </thead>\n",
       "  <tbody>\n",
       "    <tr>\n",
       "      <th>0</th>\n",
       "      <td>1.196482</td>\n",
       "      <td>-1.597386</td>\n",
       "      <td>1.215691</td>\n",
       "      <td>-0.596345</td>\n",
       "      <td>1.704712</td>\n",
       "      <td>-0.441811</td>\n",
       "      <td>0.800192</td>\n",
       "      <td>-3.417598e-14</td>\n",
       "      <td>-1.189755e+00</td>\n",
       "      <td>-4.332492e-15</td>\n",
       "      <td>0.979406</td>\n",
       "      <td>-0.608828</td>\n",
       "      <td>0.000000</td>\n",
       "    </tr>\n",
       "    <tr>\n",
       "      <th>1</th>\n",
       "      <td>-0.835784</td>\n",
       "      <td>1.552653</td>\n",
       "      <td>0.483592</td>\n",
       "      <td>-0.596345</td>\n",
       "      <td>-0.518832</td>\n",
       "      <td>-0.441811</td>\n",
       "      <td>0.800192</td>\n",
       "      <td>-3.417598e-14</td>\n",
       "      <td>-2.318478e-15</td>\n",
       "      <td>-4.332492e-15</td>\n",
       "      <td>0.000000</td>\n",
       "      <td>0.000000</td>\n",
       "      <td>0.000000</td>\n",
       "    </tr>\n",
       "    <tr>\n",
       "      <th>2</th>\n",
       "      <td>-0.835784</td>\n",
       "      <td>-0.337370</td>\n",
       "      <td>0.849642</td>\n",
       "      <td>-0.596345</td>\n",
       "      <td>1.136240</td>\n",
       "      <td>-0.441811</td>\n",
       "      <td>0.800192</td>\n",
       "      <td>-3.417598e-14</td>\n",
       "      <td>1.937256e+00</td>\n",
       "      <td>-4.332492e-15</td>\n",
       "      <td>4.633101</td>\n",
       "      <td>0.539349</td>\n",
       "      <td>0.000000</td>\n",
       "    </tr>\n",
       "    <tr>\n",
       "      <th>3</th>\n",
       "      <td>-0.835784</td>\n",
       "      <td>-1.883753</td>\n",
       "      <td>-1.529681</td>\n",
       "      <td>-0.596345</td>\n",
       "      <td>0.936960</td>\n",
       "      <td>-0.441811</td>\n",
       "      <td>0.800192</td>\n",
       "      <td>-3.417598e-14</td>\n",
       "      <td>-2.318478e-15</td>\n",
       "      <td>-4.332492e-15</td>\n",
       "      <td>0.979406</td>\n",
       "      <td>-0.295689</td>\n",
       "      <td>1.710406</td>\n",
       "    </tr>\n",
       "    <tr>\n",
       "      <th>4</th>\n",
       "      <td>-0.835784</td>\n",
       "      <td>1.380833</td>\n",
       "      <td>0.605608</td>\n",
       "      <td>-0.596345</td>\n",
       "      <td>1.704712</td>\n",
       "      <td>-0.441811</td>\n",
       "      <td>0.800192</td>\n",
       "      <td>-3.417598e-14</td>\n",
       "      <td>-2.318478e-15</td>\n",
       "      <td>-4.332492e-15</td>\n",
       "      <td>-1.108420</td>\n",
       "      <td>-0.713207</td>\n",
       "      <td>-2.483259</td>\n",
       "    </tr>\n",
       "  </tbody>\n",
       "</table>\n",
       "</div>"
      ],
      "text/plain": [
       "     Gender  YearOfBirth     State  AllergyType  ICD9CodeDiagnosis  \\\n",
       "0  1.196482    -1.597386  1.215691    -0.596345           1.704712   \n",
       "1 -0.835784     1.552653  0.483592    -0.596345          -0.518832   \n",
       "2 -0.835784    -0.337370  0.849642    -0.596345           1.136240   \n",
       "3 -0.835784    -1.883753 -1.529681    -0.596345           0.936960   \n",
       "4 -0.835784     1.380833  0.605608    -0.596345           1.704712   \n",
       "\n",
       "   AcuteDiagnosis  SmokingStatusGuid        Height        Weight  \\\n",
       "0       -0.441811           0.800192 -3.417598e-14 -1.189755e+00   \n",
       "1       -0.441811           0.800192 -3.417598e-14 -2.318478e-15   \n",
       "2       -0.441811           0.800192 -3.417598e-14  1.937256e+00   \n",
       "3       -0.441811           0.800192 -3.417598e-14 -2.318478e-15   \n",
       "4       -0.441811           0.800192 -3.417598e-14 -2.318478e-15   \n",
       "\n",
       "            BMI  SystolicBP  DiastolicBP  RespiratoryRate  \n",
       "0 -4.332492e-15    0.979406    -0.608828         0.000000  \n",
       "1 -4.332492e-15    0.000000     0.000000         0.000000  \n",
       "2 -4.332492e-15    4.633101     0.539349         0.000000  \n",
       "3 -4.332492e-15    0.979406    -0.295689         1.710406  \n",
       "4 -4.332492e-15   -1.108420    -0.713207        -2.483259  "
      ]
     },
     "execution_count": 276,
     "metadata": {},
     "output_type": "execute_result"
    }
   ],
   "source": [
    "# Conduct Standard Scaling \n",
    "sc_X = StandardScaler()\n",
    "X =  pd.DataFrame(sc_X.fit_transform(diabetes_df_copy.drop([\"DMIndicator\"],axis = 1),), columns=['Gender', \n",
    "'YearOfBirth', 'State', 'AllergyType', 'ICD9CodeDiagnosis', 'AcuteDiagnosis', 'SmokingStatusGuid', 'Height',\n",
    "'Weight', 'BMI', 'SystolicBP', 'DiastolicBP', 'RespiratoryRate'])\n",
    "X.head()"
   ]
  },
  {
   "cell_type": "markdown",
   "id": "19979ac7",
   "metadata": {},
   "source": [
    "### Reducing the number of features based on plot of important features yields slightly better Brier Score, so we will use X1 as the input for our test/train datasets instead of X (which has all variables)"
   ]
  },
  {
   "cell_type": "code",
   "execution_count": 277,
   "id": "e4d111e2",
   "metadata": {},
   "outputs": [
    {
     "data": {
      "text/html": [
       "<div>\n",
       "<style scoped>\n",
       "    .dataframe tbody tr th:only-of-type {\n",
       "        vertical-align: middle;\n",
       "    }\n",
       "\n",
       "    .dataframe tbody tr th {\n",
       "        vertical-align: top;\n",
       "    }\n",
       "\n",
       "    .dataframe thead th {\n",
       "        text-align: right;\n",
       "    }\n",
       "</style>\n",
       "<table border=\"1\" class=\"dataframe\">\n",
       "  <thead>\n",
       "    <tr style=\"text-align: right;\">\n",
       "      <th></th>\n",
       "      <th>YearOfBirth</th>\n",
       "      <th>State</th>\n",
       "      <th>ICD9CodeDiagnosis</th>\n",
       "      <th>Weight</th>\n",
       "      <th>BMI</th>\n",
       "      <th>SystolicBP</th>\n",
       "      <th>DiastolicBP</th>\n",
       "      <th>RespiratoryRate</th>\n",
       "    </tr>\n",
       "  </thead>\n",
       "  <tbody>\n",
       "    <tr>\n",
       "      <th>0</th>\n",
       "      <td>-1.597386</td>\n",
       "      <td>1.215691</td>\n",
       "      <td>1.704712</td>\n",
       "      <td>-1.189755e+00</td>\n",
       "      <td>-4.332492e-15</td>\n",
       "      <td>0.979406</td>\n",
       "      <td>-0.608828</td>\n",
       "      <td>0.000000</td>\n",
       "    </tr>\n",
       "    <tr>\n",
       "      <th>1</th>\n",
       "      <td>1.552653</td>\n",
       "      <td>0.483592</td>\n",
       "      <td>-0.518832</td>\n",
       "      <td>-2.318478e-15</td>\n",
       "      <td>-4.332492e-15</td>\n",
       "      <td>0.000000</td>\n",
       "      <td>0.000000</td>\n",
       "      <td>0.000000</td>\n",
       "    </tr>\n",
       "    <tr>\n",
       "      <th>2</th>\n",
       "      <td>-0.337370</td>\n",
       "      <td>0.849642</td>\n",
       "      <td>1.136240</td>\n",
       "      <td>1.937256e+00</td>\n",
       "      <td>-4.332492e-15</td>\n",
       "      <td>4.633101</td>\n",
       "      <td>0.539349</td>\n",
       "      <td>0.000000</td>\n",
       "    </tr>\n",
       "    <tr>\n",
       "      <th>3</th>\n",
       "      <td>-1.883753</td>\n",
       "      <td>-1.529681</td>\n",
       "      <td>0.936960</td>\n",
       "      <td>-2.318478e-15</td>\n",
       "      <td>-4.332492e-15</td>\n",
       "      <td>0.979406</td>\n",
       "      <td>-0.295689</td>\n",
       "      <td>1.710406</td>\n",
       "    </tr>\n",
       "    <tr>\n",
       "      <th>4</th>\n",
       "      <td>1.380833</td>\n",
       "      <td>0.605608</td>\n",
       "      <td>1.704712</td>\n",
       "      <td>-2.318478e-15</td>\n",
       "      <td>-4.332492e-15</td>\n",
       "      <td>-1.108420</td>\n",
       "      <td>-0.713207</td>\n",
       "      <td>-2.483259</td>\n",
       "    </tr>\n",
       "  </tbody>\n",
       "</table>\n",
       "</div>"
      ],
      "text/plain": [
       "   YearOfBirth     State  ICD9CodeDiagnosis        Weight           BMI  \\\n",
       "0    -1.597386  1.215691           1.704712 -1.189755e+00 -4.332492e-15   \n",
       "1     1.552653  0.483592          -0.518832 -2.318478e-15 -4.332492e-15   \n",
       "2    -0.337370  0.849642           1.136240  1.937256e+00 -4.332492e-15   \n",
       "3    -1.883753 -1.529681           0.936960 -2.318478e-15 -4.332492e-15   \n",
       "4     1.380833  0.605608           1.704712 -2.318478e-15 -4.332492e-15   \n",
       "\n",
       "   SystolicBP  DiastolicBP  RespiratoryRate  \n",
       "0    0.979406    -0.608828         0.000000  \n",
       "1    0.000000     0.000000         0.000000  \n",
       "2    4.633101     0.539349         0.000000  \n",
       "3    0.979406    -0.295689         1.710406  \n",
       "4   -1.108420    -0.713207        -2.483259  "
      ]
     },
     "execution_count": 277,
     "metadata": {},
     "output_type": "execute_result"
    }
   ],
   "source": [
    "# Select PatientGuid and Diabetic as DMIndicator\n",
    "X1 = X[['YearOfBirth', 'State','ICD9CodeDiagnosis','Weight', 'BMI', 'SystolicBP', 'DiastolicBP', 'RespiratoryRate']]\n",
    "X1.head()"
   ]
  },
  {
   "cell_type": "code",
   "execution_count": 278,
   "id": "902d36b0",
   "metadata": {},
   "outputs": [
    {
     "data": {
      "text/plain": [
       "0       0\n",
       "1       0\n",
       "2       1\n",
       "3       1\n",
       "4       0\n",
       "       ..\n",
       "7759    0\n",
       "7760    1\n",
       "7761    0\n",
       "7762    0\n",
       "7763    0\n",
       "Name: DMIndicator, Length: 7764, dtype: int64"
      ]
     },
     "execution_count": 278,
     "metadata": {},
     "output_type": "execute_result"
    }
   ],
   "source": [
    "# Establish Target Outcome Variable \n",
    "y = diabetes_df_copy.DMIndicator\n",
    "y"
   ]
  },
  {
   "cell_type": "markdown",
   "id": "88f5858a",
   "metadata": {},
   "source": [
    "# Model Builing: This is where you create your test and train samples, which we fit with a number of different model types to find the best results"
   ]
  },
  {
   "cell_type": "code",
   "execution_count": 325,
   "id": "4e43f87e",
   "metadata": {},
   "outputs": [],
   "source": [
    "# split the data into training and testing data using the train_test_split function\n",
    "from sklearn.model_selection import train_test_split\n",
    "\n",
    "X_train, X_test, y_train, y_test = train_test_split(X1,y, test_size=0.33,\n",
    "                                                    random_state=7)"
   ]
  },
  {
   "cell_type": "markdown",
   "id": "fa53ea9e",
   "metadata": {},
   "source": [
    "## Random Forest using SMOTE to manage imbalanced dataset (much more people w/o diabetes than with)\n",
    "### This improved the gap between F-1 and Accuracy score, but it did not yield a better Brier score than Random Forest w/o SMOTE (which is primary goal). Therefore we will not use "
   ]
  },
  {
   "cell_type": "code",
   "execution_count": 49,
   "id": "faa9d1be",
   "metadata": {},
   "outputs": [],
   "source": [
    "from imblearn.over_sampling import SMOTE\n",
    "oversampler=SMOTE(random_state=7)\n",
    "os_features,os_labels=oversampler.fit_sample(X_train,y_train)"
   ]
  },
  {
   "cell_type": "code",
   "execution_count": 50,
   "id": "ad1c9562",
   "metadata": {},
   "outputs": [
    {
     "data": {
      "text/plain": [
       "4147"
      ]
     },
     "execution_count": 50,
     "metadata": {},
     "output_type": "execute_result"
    }
   ],
   "source": [
    "# verify new data set is balanced\n",
    "len(os_labels[os_labels==1])"
   ]
  },
  {
   "cell_type": "code",
   "execution_count": 127,
   "id": "24bf15c4",
   "metadata": {},
   "outputs": [
    {
     "data": {
      "text/plain": [
       "RandomForestClassifier(n_estimators=2000, random_state=7)"
      ]
     },
     "execution_count": 127,
     "metadata": {},
     "output_type": "execute_result"
    }
   ],
   "source": [
    "from sklearn.ensemble import RandomForestClassifier\n",
    "\n",
    "clf = RandomForestClassifier(n_estimators=2000, random_state=7)\n",
    "clf.fit(os_features,os_labels)"
   ]
  },
  {
   "cell_type": "code",
   "execution_count": 128,
   "id": "a0d13474",
   "metadata": {},
   "outputs": [
    {
     "name": "stdout",
     "output_type": "stream",
     "text": [
      "Accuracy_Score = 0.9991560163973957\n"
     ]
    }
   ],
   "source": [
    "# The very high accuracy score would indicate that the model is overfitted \n",
    "clf_train = clf.predict(os_features)\n",
    "from sklearn import metrics\n",
    "\n",
    "print(\"Accuracy_Score =\", format(metrics.accuracy_score(os_labels, clf_train)))"
   ]
  },
  {
   "cell_type": "code",
   "execution_count": 129,
   "id": "095a9108",
   "metadata": {},
   "outputs": [
    {
     "name": "stdout",
     "output_type": "stream",
     "text": [
      "Accuracy_Score = 0.8115489660554038\n"
     ]
    }
   ],
   "source": [
    "from sklearn import metrics\n",
    "\n",
    "predictions = clf.predict(X_test)\n",
    "print(\"Accuracy_Score =\", format(metrics.accuracy_score(y_test, predictions)))"
   ]
  },
  {
   "cell_type": "code",
   "execution_count": 130,
   "id": "164a3188",
   "metadata": {},
   "outputs": [
    {
     "name": "stdout",
     "output_type": "stream",
     "text": [
      "[[1854  219]\n",
      " [ 264  226]]\n",
      "              precision    recall  f1-score   support\n",
      "\n",
      "           0       0.88      0.89      0.88      2073\n",
      "           1       0.51      0.46      0.48       490\n",
      "\n",
      "    accuracy                           0.81      2563\n",
      "   macro avg       0.69      0.68      0.68      2563\n",
      "weighted avg       0.81      0.81      0.81      2563\n",
      "\n"
     ]
    }
   ],
   "source": [
    "from sklearn.metrics import classification_report, confusion_matrix\n",
    "\n",
    "print(confusion_matrix(y_test, predictions))\n",
    "print(classification_report(y_test,predictions))"
   ]
  },
  {
   "cell_type": "code",
   "execution_count": 95,
   "id": "564bd315",
   "metadata": {},
   "outputs": [
    {
     "name": "stdout",
     "output_type": "stream",
     "text": [
      "0.6836897132224814\n"
     ]
    }
   ],
   "source": [
    "# Not a great ROC Score. You typically want something between .9 and 1\n",
    "from sklearn.metrics import roc_curve, auc\n",
    "\n",
    "false_positive_rate, true_positive_rate, thresholds = roc_curve(y_test, predictions)\n",
    "roc_auc = auc(false_positive_rate, true_positive_rate)\n",
    "print (roc_auc)"
   ]
  },
  {
   "cell_type": "code",
   "execution_count": 131,
   "id": "21db69f8",
   "metadata": {},
   "outputs": [
    {
     "data": {
      "text/plain": [
       "0.18845103394459617"
      ]
     },
     "execution_count": 131,
     "metadata": {},
     "output_type": "execute_result"
    }
   ],
   "source": [
    "# Check MSE Score (Synonymous with Brier Score)\n",
    "from sklearn.metrics import mean_squared_error\n",
    "mean_squared_error(y_test, predictions)"
   ]
  },
  {
   "cell_type": "code",
   "execution_count": 132,
   "id": "ac034fb6",
   "metadata": {},
   "outputs": [],
   "source": [
    "# Get probability scores from dataset \n",
    "clf_y_proba = clf.predict_proba(X_test)\n",
    "clf_y_proba_1 = clf_y_proba[:, 1]\n"
   ]
  },
  {
   "cell_type": "code",
   "execution_count": 133,
   "id": "d7f79421",
   "metadata": {},
   "outputs": [
    {
     "data": {
      "text/plain": [
       "0.12624473962125263"
      ]
     },
     "execution_count": 133,
     "metadata": {},
     "output_type": "execute_result"
    }
   ],
   "source": [
    "from sklearn.metrics import brier_score_loss\n",
    "brier_score_loss(y_test, clf_y_proba_1)"
   ]
  },
  {
   "cell_type": "markdown",
   "id": "3d2ac328",
   "metadata": {},
   "source": [
    "## Random Forest: This yields the best accuracy score, SME Loss Reduction, and Brier Score. F-1 score not optimal, but we are not concerned with that for this assignment"
   ]
  },
  {
   "cell_type": "code",
   "execution_count": 326,
   "id": "34b968c4",
   "metadata": {},
   "outputs": [
    {
     "data": {
      "text/plain": [
       "RandomForestClassifier(n_estimators=1000)"
      ]
     },
     "execution_count": 326,
     "metadata": {},
     "output_type": "execute_result"
    }
   ],
   "source": [
    "from sklearn.ensemble import RandomForestClassifier\n",
    "\n",
    "rfc = RandomForestClassifier(n_estimators=1000)\n",
    "rfc.fit(X_train, y_train)"
   ]
  },
  {
   "cell_type": "code",
   "execution_count": 327,
   "id": "1f18f5cb",
   "metadata": {},
   "outputs": [
    {
     "name": "stdout",
     "output_type": "stream",
     "text": [
      "Accuracy_Score = 0.9986541049798116\n"
     ]
    }
   ],
   "source": [
    "# The very high accuracy score would indicate that the model is overfitted \n",
    "rfc_train = rfc.predict(X_train)\n",
    "from sklearn import metrics\n",
    "\n",
    "print(\"Accuracy_Score =\", format(metrics.accuracy_score(y_train, rfc_train)))"
   ]
  },
  {
   "cell_type": "code",
   "execution_count": 328,
   "id": "aed82a36",
   "metadata": {},
   "outputs": [
    {
     "name": "stdout",
     "output_type": "stream",
     "text": [
      "Accuracy_Score = 0.8408115489660554\n"
     ]
    }
   ],
   "source": [
    "from sklearn import metrics\n",
    "\n",
    "predictions = rfc.predict(X_test)\n",
    "print(\"Accuracy_Score =\", format(metrics.accuracy_score(y_test, predictions)))"
   ]
  },
  {
   "cell_type": "code",
   "execution_count": 283,
   "id": "4e57a60a",
   "metadata": {},
   "outputs": [
    {
     "name": "stdout",
     "output_type": "stream",
     "text": [
      "[[2012   61]\n",
      " [ 349  141]]\n",
      "              precision    recall  f1-score   support\n",
      "\n",
      "           0       0.85      0.97      0.91      2073\n",
      "           1       0.70      0.29      0.41       490\n",
      "\n",
      "    accuracy                           0.84      2563\n",
      "   macro avg       0.78      0.63      0.66      2563\n",
      "weighted avg       0.82      0.84      0.81      2563\n",
      "\n"
     ]
    }
   ],
   "source": [
    "from sklearn.metrics import classification_report, confusion_matrix\n",
    "\n",
    "print(confusion_matrix(y_test, predictions))\n",
    "print(classification_report(y_test,predictions))"
   ]
  },
  {
   "cell_type": "code",
   "execution_count": 329,
   "id": "30b28754",
   "metadata": {},
   "outputs": [
    {
     "data": {
      "text/plain": [
       "0.1591884510339446"
      ]
     },
     "execution_count": 329,
     "metadata": {},
     "output_type": "execute_result"
    }
   ],
   "source": [
    "# Check MSE Score Lower MSE score the better (Minimization of error in training dataset)\n",
    "mean_squared_error(y_test, predictions)"
   ]
  },
  {
   "cell_type": "code",
   "execution_count": 333,
   "id": "05b13ca1",
   "metadata": {},
   "outputs": [
    {
     "data": {
      "text/plain": [
       "array([0.06      , 0.22633333, 0.114     , ..., 0.006     , 0.61      ,\n",
       "       0.995     ])"
      ]
     },
     "execution_count": 333,
     "metadata": {},
     "output_type": "execute_result"
    }
   ],
   "source": [
    "# Get probability scores from dataset \n",
    "rfc_y_proba = rfc.predict_proba(X_test)\n",
    "rfc_y_proba_1 = rfc_y_proba[:, 1]\n",
    "rfc_y_proba_1"
   ]
  },
  {
   "cell_type": "code",
   "execution_count": 334,
   "id": "fdc02df0",
   "metadata": {},
   "outputs": [
    {
     "data": {
      "text/plain": [
       "0.1143720112355054"
      ]
     },
     "execution_count": 334,
     "metadata": {},
     "output_type": "execute_result"
    }
   ],
   "source": [
    "# Check Brier Score. .116 is pretty good!! .10 is the current low score  \n",
    "from sklearn.metrics import brier_score_loss\n",
    "brier_score_loss(y_test, rfc_y_proba_1)"
   ]
  },
  {
   "cell_type": "code",
   "execution_count": 335,
   "id": "1bd65544",
   "metadata": {},
   "outputs": [],
   "source": [
    "preds = rfc.predict(X_test)\n",
    "# Convery array with probabilities to dataframe\n",
    "preds=pd.DataFrame(preds, columns=['DMIndicatorForecast']) "
   ]
  },
  {
   "cell_type": "code",
   "execution_count": 337,
   "id": "8a6d6663",
   "metadata": {},
   "outputs": [
    {
     "name": "stdout",
     "output_type": "stream",
     "text": [
      "0    2365\n",
      "1     198\n",
      "Name: DMIndicatorForecast, dtype: int64\n"
     ]
    },
    {
     "data": {
      "image/png": "[encoded data removed]",
      "text/plain": [
       "<Figure size 432x288 with 1 Axes>"
      ]
     },
     "metadata": {
      "needs_background": "light"
     },
     "output_type": "display_data"
    }
   ],
   "source": [
    "# Check that how well our BMIndicator column is balanced\n",
    "color_wheel = {1: \"#0392cf\", 2: \"#7bc043\"}\n",
    "colors = preds[\"DMIndicatorForecast\"].map(lambda x: color_wheel.get(x + 1))\n",
    "print(preds.DMIndicatorForecast.value_counts())\n",
    "p=preds.DMIndicatorForecast.value_counts().plot(kind=\"bar\")"
   ]
  },
  {
   "cell_type": "markdown",
   "id": "b424beac",
   "metadata": {},
   "source": [
    "## Decision Tree: Not awful, but not as good as random forest"
   ]
  },
  {
   "cell_type": "code",
   "execution_count": 108,
   "id": "19f0ebd3",
   "metadata": {},
   "outputs": [
    {
     "data": {
      "text/plain": [
       "DecisionTreeClassifier()"
      ]
     },
     "execution_count": 108,
     "metadata": {},
     "output_type": "execute_result"
    }
   ],
   "source": [
    "from sklearn.tree import DecisionTreeClassifier\n",
    "\n",
    "dtree = DecisionTreeClassifier()\n",
    "dtree.fit(os_features,os_labels)"
   ]
  },
  {
   "cell_type": "code",
   "execution_count": 109,
   "id": "79c4434c",
   "metadata": {},
   "outputs": [
    {
     "name": "stdout",
     "output_type": "stream",
     "text": [
      "Accuracy Score = 0.7635583300819352\n"
     ]
    }
   ],
   "source": [
    "from sklearn import metrics\n",
    "\n",
    "predictions = dtree.predict(X_test)\n",
    "print(\"Accuracy Score =\", format(metrics.accuracy_score(y_test,predictions)))"
   ]
  },
  {
   "cell_type": "code",
   "execution_count": 110,
   "id": "4a0c2f52",
   "metadata": {},
   "outputs": [
    {
     "name": "stdout",
     "output_type": "stream",
     "text": [
      "[[1719  354]\n",
      " [ 252  238]]\n",
      "              precision    recall  f1-score   support\n",
      "\n",
      "           0       0.87      0.83      0.85      2073\n",
      "           1       0.40      0.49      0.44       490\n",
      "\n",
      "    accuracy                           0.76      2563\n",
      "   macro avg       0.64      0.66      0.65      2563\n",
      "weighted avg       0.78      0.76      0.77      2563\n",
      "\n"
     ]
    }
   ],
   "source": [
    "from sklearn.metrics import classification_report, confusion_matrix\n",
    "\n",
    "print(confusion_matrix(y_test, predictions))\n",
    "print(classification_report(y_test,predictions))"
   ]
  },
  {
   "cell_type": "code",
   "execution_count": 111,
   "id": "43ff982e",
   "metadata": {},
   "outputs": [
    {
     "data": {
      "text/plain": [
       "0.23644166991806476"
      ]
     },
     "execution_count": 111,
     "metadata": {},
     "output_type": "execute_result"
    }
   ],
   "source": [
    "# Check MSE Score (Synonymous with Brier Score)\n",
    "mean_squared_error(y_test, predictions)"
   ]
  },
  {
   "cell_type": "markdown",
   "id": "cb173485",
   "metadata": {},
   "source": [
    "## XgBoost classifier: Almost as good as random forest, but not quite"
   ]
  },
  {
   "cell_type": "code",
   "execution_count": 112,
   "id": "98739196",
   "metadata": {},
   "outputs": [
    {
     "name": "stdout",
     "output_type": "stream",
     "text": [
      "[12:41:33] WARNING: C:/Users/Administrator/workspace/xgboost-win64_release_1.5.1/src/learner.cc:1115: Starting in XGBoost 1.3.0, the default evaluation metric used with the objective 'binary:logistic' was changed from 'error' to 'logloss'. Explicitly set eval_metric if you'd like to restore the old behavior.\n"
     ]
    },
    {
     "data": {
      "text/plain": [
       "XGBClassifier(base_score=0.5, booster='gbtree', colsample_bylevel=1,\n",
       "              colsample_bynode=1, colsample_bytree=0.8,\n",
       "              enable_categorical=False, gamma=0, gpu_id=-1,\n",
       "              importance_type=None, interaction_constraints='',\n",
       "              learning_rate=0.1, max_delta_step=0, max_depth=3,\n",
       "              min_child_weight=5, missing=nan, monotone_constraints='()',\n",
       "              n_estimators=1000, n_jobs=4, nthread=4, num_parallel_tree=1,\n",
       "              predictor='auto', random_state=27, reg_alpha=0, reg_lambda=1,\n",
       "              scale_pos_weight=1, seed=27, subsample=0.8, tree_method='exact',\n",
       "              validate_parameters=1, verbosity=None)"
      ]
     },
     "execution_count": 112,
     "metadata": {},
     "output_type": "execute_result"
    }
   ],
   "source": [
    "from xgboost import XGBClassifier\n",
    "\n",
    "xgb_model = XGBClassifier(learning_rate =0.1, n_estimators=1000,\n",
    "    gamma=0,subsample=0.8,colsample_bytree=0.8,\n",
    "    objective= 'binary:logistic', nthread=4,scale_pos_weight=1,seed=27,\n",
    "    max_depth = 3,\n",
    "    min_child_weight = 5)\n",
    "xgb_model.fit(os_features,os_labels)"
   ]
  },
  {
   "cell_type": "code",
   "execution_count": 113,
   "id": "b923bfcd",
   "metadata": {},
   "outputs": [
    {
     "name": "stdout",
     "output_type": "stream",
     "text": [
      "Accuracy Score = 0.8041357783847054\n"
     ]
    }
   ],
   "source": [
    "from sklearn import metrics\n",
    "\n",
    "xgb_pred = xgb_model.predict(X_test)\n",
    "print(\"Accuracy Score =\", format(metrics.accuracy_score(y_test, xgb_pred)))"
   ]
  },
  {
   "cell_type": "code",
   "execution_count": 114,
   "id": "c58bdc13",
   "metadata": {},
   "outputs": [
    {
     "name": "stdout",
     "output_type": "stream",
     "text": [
      "[[1844  229]\n",
      " [ 273  217]]\n",
      "              precision    recall  f1-score   support\n",
      "\n",
      "           0       0.87      0.89      0.88      2073\n",
      "           1       0.49      0.44      0.46       490\n",
      "\n",
      "    accuracy                           0.80      2563\n",
      "   macro avg       0.68      0.67      0.67      2563\n",
      "weighted avg       0.80      0.80      0.80      2563\n",
      "\n"
     ]
    }
   ],
   "source": [
    "from sklearn.metrics import classification_report, confusion_matrix\n",
    "\n",
    "print(confusion_matrix(y_test, xgb_pred))\n",
    "print(classification_report(y_test,xgb_pred))"
   ]
  },
  {
   "cell_type": "code",
   "execution_count": 115,
   "id": "75c1aa91",
   "metadata": {},
   "outputs": [
    {
     "data": {
      "text/plain": [
       "0.19586422161529457"
      ]
     },
     "execution_count": 115,
     "metadata": {},
     "output_type": "execute_result"
    }
   ],
   "source": [
    "# Check MSE Score (Synonymous with Brier Score)\n",
    "mean_squared_error(y_test, xgb_pred)"
   ]
  },
  {
   "cell_type": "markdown",
   "id": "8927ed07",
   "metadata": {},
   "source": [
    "## Support Vector Machine (SVM): Not good for this model"
   ]
  },
  {
   "cell_type": "code",
   "execution_count": 21,
   "id": "2a513b9d",
   "metadata": {},
   "outputs": [
    {
     "data": {
      "text/plain": [
       "SVC()"
      ]
     },
     "execution_count": 21,
     "metadata": {},
     "output_type": "execute_result"
    }
   ],
   "source": [
    "from sklearn.svm import SVC\n",
    "\n",
    "svc_model = SVC()\n",
    "svc_model.fit(os_features,os_labels)"
   ]
  },
  {
   "cell_type": "code",
   "execution_count": 22,
   "id": "2e21a355",
   "metadata": {},
   "outputs": [],
   "source": [
    "svc_pred = svc_model.predict(X_test)"
   ]
  },
  {
   "cell_type": "code",
   "execution_count": 23,
   "id": "d1139972",
   "metadata": {},
   "outputs": [
    {
     "name": "stdout",
     "output_type": "stream",
     "text": [
      "Accuracy Score = 0.6894264533749512\n"
     ]
    }
   ],
   "source": [
    "from sklearn import metrics\n",
    "\n",
    "print(\"Accuracy Score =\", format(metrics.accuracy_score(y_test, svc_pred)))"
   ]
  },
  {
   "cell_type": "code",
   "execution_count": 24,
   "id": "af9dbb06",
   "metadata": {},
   "outputs": [
    {
     "name": "stdout",
     "output_type": "stream",
     "text": [
      "[[1423  650]\n",
      " [ 146  344]]\n",
      "              precision    recall  f1-score   support\n",
      "\n",
      "           0       0.91      0.69      0.78      2073\n",
      "           1       0.35      0.70      0.46       490\n",
      "\n",
      "    accuracy                           0.69      2563\n",
      "   macro avg       0.63      0.69      0.62      2563\n",
      "weighted avg       0.80      0.69      0.72      2563\n",
      "\n"
     ]
    }
   ],
   "source": [
    "from sklearn.metrics import classification_report, confusion_matrix\n",
    "\n",
    "print(confusion_matrix(y_test, svc_pred))\n",
    "print(classification_report(y_test,svc_pred))"
   ]
  },
  {
   "cell_type": "markdown",
   "id": "2d42450c",
   "metadata": {},
   "source": [
    "## Review which features were most important "
   ]
  },
  {
   "cell_type": "code",
   "execution_count": 32,
   "id": "7050fc92",
   "metadata": {},
   "outputs": [
    {
     "data": {
      "text/plain": [
       "<AxesSubplot:>"
      ]
     },
     "execution_count": 32,
     "metadata": {},
     "output_type": "execute_result"
    },
    {
     "data": {
      "image/png": "[encoded data removed]",
      "text/plain": [
       "<Figure size 432x288 with 1 Axes>"
      ]
     },
     "metadata": {
      "needs_background": "light"
     },
     "output_type": "display_data"
    }
   ],
   "source": [
    "(pd.Series(rfc.feature_importances_, index=X1.columns).plot(kind='barh'))"
   ]
  },
  {
   "cell_type": "markdown",
   "id": "aacabf0f",
   "metadata": {},
   "source": [
    "## Save the Random Forrest Model with the best output by using pickle. This is what we will use on test data "
   ]
  },
  {
   "cell_type": "code",
   "execution_count": 287,
   "id": "8c4c5100",
   "metadata": {},
   "outputs": [
    {
     "data": {
      "text/plain": [
       "array([0, 0, 0, ..., 0, 1, 1], dtype=int64)"
      ]
     },
     "execution_count": 287,
     "metadata": {},
     "output_type": "execute_result"
    }
   ],
   "source": [
    "import pickle\n",
    "\n",
    "# Firstly we will be using the dump() function to save the model using pickle\n",
    "saved_model = pickle.dumps(rfc)\n",
    "\n",
    "# Then we will be loading that saved model\n",
    "rfc_from_pickle = pickle.loads(saved_model)\n",
    "\n",
    "# lastly, after loading that model we will use this to make predictions\n",
    "rfc_from_pickle.predict(X_test)"
   ]
  },
  {
   "cell_type": "markdown",
   "id": "edd87a05",
   "metadata": {},
   "source": [
    "## Check a few samples to see if the predictions are accurate"
   ]
  },
  {
   "cell_type": "code",
   "execution_count": 288,
   "id": "a79505d0",
   "metadata": {},
   "outputs": [
    {
     "data": {
      "text/html": [
       "<div>\n",
       "<style scoped>\n",
       "    .dataframe tbody tr th:only-of-type {\n",
       "        vertical-align: middle;\n",
       "    }\n",
       "\n",
       "    .dataframe tbody tr th {\n",
       "        vertical-align: top;\n",
       "    }\n",
       "\n",
       "    .dataframe thead th {\n",
       "        text-align: right;\n",
       "    }\n",
       "</style>\n",
       "<table border=\"1\" class=\"dataframe\">\n",
       "  <thead>\n",
       "    <tr style=\"text-align: right;\">\n",
       "      <th></th>\n",
       "      <th>YearOfBirth</th>\n",
       "      <th>State</th>\n",
       "      <th>ICD9CodeDiagnosis</th>\n",
       "      <th>Weight</th>\n",
       "      <th>BMI</th>\n",
       "      <th>SystolicBP</th>\n",
       "      <th>DiastolicBP</th>\n",
       "      <th>RespiratoryRate</th>\n",
       "    </tr>\n",
       "  </thead>\n",
       "  <tbody>\n",
       "    <tr>\n",
       "      <th>0</th>\n",
       "      <td>-1.597386</td>\n",
       "      <td>1.215691</td>\n",
       "      <td>1.704712</td>\n",
       "      <td>-1.189755e+00</td>\n",
       "      <td>-4.332492e-15</td>\n",
       "      <td>0.979406</td>\n",
       "      <td>-0.608828</td>\n",
       "      <td>0.000000</td>\n",
       "    </tr>\n",
       "    <tr>\n",
       "      <th>1</th>\n",
       "      <td>1.552653</td>\n",
       "      <td>0.483592</td>\n",
       "      <td>-0.518832</td>\n",
       "      <td>-2.318478e-15</td>\n",
       "      <td>-4.332492e-15</td>\n",
       "      <td>0.000000</td>\n",
       "      <td>0.000000</td>\n",
       "      <td>0.000000</td>\n",
       "    </tr>\n",
       "    <tr>\n",
       "      <th>2</th>\n",
       "      <td>-0.337370</td>\n",
       "      <td>0.849642</td>\n",
       "      <td>1.136240</td>\n",
       "      <td>1.937256e+00</td>\n",
       "      <td>-4.332492e-15</td>\n",
       "      <td>4.633101</td>\n",
       "      <td>0.539349</td>\n",
       "      <td>0.000000</td>\n",
       "    </tr>\n",
       "    <tr>\n",
       "      <th>3</th>\n",
       "      <td>-1.883753</td>\n",
       "      <td>-1.529681</td>\n",
       "      <td>0.936960</td>\n",
       "      <td>-2.318478e-15</td>\n",
       "      <td>-4.332492e-15</td>\n",
       "      <td>0.979406</td>\n",
       "      <td>-0.295689</td>\n",
       "      <td>1.710406</td>\n",
       "    </tr>\n",
       "    <tr>\n",
       "      <th>4</th>\n",
       "      <td>1.380833</td>\n",
       "      <td>0.605608</td>\n",
       "      <td>1.704712</td>\n",
       "      <td>-2.318478e-15</td>\n",
       "      <td>-4.332492e-15</td>\n",
       "      <td>-1.108420</td>\n",
       "      <td>-0.713207</td>\n",
       "      <td>-2.483259</td>\n",
       "    </tr>\n",
       "  </tbody>\n",
       "</table>\n",
       "</div>"
      ],
      "text/plain": [
       "   YearOfBirth     State  ICD9CodeDiagnosis        Weight           BMI  \\\n",
       "0    -1.597386  1.215691           1.704712 -1.189755e+00 -4.332492e-15   \n",
       "1     1.552653  0.483592          -0.518832 -2.318478e-15 -4.332492e-15   \n",
       "2    -0.337370  0.849642           1.136240  1.937256e+00 -4.332492e-15   \n",
       "3    -1.883753 -1.529681           0.936960 -2.318478e-15 -4.332492e-15   \n",
       "4     1.380833  0.605608           1.704712 -2.318478e-15 -4.332492e-15   \n",
       "\n",
       "   SystolicBP  DiastolicBP  RespiratoryRate  \n",
       "0    0.979406    -0.608828         0.000000  \n",
       "1    0.000000     0.000000         0.000000  \n",
       "2    4.633101     0.539349         0.000000  \n",
       "3    0.979406    -0.295689         1.710406  \n",
       "4   -1.108420    -0.713207        -2.483259  "
      ]
     },
     "execution_count": 288,
     "metadata": {},
     "output_type": "execute_result"
    }
   ],
   "source": [
    "X1.head()"
   ]
  },
  {
   "cell_type": "code",
   "execution_count": 321,
   "id": "ea787e4c",
   "metadata": {},
   "outputs": [
    {
     "data": {
      "text/plain": [
       "array([1], dtype=int64)"
      ]
     },
     "execution_count": 321,
     "metadata": {},
     "output_type": "execute_result"
    }
   ],
   "source": [
    "# 2nd patient, who is diabetic \n",
    "rfc_from_pickle.predict([[-0.337370,0.849642,1.136240,1.937256e+00,-4.332492e-15,4.633101,0.539349,0.000000]]) #2nd patient\n",
    "# It accurately predicts a diabetes result "
   ]
  },
  {
   "cell_type": "code",
   "execution_count": 323,
   "id": "a020aef6",
   "metadata": {},
   "outputs": [
    {
     "data": {
      "text/plain": [
       "array([0], dtype=int64)"
      ]
     },
     "execution_count": 323,
     "metadata": {},
     "output_type": "execute_result"
    }
   ],
   "source": [
    "# Patient 0, who is non-diabetic\n",
    "rfc_from_pickle.predict([[-1.597386,1.215691,1.704712,-1.189755e+00,-4.332492e-15,0.979406,-0.608828,0.000000]]) #Patient 0\n",
    "# It accurately predicts a non-diabetes result "
   ]
  },
  {
   "cell_type": "code",
   "execution_count": 324,
   "id": "2a6510c9",
   "metadata": {},
   "outputs": [
    {
     "data": {
      "text/plain": [
       "array([[0.727, 0.273]])"
      ]
     },
     "execution_count": 324,
     "metadata": {},
     "output_type": "execute_result"
    }
   ],
   "source": [
    "# Outputs the probability instead of prediction, which is what is asked for in output\n",
    "rfc_from_pickle.predict_proba([[-1.597386,1.215691,1.704712,-1.189755e+00,-4.332492e-15,0.979406,-0.608828,0.000000]]) #Patient 0"
   ]
  },
  {
   "cell_type": "markdown",
   "id": "9a6f88cd",
   "metadata": {},
   "source": [
    "## Incorporation of Test Data: Pulling in sample we will apply trained model to "
   ]
  },
  {
   "cell_type": "code",
   "execution_count": 292,
   "id": "8e2d0758",
   "metadata": {},
   "outputs": [
    {
     "data": {
      "text/html": [
       "<div>\n",
       "<style scoped>\n",
       "    .dataframe tbody tr th:only-of-type {\n",
       "        vertical-align: middle;\n",
       "    }\n",
       "\n",
       "    .dataframe tbody tr th {\n",
       "        vertical-align: top;\n",
       "    }\n",
       "\n",
       "    .dataframe thead th {\n",
       "        text-align: right;\n",
       "    }\n",
       "</style>\n",
       "<table border=\"1\" class=\"dataframe\">\n",
       "  <thead>\n",
       "    <tr style=\"text-align: right;\">\n",
       "      <th></th>\n",
       "      <th>PatientGuid</th>\n",
       "      <th>Gender</th>\n",
       "      <th>YearOfBirth</th>\n",
       "      <th>State</th>\n",
       "      <th>AllergyType</th>\n",
       "      <th>ICD9CodeDiagnosis</th>\n",
       "      <th>AcuteDiagnosis</th>\n",
       "      <th>SmokingStatusGuid</th>\n",
       "      <th>Height</th>\n",
       "      <th>Weight</th>\n",
       "      <th>BMI</th>\n",
       "      <th>SystolicBP</th>\n",
       "      <th>DiastolicBP</th>\n",
       "      <th>RespiratoryRate</th>\n",
       "    </tr>\n",
       "  </thead>\n",
       "  <tbody>\n",
       "    <tr>\n",
       "      <th>0</th>\n",
       "      <td>000B4862-7CE7-4EC5-8043-A97FCD74BD78</td>\n",
       "      <td>0</td>\n",
       "      <td>1925</td>\n",
       "      <td>42</td>\n",
       "      <td>0</td>\n",
       "      <td>622</td>\n",
       "      <td>0</td>\n",
       "      <td>6</td>\n",
       "      <td>65.0</td>\n",
       "      <td>100.0</td>\n",
       "      <td>16.639</td>\n",
       "      <td>100.0</td>\n",
       "      <td>60.0</td>\n",
       "      <td>18.0</td>\n",
       "    </tr>\n",
       "    <tr>\n",
       "      <th>1</th>\n",
       "      <td>003CEE1F-5BF5-4171-9284-F5464EC12D41</td>\n",
       "      <td>0</td>\n",
       "      <td>1926</td>\n",
       "      <td>6</td>\n",
       "      <td>8</td>\n",
       "      <td>587</td>\n",
       "      <td>0</td>\n",
       "      <td>5</td>\n",
       "      <td>61.0</td>\n",
       "      <td>106.0</td>\n",
       "      <td>20.026</td>\n",
       "      <td>130.0</td>\n",
       "      <td>82.0</td>\n",
       "      <td>12.0</td>\n",
       "    </tr>\n",
       "    <tr>\n",
       "      <th>2</th>\n",
       "      <td>004382BD-E31F-4091-8DE5-E86A59D70C2D</td>\n",
       "      <td>0</td>\n",
       "      <td>1961</td>\n",
       "      <td>29</td>\n",
       "      <td>0</td>\n",
       "      <td>816</td>\n",
       "      <td>0</td>\n",
       "      <td>8</td>\n",
       "      <td>63.0</td>\n",
       "      <td>242.0</td>\n",
       "      <td>42.864</td>\n",
       "      <td>152.0</td>\n",
       "      <td>92.0</td>\n",
       "      <td>NaN</td>\n",
       "    </tr>\n",
       "    <tr>\n",
       "      <th>3</th>\n",
       "      <td>004EA6A7-6159-4D70-B06A-C0391D8623BD</td>\n",
       "      <td>0</td>\n",
       "      <td>1984</td>\n",
       "      <td>46</td>\n",
       "      <td>0</td>\n",
       "      <td>1207</td>\n",
       "      <td>0</td>\n",
       "      <td>8</td>\n",
       "      <td>67.0</td>\n",
       "      <td>142.0</td>\n",
       "      <td>22.238</td>\n",
       "      <td>108.0</td>\n",
       "      <td>72.0</td>\n",
       "      <td>NaN</td>\n",
       "    </tr>\n",
       "    <tr>\n",
       "      <th>4</th>\n",
       "      <td>0063B34F-C2C4-423A-A144-E51F7149253A</td>\n",
       "      <td>0</td>\n",
       "      <td>1968</td>\n",
       "      <td>22</td>\n",
       "      <td>8</td>\n",
       "      <td>1319</td>\n",
       "      <td>1</td>\n",
       "      <td>3</td>\n",
       "      <td>67.0</td>\n",
       "      <td>290.0</td>\n",
       "      <td>45.415</td>\n",
       "      <td>133.0</td>\n",
       "      <td>83.0</td>\n",
       "      <td>18.0</td>\n",
       "    </tr>\n",
       "  </tbody>\n",
       "</table>\n",
       "</div>"
      ],
      "text/plain": [
       "                            PatientGuid  Gender  YearOfBirth  State  \\\n",
       "0  000B4862-7CE7-4EC5-8043-A97FCD74BD78       0         1925     42   \n",
       "1  003CEE1F-5BF5-4171-9284-F5464EC12D41       0         1926      6   \n",
       "2  004382BD-E31F-4091-8DE5-E86A59D70C2D       0         1961     29   \n",
       "3  004EA6A7-6159-4D70-B06A-C0391D8623BD       0         1984     46   \n",
       "4  0063B34F-C2C4-423A-A144-E51F7149253A       0         1968     22   \n",
       "\n",
       "   AllergyType  ICD9CodeDiagnosis  AcuteDiagnosis  SmokingStatusGuid  Height  \\\n",
       "0            0                622               0                  6    65.0   \n",
       "1            8                587               0                  5    61.0   \n",
       "2            0                816               0                  8    63.0   \n",
       "3            0               1207               0                  8    67.0   \n",
       "4            8               1319               1                  3    67.0   \n",
       "\n",
       "   Weight     BMI  SystolicBP  DiastolicBP  RespiratoryRate  \n",
       "0   100.0  16.639       100.0         60.0             18.0  \n",
       "1   106.0  20.026       130.0         82.0             12.0  \n",
       "2   242.0  42.864       152.0         92.0              NaN  \n",
       "3   142.0  22.238       108.0         72.0              NaN  \n",
       "4   290.0  45.415       133.0         83.0             18.0  "
      ]
     },
     "execution_count": 292,
     "metadata": {},
     "output_type": "execute_result"
    }
   ],
   "source": [
    "test_df = pd.read_csv(r\"C:\\Users\\Nick's Laptop\\Desktop\\Health Analyics\\test_diabetesDF.csv\")\n",
    "test_df.head()"
   ]
  },
  {
   "cell_type": "code",
   "execution_count": 293,
   "id": "078ab0f5",
   "metadata": {},
   "outputs": [
    {
     "data": {
      "text/plain": [
       "PatientGuid             0\n",
       "Gender                  0\n",
       "YearOfBirth             0\n",
       "State                   0\n",
       "AllergyType             0\n",
       "ICD9CodeDiagnosis       0\n",
       "AcuteDiagnosis          0\n",
       "SmokingStatusGuid       0\n",
       "Height               1331\n",
       "Weight                  0\n",
       "BMI                     0\n",
       "SystolicBP            807\n",
       "DiastolicBP           807\n",
       "RespiratoryRate      1824\n",
       "dtype: int64"
      ]
     },
     "execution_count": 293,
     "metadata": {},
     "output_type": "execute_result"
    }
   ],
   "source": [
    "# check the number of null values our dataset has.\n",
    "test_df.isnull().sum()"
   ]
  },
  {
   "cell_type": "code",
   "execution_count": 294,
   "id": "d1641606",
   "metadata": {},
   "outputs": [
    {
     "name": "stdout",
     "output_type": "stream",
     "text": [
      "PatientGuid             0\n",
      "Gender                  0\n",
      "YearOfBirth             0\n",
      "State                   0\n",
      "AllergyType             0\n",
      "ICD9CodeDiagnosis       0\n",
      "AcuteDiagnosis          0\n",
      "SmokingStatusGuid       0\n",
      "Height               1331\n",
      "Weight               1041\n",
      "BMI                  1353\n",
      "SystolicBP            807\n",
      "DiastolicBP           807\n",
      "RespiratoryRate      1824\n",
      "dtype: int64\n"
     ]
    }
   ],
   "source": [
    "# Convert any instances where 0 or NULL was used to NA so to improve authenticity of dataset\n",
    "test_df_copy = test_df.copy(deep = True)\n",
    "test_df_copy[['Height','Weight','BMI','SystolicBP','DiastolicBP','RespiratoryRate']] = test_df_copy[['Height','Weight','BMI','SystolicBP','DiastolicBP','RespiratoryRate']].replace(0,np.NaN)\n",
    "\n",
    "# Showing the Count of NANs\n",
    "print(test_df_copy.isnull().sum())"
   ]
  },
  {
   "cell_type": "code",
   "execution_count": 295,
   "id": "e3971e10",
   "metadata": {},
   "outputs": [],
   "source": [
    "# imputing the mean value of the column to each missing value of that particular column\n",
    "test_df_copy['Height'].fillna(test_df_copy['Height'].mean(), inplace = True)\n",
    "test_df_copy['Weight'].fillna(test_df_copy['Weight'].mean(), inplace = True)\n",
    "test_df_copy['BMI'].fillna(test_df_copy['BMI'].mean(), inplace = True)\n",
    "test_df_copy['SystolicBP'].fillna(test_df_copy['SystolicBP'].mean(), inplace = True)\n",
    "test_df_copy['DiastolicBP'].fillna(test_df_copy['DiastolicBP'].mean(), inplace = True)\n",
    "test_df_copy['RespiratoryRate'].fillna(test_df_copy['RespiratoryRate'].mean(), inplace = True)"
   ]
  },
  {
   "cell_type": "code",
   "execution_count": 296,
   "id": "f7ee1e43",
   "metadata": {},
   "outputs": [
    {
     "data": {
      "image/png": "[encoded data removed]",
      "text/plain": [
       "<Figure size 1800x720 with 3 Axes>"
      ]
     },
     "metadata": {
      "needs_background": "light"
     },
     "output_type": "display_data"
    }
   ],
   "source": [
    "# Check histogram to see if any null values remain (we want no null values. nulls should be either turned into another category or average of sample)\n",
    "p = msno.bar(test_df_copy)"
   ]
  },
  {
   "cell_type": "code",
   "execution_count": 297,
   "id": "75f86c08",
   "metadata": {},
   "outputs": [
    {
     "data": {
      "text/html": [
       "<div>\n",
       "<style scoped>\n",
       "    .dataframe tbody tr th:only-of-type {\n",
       "        vertical-align: middle;\n",
       "    }\n",
       "\n",
       "    .dataframe tbody tr th {\n",
       "        vertical-align: top;\n",
       "    }\n",
       "\n",
       "    .dataframe thead th {\n",
       "        text-align: right;\n",
       "    }\n",
       "</style>\n",
       "<table border=\"1\" class=\"dataframe\">\n",
       "  <thead>\n",
       "    <tr style=\"text-align: right;\">\n",
       "      <th></th>\n",
       "      <th>Gender</th>\n",
       "      <th>YearOfBirth</th>\n",
       "      <th>State</th>\n",
       "      <th>AllergyType</th>\n",
       "      <th>ICD9CodeDiagnosis</th>\n",
       "      <th>AcuteDiagnosis</th>\n",
       "      <th>SmokingStatusGuid</th>\n",
       "      <th>Height</th>\n",
       "      <th>Weight</th>\n",
       "      <th>BMI</th>\n",
       "      <th>SystolicBP</th>\n",
       "      <th>DiastolicBP</th>\n",
       "      <th>RespiratoryRate</th>\n",
       "    </tr>\n",
       "  </thead>\n",
       "  <tbody>\n",
       "    <tr>\n",
       "      <th>0</th>\n",
       "      <td>-0.837389</td>\n",
       "      <td>-1.838580</td>\n",
       "      <td>0.940903</td>\n",
       "      <td>-0.453627</td>\n",
       "      <td>-0.378678</td>\n",
       "      <td>-0.427342</td>\n",
       "      <td>-0.370746</td>\n",
       "      <td>-0.229419</td>\n",
       "      <td>-2.134957</td>\n",
       "      <td>-0.941057</td>\n",
       "      <td>-1.883140</td>\n",
       "      <td>-1.799028</td>\n",
       "      <td>7.580571e-01</td>\n",
       "    </tr>\n",
       "    <tr>\n",
       "      <th>1</th>\n",
       "      <td>-0.837389</td>\n",
       "      <td>-1.781304</td>\n",
       "      <td>-1.285259</td>\n",
       "      <td>2.100493</td>\n",
       "      <td>-0.452260</td>\n",
       "      <td>-0.427342</td>\n",
       "      <td>-0.924878</td>\n",
       "      <td>-1.390372</td>\n",
       "      <td>-1.974627</td>\n",
       "      <td>-0.696645</td>\n",
       "      <td>0.190528</td>\n",
       "      <td>0.512909</td>\n",
       "      <td>-2.954677e+00</td>\n",
       "    </tr>\n",
       "    <tr>\n",
       "      <th>2</th>\n",
       "      <td>-0.837389</td>\n",
       "      <td>0.223337</td>\n",
       "      <td>0.137011</td>\n",
       "      <td>-0.453627</td>\n",
       "      <td>0.029175</td>\n",
       "      <td>-0.427342</td>\n",
       "      <td>0.737519</td>\n",
       "      <td>-0.809896</td>\n",
       "      <td>1.659503</td>\n",
       "      <td>0.951385</td>\n",
       "      <td>1.711218</td>\n",
       "      <td>1.563789</td>\n",
       "      <td>2.198380e-15</td>\n",
       "    </tr>\n",
       "    <tr>\n",
       "      <th>3</th>\n",
       "      <td>-0.837389</td>\n",
       "      <td>1.540672</td>\n",
       "      <td>1.188254</td>\n",
       "      <td>-0.453627</td>\n",
       "      <td>0.851188</td>\n",
       "      <td>-0.427342</td>\n",
       "      <td>0.737519</td>\n",
       "      <td>0.351058</td>\n",
       "      <td>-1.012652</td>\n",
       "      <td>-0.537023</td>\n",
       "      <td>-1.330161</td>\n",
       "      <td>-0.537971</td>\n",
       "      <td>2.198380e-15</td>\n",
       "    </tr>\n",
       "    <tr>\n",
       "      <th>4</th>\n",
       "      <td>-0.837389</td>\n",
       "      <td>0.624265</td>\n",
       "      <td>-0.295854</td>\n",
       "      <td>2.100493</td>\n",
       "      <td>1.086649</td>\n",
       "      <td>2.340047</td>\n",
       "      <td>-2.033143</td>\n",
       "      <td>0.351058</td>\n",
       "      <td>2.942138</td>\n",
       "      <td>1.135470</td>\n",
       "      <td>0.397895</td>\n",
       "      <td>0.617997</td>\n",
       "      <td>7.580571e-01</td>\n",
       "    </tr>\n",
       "  </tbody>\n",
       "</table>\n",
       "</div>"
      ],
      "text/plain": [
       "     Gender  YearOfBirth     State  AllergyType  ICD9CodeDiagnosis  \\\n",
       "0 -0.837389    -1.838580  0.940903    -0.453627          -0.378678   \n",
       "1 -0.837389    -1.781304 -1.285259     2.100493          -0.452260   \n",
       "2 -0.837389     0.223337  0.137011    -0.453627           0.029175   \n",
       "3 -0.837389     1.540672  1.188254    -0.453627           0.851188   \n",
       "4 -0.837389     0.624265 -0.295854     2.100493           1.086649   \n",
       "\n",
       "   AcuteDiagnosis  SmokingStatusGuid    Height    Weight       BMI  \\\n",
       "0       -0.427342          -0.370746 -0.229419 -2.134957 -0.941057   \n",
       "1       -0.427342          -0.924878 -1.390372 -1.974627 -0.696645   \n",
       "2       -0.427342           0.737519 -0.809896  1.659503  0.951385   \n",
       "3       -0.427342           0.737519  0.351058 -1.012652 -0.537023   \n",
       "4        2.340047          -2.033143  0.351058  2.942138  1.135470   \n",
       "\n",
       "   SystolicBP  DiastolicBP  RespiratoryRate  \n",
       "0   -1.883140    -1.799028     7.580571e-01  \n",
       "1    0.190528     0.512909    -2.954677e+00  \n",
       "2    1.711218     1.563789     2.198380e-15  \n",
       "3   -1.330161    -0.537971     2.198380e-15  \n",
       "4    0.397895     0.617997     7.580571e-01  "
      ]
     },
     "execution_count": 297,
     "metadata": {},
     "output_type": "execute_result"
    }
   ],
   "source": [
    "# Conduct Standard Scaling \n",
    "test_sc_X = StandardScaler()\n",
    "test_X =  pd.DataFrame(test_sc_X.fit_transform(test_df_copy.drop([\"PatientGuid\"],axis = 1),), columns=['Gender', \n",
    "'YearOfBirth', 'State', 'AllergyType', 'ICD9CodeDiagnosis', 'AcuteDiagnosis', 'SmokingStatusGuid', 'Height',\n",
    "'Weight', 'BMI', 'SystolicBP', 'DiastolicBP', 'RespiratoryRate'])\n",
    "test_X.head()"
   ]
  },
  {
   "cell_type": "code",
   "execution_count": 298,
   "id": "2a2c4eae",
   "metadata": {},
   "outputs": [
    {
     "data": {
      "text/html": [
       "<div>\n",
       "<style scoped>\n",
       "    .dataframe tbody tr th:only-of-type {\n",
       "        vertical-align: middle;\n",
       "    }\n",
       "\n",
       "    .dataframe tbody tr th {\n",
       "        vertical-align: top;\n",
       "    }\n",
       "\n",
       "    .dataframe thead th {\n",
       "        text-align: right;\n",
       "    }\n",
       "</style>\n",
       "<table border=\"1\" class=\"dataframe\">\n",
       "  <thead>\n",
       "    <tr style=\"text-align: right;\">\n",
       "      <th></th>\n",
       "      <th>YearOfBirth</th>\n",
       "      <th>State</th>\n",
       "      <th>ICD9CodeDiagnosis</th>\n",
       "      <th>Weight</th>\n",
       "      <th>BMI</th>\n",
       "      <th>SystolicBP</th>\n",
       "      <th>DiastolicBP</th>\n",
       "      <th>RespiratoryRate</th>\n",
       "    </tr>\n",
       "  </thead>\n",
       "  <tbody>\n",
       "    <tr>\n",
       "      <th>0</th>\n",
       "      <td>-1.838580</td>\n",
       "      <td>0.940903</td>\n",
       "      <td>-0.378678</td>\n",
       "      <td>-2.134957</td>\n",
       "      <td>-0.941057</td>\n",
       "      <td>-1.883140</td>\n",
       "      <td>-1.799028</td>\n",
       "      <td>7.580571e-01</td>\n",
       "    </tr>\n",
       "    <tr>\n",
       "      <th>1</th>\n",
       "      <td>-1.781304</td>\n",
       "      <td>-1.285259</td>\n",
       "      <td>-0.452260</td>\n",
       "      <td>-1.974627</td>\n",
       "      <td>-0.696645</td>\n",
       "      <td>0.190528</td>\n",
       "      <td>0.512909</td>\n",
       "      <td>-2.954677e+00</td>\n",
       "    </tr>\n",
       "    <tr>\n",
       "      <th>2</th>\n",
       "      <td>0.223337</td>\n",
       "      <td>0.137011</td>\n",
       "      <td>0.029175</td>\n",
       "      <td>1.659503</td>\n",
       "      <td>0.951385</td>\n",
       "      <td>1.711218</td>\n",
       "      <td>1.563789</td>\n",
       "      <td>2.198380e-15</td>\n",
       "    </tr>\n",
       "    <tr>\n",
       "      <th>3</th>\n",
       "      <td>1.540672</td>\n",
       "      <td>1.188254</td>\n",
       "      <td>0.851188</td>\n",
       "      <td>-1.012652</td>\n",
       "      <td>-0.537023</td>\n",
       "      <td>-1.330161</td>\n",
       "      <td>-0.537971</td>\n",
       "      <td>2.198380e-15</td>\n",
       "    </tr>\n",
       "    <tr>\n",
       "      <th>4</th>\n",
       "      <td>0.624265</td>\n",
       "      <td>-0.295854</td>\n",
       "      <td>1.086649</td>\n",
       "      <td>2.942138</td>\n",
       "      <td>1.135470</td>\n",
       "      <td>0.397895</td>\n",
       "      <td>0.617997</td>\n",
       "      <td>7.580571e-01</td>\n",
       "    </tr>\n",
       "  </tbody>\n",
       "</table>\n",
       "</div>"
      ],
      "text/plain": [
       "   YearOfBirth     State  ICD9CodeDiagnosis    Weight       BMI  SystolicBP  \\\n",
       "0    -1.838580  0.940903          -0.378678 -2.134957 -0.941057   -1.883140   \n",
       "1    -1.781304 -1.285259          -0.452260 -1.974627 -0.696645    0.190528   \n",
       "2     0.223337  0.137011           0.029175  1.659503  0.951385    1.711218   \n",
       "3     1.540672  1.188254           0.851188 -1.012652 -0.537023   -1.330161   \n",
       "4     0.624265 -0.295854           1.086649  2.942138  1.135470    0.397895   \n",
       "\n",
       "   DiastolicBP  RespiratoryRate  \n",
       "0    -1.799028     7.580571e-01  \n",
       "1     0.512909    -2.954677e+00  \n",
       "2     1.563789     2.198380e-15  \n",
       "3    -0.537971     2.198380e-15  \n",
       "4     0.617997     7.580571e-01  "
      ]
     },
     "execution_count": 298,
     "metadata": {},
     "output_type": "execute_result"
    }
   ],
   "source": [
    "# Select PatientGuid and Diabetic as DMIndicator\n",
    "test_X1 = test_X[['YearOfBirth', 'State','ICD9CodeDiagnosis','Weight', 'BMI', 'SystolicBP', 'DiastolicBP', 'RespiratoryRate']]\n",
    "test_X1.head()"
   ]
  },
  {
   "cell_type": "markdown",
   "id": "0ffde685",
   "metadata": {},
   "source": [
    "## Once we have cleaned test data exactly like data used to train/test model, we apply rfc model on it"
   ]
  },
  {
   "cell_type": "code",
   "execution_count": 299,
   "id": "622cfcc1",
   "metadata": {},
   "outputs": [],
   "source": [
    "# lastly, after loading that model we will use this to make predictions\n",
    "test_prob = rfc_from_pickle.predict_proba(test_X1)"
   ]
  },
  {
   "cell_type": "code",
   "execution_count": 300,
   "id": "135b69cd",
   "metadata": {},
   "outputs": [
    {
     "data": {
      "text/plain": [
       "array([[0.505, 0.495],\n",
       "       [0.745, 0.255],\n",
       "       [0.74 , 0.26 ],\n",
       "       ...,\n",
       "       [0.822, 0.178],\n",
       "       [0.454, 0.546],\n",
       "       [0.974, 0.026]])"
      ]
     },
     "execution_count": 300,
     "metadata": {},
     "output_type": "execute_result"
    }
   ],
   "source": [
    "rfc_from_pickle.predict_proba(test_X1)"
   ]
  },
  {
   "cell_type": "markdown",
   "id": "c3aab93e",
   "metadata": {},
   "source": [
    "## Here we are putting PatientGuid back in and formatting per assignment instructions (PatientGuid and DMIndicator Forecast)"
   ]
  },
  {
   "cell_type": "code",
   "execution_count": 301,
   "id": "ba47ffec",
   "metadata": {},
   "outputs": [],
   "source": [
    "# Convert array with probabilities to dataframe\n",
    "test=pd.DataFrame(test_prob, columns=['Non-Diabetic','DMIndicatorForecast']) "
   ]
  },
  {
   "cell_type": "code",
   "execution_count": 302,
   "id": "01c3f05f",
   "metadata": {},
   "outputs": [
    {
     "data": {
      "text/html": [
       "<div>\n",
       "<style scoped>\n",
       "    .dataframe tbody tr th:only-of-type {\n",
       "        vertical-align: middle;\n",
       "    }\n",
       "\n",
       "    .dataframe tbody tr th {\n",
       "        vertical-align: top;\n",
       "    }\n",
       "\n",
       "    .dataframe thead th {\n",
       "        text-align: right;\n",
       "    }\n",
       "</style>\n",
       "<table border=\"1\" class=\"dataframe\">\n",
       "  <thead>\n",
       "    <tr style=\"text-align: right;\">\n",
       "      <th></th>\n",
       "      <th>Non-Diabetic</th>\n",
       "      <th>DMIndicatorForecast</th>\n",
       "    </tr>\n",
       "  </thead>\n",
       "  <tbody>\n",
       "    <tr>\n",
       "      <th>0</th>\n",
       "      <td>0.505</td>\n",
       "      <td>0.495</td>\n",
       "    </tr>\n",
       "    <tr>\n",
       "      <th>1</th>\n",
       "      <td>0.745</td>\n",
       "      <td>0.255</td>\n",
       "    </tr>\n",
       "    <tr>\n",
       "      <th>2</th>\n",
       "      <td>0.740</td>\n",
       "      <td>0.260</td>\n",
       "    </tr>\n",
       "    <tr>\n",
       "      <th>3</th>\n",
       "      <td>0.990</td>\n",
       "      <td>0.010</td>\n",
       "    </tr>\n",
       "    <tr>\n",
       "      <th>4</th>\n",
       "      <td>0.808</td>\n",
       "      <td>0.192</td>\n",
       "    </tr>\n",
       "  </tbody>\n",
       "</table>\n",
       "</div>"
      ],
      "text/plain": [
       "   Non-Diabetic  DMIndicatorForecast\n",
       "0         0.505                0.495\n",
       "1         0.745                0.255\n",
       "2         0.740                0.260\n",
       "3         0.990                0.010\n",
       "4         0.808                0.192"
      ]
     },
     "execution_count": 302,
     "metadata": {},
     "output_type": "execute_result"
    }
   ],
   "source": [
    "test.head()"
   ]
  },
  {
   "cell_type": "code",
   "execution_count": 303,
   "id": "6e6b842f",
   "metadata": {},
   "outputs": [],
   "source": [
    "# Merge PatientGuid back in with Probabilities \n",
    "PatientGuid = test_df_copy[\"PatientGuid\"]\n",
    "test = test.join(PatientGuid)"
   ]
  },
  {
   "cell_type": "code",
   "execution_count": 304,
   "id": "5da86177",
   "metadata": {},
   "outputs": [
    {
     "data": {
      "text/html": [
       "<div>\n",
       "<style scoped>\n",
       "    .dataframe tbody tr th:only-of-type {\n",
       "        vertical-align: middle;\n",
       "    }\n",
       "\n",
       "    .dataframe tbody tr th {\n",
       "        vertical-align: top;\n",
       "    }\n",
       "\n",
       "    .dataframe thead th {\n",
       "        text-align: right;\n",
       "    }\n",
       "</style>\n",
       "<table border=\"1\" class=\"dataframe\">\n",
       "  <thead>\n",
       "    <tr style=\"text-align: right;\">\n",
       "      <th></th>\n",
       "      <th>Non-Diabetic</th>\n",
       "      <th>DMIndicatorForecast</th>\n",
       "      <th>PatientGuid</th>\n",
       "    </tr>\n",
       "  </thead>\n",
       "  <tbody>\n",
       "    <tr>\n",
       "      <th>3343</th>\n",
       "      <td>0.487</td>\n",
       "      <td>0.513</td>\n",
       "      <td>FF9BA1EB-03AB-47FE-B110-B559D8E0835B</td>\n",
       "    </tr>\n",
       "    <tr>\n",
       "      <th>3344</th>\n",
       "      <td>0.985</td>\n",
       "      <td>0.015</td>\n",
       "      <td>FFA25126-98E0-46E2-9B80-FBEEEA1C7D71</td>\n",
       "    </tr>\n",
       "    <tr>\n",
       "      <th>3345</th>\n",
       "      <td>0.822</td>\n",
       "      <td>0.178</td>\n",
       "      <td>FFB3BB66-F74A-462E-A9B8-F982857B4CB3</td>\n",
       "    </tr>\n",
       "    <tr>\n",
       "      <th>3346</th>\n",
       "      <td>0.454</td>\n",
       "      <td>0.546</td>\n",
       "      <td>FFC8E19F-A199-46A3-895A-E3C07FBAC809</td>\n",
       "    </tr>\n",
       "    <tr>\n",
       "      <th>3347</th>\n",
       "      <td>0.974</td>\n",
       "      <td>0.026</td>\n",
       "      <td>FFCD70A8-72FC-4F06-AC19-D9962B2CA95E</td>\n",
       "    </tr>\n",
       "  </tbody>\n",
       "</table>\n",
       "</div>"
      ],
      "text/plain": [
       "      Non-Diabetic  DMIndicatorForecast                           PatientGuid\n",
       "3343         0.487                0.513  FF9BA1EB-03AB-47FE-B110-B559D8E0835B\n",
       "3344         0.985                0.015  FFA25126-98E0-46E2-9B80-FBEEEA1C7D71\n",
       "3345         0.822                0.178  FFB3BB66-F74A-462E-A9B8-F982857B4CB3\n",
       "3346         0.454                0.546  FFC8E19F-A199-46A3-895A-E3C07FBAC809\n",
       "3347         0.974                0.026  FFCD70A8-72FC-4F06-AC19-D9962B2CA95E"
      ]
     },
     "execution_count": 304,
     "metadata": {},
     "output_type": "execute_result"
    }
   ],
   "source": [
    "# NOTE: PatientGuid and test_prob have same length.\n",
    "test.tail()"
   ]
  },
  {
   "cell_type": "code",
   "execution_count": 305,
   "id": "ef3c1c0a",
   "metadata": {},
   "outputs": [],
   "source": [
    "# Select PatientGuid and Diabetic as DMIndicator\n",
    "df_export = test[['PatientGuid', 'DMIndicatorForecast']]"
   ]
  },
  {
   "cell_type": "code",
   "execution_count": 306,
   "id": "2a5844a9",
   "metadata": {},
   "outputs": [
    {
     "data": {
      "text/html": [
       "<div>\n",
       "<style scoped>\n",
       "    .dataframe tbody tr th:only-of-type {\n",
       "        vertical-align: middle;\n",
       "    }\n",
       "\n",
       "    .dataframe tbody tr th {\n",
       "        vertical-align: top;\n",
       "    }\n",
       "\n",
       "    .dataframe thead th {\n",
       "        text-align: right;\n",
       "    }\n",
       "</style>\n",
       "<table border=\"1\" class=\"dataframe\">\n",
       "  <thead>\n",
       "    <tr style=\"text-align: right;\">\n",
       "      <th></th>\n",
       "      <th>PatientGuid</th>\n",
       "      <th>DMIndicatorForecast</th>\n",
       "    </tr>\n",
       "  </thead>\n",
       "  <tbody>\n",
       "    <tr>\n",
       "      <th>0</th>\n",
       "      <td>000B4862-7CE7-4EC5-8043-A97FCD74BD78</td>\n",
       "      <td>0.495</td>\n",
       "    </tr>\n",
       "    <tr>\n",
       "      <th>1</th>\n",
       "      <td>003CEE1F-5BF5-4171-9284-F5464EC12D41</td>\n",
       "      <td>0.255</td>\n",
       "    </tr>\n",
       "    <tr>\n",
       "      <th>2</th>\n",
       "      <td>004382BD-E31F-4091-8DE5-E86A59D70C2D</td>\n",
       "      <td>0.260</td>\n",
       "    </tr>\n",
       "    <tr>\n",
       "      <th>3</th>\n",
       "      <td>004EA6A7-6159-4D70-B06A-C0391D8623BD</td>\n",
       "      <td>0.010</td>\n",
       "    </tr>\n",
       "    <tr>\n",
       "      <th>4</th>\n",
       "      <td>0063B34F-C2C4-423A-A144-E51F7149253A</td>\n",
       "      <td>0.192</td>\n",
       "    </tr>\n",
       "  </tbody>\n",
       "</table>\n",
       "</div>"
      ],
      "text/plain": [
       "                            PatientGuid  DMIndicatorForecast\n",
       "0  000B4862-7CE7-4EC5-8043-A97FCD74BD78                0.495\n",
       "1  003CEE1F-5BF5-4171-9284-F5464EC12D41                0.255\n",
       "2  004382BD-E31F-4091-8DE5-E86A59D70C2D                0.260\n",
       "3  004EA6A7-6159-4D70-B06A-C0391D8623BD                0.010\n",
       "4  0063B34F-C2C4-423A-A144-E51F7149253A                0.192"
      ]
     },
     "execution_count": 306,
     "metadata": {},
     "output_type": "execute_result"
    }
   ],
   "source": [
    "df_export.head()"
   ]
  },
  {
   "cell_type": "code",
   "execution_count": 307,
   "id": "42446341",
   "metadata": {},
   "outputs": [],
   "source": [
    "df_export.to_csv(r\"C:\\Users\\Nick's Laptop\\Desktop\\Health Analyics\\test_SyncPatientForecastv2.csv\", sep=',')"
   ]
  },
  {
   "cell_type": "code",
   "execution_count": 313,
   "id": "fcdaee3c",
   "metadata": {},
   "outputs": [],
   "source": [
    "preds = rfc_from_pickle.predict(test_X1)\n",
    "# Convery array with probabilities to dataframe\n",
    "preds=pd.DataFrame(preds, columns=['DMIndicatorForecast']) "
   ]
  },
  {
   "cell_type": "code",
   "execution_count": 314,
   "id": "ca96d5db",
   "metadata": {},
   "outputs": [
    {
     "name": "stdout",
     "output_type": "stream",
     "text": [
      "0    3219\n",
      "1     129\n",
      "Name: DMIndicatorForecast, dtype: int64\n"
     ]
    },
    {
     "data": {
      "image/png": "[encoded data removed]",
      "text/plain": [
       "<Figure size 432x288 with 1 Axes>"
      ]
     },
     "metadata": {
      "needs_background": "light"
     },
     "output_type": "display_data"
    }
   ],
   "source": [
    "# Check that how well our BMIndicator column is balanced\n",
    "color_wheel = {1: \"#0392cf\", 2: \"#7bc043\"}\n",
    "colors = preds[\"DMIndicatorForecast\"].map(lambda x: color_wheel.get(x + 1))\n",
    "print(preds.DMIndicatorForecast.value_counts())\n",
    "p=preds.DMIndicatorForecast.value_counts().plot(kind=\"bar\")"
   ]
  },
  {
   "cell_type": "markdown",
   "id": "76533235",
   "metadata": {},
   "source": [
    "### Check random samples to ensure PatientGuid aligns with the correct DMIndicator"
   ]
  },
  {
   "cell_type": "code",
   "execution_count": 317,
   "id": "58058369",
   "metadata": {},
   "outputs": [
    {
     "data": {
      "text/html": [
       "<div>\n",
       "<style scoped>\n",
       "    .dataframe tbody tr th:only-of-type {\n",
       "        vertical-align: middle;\n",
       "    }\n",
       "\n",
       "    .dataframe tbody tr th {\n",
       "        vertical-align: top;\n",
       "    }\n",
       "\n",
       "    .dataframe thead th {\n",
       "        text-align: right;\n",
       "    }\n",
       "</style>\n",
       "<table border=\"1\" class=\"dataframe\">\n",
       "  <thead>\n",
       "    <tr style=\"text-align: right;\">\n",
       "      <th></th>\n",
       "      <th>PatientGuid</th>\n",
       "      <th>DMIndicatorForecast</th>\n",
       "    </tr>\n",
       "  </thead>\n",
       "  <tbody>\n",
       "    <tr>\n",
       "      <th>675</th>\n",
       "      <td>35441C52-1D32-4126-BD11-E1D465D492B1</td>\n",
       "      <td>0.259</td>\n",
       "    </tr>\n",
       "  </tbody>\n",
       "</table>\n",
       "</div>"
      ],
      "text/plain": [
       "                              PatientGuid  DMIndicatorForecast\n",
       "675  35441C52-1D32-4126-BD11-E1D465D492B1                0.259"
      ]
     },
     "execution_count": 317,
     "metadata": {},
     "output_type": "execute_result"
    }
   ],
   "source": [
    "df_export.iloc[[675]]"
   ]
  },
  {
   "cell_type": "code",
   "execution_count": 318,
   "id": "a637ef23",
   "metadata": {
    "scrolled": true
   },
   "outputs": [
    {
     "data": {
      "text/html": [
       "<div>\n",
       "<style scoped>\n",
       "    .dataframe tbody tr th:only-of-type {\n",
       "        vertical-align: middle;\n",
       "    }\n",
       "\n",
       "    .dataframe tbody tr th {\n",
       "        vertical-align: top;\n",
       "    }\n",
       "\n",
       "    .dataframe thead th {\n",
       "        text-align: right;\n",
       "    }\n",
       "</style>\n",
       "<table border=\"1\" class=\"dataframe\">\n",
       "  <thead>\n",
       "    <tr style=\"text-align: right;\">\n",
       "      <th></th>\n",
       "      <th>PatientGuid</th>\n",
       "      <th>Gender</th>\n",
       "      <th>YearOfBirth</th>\n",
       "      <th>State</th>\n",
       "      <th>AllergyType</th>\n",
       "      <th>ICD9CodeDiagnosis</th>\n",
       "      <th>AcuteDiagnosis</th>\n",
       "      <th>SmokingStatusGuid</th>\n",
       "      <th>Height</th>\n",
       "      <th>Weight</th>\n",
       "      <th>BMI</th>\n",
       "      <th>SystolicBP</th>\n",
       "      <th>DiastolicBP</th>\n",
       "      <th>RespiratoryRate</th>\n",
       "    </tr>\n",
       "  </thead>\n",
       "  <tbody>\n",
       "    <tr>\n",
       "      <th>675</th>\n",
       "      <td>35441C52-1D32-4126-BD11-E1D465D492B1</td>\n",
       "      <td>1</td>\n",
       "      <td>1962</td>\n",
       "      <td>12</td>\n",
       "      <td>0</td>\n",
       "      <td>1284</td>\n",
       "      <td>0</td>\n",
       "      <td>8</td>\n",
       "      <td>74.0</td>\n",
       "      <td>257.0</td>\n",
       "      <td>32.993</td>\n",
       "      <td>108.0</td>\n",
       "      <td>62.0</td>\n",
       "      <td>14.0</td>\n",
       "    </tr>\n",
       "  </tbody>\n",
       "</table>\n",
       "</div>"
      ],
      "text/plain": [
       "                              PatientGuid  Gender  YearOfBirth  State  \\\n",
       "675  35441C52-1D32-4126-BD11-E1D465D492B1       1         1962     12   \n",
       "\n",
       "     AllergyType  ICD9CodeDiagnosis  AcuteDiagnosis  SmokingStatusGuid  \\\n",
       "675            0               1284               0                  8   \n",
       "\n",
       "     Height  Weight     BMI  SystolicBP  DiastolicBP  RespiratoryRate  \n",
       "675    74.0   257.0  32.993       108.0         62.0             14.0  "
      ]
     },
     "execution_count": 318,
     "metadata": {},
     "output_type": "execute_result"
    }
   ],
   "source": [
    "# We can see that index 675 is the same Patient in the test_df_copy db we convert to X1 prior to stripping PatientGuid\n",
    "test_df_copy.iloc[[675]]"
   ]
  },
  {
   "cell_type": "code",
   "execution_count": 319,
   "id": "409f30c6",
   "metadata": {},
   "outputs": [
    {
     "data": {
      "text/html": [
       "<div>\n",
       "<style scoped>\n",
       "    .dataframe tbody tr th:only-of-type {\n",
       "        vertical-align: middle;\n",
       "    }\n",
       "\n",
       "    .dataframe tbody tr th {\n",
       "        vertical-align: top;\n",
       "    }\n",
       "\n",
       "    .dataframe thead th {\n",
       "        text-align: right;\n",
       "    }\n",
       "</style>\n",
       "<table border=\"1\" class=\"dataframe\">\n",
       "  <thead>\n",
       "    <tr style=\"text-align: right;\">\n",
       "      <th></th>\n",
       "      <th>YearOfBirth</th>\n",
       "      <th>State</th>\n",
       "      <th>ICD9CodeDiagnosis</th>\n",
       "      <th>Weight</th>\n",
       "      <th>BMI</th>\n",
       "      <th>SystolicBP</th>\n",
       "      <th>DiastolicBP</th>\n",
       "      <th>RespiratoryRate</th>\n",
       "    </tr>\n",
       "  </thead>\n",
       "  <tbody>\n",
       "    <tr>\n",
       "      <th>675</th>\n",
       "      <td>0.280612</td>\n",
       "      <td>-0.914232</td>\n",
       "      <td>1.013067</td>\n",
       "      <td>2.060326</td>\n",
       "      <td>0.239076</td>\n",
       "      <td>-1.330161</td>\n",
       "      <td>-1.588852</td>\n",
       "      <td>-1.717099</td>\n",
       "    </tr>\n",
       "  </tbody>\n",
       "</table>\n",
       "</div>"
      ],
      "text/plain": [
       "     YearOfBirth     State  ICD9CodeDiagnosis    Weight       BMI  SystolicBP  \\\n",
       "675     0.280612 -0.914232           1.013067  2.060326  0.239076   -1.330161   \n",
       "\n",
       "     DiastolicBP  RespiratoryRate  \n",
       "675    -1.588852        -1.717099  "
      ]
     },
     "execution_count": 319,
     "metadata": {},
     "output_type": "execute_result"
    }
   ],
   "source": [
    "# Now let's get the X1 row that should correspond to this patient\n",
    "test_X1.iloc[[675]]"
   ]
  },
  {
   "cell_type": "code",
   "execution_count": 320,
   "id": "d92e6e7f",
   "metadata": {},
   "outputs": [
    {
     "data": {
      "text/plain": [
       "array([[0.741, 0.259]])"
      ]
     },
     "execution_count": 320,
     "metadata": {},
     "output_type": "execute_result"
    }
   ],
   "source": [
    "# Now let's check X1 to see if we can reproduce the same DMIndicatorForecast, which we can \n",
    "rfc_from_pickle.predict_proba([[0.280612,-0.914232,1.013067,2.060326,0.239076,-1.330161,-1.588852,-1.717099]]) "
   ]
  }
 ],
 "metadata": {
  "kernelspec": {
   "display_name": "Python 3",
   "language": "python",
   "name": "python3"
  },
  "language_info": {
   "codemirror_mode": {
    "name": "ipython",
    "version": 3
   },
   "file_extension": ".py",
   "mimetype": "text/x-python",
   "name": "python",
   "nbconvert_exporter": "python",
   "pygments_lexer": "ipython3",
   "version": "3.8.8"
  }
 },
 "nbformat": 4,
 "nbformat_minor": 5
}
