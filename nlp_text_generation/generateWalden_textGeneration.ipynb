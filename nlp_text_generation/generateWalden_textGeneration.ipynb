{
 "cells": [
  {
   "cell_type": "markdown",
   "id": "65e5e909",
   "metadata": {
    "id": "65e5e909"
   },
   "source": [
    "# Assignment 2: Generate Walden\n",
    "# Nicholas Petr-MSCA 37014 2- Python for Analytics"
   ]
  },
  {
   "cell_type": "markdown",
   "id": "38de2e60",
   "metadata": {},
   "source": [
    "## 1. Clean input text by removing all punctuation, except periods. Convert everything to lower case"
   ]
  },
  {
   "cell_type": "code",
   "execution_count": 1,
   "id": "6f37ec43",
   "metadata": {
    "id": "6f37ec43"
   },
   "outputs": [],
   "source": [
    "import numpy as np\n",
    "import collections\n",
    "import random\n",
    "import pprint"
   ]
  },
  {
   "cell_type": "code",
   "execution_count": 2,
   "id": "3e142f9a",
   "metadata": {
    "id": "3e142f9a"
   },
   "outputs": [],
   "source": [
    "data_file_location = \"walden_clean.txt\""
   ]
  },
  {
   "cell_type": "code",
   "execution_count": 3,
   "id": "4d80ee39",
   "metadata": {
    "id": "4d80ee39"
   },
   "outputs": [],
   "source": [
    "clean = open(data_file_location, 'r', encoding='utf8').read().replace('\\n', '')\n",
    "walden_cleaned = clean.replace('?', \"\").replace('!', \"\").replace(':', \"\").replace(';', \"\").replace(',', \"\").replace('[', \"\").replace(']', \"\").strip().lower()\n",
    "walden_cleaned = walden_cleaned.replace('.',' PERIOD ')\n",
    "\n",
    "# We will use this to determine how often each pair of words occurs in the input text\n",
    "word_occur = walden_cleaned.split()"
   ]
  },
  {
   "cell_type": "code",
   "execution_count": 4,
   "id": "S-6sXLWOGEuQ",
   "metadata": {
    "colab": {
     "base_uri": "https://localhost:8080/"
    },
    "id": "S-6sXLWOGEuQ",
    "outputId": "47ce4d7f-c888-495c-c685-f7d487399f0c"
   },
   "outputs": [
    {
     "name": "stdout",
     "output_type": "stream",
     "text": [
      "124649\n"
     ]
    }
   ],
   "source": [
    "print(len(word_occur))"
   ]
  },
  {
   "cell_type": "markdown",
   "id": "129bff67",
   "metadata": {
    "id": "129bff67"
   },
   "source": [
    "## 2. For each sentence, create pairs of consecutive words\n",
    "\n",
    "Resources: \n",
    "\n",
    "https://stackoverflow.com/questions/61550851/create-consecutive-two-word-phrases-from-string\n",
    "\n",
    "https://stackoverflow.com/questions/23399209/how-to-remove-a-string-from-a-list-that-startswith-prefix-in-python\n",
    "\n",
    "https://www.geeksforgeeks.org/python-convert-list-of-strings-to-list-of-tuples/"
   ]
  },
  {
   "cell_type": "code",
   "execution_count": 5,
   "id": "31761189",
   "metadata": {
    "colab": {
     "base_uri": "https://localhost:8080/"
    },
    "id": "31761189",
    "outputId": "e93ffda5-7479-448d-e5c4-d48102b2441c"
   },
   "outputs": [
    {
     "name": "stdout",
     "output_type": "stream",
     "text": [
      "124648\n"
     ]
    }
   ],
   "source": [
    "words = walden_cleaned.split()\n",
    "result = [' '.join(pair) for pair in zip(words, words[1:])]\n",
    "\n",
    "print(len(result))"
   ]
  },
  {
   "cell_type": "markdown",
   "id": "c4bd512d",
   "metadata": {
    "id": "c4bd512d"
   },
   "source": [
    "### Remove instances where PERIOD starts the word combination. These are instances where the period from a previous sentence carries over."
   ]
  },
  {
   "cell_type": "code",
   "execution_count": 6,
   "id": "187146ed",
   "metadata": {
    "id": "187146ed"
   },
   "outputs": [],
   "source": [
    "# Remove \n",
    "tokens = ('PERIOD')\n",
    "consec_words = [x for x in result if not x.startswith(tokens)]"
   ]
  },
  {
   "cell_type": "code",
   "execution_count": 7,
   "id": "4619c6e3",
   "metadata": {
    "id": "4619c6e3"
   },
   "outputs": [],
   "source": [
    "# convert list of strings to list of tuples prior to conversion to numpy matrix \n",
    "res = [tuple(map(str, sub.split(' '))) for sub in consec_words] "
   ]
  },
  {
   "cell_type": "markdown",
   "id": "10abf632",
   "metadata": {
    "id": "10abf632"
   },
   "source": [
    "## 3. Count how often each pair of words occurs in the input text and record it for later retrieval.\n",
    "\n",
    "Resrouces:\n",
    "\n",
    "https://stackoverflow.com/questions/34748904/defaultdictdefaultdict-for-text-analysis"
   ]
  },
  {
   "cell_type": "code",
   "execution_count": 8,
   "id": "94924553",
   "metadata": {
    "id": "94924553"
   },
   "outputs": [],
   "source": [
    "result = collections.defaultdict(dict)\n",
    "\n",
    "for i in range(len(word_occur) - 1):   \n",
    "    occurs = result[word_occur[i]]   \n",
    "    new_freq = occurs.get(word_occur[i+1], 0) + 1  \n",
    "    occurs[word_occur[i+1]] = new_freq\n",
    "\n",
    "df = list(result.items())"
   ]
  },
  {
   "cell_type": "markdown",
   "id": "3d252906",
   "metadata": {
    "id": "3d252906"
   },
   "source": [
    "## 4. Normalize the counts and turn them into probabilities.\n",
    "\n",
    "Resources: \n",
    "\n",
    "https://stackoverflow.com/questions/36936486/finding-probability-of-values-in-dictionary"
   ]
  },
  {
   "cell_type": "code",
   "execution_count": 9,
   "id": "fff3dd84",
   "metadata": {
    "id": "fff3dd84"
   },
   "outputs": [],
   "source": [
    "model = {}\n",
    "model.update(df)\n",
    "\n",
    "walden_dict = {k:{k1:v1/sum(v.values()) for k1,v1 in v.items()} for k,v in model.items()}"
   ]
  },
  {
   "cell_type": "markdown",
   "id": "e7a84c75",
   "metadata": {
    "id": "e7a84c75"
   },
   "source": [
    "## 5. Generate text based on this transition matrix\n",
    "\n",
    "Resources: \n",
    "\n",
    "https://stackoverflow.com/questions/52444202/get-next-word-from-bigram-model-on-max-probability\n",
    "\n",
    "https://stackoverflow.com/questions/1056151/random-python-dictionary-key-weighted-by-values"
   ]
  },
  {
   "cell_type": "code",
   "execution_count": 10,
   "id": "VFwU5LhcRVHI",
   "metadata": {
    "colab": {
     "base_uri": "https://localhost:8080/"
    },
    "id": "VFwU5LhcRVHI",
    "outputId": "4760108b-109b-4e1a-ce37-52acdab790c7"
   },
   "outputs": [],
   "source": [
    "# Remove PERIOD from the dictionary key as a value that can start a sentence\n",
    "# NOTE: This was done in section two as requested in the assignment as well \n",
    "del walden_dict[\"PERIOD\"][\"PERIOD\"]"
   ]
  },
  {
   "cell_type": "code",
   "execution_count": 11,
   "id": "pBdAlcBTGU3X",
   "metadata": {
    "colab": {
     "base_uri": "https://localhost:8080/"
    },
    "id": "pBdAlcBTGU3X",
    "outputId": "918cd813-cec5-4c42-a034-94f139383068"
   },
   "outputs": [
    {
     "name": "stdout",
     "output_type": "stream",
     "text": [
      "['its helve erect like the puny slip with parchment that.',\n",
      " 'he had charged him though you may now his feet.',\n",
      " 'quoil (if any) you one evening overtook one man here.',\n",
      " 'i remember it gets his own that disturb and the.',\n",
      " 'i one approaches nearest to exhibit herself young.',\n",
      " 'one hundred howards to carry bottles let the corn and.',\n",
      " 'a day’s march may be fitting day the ground and.',\n",
      " 'the globe.',\n",
      " 'at him headlong rage and put to _me_ and the.',\n",
      " 'the reader more on the forenoon i pray would catch.',\n",
      " 'in at 32½° at length the thick for eighteen inches.',\n",
      " 'i have my fellow-townsmen no satisfaction to solitary goose as.',\n",
      " 'i did hang it left off three sentences of his.',\n",
      " 'night.',\n",
      " 'humility become the heavenly lights viewed nightly by which the.',\n",
      " 'i have spoken concerning my business even in the sweltering.',\n",
      " 'this is continually repairs no yard grew in power of.',\n",
      " 'near the last of our common mode i must beat.',\n",
      " 'a mere shadow of life poor meaning himself and was.',\n",
      " 'most other medium you look down to receive less—so that.',\n",
      " 'i did not much more universal and even an afternoon.',\n",
      " 'i got without _intending_ it appears to “bud” the dirt.',\n",
      " 'i do we sit on the language of ages might.',\n",
      " 'it was no interruption to our miracles.',\n",
      " 'i was done far behind me.',\n",
      " 'throw off in deep in our greatest distance especially as.',\n",
      " 'e.',\n",
      " 'he has told me truth is it is said nothing.',\n",
      " 'can understand were to make a strip of the name.',\n",
      " 'walden_pond_map as some longer not greatly multiplied since sung beginning—.',\n",
      " 'is our cordials before the hornbeam the railroad to speak.',\n",
      " 'it and perchance the hamlet.',\n",
      " '” i reduce almost every day and the parable of.',\n",
      " 'you walked and have water rising from the wood-thrush long.',\n",
      " 'many of the rest else to this is employed by.',\n",
      " 'she does me they are as apply these sources of.',\n",
      " 'one though i did not now the temporary guardian of.',\n",
      " 'the ground and true flavor i was about two pairs.',\n",
      " '40 i knew and purity of the landscape radiated from.',\n",
      " 'was obvious and open in the door of eugenius the.',\n",
      " 'i did not finished any necessary food in a conscious.',\n",
      " 'you will be not wait in small wood-shed adjoining made.',\n",
      " 'our lives our guidance for this he peddles still.',\n",
      " 'it finally disappear before he does any prospect of inhabitants.',\n",
      " 'it will accept the standing army and more reason to.',\n",
      " 'much as he describes to inhabit them and her the.',\n",
      " '40¾ oil and put it is there is legged.',\n",
      " 'the wall and of our own resources.',\n",
      " 'i thought i am not interested in my cellar some.',\n",
      " 'i did not trouble by my mortar.',\n",
      " 'neither the river when to his children of view with.',\n",
      " 'for light.',\n",
      " 'not important to us all when i should run away.',\n",
      " 'i should greatly overrated and faith he went toward tartarus.',\n",
      " 'were careering over the ways including obsolete old hunter has.',\n",
      " 'why should not to this effect of invisible to live.',\n",
      " 'incessant anxiety which all one actual event which the world.',\n",
      " 'but the expression or on to deal of intellectual exertion.',\n",
      " 'i could he will be farther westward through the night.',\n",
      " 'he “some men.',\n",
      " '8.',\n",
      " 'they were no venture to his fast they love much.',\n",
      " 'however he did not harvested twelve quarts of the embryo.',\n",
      " 'this it worse face.',\n",
      " 'while with his door nor the most terribly impoverished class.',\n",
      " 'perhaps sank in which had gone down out one hundred.',\n",
      " 'i have hitherto “be not interested in my daily witness.',\n",
      " '6.',\n",
      " 'there were fed on buds expand on this town living.',\n",
      " 'i answer _comparatively_ good relish—for why give it.',\n",
      " 'the butterfly is it was its general rule of the.',\n",
      " 'where there was this pond in the village of walden.',\n",
      " 'do well that characters i used but before.',\n",
      " '* * * “debate with their columns with a moment’s.',\n",
      " 'the sympathy which tried to squeeze their tops of an.',\n",
      " 'i thought of ’87.',\n",
      " 'the spanish main—a type of _his own_ way home till.',\n",
      " 'it had burned it in their hounding cry about.',\n",
      " 'the surface of luxuries and its veins are not nip.',\n",
      " 'the inhospitable board.',\n",
      " 'it is worth men’s and savage tribes have no less.',\n",
      " 'the water ran down on whirring wings of them again.',\n",
      " 'there was freshly up in any improvement in the surface.',\n",
      " '7 or two paces that many paces this point i.',\n",
      " 'whether you should give each of infancy and told him.',\n",
      " 'he being better the open air is the brain.',\n",
      " 'who went about us for my whole yourself with the.',\n",
      " 'breed’s location on so much like a visit in the.',\n",
      " 'it would not have broken up in an account of.',\n",
      " 'indemnity - if you have to countenance and they are.',\n",
      " 'at length one of busy husbandmen with the true and.',\n",
      " 'what they can move about the fairest to my hoeing.',\n",
      " 'nothing and when he had made the railroads that circumstance.',\n",
      " 'is no skaters glide forth with this remarkable that is.',\n",
      " 'while there are the wild and he demands it is.',\n",
      " 'love of any kind.',\n",
      " 'a thawing day walk in one designs it who is.',\n",
      " '” in all will be well the system in calm.',\n",
      " '25 grass making a larger and hide its whole half.',\n",
      " '” when i lived mostly shanty of itself alive.']\n"
     ]
    }
   ],
   "source": [
    "sentences = []\n",
    "first_word = \"PERIOD\"\n",
    "\n",
    "# Nested for loop to generate a sentence with max-length=10 that breaks if PERIOD is selected and then generates 100 sentences\n",
    "for j in range(100): # 100 sentences\n",
    "    sentence = \"\"\n",
    "    current_word = first_word\n",
    "    for i in range(10): # 10 words per sentence\n",
    "\n",
    "        associated_dict = walden_dict[current_word]\n",
    "\n",
    "        population = []\n",
    "        weights = []\n",
    "\n",
    "        for key, value in associated_dict.items():\n",
    "            population.append(key)\n",
    "            weights.append(value)\n",
    "\n",
    "        next_word = random.choices(population, weights)\n",
    "        sentence += next_word[0] + \" \"\n",
    "        current_word = next_word[0]\n",
    "\n",
    "        if current_word == \"PERIOD\":\n",
    "            sentence = sentence[:-8]\n",
    "            sentence += \".\"\n",
    "            break\n",
    "        # Per word\n",
    "    else:\n",
    "        sentence = sentence[:-1]\n",
    "        sentence += \".\"\n",
    "    sentences.append(sentence)\n",
    "\n",
    "pprint.pprint(sentences)"
   ]
  }
 ],
 "metadata": {
  "colab": {
   "name": "copy.ipynb",
   "provenance": []
  },
  "kernelspec": {
   "display_name": "Python 3",
   "language": "python",
   "name": "python3"
  },
  "language_info": {
   "codemirror_mode": {
    "name": "ipython",
    "version": 3
   },
   "file_extension": ".py",
   "mimetype": "text/x-python",
   "name": "python",
   "nbconvert_exporter": "python",
   "pygments_lexer": "ipython3",
   "version": "3.8.8"
  }
 },
 "nbformat": 4,
 "nbformat_minor": 5
}
