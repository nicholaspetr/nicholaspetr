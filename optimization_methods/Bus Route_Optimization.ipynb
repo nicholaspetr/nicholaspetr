{
 "cells": [
  {
   "cell_type": "markdown",
   "id": "7fbf62af",
   "metadata": {},
   "source": [
    "# Assignment 4 - Nicholas Petr "
   ]
  },
  {
   "cell_type": "markdown",
   "id": "586f293e",
   "metadata": {},
   "source": [
    "1 - The city of Chicago hired your services to create a daily schedule for the bus drivers for a given bus route. Because of changes in demand throughout the day, the number of buses needed varies.\n",
    "\n",
    "A driver must be scheduled for an 8 hour shift, and the driver has to start at the beginning of one of the stipulated starting times. The shifts start at midnight, 4AM, 8AM, 12PM, 4PM, 8PM, and last for 8 hours. Note that a bus driver that starts at 8PM works until 4AM of the next day.\n",
    "\n",
    "Your proposed schedule must include enough bus drivers to drive the scheduled buses in each period. All scheduled buses must be in service! Your goal is to minimize the number of bus drivers hired while making sure that there are enough drivers for the scheduled buses during each interval."
   ]
  },
  {
   "cell_type": "code",
   "execution_count": 1,
   "id": "5d519f3a",
   "metadata": {},
   "outputs": [
    {
     "data": {
      "text/latex": [
       "$$ \\begin{aligned}\n",
       "\\min\\quad & x1 + x2 + x3 + x4 + x5 + x6\\\\\n",
       "\\text{Subject to} \\quad & x1 + x6 \\geq 2.0\\\\\n",
       " & x1 + x2 \\geq 7.0\\\\\n",
       " & x2 + x3 \\geq 10.0\\\\\n",
       " & x3 + x4 \\geq 15.0\\\\\n",
       " & x4 + x5 \\geq 5.0\\\\\n",
       " & x5 + x6 \\geq 2.0\\\\\n",
       " & x1 \\geq 0.0\\\\\n",
       " & x2 \\geq 0.0\\\\\n",
       " & x3 \\geq 0.0\\\\\n",
       " & x4 \\geq 0.0\\\\\n",
       " & x5 \\geq 0.0\\\\\n",
       " & x6 \\geq 0.0\\\\\n",
       " & x1 \\in \\mathbb{Z}\\\\\n",
       " & x2 \\in \\mathbb{Z}\\\\\n",
       " & x3 \\in \\mathbb{Z}\\\\\n",
       " & x4 \\in \\mathbb{Z}\\\\\n",
       " & x5 \\in \\mathbb{Z}\\\\\n",
       " & x6 \\in \\mathbb{Z}\\\\\n",
       "\\end{aligned} $$"
      ]
     },
     "metadata": {},
     "output_type": "display_data"
    }
   ],
   "source": [
    "using JuMP, GLPK\n",
    "\n",
    "# Preparing optimization model \n",
    "myModel = Model(GLPK.Optimizer)\n",
    "\n",
    "# Define variables x1:x6, the number of drivers starting at each shift start time \n",
    "@variable(myModel, x1 >= 0, Int) #12am start\n",
    "@variable(myModel, x2 >= 0, Int) #4am start\n",
    "@variable(myModel, x3 >= 0, Int) #8am start\n",
    "@variable(myModel, x4 >= 0, Int) #12pm start\n",
    "@variable(myModel, x5 >= 0, Int) #4pm start\n",
    "@variable(myModel, x6 >= 0, Int) #8pm start\n",
    "\n",
    "# Constraints \n",
    "# A shift must be 8 hr:\n",
    "# The number of required drivers are given in 4hr intervals,\n",
    "# A Driver will work their starting 4hr interval and the next 4hr interval \n",
    "@constraint(myModel, x6 + x1 >= 2) # driver starting at 8pm (x6) works until 4 am the next day\n",
    "@constraint(myModel, x1 + x2 >= 7)\n",
    "@constraint(myModel, x2 + x3 >= 10)\n",
    "@constraint(myModel, x3 + x4 >= 15)\n",
    "@constraint(myModel, x4 + x5 >= 5)\n",
    "@constraint(myModel, x5 + x6 >= 2)\n",
    "\n",
    "\n",
    "@objective(myModel, Min, x1 + x2 + x3 + x4 + x5 + x6)\n",
    "print(myModel)"
   ]
  },
  {
   "cell_type": "code",
   "execution_count": 2,
   "id": "3a07af9f",
   "metadata": {},
   "outputs": [
    {
     "name": "stdout",
     "output_type": "stream",
     "text": [
      "  1.842374 seconds (5.64 M allocations: 414.653 MiB, 6.34% gc time, 99.94% compilation time)\n",
      "Objective value: 24.0\n",
      "x1 = 2.0\n",
      "x2 = 5.0\n",
      "x3 = 12.0\n",
      "x4 = 3.0\n",
      "x5 = 2.0\n",
      "x6 = 0.0\n"
     ]
    }
   ],
   "source": [
    "@time begin\n",
    "    status = optimize!(myModel)\n",
    "end\n",
    "println(\"Objective value: \", JuMP.objective_value(myModel))\n",
    "println(\"x1 = \", JuMP.value(x1))\n",
    "println(\"x2 = \", JuMP.value(x2))\n",
    "println(\"x3 = \", JuMP.value(x3))\n",
    "println(\"x4 = \", JuMP.value(x4))\n",
    "println(\"x5 = \", JuMP.value(x5))\n",
    "println(\"x6 = \", JuMP.value(x6))"
   ]
  }
 ],
 "metadata": {
  "kernelspec": {
   "display_name": "Julia 1.7.3",
   "language": "julia",
   "name": "julia-1.7"
  },
  "language_info": {
   "file_extension": ".jl",
   "mimetype": "application/julia",
   "name": "julia",
   "version": "1.7.3"
  }
 },
 "nbformat": 4,
 "nbformat_minor": 5
}
