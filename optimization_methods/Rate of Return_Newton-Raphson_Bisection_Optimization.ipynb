{
 "cells": [
  {
   "cell_type": "markdown",
   "id": "38470d94",
   "metadata": {},
   "source": [
    "# Assignment 6 - Nicholas Petr "
   ]
  },
  {
   "cell_type": "markdown",
   "id": "f26ecd23",
   "metadata": {},
   "source": [
    "### 1 - Write a Julia code for  f(x)  and  Df(x) . Run the Newthon-Raphson method and search for the solution. Prepare a table with values for  x ,  f(x) ,  Df−1(x) , and  err  for each iteration. Explain what is happening during the iterations. Is the algorithm converging? Why or why not? Choose your initial values carefully."
   ]
  },
  {
   "cell_type": "markdown",
   "id": "2a9bf5b8",
   "metadata": {},
   "source": [
    "#### Iterations involve the newton raphson method converging towards the root. The algorithm is converging because the initial guess is close to the root. If the initial guess is too far away from the root, the method can approximate the wrong root or diverge. "
   ]
  },
  {
   "cell_type": "code",
   "execution_count": 1,
   "id": "f5d99051",
   "metadata": {},
   "outputs": [
    {
     "data": {
      "text/html": [
       "<div class=\"data-frame\"><p>2,622 rows × 7 columns</p><table class=\"data-frame\"><thead><tr><th></th><th>k</th><th>x</th><th>f</th><th>invDg1</th><th>invDf2</th><th>invDf3</th><th>err</th></tr><tr><th></th><th title=\"Int64\">Int64</th><th title=\"Float64\">Float64</th><th title=\"Float64\">Float64</th><th title=\"Float64\">Float64</th><th title=\"Float64\">Float64</th><th title=\"Float64\">Float64</th><th title=\"Float64\">Float64</th></tr></thead><tbody><tr><th>1</th><td>0</td><td>1.0</td><td>-9.0</td><td>0.333333</td><td>-1.66667</td><td>1.0</td><td>1.66667</td></tr><tr><th>2</th><td>0</td><td>1.0</td><td>1.0</td><td>0.666667</td><td>-2.33333</td><td>1.0</td><td>5.33333</td></tr><tr><th>3</th><td>0</td><td>1.0</td><td>3.0</td><td>0.0</td><td>2.0</td><td>-1.0</td><td>1.0</td></tr><tr><th>4</th><td>1</td><td>2.66667</td><td>1.0</td><td>-0.055409</td><td>0.245383</td><td>-0.0237467</td><td>-1.92964</td></tr><tr><th>5</th><td>1</td><td>6.33333</td><td>13.4444</td><td>-0.0253298</td><td>0.197889</td><td>-0.0965699</td><td>2.70836</td></tr><tr><th>6</th><td>1</td><td>2.0</td><td>55.3333</td><td>0.270185</td><td>-0.110818</td><td>0.0300792</td><td>-0.444679</td></tr><tr><th>7</th><td>2</td><td>0.737027</td><td>0.197739</td><td>-0.309543</td><td>1.03736</td><td>-0.074483</td><td>-3.20907</td></tr><tr><th>8</th><td>2</td><td>9.04169</td><td>9.14022</td><td>-0.0267092</td><td>0.148046</td><td>-0.0649633</td><td>4.06965</td></tr><tr><th>9</th><td>2</td><td>1.55532</td><td>83.3939</td><td>0.429575</td><td>-0.381081</td><td>0.0448288</td><td>-0.340223</td></tr><tr><th>10</th><td>3</td><td>-2.47205</td><td>0.115752</td><td>0.0810193</td><td>-0.207911</td><td>0.0110183</td><td>1.7928</td></tr><tr><th>11</th><td>3</td><td>13.1113</td><td>18.4374</td><td>-0.0158812</td><td>0.0804012</td><td>-0.0418067</td><td>6.22626</td></tr><tr><th>12</th><td>3</td><td>1.2151</td><td>184.344</td><td>0.384686</td><td>0.052469</td><td>0.0126691</td><td>-3.34739</td></tr><tr><th>13</th><td>4</td><td>-0.679242</td><td>11.205</td><td>-0.213873</td><td>-0.930614</td><td>0.0185323</td><td>10.087</td></tr><tr><th>14</th><td>4</td><td>19.3376</td><td>15.6667</td><td>0.0077118</td><td>0.0600986</td><td>-0.0272109</td><td>9.08724</td></tr><tr><th>15</th><td>4</td><td>-2.13229</td><td>371.733</td><td>-0.282832</td><td>-0.204127</td><td>-0.00203503</td><td>7.12361</td></tr><tr><th>16</th><td>5</td><td>9.40777</td><td>50.7459</td><td>-0.00546064</td><td>0.0555854</td><td>-0.00107382</td><td>-5.32685</td></tr><tr><th>17</th><td>5</td><td>28.4248</td><td>119.922</td><td>-0.00183967</td><td>0.0366317</td><td>-0.018267</td><td>13.766</td></tr><tr><th>18</th><td>5</td><td>4.99132</td><td>988.975</td><td>0.100905</td><td>-0.00923775</td><td>0.00193744</td><td>-5.92879</td></tr><tr><th>19</th><td>6</td><td>4.08092</td><td>35.1506</td><td>0.0616622</td><td>0.11626</td><td>-0.000647039</td><td>-7.4952</td></tr><tr><th>20</th><td>6</td><td>42.1908</td><td>55.9073</td><td>0.00603583</td><td>0.0233733</td><td>-0.0120564</td><td>20.3205</td></tr><tr><th>21</th><td>6</td><td>-0.937474</td><td>1811.43</td><td>-0.497242</td><td>0.0744734</td><td>-0.00677535</td><td>25.5878</td></tr><tr><th>22</th><td>7</td><td>-3.41427</td><td>654.738</td><td>0.00298612</td><td>-0.148429</td><td>0.0012111</td><td>7.62615</td></tr><tr><th>23</th><td>7</td><td>62.5113</td><td>96.8189</td><td>-0.000164412</td><td>0.0162354</td><td>-0.00812973</td><td>30.6858</td></tr><tr><th>24</th><td>7</td><td>24.6504</td><td>3954.62</td><td>0.0202264</td><td>0.00268137</td><td>0.000140335</td><td>-14.0576</td></tr><tr><th>25</th><td>8</td><td>4.21188</td><td>197.616</td><td>-0.00566721</td><td>0.120741</td><td>-0.000678178</td><td>-7.39121</td></tr><tr><th>26</th><td>8</td><td>93.1971</td><td>119.53</td><td>-0.000257501</td><td>0.01088</td><td>-0.00542473</td><td>46.1124</td></tr><tr><th>27</th><td>8</td><td>10.5928</td><td>8730.76</td><td>0.0474816</td><td>-0.00621278</td><td>0.000288069</td><td>-11.1556</td></tr><tr><th>28</th><td>9</td><td>-3.17934</td><td>124.447</td><td>-0.162484</td><td>-0.182966</td><td>7.35116e-5</td><td>45.662</td></tr><tr><th>29</th><td>9</td><td>139.309</td><td>146.855</td><td>0.00372158</td><td>0.00779276</td><td>-0.00360374</td><td>68.398</td></tr><tr><th>30</th><td>9</td><td>-0.562801</td><td>19425.8</td><td>-1.02946</td><td>-0.155626</td><td>-0.00313631</td><td>211.893</td></tr><tr><th>&vellip;</th><td>&vellip;</td><td>&vellip;</td><td>&vellip;</td><td>&vellip;</td><td>&vellip;</td><td>&vellip;</td><td>&vellip;</td></tr></tbody></table></div>"
      ],
      "text/latex": [
       "\\begin{tabular}{r|ccccccc}\n",
       "\t& k & x & f & invDg1 & invDf2 & invDf3 & err\\\\\n",
       "\t\\hline\n",
       "\t& Int64 & Float64 & Float64 & Float64 & Float64 & Float64 & Float64\\\\\n",
       "\t\\hline\n",
       "\t1 & 0 & 1.0 & -9.0 & 0.333333 & -1.66667 & 1.0 & 1.66667 \\\\\n",
       "\t2 & 0 & 1.0 & 1.0 & 0.666667 & -2.33333 & 1.0 & 5.33333 \\\\\n",
       "\t3 & 0 & 1.0 & 3.0 & 0.0 & 2.0 & -1.0 & 1.0 \\\\\n",
       "\t4 & 1 & 2.66667 & 1.0 & -0.055409 & 0.245383 & -0.0237467 & -1.92964 \\\\\n",
       "\t5 & 1 & 6.33333 & 13.4444 & -0.0253298 & 0.197889 & -0.0965699 & 2.70836 \\\\\n",
       "\t6 & 1 & 2.0 & 55.3333 & 0.270185 & -0.110818 & 0.0300792 & -0.444679 \\\\\n",
       "\t7 & 2 & 0.737027 & 0.197739 & -0.309543 & 1.03736 & -0.074483 & -3.20907 \\\\\n",
       "\t8 & 2 & 9.04169 & 9.14022 & -0.0267092 & 0.148046 & -0.0649633 & 4.06965 \\\\\n",
       "\t9 & 2 & 1.55532 & 83.3939 & 0.429575 & -0.381081 & 0.0448288 & -0.340223 \\\\\n",
       "\t10 & 3 & -2.47205 & 0.115752 & 0.0810193 & -0.207911 & 0.0110183 & 1.7928 \\\\\n",
       "\t11 & 3 & 13.1113 & 18.4374 & -0.0158812 & 0.0804012 & -0.0418067 & 6.22626 \\\\\n",
       "\t12 & 3 & 1.2151 & 184.344 & 0.384686 & 0.052469 & 0.0126691 & -3.34739 \\\\\n",
       "\t13 & 4 & -0.679242 & 11.205 & -0.213873 & -0.930614 & 0.0185323 & 10.087 \\\\\n",
       "\t14 & 4 & 19.3376 & 15.6667 & 0.0077118 & 0.0600986 & -0.0272109 & 9.08724 \\\\\n",
       "\t15 & 4 & -2.13229 & 371.733 & -0.282832 & -0.204127 & -0.00203503 & 7.12361 \\\\\n",
       "\t16 & 5 & 9.40777 & 50.7459 & -0.00546064 & 0.0555854 & -0.00107382 & -5.32685 \\\\\n",
       "\t17 & 5 & 28.4248 & 119.922 & -0.00183967 & 0.0366317 & -0.018267 & 13.766 \\\\\n",
       "\t18 & 5 & 4.99132 & 988.975 & 0.100905 & -0.00923775 & 0.00193744 & -5.92879 \\\\\n",
       "\t19 & 6 & 4.08092 & 35.1506 & 0.0616622 & 0.11626 & -0.000647039 & -7.4952 \\\\\n",
       "\t20 & 6 & 42.1908 & 55.9073 & 0.00603583 & 0.0233733 & -0.0120564 & 20.3205 \\\\\n",
       "\t21 & 6 & -0.937474 & 1811.43 & -0.497242 & 0.0744734 & -0.00677535 & 25.5878 \\\\\n",
       "\t22 & 7 & -3.41427 & 654.738 & 0.00298612 & -0.148429 & 0.0012111 & 7.62615 \\\\\n",
       "\t23 & 7 & 62.5113 & 96.8189 & -0.000164412 & 0.0162354 & -0.00812973 & 30.6858 \\\\\n",
       "\t24 & 7 & 24.6504 & 3954.62 & 0.0202264 & 0.00268137 & 0.000140335 & -14.0576 \\\\\n",
       "\t25 & 8 & 4.21188 & 197.616 & -0.00566721 & 0.120741 & -0.000678178 & -7.39121 \\\\\n",
       "\t26 & 8 & 93.1971 & 119.53 & -0.000257501 & 0.01088 & -0.00542473 & 46.1124 \\\\\n",
       "\t27 & 8 & 10.5928 & 8730.76 & 0.0474816 & -0.00621278 & 0.000288069 & -11.1556 \\\\\n",
       "\t28 & 9 & -3.17934 & 124.447 & -0.162484 & -0.182966 & 7.35116e-5 & 45.662 \\\\\n",
       "\t29 & 9 & 139.309 & 146.855 & 0.00372158 & 0.00779276 & -0.00360374 & 68.398 \\\\\n",
       "\t30 & 9 & -0.562801 & 19425.8 & -1.02946 & -0.155626 & -0.00313631 & 211.893 \\\\\n",
       "\t$\\dots$ & $\\dots$ & $\\dots$ & $\\dots$ & $\\dots$ & $\\dots$ & $\\dots$ & $\\dots$ \\\\\n",
       "\\end{tabular}\n"
      ],
      "text/plain": [
       "\u001b[1m2622×7 DataFrame\u001b[0m\n",
       "\u001b[1m  Row \u001b[0m│\u001b[1m k     \u001b[0m\u001b[1m x            \u001b[0m\u001b[1m f             \u001b[0m\u001b[1m invDg1        \u001b[0m\u001b[1m invDf2        \u001b[0m\u001b[1m invD\u001b[0m ⋯\n",
       "\u001b[1m      \u001b[0m│\u001b[90m Int64 \u001b[0m\u001b[90m Float64      \u001b[0m\u001b[90m Float64       \u001b[0m\u001b[90m Float64       \u001b[0m\u001b[90m Float64       \u001b[0m\u001b[90m Floa\u001b[0m ⋯\n",
       "──────┼─────────────────────────────────────────────────────────────────────────\n",
       "    1 │     0   1.0           -9.0           0.333333      -1.66667        1.0 ⋯\n",
       "    2 │     0   1.0            1.0           0.666667      -2.33333        1.0\n",
       "    3 │     0   1.0            3.0           0.0            2.0           -1.0\n",
       "    4 │     1   2.66667        1.0          -0.055409       0.245383      -0.0\n",
       "    5 │     1   6.33333       13.4444       -0.0253298      0.197889      -0.0 ⋯\n",
       "    6 │     1   2.0           55.3333        0.270185      -0.110818       0.0\n",
       "    7 │     2   0.737027       0.197739     -0.309543       1.03736       -0.0\n",
       "    8 │     2   9.04169        9.14022      -0.0267092      0.148046      -0.0\n",
       "    9 │     2   1.55532       83.3939        0.429575      -0.381081       0.0 ⋯\n",
       "   10 │     3  -2.47205        0.115752      0.0810193     -0.207911       0.0\n",
       "   11 │     3  13.1113        18.4374       -0.0158812      0.0804012     -0.0\n",
       "  ⋮   │   ⋮         ⋮              ⋮              ⋮              ⋮             ⋱\n",
       " 2613 │   870  -3.35802e77     3.21228e307  -1.48897e-78    7.16215e-229  -1.3\n",
       " 2614 │   871   5.19928e149    3.2602e154    3.09734e-228   9.61672e-151   0.0 ⋯\n",
       " 2615 │   871   8.50155e153    2.70325e299   1.89424e-232   1.17626e-154  -5.8\n",
       " 2616 │   871  -1.55242e77     7.22763e307  -3.22079e-78    3.09772e-228  -1.8\n",
       " 2617 │   872   2.59964e149    1.40883e154   2.6313e-227    1.92334e-150   0.0\n",
       " 2618 │   872   1.27523e154    6.75812e298   5.36407e-232   7.84171e-155  -3.9 ⋯\n",
       " 2619 │   872  -3.65474e76     1.62622e308  -1.36809e-77    2.63141e-227  -5.3\n",
       " 2620 │   873   1.29982e149    7.83829e154  -7.90127e-228   3.84669e-150   0.0\n",
       " 2621 │   873   1.91285e154    1.68953e298  -5.36908e-233   5.22781e-155  -2.6\n",
       " 2622 │   873   2.43422e77   Inf             2.05405e-78   -7.90138e-228   5.3 ⋯\n",
       "\u001b[36m                                                 2 columns and 2601 rows omitted\u001b[0m"
      ]
     },
     "execution_count": 1,
     "metadata": {},
     "output_type": "execute_result"
    }
   ],
   "source": [
    "using DataFrames\n",
    "\n",
    "tol = 10.0^(-10)\n",
    "err = 10.0^5\n",
    "x0 = [1.0; 1.0; 1.0]\n",
    "\n",
    "x = copy(x0)\n",
    "\n",
    "function g1(x)\n",
    "    [x[1]+x[2]+x[3]^2-12; \n",
    "        x[1]^2+x[2]+x[3]-2; \n",
    "        2*x[1]^2+x[2]^2+x[3]-1]\n",
    "end\n",
    "\n",
    "function Dg1(x)\n",
    "    [1         1         2*x[3];\n",
    "     2*x[1]   -1         1;\n",
    "     4*x[1]   -2*x[2]    1]\n",
    "end\n",
    "\n",
    "k = 0\n",
    "resual = DataFrame(k=NaN,x=NaN,f=NaN,invDg1=NaN,invDf2=NaN,err=NaN)\n",
    "\n",
    "while err>tol\n",
    "    x = x0 - inv(Dg1(x0))*g1(x0)\n",
    "    err = maximum(abs.(x-x0))\n",
    "    if k==0\n",
    "#        resual = DataFrame(k=[k;k],x=x0,f=g1(x0),invDg1=inv(Dg1(x0))[:,1],invDf2=inv(Dg1(x0))[:,1],err=x-x0)\n",
    "        resual = DataFrame(k=k,x=x0[1,1],f=g1(x0)[1,1],\n",
    "                            invDg1=inv(Dg1(x0))[1,1],invDf2=inv(Dg1(x0))[1,2], invDf3=inv(Dg1(x0))[1,3],\n",
    "                            err=x[1,1]-x0[1,1])\n",
    "        push!(resual, ([k,x0[2,1],g1(x0)[2,1],inv(Dg1(x0))[2,1],inv(Dg1(x0))[2,2],inv(Dg1(x0))[2,3],x[2,1]-x0[2,1]]))\n",
    "        push!(resual, ([k,x0[3,1],g1(x0)[3,1],inv(Dg1(x0))[3,1],inv(Dg1(x0))[3,2],inv(Dg1(x0))[3,3],x[3,1]-x0[3,1]]))\n",
    "    else\n",
    "#        push!(resual, @data([[k,k] x0 f(x0) inv(Df(x0)) x-x0]))\n",
    "        push!(resual, ([k,x0[1,1],g1(x0)[1,1],inv(Dg1(x0))[1,1],inv(Dg1(x0))[1,2],inv(Dg1(x0))[1,3],x[1,1]-x0[1,1]]))\n",
    "        push!(resual, ([k,x0[2,1],g1(x0)[2,1],inv(Dg1(x0))[2,1],inv(Dg1(x0))[2,2],inv(Dg1(x0))[2,3],x[2,1]-x0[2,1]]))\n",
    "        push!(resual, ([k,x0[3,1],g1(x0)[3,1],inv(Dg1(x0))[3,1],inv(Dg1(x0))[3,2],inv(Dg1(x0))[3,3],x[3,1]-x0[3,1]]))\n",
    "    end\n",
    "    x0 = x\n",
    "    k = k + 1\n",
    "end\n",
    "resual"
   ]
  },
  {
   "cell_type": "markdown",
   "id": "7de449d8",
   "metadata": {},
   "source": [
    "### 2 - Derive the analytical version of the Newton-Raphson algorithm (including  f(x)  and  f′(x) ) for each expression below (separately). For each expression below, implement the Newton-Raphson algorithm, and find at least one root for each non-linear function below. Also plot  f(x)  around the solution(s). Prepare a data table with values for  x ,  f(x) ,  f′(x) , and  err  for each iteration."
   ]
  },
  {
   "cell_type": "markdown",
   "id": "052446e2",
   "metadata": {},
   "source": [
    "#### 3x2−2x−4=0"
   ]
  },
  {
   "cell_type": "code",
   "execution_count": 2,
   "id": "c9c11275",
   "metadata": {},
   "outputs": [
    {
     "ename": "LoadError",
     "evalue": "UndefVarError: f not defined",
     "output_type": "error",
     "traceback": [
      "UndefVarError: f not defined",
      "",
      "Stacktrace:",
      " [1] top-level scope",
      "   @ In[2]:3",
      " [2] eval",
      "   @ .\\boot.jl:373 [inlined]",
      " [3] include_string(mapexpr::typeof(REPL.softscope), mod::Module, code::String, filename::String)",
      "   @ Base .\\loading.jl:1196"
     ]
    }
   ],
   "source": [
    "fp(x) = 6*x - 2\n",
    "x = 0               # starting value, x_0\n",
    "x = x - f(x)/fp(x)      # new value, x_1\n",
    "x, f(x), fp(x)"
   ]
  },
  {
   "cell_type": "code",
   "execution_count": 3,
   "id": "6b96193b",
   "metadata": {},
   "outputs": [
    {
     "data": {
      "text/html": [
       "<div class=\"data-frame\"><p>6 rows × 5 columns</p><table class=\"data-frame\"><thead><tr><th></th><th>k</th><th>x</th><th>f</th><th>fp</th><th>err</th></tr><tr><th></th><th title=\"Int64\">Int64</th><th title=\"Float64\">Float64</th><th title=\"Float64\">Float64</th><th title=\"Float64\">Float64</th><th title=\"Float64\">Float64</th></tr></thead><tbody><tr><th>1</th><td>0</td><td>-0.1</td><td>-3.77</td><td>-2.6</td><td>1.45</td></tr><tr><th>2</th><td>1</td><td>-1.55</td><td>6.3075</td><td>-11.3</td><td>0.558186</td></tr><tr><th>3</th><td>2</td><td>-0.991814</td><td>0.934714</td><td>-7.95088</td><td>0.117561</td></tr><tr><th>4</th><td>3</td><td>-0.874253</td><td>0.0414618</td><td>-7.24552</td><td>0.00572241</td></tr><tr><th>5</th><td>4</td><td>-0.868531</td><td>9.82378e-5</td><td>-7.21118</td><td>1.3623e-5</td></tr><tr><th>6</th><td>5</td><td>-0.868517</td><td>5.56756e-10</td><td>-7.2111</td><td>7.72082e-11</td></tr></tbody></table></div>"
      ],
      "text/latex": [
       "\\begin{tabular}{r|ccccc}\n",
       "\t& k & x & f & fp & err\\\\\n",
       "\t\\hline\n",
       "\t& Int64 & Float64 & Float64 & Float64 & Float64\\\\\n",
       "\t\\hline\n",
       "\t1 & 0 & -0.1 & -3.77 & -2.6 & 1.45 \\\\\n",
       "\t2 & 1 & -1.55 & 6.3075 & -11.3 & 0.558186 \\\\\n",
       "\t3 & 2 & -0.991814 & 0.934714 & -7.95088 & 0.117561 \\\\\n",
       "\t4 & 3 & -0.874253 & 0.0414618 & -7.24552 & 0.00572241 \\\\\n",
       "\t5 & 4 & -0.868531 & 9.82378e-5 & -7.21118 & 1.3623e-5 \\\\\n",
       "\t6 & 5 & -0.868517 & 5.56756e-10 & -7.2111 & 7.72082e-11 \\\\\n",
       "\\end{tabular}\n"
      ],
      "text/plain": [
       "\u001b[1m6×5 DataFrame\u001b[0m\n",
       "\u001b[1m Row \u001b[0m│\u001b[1m k     \u001b[0m\u001b[1m x         \u001b[0m\u001b[1m f            \u001b[0m\u001b[1m fp        \u001b[0m\u001b[1m err         \u001b[0m\n",
       "\u001b[1m     \u001b[0m│\u001b[90m Int64 \u001b[0m\u001b[90m Float64   \u001b[0m\u001b[90m Float64      \u001b[0m\u001b[90m Float64   \u001b[0m\u001b[90m Float64     \u001b[0m\n",
       "─────┼────────────────────────────────────────────────────────\n",
       "   1 │     0  -0.1       -3.77          -2.6      1.45\n",
       "   2 │     1  -1.55       6.3075       -11.3      0.558186\n",
       "   3 │     2  -0.991814   0.934714      -7.95088  0.117561\n",
       "   4 │     3  -0.874253   0.0414618     -7.24552  0.00572241\n",
       "   5 │     4  -0.868531   9.82378e-5    -7.21118  1.3623e-5\n",
       "   6 │     5  -0.868517   5.56756e-10   -7.2111   7.72082e-11"
      ]
     },
     "execution_count": 3,
     "metadata": {},
     "output_type": "execute_result"
    }
   ],
   "source": [
    "using DataFrames\n",
    "\n",
    "tol = 10.0^(-5)\n",
    "err = 10.0^5\n",
    "x0 = -0.1\n",
    "\n",
    "function f(x)\n",
    "    3*x^2 - 2*x - 4\n",
    "end\n",
    "function fp(x)\n",
    "    6*x - 2\n",
    "end\n",
    "\n",
    "k = 0\n",
    "resual = DataFrame(k=NaN,x=NaN,f=NaN,fp=NaN,err=NaN)\n",
    "\n",
    "while err>tol\n",
    "    x = x0 - f(x0)/fp(x0)\n",
    "    err = abs(x-x0)\n",
    "    if k==0\n",
    "        resual = DataFrame(k=k,x=x0,f=f(x0),fp=fp(x0),err=err)\n",
    "    else\n",
    "        push!(resual, ([k,x0,f(x0),fp(x0),err]))\n",
    "    end\n",
    "    x0 = x\n",
    "    k = k + 1\n",
    "end\n",
    "resual"
   ]
  },
  {
   "cell_type": "code",
   "execution_count": 4,
   "id": "5a30d19f",
   "metadata": {},
   "outputs": [
    {
     "data": {
      "image/svg+xml": [
       "<?xml version=\"1.0\" encoding=\"utf-8\"?>\n",
       "<svg xmlns=\"http://www.w3.org/2000/svg\" xmlns:xlink=\"http://www.w3.org/1999/xlink\" width=\"600\" height=\"400\" viewBox=\"0 0 2400 1600\">\n",
       "<defs>\n",
       "  <clipPath id=\"clip620\">\n",
       "    <rect x=\"0\" y=\"0\" width=\"2400\" height=\"1600\"/>\n",
       "  </clipPath>\n",
       "</defs>\n",
       "<path clip-path=\"url(#clip620)\" d=\"\n",
       "M0 1600 L2400 1600 L2400 0 L0 0  Z\n",
       "  \" fill=\"#ffffff\" fill-rule=\"evenodd\" fill-opacity=\"1\"/>\n",
       "<defs>\n",
       "  <clipPath id=\"clip621\">\n",
       "    <rect x=\"480\" y=\"0\" width=\"1681\" height=\"1600\"/>\n",
       "  </clipPath>\n",
       "</defs>\n",
       "<path clip-path=\"url(#clip620)\" d=\"\n",
       "M147.709 1486.45 L2352.76 1486.45 L2352.76 47.2441 L147.709 47.2441  Z\n",
       "  \" fill=\"#ffffff\" fill-rule=\"evenodd\" fill-opacity=\"1\"/>\n",
       "<defs>\n",
       "  <clipPath id=\"clip622\">\n",
       "    <rect x=\"147\" y=\"47\" width=\"2206\" height=\"1440\"/>\n",
       "  </clipPath>\n",
       "</defs>\n",
       "<polyline clip-path=\"url(#clip622)\" style=\"stroke:#000000; stroke-linecap:butt; stroke-linejoin:round; stroke-width:2; stroke-opacity:0.1; fill:none\" points=\"\n",
       "  210.116,1486.45 210.116,47.2441 \n",
       "  \"/>\n",
       "<polyline clip-path=\"url(#clip622)\" style=\"stroke:#000000; stroke-linecap:butt; stroke-linejoin:round; stroke-width:2; stroke-opacity:0.1; fill:none\" points=\"\n",
       "  556.822,1486.45 556.822,47.2441 \n",
       "  \"/>\n",
       "<polyline clip-path=\"url(#clip622)\" style=\"stroke:#000000; stroke-linecap:butt; stroke-linejoin:round; stroke-width:2; stroke-opacity:0.1; fill:none\" points=\"\n",
       "  903.527,1486.45 903.527,47.2441 \n",
       "  \"/>\n",
       "<polyline clip-path=\"url(#clip622)\" style=\"stroke:#000000; stroke-linecap:butt; stroke-linejoin:round; stroke-width:2; stroke-opacity:0.1; fill:none\" points=\"\n",
       "  1250.23,1486.45 1250.23,47.2441 \n",
       "  \"/>\n",
       "<polyline clip-path=\"url(#clip622)\" style=\"stroke:#000000; stroke-linecap:butt; stroke-linejoin:round; stroke-width:2; stroke-opacity:0.1; fill:none\" points=\"\n",
       "  1596.94,1486.45 1596.94,47.2441 \n",
       "  \"/>\n",
       "<polyline clip-path=\"url(#clip622)\" style=\"stroke:#000000; stroke-linecap:butt; stroke-linejoin:round; stroke-width:2; stroke-opacity:0.1; fill:none\" points=\"\n",
       "  1943.64,1486.45 1943.64,47.2441 \n",
       "  \"/>\n",
       "<polyline clip-path=\"url(#clip622)\" style=\"stroke:#000000; stroke-linecap:butt; stroke-linejoin:round; stroke-width:2; stroke-opacity:0.1; fill:none\" points=\"\n",
       "  2290.35,1486.45 2290.35,47.2441 \n",
       "  \"/>\n",
       "<polyline clip-path=\"url(#clip620)\" style=\"stroke:#000000; stroke-linecap:butt; stroke-linejoin:round; stroke-width:4; stroke-opacity:1; fill:none\" points=\"\n",
       "  147.709,1486.45 2352.76,1486.45 \n",
       "  \"/>\n",
       "<polyline clip-path=\"url(#clip620)\" style=\"stroke:#000000; stroke-linecap:butt; stroke-linejoin:round; stroke-width:4; stroke-opacity:1; fill:none\" points=\"\n",
       "  210.116,1486.45 210.116,1467.55 \n",
       "  \"/>\n",
       "<polyline clip-path=\"url(#clip620)\" style=\"stroke:#000000; stroke-linecap:butt; stroke-linejoin:round; stroke-width:4; stroke-opacity:1; fill:none\" points=\"\n",
       "  556.822,1486.45 556.822,1467.55 \n",
       "  \"/>\n",
       "<polyline clip-path=\"url(#clip620)\" style=\"stroke:#000000; stroke-linecap:butt; stroke-linejoin:round; stroke-width:4; stroke-opacity:1; fill:none\" points=\"\n",
       "  903.527,1486.45 903.527,1467.55 \n",
       "  \"/>\n",
       "<polyline clip-path=\"url(#clip620)\" style=\"stroke:#000000; stroke-linecap:butt; stroke-linejoin:round; stroke-width:4; stroke-opacity:1; fill:none\" points=\"\n",
       "  1250.23,1486.45 1250.23,1467.55 \n",
       "  \"/>\n",
       "<polyline clip-path=\"url(#clip620)\" style=\"stroke:#000000; stroke-linecap:butt; stroke-linejoin:round; stroke-width:4; stroke-opacity:1; fill:none\" points=\"\n",
       "  1596.94,1486.45 1596.94,1467.55 \n",
       "  \"/>\n",
       "<polyline clip-path=\"url(#clip620)\" style=\"stroke:#000000; stroke-linecap:butt; stroke-linejoin:round; stroke-width:4; stroke-opacity:1; fill:none\" points=\"\n",
       "  1943.64,1486.45 1943.64,1467.55 \n",
       "  \"/>\n",
       "<polyline clip-path=\"url(#clip620)\" style=\"stroke:#000000; stroke-linecap:butt; stroke-linejoin:round; stroke-width:4; stroke-opacity:1; fill:none\" points=\"\n",
       "  2290.35,1486.45 2290.35,1467.55 \n",
       "  \"/>\n",
       "<path clip-path=\"url(#clip620)\" d=\"M179.584 1532.02 L209.26 1532.02 L209.26 1535.95 L179.584 1535.95 L179.584 1532.02 Z\" fill=\"#000000\" fill-rule=\"evenodd\" fill-opacity=\"1\" /><path clip-path=\"url(#clip620)\" d=\"M233.519 1530.21 Q236.875 1530.93 238.75 1533.2 Q240.649 1535.47 240.649 1538.8 Q240.649 1543.92 237.13 1546.72 Q233.612 1549.52 227.13 1549.52 Q224.954 1549.52 222.639 1549.08 Q220.348 1548.66 217.894 1547.81 L217.894 1543.29 Q219.839 1544.43 222.153 1545.01 Q224.468 1545.58 226.991 1545.58 Q231.389 1545.58 233.681 1543.85 Q235.996 1542.11 235.996 1538.8 Q235.996 1535.75 233.843 1534.03 Q231.713 1532.3 227.894 1532.3 L223.866 1532.3 L223.866 1528.45 L228.079 1528.45 Q231.528 1528.45 233.357 1527.09 Q235.186 1525.7 235.186 1523.11 Q235.186 1520.45 233.288 1519.03 Q231.413 1517.6 227.894 1517.6 Q225.973 1517.6 223.774 1518.01 Q221.575 1518.43 218.936 1519.31 L218.936 1515.14 Q221.598 1514.4 223.913 1514.03 Q226.251 1513.66 228.311 1513.66 Q233.635 1513.66 236.737 1516.09 Q239.838 1518.5 239.838 1522.62 Q239.838 1525.49 238.195 1527.48 Q236.551 1529.45 233.519 1530.21 Z\" fill=\"#000000\" fill-rule=\"evenodd\" fill-opacity=\"1\" /><path clip-path=\"url(#clip620)\" d=\"M526.764 1532.02 L556.44 1532.02 L556.44 1535.95 L526.764 1535.95 L526.764 1532.02 Z\" fill=\"#000000\" fill-rule=\"evenodd\" fill-opacity=\"1\" /><path clip-path=\"url(#clip620)\" d=\"M570.56 1544.91 L586.88 1544.91 L586.88 1548.85 L564.935 1548.85 L564.935 1544.91 Q567.597 1542.16 572.181 1537.53 Q576.787 1532.88 577.968 1531.53 Q580.213 1529.01 581.092 1527.27 Q581.995 1525.51 581.995 1523.82 Q581.995 1521.07 580.051 1519.33 Q578.13 1517.6 575.028 1517.6 Q572.829 1517.6 570.375 1518.36 Q567.944 1519.13 565.167 1520.68 L565.167 1515.95 Q567.991 1514.82 570.444 1514.24 Q572.898 1513.66 574.935 1513.66 Q580.305 1513.66 583.5 1516.35 Q586.694 1519.03 586.694 1523.52 Q586.694 1525.65 585.884 1527.57 Q585.097 1529.47 582.991 1532.07 Q582.412 1532.74 579.31 1535.95 Q576.208 1539.15 570.56 1544.91 Z\" fill=\"#000000\" fill-rule=\"evenodd\" fill-opacity=\"1\" /><path clip-path=\"url(#clip620)\" d=\"M873.284 1532.02 L902.96 1532.02 L902.96 1535.95 L873.284 1535.95 L873.284 1532.02 Z\" fill=\"#000000\" fill-rule=\"evenodd\" fill-opacity=\"1\" /><path clip-path=\"url(#clip620)\" d=\"M913.863 1544.91 L921.502 1544.91 L921.502 1518.55 L913.192 1520.21 L913.192 1515.95 L921.455 1514.29 L926.131 1514.29 L926.131 1544.91 L933.77 1544.91 L933.77 1548.85 L913.863 1548.85 L913.863 1544.91 Z\" fill=\"#000000\" fill-rule=\"evenodd\" fill-opacity=\"1\" /><path clip-path=\"url(#clip620)\" d=\"M1250.23 1517.37 Q1246.62 1517.37 1244.79 1520.93 Q1242.99 1524.47 1242.99 1531.6 Q1242.99 1538.71 1244.79 1542.27 Q1246.62 1545.82 1250.23 1545.82 Q1253.87 1545.82 1255.67 1542.27 Q1257.5 1538.71 1257.5 1531.6 Q1257.5 1524.47 1255.67 1520.93 Q1253.87 1517.37 1250.23 1517.37 M1250.23 1513.66 Q1256.04 1513.66 1259.1 1518.27 Q1262.18 1522.85 1262.18 1531.6 Q1262.18 1540.33 1259.1 1544.94 Q1256.04 1549.52 1250.23 1549.52 Q1244.42 1549.52 1241.34 1544.94 Q1238.29 1540.33 1238.29 1531.6 Q1238.29 1522.85 1241.34 1518.27 Q1244.42 1513.66 1250.23 1513.66 Z\" fill=\"#000000\" fill-rule=\"evenodd\" fill-opacity=\"1\" /><path clip-path=\"url(#clip620)\" d=\"M1587.32 1544.91 L1594.96 1544.91 L1594.96 1518.55 L1586.65 1520.21 L1586.65 1515.95 L1594.91 1514.29 L1599.59 1514.29 L1599.59 1544.91 L1607.23 1544.91 L1607.23 1548.85 L1587.32 1548.85 L1587.32 1544.91 Z\" fill=\"#000000\" fill-rule=\"evenodd\" fill-opacity=\"1\" /><path clip-path=\"url(#clip620)\" d=\"M1938.3 1544.91 L1954.62 1544.91 L1954.62 1548.85 L1932.67 1548.85 L1932.67 1544.91 Q1935.33 1542.16 1939.92 1537.53 Q1944.52 1532.88 1945.7 1531.53 Q1947.95 1529.01 1948.83 1527.27 Q1949.73 1525.51 1949.73 1523.82 Q1949.73 1521.07 1947.79 1519.33 Q1945.87 1517.6 1942.76 1517.6 Q1940.56 1517.6 1938.11 1518.36 Q1935.68 1519.13 1932.9 1520.68 L1932.9 1515.95 Q1935.73 1514.82 1938.18 1514.24 Q1940.63 1513.66 1942.67 1513.66 Q1948.04 1513.66 1951.24 1516.35 Q1954.43 1519.03 1954.43 1523.52 Q1954.43 1525.65 1953.62 1527.57 Q1952.83 1529.47 1950.73 1532.07 Q1950.15 1532.74 1947.05 1535.95 Q1943.94 1539.15 1938.3 1544.91 Z\" fill=\"#000000\" fill-rule=\"evenodd\" fill-opacity=\"1\" /><path clip-path=\"url(#clip620)\" d=\"M2294.6 1530.21 Q2297.95 1530.93 2299.83 1533.2 Q2301.73 1535.47 2301.73 1538.8 Q2301.73 1543.92 2298.21 1546.72 Q2294.69 1549.52 2288.21 1549.52 Q2286.03 1549.52 2283.72 1549.08 Q2281.43 1548.66 2278.97 1547.81 L2278.97 1543.29 Q2280.92 1544.43 2283.23 1545.01 Q2285.55 1545.58 2288.07 1545.58 Q2292.47 1545.58 2294.76 1543.85 Q2297.07 1542.11 2297.07 1538.8 Q2297.07 1535.75 2294.92 1534.03 Q2292.79 1532.3 2288.97 1532.3 L2284.94 1532.3 L2284.94 1528.45 L2289.16 1528.45 Q2292.61 1528.45 2294.43 1527.09 Q2296.26 1525.7 2296.26 1523.11 Q2296.26 1520.45 2294.37 1519.03 Q2292.49 1517.6 2288.97 1517.6 Q2287.05 1517.6 2284.85 1518.01 Q2282.65 1518.43 2280.01 1519.31 L2280.01 1515.14 Q2282.68 1514.4 2284.99 1514.03 Q2287.33 1513.66 2289.39 1513.66 Q2294.71 1513.66 2297.81 1516.09 Q2300.92 1518.5 2300.92 1522.62 Q2300.92 1525.49 2299.27 1527.48 Q2297.63 1529.45 2294.6 1530.21 Z\" fill=\"#000000\" fill-rule=\"evenodd\" fill-opacity=\"1\" /><polyline clip-path=\"url(#clip622)\" style=\"stroke:#000000; stroke-linecap:butt; stroke-linejoin:round; stroke-width:2; stroke-opacity:0.1; fill:none\" points=\"\n",
       "  147.709,1472.99 2352.76,1472.99 \n",
       "  \"/>\n",
       "<polyline clip-path=\"url(#clip622)\" style=\"stroke:#000000; stroke-linecap:butt; stroke-linejoin:round; stroke-width:2; stroke-opacity:0.1; fill:none\" points=\"\n",
       "  147.709,1269.31 2352.76,1269.31 \n",
       "  \"/>\n",
       "<polyline clip-path=\"url(#clip622)\" style=\"stroke:#000000; stroke-linecap:butt; stroke-linejoin:round; stroke-width:2; stroke-opacity:0.1; fill:none\" points=\"\n",
       "  147.709,1065.63 2352.76,1065.63 \n",
       "  \"/>\n",
       "<polyline clip-path=\"url(#clip622)\" style=\"stroke:#000000; stroke-linecap:butt; stroke-linejoin:round; stroke-width:2; stroke-opacity:0.1; fill:none\" points=\"\n",
       "  147.709,861.952 2352.76,861.952 \n",
       "  \"/>\n",
       "<polyline clip-path=\"url(#clip622)\" style=\"stroke:#000000; stroke-linecap:butt; stroke-linejoin:round; stroke-width:2; stroke-opacity:0.1; fill:none\" points=\"\n",
       "  147.709,658.274 2352.76,658.274 \n",
       "  \"/>\n",
       "<polyline clip-path=\"url(#clip622)\" style=\"stroke:#000000; stroke-linecap:butt; stroke-linejoin:round; stroke-width:2; stroke-opacity:0.1; fill:none\" points=\"\n",
       "  147.709,454.596 2352.76,454.596 \n",
       "  \"/>\n",
       "<polyline clip-path=\"url(#clip622)\" style=\"stroke:#000000; stroke-linecap:butt; stroke-linejoin:round; stroke-width:2; stroke-opacity:0.1; fill:none\" points=\"\n",
       "  147.709,250.919 2352.76,250.919 \n",
       "  \"/>\n",
       "<polyline clip-path=\"url(#clip620)\" style=\"stroke:#000000; stroke-linecap:butt; stroke-linejoin:round; stroke-width:4; stroke-opacity:1; fill:none\" points=\"\n",
       "  147.709,1486.45 147.709,47.2441 \n",
       "  \"/>\n",
       "<polyline clip-path=\"url(#clip620)\" style=\"stroke:#000000; stroke-linecap:butt; stroke-linejoin:round; stroke-width:4; stroke-opacity:1; fill:none\" points=\"\n",
       "  147.709,1472.99 166.607,1472.99 \n",
       "  \"/>\n",
       "<polyline clip-path=\"url(#clip620)\" style=\"stroke:#000000; stroke-linecap:butt; stroke-linejoin:round; stroke-width:4; stroke-opacity:1; fill:none\" points=\"\n",
       "  147.709,1269.31 166.607,1269.31 \n",
       "  \"/>\n",
       "<polyline clip-path=\"url(#clip620)\" style=\"stroke:#000000; stroke-linecap:butt; stroke-linejoin:round; stroke-width:4; stroke-opacity:1; fill:none\" points=\"\n",
       "  147.709,1065.63 166.607,1065.63 \n",
       "  \"/>\n",
       "<polyline clip-path=\"url(#clip620)\" style=\"stroke:#000000; stroke-linecap:butt; stroke-linejoin:round; stroke-width:4; stroke-opacity:1; fill:none\" points=\"\n",
       "  147.709,861.952 166.607,861.952 \n",
       "  \"/>\n",
       "<polyline clip-path=\"url(#clip620)\" style=\"stroke:#000000; stroke-linecap:butt; stroke-linejoin:round; stroke-width:4; stroke-opacity:1; fill:none\" points=\"\n",
       "  147.709,658.274 166.607,658.274 \n",
       "  \"/>\n",
       "<polyline clip-path=\"url(#clip620)\" style=\"stroke:#000000; stroke-linecap:butt; stroke-linejoin:round; stroke-width:4; stroke-opacity:1; fill:none\" points=\"\n",
       "  147.709,454.596 166.607,454.596 \n",
       "  \"/>\n",
       "<polyline clip-path=\"url(#clip620)\" style=\"stroke:#000000; stroke-linecap:butt; stroke-linejoin:round; stroke-width:4; stroke-opacity:1; fill:none\" points=\"\n",
       "  147.709,250.919 166.607,250.919 \n",
       "  \"/>\n",
       "<path clip-path=\"url(#clip620)\" d=\"M50.9921 1473.44 L80.6679 1473.44 L80.6679 1477.37 L50.9921 1477.37 L50.9921 1473.44 Z\" fill=\"#000000\" fill-rule=\"evenodd\" fill-opacity=\"1\" /><path clip-path=\"url(#clip620)\" d=\"M90.8067 1455.71 L109.163 1455.71 L109.163 1459.64 L95.0891 1459.64 L95.0891 1468.11 Q96.1076 1467.77 97.1261 1467.6 Q98.1447 1467.42 99.1632 1467.42 Q104.95 1467.42 108.33 1470.59 Q111.709 1473.76 111.709 1479.18 Q111.709 1484.76 108.237 1487.86 Q104.765 1490.94 98.4456 1490.94 Q96.2697 1490.94 94.0012 1490.57 Q91.7558 1490.2 89.3484 1489.46 L89.3484 1484.76 Q91.4317 1485.89 93.6539 1486.45 Q95.8761 1487 98.353 1487 Q102.358 1487 104.696 1484.9 Q107.033 1482.79 107.033 1479.18 Q107.033 1475.57 104.696 1473.46 Q102.358 1471.35 98.353 1471.35 Q96.478 1471.35 94.603 1471.77 Q92.7512 1472.19 90.8067 1473.07 L90.8067 1455.71 Z\" fill=\"#000000\" fill-rule=\"evenodd\" fill-opacity=\"1\" /><path clip-path=\"url(#clip620)\" d=\"M99.765 1255.11 Q96.1539 1255.11 94.3252 1258.67 Q92.5197 1262.21 92.5197 1269.34 Q92.5197 1276.45 94.3252 1280.01 Q96.1539 1283.56 99.765 1283.56 Q103.399 1283.56 105.205 1280.01 Q107.033 1276.45 107.033 1269.34 Q107.033 1262.21 105.205 1258.67 Q103.399 1255.11 99.765 1255.11 M99.765 1251.4 Q105.575 1251.4 108.631 1256.01 Q111.709 1260.59 111.709 1269.34 Q111.709 1278.07 108.631 1282.68 Q105.575 1287.26 99.765 1287.26 Q93.9549 1287.26 90.8762 1282.68 Q87.8206 1278.07 87.8206 1269.34 Q87.8206 1260.59 90.8762 1256.01 Q93.9549 1251.4 99.765 1251.4 Z\" fill=\"#000000\" fill-rule=\"evenodd\" fill-opacity=\"1\" /><path clip-path=\"url(#clip620)\" d=\"M90.8067 1048.35 L109.163 1048.35 L109.163 1052.28 L95.0891 1052.28 L95.0891 1060.76 Q96.1076 1060.41 97.1261 1060.25 Q98.1447 1060.06 99.1632 1060.06 Q104.95 1060.06 108.33 1063.23 Q111.709 1066.41 111.709 1071.82 Q111.709 1077.4 108.237 1080.5 Q104.765 1083.58 98.4456 1083.58 Q96.2697 1083.58 94.0012 1083.21 Q91.7558 1082.84 89.3484 1082.1 L89.3484 1077.4 Q91.4317 1078.53 93.6539 1079.09 Q95.8761 1079.65 98.353 1079.65 Q102.358 1079.65 104.696 1077.54 Q107.033 1075.43 107.033 1071.82 Q107.033 1068.21 104.696 1066.1 Q102.358 1064 98.353 1064 Q96.478 1064 94.603 1064.41 Q92.7512 1064.83 90.8067 1065.71 L90.8067 1048.35 Z\" fill=\"#000000\" fill-rule=\"evenodd\" fill-opacity=\"1\" /><path clip-path=\"url(#clip620)\" d=\"M60.4134 875.297 L68.0522 875.297 L68.0522 848.931 L59.7421 850.598 L59.7421 846.339 L68.0059 844.672 L72.6818 844.672 L72.6818 875.297 L80.3207 875.297 L80.3207 879.232 L60.4134 879.232 L60.4134 875.297 Z\" fill=\"#000000\" fill-rule=\"evenodd\" fill-opacity=\"1\" /><path clip-path=\"url(#clip620)\" d=\"M99.765 847.751 Q96.1539 847.751 94.3252 851.315 Q92.5197 854.857 92.5197 861.987 Q92.5197 869.093 94.3252 872.658 Q96.1539 876.2 99.765 876.2 Q103.399 876.2 105.205 872.658 Q107.033 869.093 107.033 861.987 Q107.033 854.857 105.205 851.315 Q103.399 847.751 99.765 847.751 M99.765 844.047 Q105.575 844.047 108.631 848.653 Q111.709 853.237 111.709 861.987 Q111.709 870.713 108.631 875.32 Q105.575 879.903 99.765 879.903 Q93.9549 879.903 90.8762 875.32 Q87.8206 870.713 87.8206 861.987 Q87.8206 853.237 90.8762 848.653 Q93.9549 844.047 99.765 844.047 Z\" fill=\"#000000\" fill-rule=\"evenodd\" fill-opacity=\"1\" /><path clip-path=\"url(#clip620)\" d=\"M61.4087 671.619 L69.0476 671.619 L69.0476 645.253 L60.7374 646.92 L60.7374 642.661 L69.0013 640.994 L73.6772 640.994 L73.6772 671.619 L81.316 671.619 L81.316 675.554 L61.4087 675.554 L61.4087 671.619 Z\" fill=\"#000000\" fill-rule=\"evenodd\" fill-opacity=\"1\" /><path clip-path=\"url(#clip620)\" d=\"M90.8067 640.994 L109.163 640.994 L109.163 644.929 L95.0891 644.929 L95.0891 653.401 Q96.1076 653.054 97.1261 652.892 Q98.1447 652.707 99.1632 652.707 Q104.95 652.707 108.33 655.878 Q111.709 659.05 111.709 664.466 Q111.709 670.045 108.237 673.147 Q104.765 676.225 98.4456 676.225 Q96.2697 676.225 94.0012 675.855 Q91.7558 675.485 89.3484 674.744 L89.3484 670.045 Q91.4317 671.179 93.6539 671.735 Q95.8761 672.29 98.353 672.29 Q102.358 672.29 104.696 670.184 Q107.033 668.077 107.033 664.466 Q107.033 660.855 104.696 658.749 Q102.358 656.642 98.353 656.642 Q96.478 656.642 94.603 657.059 Q92.7512 657.476 90.8067 658.355 L90.8067 640.994 Z\" fill=\"#000000\" fill-rule=\"evenodd\" fill-opacity=\"1\" /><path clip-path=\"url(#clip620)\" d=\"M63.6309 467.941 L79.9503 467.941 L79.9503 471.876 L58.006 471.876 L58.006 467.941 Q60.668 465.187 65.2513 460.557 Q69.8578 455.904 71.0383 454.562 Q73.2837 452.038 74.1633 450.302 Q75.0661 448.543 75.0661 446.853 Q75.0661 444.099 73.1216 442.363 Q71.2004 440.627 68.0985 440.627 Q65.8995 440.627 63.4458 441.39 Q61.0152 442.154 58.2375 443.705 L58.2375 438.983 Q61.0615 437.849 63.5152 437.27 Q65.9689 436.691 68.0059 436.691 Q73.3763 436.691 76.5707 439.377 Q79.7651 442.062 79.7651 446.552 Q79.7651 448.682 78.9549 450.603 Q78.1679 452.501 76.0614 455.094 Q75.4827 455.765 72.3809 458.983 Q69.2791 462.177 63.6309 467.941 Z\" fill=\"#000000\" fill-rule=\"evenodd\" fill-opacity=\"1\" /><path clip-path=\"url(#clip620)\" d=\"M99.765 440.395 Q96.1539 440.395 94.3252 443.96 Q92.5197 447.501 92.5197 454.631 Q92.5197 461.738 94.3252 465.302 Q96.1539 468.844 99.765 468.844 Q103.399 468.844 105.205 465.302 Q107.033 461.738 107.033 454.631 Q107.033 447.501 105.205 443.96 Q103.399 440.395 99.765 440.395 M99.765 436.691 Q105.575 436.691 108.631 441.298 Q111.709 445.881 111.709 454.631 Q111.709 463.358 108.631 467.964 Q105.575 472.548 99.765 472.548 Q93.9549 472.548 90.8762 467.964 Q87.8206 463.358 87.8206 454.631 Q87.8206 445.881 90.8762 441.298 Q93.9549 436.691 99.765 436.691 Z\" fill=\"#000000\" fill-rule=\"evenodd\" fill-opacity=\"1\" /><path clip-path=\"url(#clip620)\" d=\"M64.6263 264.263 L80.9457 264.263 L80.9457 268.199 L59.0013 268.199 L59.0013 264.263 Q61.6634 261.509 66.2467 256.879 Q70.8531 252.226 72.0337 250.884 Q74.279 248.361 75.1587 246.625 Q76.0614 244.865 76.0614 243.176 Q76.0614 240.421 74.117 238.685 Q72.1957 236.949 69.0939 236.949 Q66.8948 236.949 64.4411 237.713 Q62.0106 238.476 59.2328 240.027 L59.2328 235.305 Q62.0569 234.171 64.5106 233.592 Q66.9643 233.014 69.0013 233.014 Q74.3716 233.014 77.5661 235.699 Q80.7605 238.384 80.7605 242.875 Q80.7605 245.004 79.9503 246.925 Q79.1633 248.824 77.0568 251.416 Q76.4781 252.088 73.3763 255.305 Q70.2744 258.5 64.6263 264.263 Z\" fill=\"#000000\" fill-rule=\"evenodd\" fill-opacity=\"1\" /><path clip-path=\"url(#clip620)\" d=\"M90.8067 233.639 L109.163 233.639 L109.163 237.574 L95.0891 237.574 L95.0891 246.046 Q96.1076 245.699 97.1261 245.537 Q98.1447 245.351 99.1632 245.351 Q104.95 245.351 108.33 248.523 Q111.709 251.694 111.709 257.111 Q111.709 262.689 108.237 265.791 Q104.765 268.87 98.4456 268.87 Q96.2697 268.87 94.0012 268.499 Q91.7558 268.129 89.3484 267.388 L89.3484 262.689 Q91.4317 263.824 93.6539 264.379 Q95.8761 264.935 98.353 264.935 Q102.358 264.935 104.696 262.828 Q107.033 260.722 107.033 257.111 Q107.033 253.5 104.696 251.393 Q102.358 249.287 98.353 249.287 Q96.478 249.287 94.603 249.703 Q92.7512 250.12 90.8067 251 L90.8067 233.639 Z\" fill=\"#000000\" fill-rule=\"evenodd\" fill-opacity=\"1\" /><polyline clip-path=\"url(#clip622)\" style=\"stroke:#009af9; stroke-linecap:butt; stroke-linejoin:round; stroke-width:4; stroke-opacity:1; fill:none\" points=\"\n",
       "  210.116,87.9763 213.502,95.9209 216.888,103.842 220.274,111.74 223.66,119.615 254.967,191.324 286.274,261.04 317.581,328.764 348.889,394.494 386.517,470.859 \n",
       "  424.146,544.345 455.96,604.231 487.775,662.058 522.334,722.543 556.894,780.599 588.755,831.971 620.615,881.278 654.774,931.848 688.932,980.046 728.507,1032.92 \n",
       "  768.083,1082.61 803.253,1124.1 838.423,1163.07 869.264,1195.17 900.105,1225.34 933.73,1256.03 967.355,1284.42 1001.18,1310.67 1035,1334.58 1072.4,1358.31 \n",
       "  1109.8,1379.2 1145.38,1396.43 1180.97,1411.1 1217.96,1423.61 1254.96,1433.34 1286.11,1439.37 1317.25,1443.43 1355.27,1445.72 1393.3,1445.06 1428.13,1441.88 \n",
       "  1462.96,1436.23 1495.13,1428.82 1527.3,1419.31 1559.89,1407.53 1592.48,1393.59 1629,1375.4 1665.52,1354.5 1698.61,1333.22 1731.71,1309.71 1769.6,1280.06 \n",
       "  1807.49,1247.49 1842.57,1214.73 1877.66,1179.47 1912.25,1142.25 1946.83,1102.61 1980.42,1061.79 2014,1018.67 2048.42,972.094 2082.85,923.106 2120.57,866.668 \n",
       "  2158.29,807.337 2185.68,762.43 2213.08,715.996 2240.47,668.037 2267.87,618.551 2273.49,608.211 2279.11,597.806 2284.73,587.336 2290.35,576.803 \n",
       "  \"/>\n",
       "<path clip-path=\"url(#clip620)\" d=\"\n",
       "M1981.82 198.898 L2279.25 198.898 L2279.25 95.2176 L1981.82 95.2176  Z\n",
       "  \" fill=\"#ffffff\" fill-rule=\"evenodd\" fill-opacity=\"1\"/>\n",
       "<polyline clip-path=\"url(#clip620)\" style=\"stroke:#000000; stroke-linecap:butt; stroke-linejoin:round; stroke-width:4; stroke-opacity:1; fill:none\" points=\"\n",
       "  1981.82,198.898 2279.25,198.898 2279.25,95.2176 1981.82,95.2176 1981.82,198.898 \n",
       "  \"/>\n",
       "<polyline clip-path=\"url(#clip620)\" style=\"stroke:#009af9; stroke-linecap:butt; stroke-linejoin:round; stroke-width:4; stroke-opacity:1; fill:none\" points=\"\n",
       "  2006.32,147.058 2153.32,147.058 \n",
       "  \"/>\n",
       "<path clip-path=\"url(#clip620)\" d=\"M2191.67 166.745 Q2189.86 171.375 2188.15 172.787 Q2186.43 174.199 2183.56 174.199 L2180.16 174.199 L2180.16 170.634 L2182.66 170.634 Q2184.42 170.634 2185.39 169.8 Q2186.36 168.967 2187.55 165.865 L2188.31 163.921 L2177.82 138.412 L2182.34 138.412 L2190.44 158.689 L2198.54 138.412 L2203.05 138.412 L2191.67 166.745 Z\" fill=\"#000000\" fill-rule=\"evenodd\" fill-opacity=\"1\" /><path clip-path=\"url(#clip620)\" d=\"M2210.35 160.402 L2217.98 160.402 L2217.98 134.037 L2209.67 135.703 L2209.67 131.444 L2217.94 129.778 L2222.61 129.778 L2222.61 160.402 L2230.25 160.402 L2230.25 164.338 L2210.35 164.338 L2210.35 160.402 Z\" fill=\"#000000\" fill-rule=\"evenodd\" fill-opacity=\"1\" /></svg>\n"
      ]
     },
     "execution_count": 4,
     "metadata": {},
     "output_type": "execute_result"
    }
   ],
   "source": [
    "using MTH229\n",
    "using Plots\n",
    "\n",
    "f(x) = 3*x^2 - 2*x - 4\n",
    "plot(f, -3, 3)          "
   ]
  },
  {
   "cell_type": "markdown",
   "id": "32819c72",
   "metadata": {},
   "source": [
    "#### x−e^−x2=0"
   ]
  },
  {
   "cell_type": "code",
   "execution_count": 5,
   "id": "7fe606ab",
   "metadata": {},
   "outputs": [
    {
     "data": {
      "text/html": [
       "<div class=\"data-frame\"><p>5 rows × 5 columns</p><table class=\"data-frame\"><thead><tr><th></th><th>k</th><th>x</th><th>f</th><th>fp</th><th>err</th></tr><tr><th></th><th title=\"Int64\">Int64</th><th title=\"Float64\">Float64</th><th title=\"Float64\">Float64</th><th title=\"Float64\">Float64</th><th title=\"Float64\">Float64</th></tr></thead><tbody><tr><th>1</th><td>0</td><td>-0.1</td><td>-1.09005</td><td>0.80199</td><td>1.35918</td></tr><tr><th>2</th><td>1</td><td>1.25918</td><td>1.05434</td><td>1.51586</td><td>0.695544</td></tr><tr><th>3</th><td>2</td><td>0.563638</td><td>-0.164193</td><td>1.82047</td><td>0.0901927</td></tr><tr><th>4</th><td>3</td><td>0.65383</td><td>0.00168908</td><td>1.85278</td><td>0.000911645</td></tr><tr><th>5</th><td>4</td><td>0.652919</td><td>7.90573e-8</td><td>1.85261</td><td>4.26736e-8</td></tr></tbody></table></div>"
      ],
      "text/latex": [
       "\\begin{tabular}{r|ccccc}\n",
       "\t& k & x & f & fp & err\\\\\n",
       "\t\\hline\n",
       "\t& Int64 & Float64 & Float64 & Float64 & Float64\\\\\n",
       "\t\\hline\n",
       "\t1 & 0 & -0.1 & -1.09005 & 0.80199 & 1.35918 \\\\\n",
       "\t2 & 1 & 1.25918 & 1.05434 & 1.51586 & 0.695544 \\\\\n",
       "\t3 & 2 & 0.563638 & -0.164193 & 1.82047 & 0.0901927 \\\\\n",
       "\t4 & 3 & 0.65383 & 0.00168908 & 1.85278 & 0.000911645 \\\\\n",
       "\t5 & 4 & 0.652919 & 7.90573e-8 & 1.85261 & 4.26736e-8 \\\\\n",
       "\\end{tabular}\n"
      ],
      "text/plain": [
       "\u001b[1m5×5 DataFrame\u001b[0m\n",
       "\u001b[1m Row \u001b[0m│\u001b[1m k     \u001b[0m\u001b[1m x         \u001b[0m\u001b[1m f           \u001b[0m\u001b[1m fp      \u001b[0m\u001b[1m err         \u001b[0m\n",
       "\u001b[1m     \u001b[0m│\u001b[90m Int64 \u001b[0m\u001b[90m Float64   \u001b[0m\u001b[90m Float64     \u001b[0m\u001b[90m Float64 \u001b[0m\u001b[90m Float64     \u001b[0m\n",
       "─────┼─────────────────────────────────────────────────────\n",
       "   1 │     0  -0.1       -1.09005     0.80199  1.35918\n",
       "   2 │     1   1.25918    1.05434     1.51586  0.695544\n",
       "   3 │     2   0.563638  -0.164193    1.82047  0.0901927\n",
       "   4 │     3   0.65383    0.00168908  1.85278  0.000911645\n",
       "   5 │     4   0.652919   7.90573e-8  1.85261  4.26736e-8"
      ]
     },
     "execution_count": 5,
     "metadata": {},
     "output_type": "execute_result"
    }
   ],
   "source": [
    "using DataFrames\n",
    "\n",
    "tol = 10.0^(-5)\n",
    "err = 10.0^5\n",
    "x0 = -0.1\n",
    "\n",
    "function f(x)\n",
    "    x - exp(-1*(x^2))\n",
    "end\n",
    "function fp(x)\n",
    "    2*x*exp(-1*(x^2)) + 1\n",
    "end\n",
    "\n",
    "k = 0\n",
    "resual = DataFrame(k=NaN,x=NaN,f=NaN,fp=NaN,err=NaN)\n",
    "\n",
    "while err>tol\n",
    "    x = x0 - f(x0)/fp(x0)\n",
    "    err = abs(x-x0)\n",
    "    if k==0\n",
    "        resual = DataFrame(k=k,x=x0,f=f(x0),fp=fp(x0),err=err)\n",
    "    else\n",
    "        push!(resual, ([k,x0,f(x0),fp(x0),err]))\n",
    "    end\n",
    "    x0 = x\n",
    "    k = k + 1\n",
    "end\n",
    "resual"
   ]
  },
  {
   "cell_type": "code",
   "execution_count": 6,
   "id": "f99120a4",
   "metadata": {},
   "outputs": [
    {
     "data": {
      "image/svg+xml": [
       "<?xml version=\"1.0\" encoding=\"utf-8\"?>\n",
       "<svg xmlns=\"http://www.w3.org/2000/svg\" xmlns:xlink=\"http://www.w3.org/1999/xlink\" width=\"600\" height=\"400\" viewBox=\"0 0 2400 1600\">\n",
       "<defs>\n",
       "  <clipPath id=\"clip660\">\n",
       "    <rect x=\"0\" y=\"0\" width=\"2400\" height=\"1600\"/>\n",
       "  </clipPath>\n",
       "</defs>\n",
       "<path clip-path=\"url(#clip660)\" d=\"\n",
       "M0 1600 L2400 1600 L2400 0 L0 0  Z\n",
       "  \" fill=\"#ffffff\" fill-rule=\"evenodd\" fill-opacity=\"1\"/>\n",
       "<defs>\n",
       "  <clipPath id=\"clip661\">\n",
       "    <rect x=\"480\" y=\"0\" width=\"1681\" height=\"1600\"/>\n",
       "  </clipPath>\n",
       "</defs>\n",
       "<path clip-path=\"url(#clip660)\" d=\"\n",
       "M148.057 1486.45 L2352.76 1486.45 L2352.76 47.2441 L148.057 47.2441  Z\n",
       "  \" fill=\"#ffffff\" fill-rule=\"evenodd\" fill-opacity=\"1\"/>\n",
       "<defs>\n",
       "  <clipPath id=\"clip662\">\n",
       "    <rect x=\"148\" y=\"47\" width=\"2206\" height=\"1440\"/>\n",
       "  </clipPath>\n",
       "</defs>\n",
       "<polyline clip-path=\"url(#clip662)\" style=\"stroke:#000000; stroke-linecap:butt; stroke-linejoin:round; stroke-width:2; stroke-opacity:0.1; fill:none\" points=\"\n",
       "  210.454,1486.45 210.454,47.2441 \n",
       "  \"/>\n",
       "<polyline clip-path=\"url(#clip662)\" style=\"stroke:#000000; stroke-linecap:butt; stroke-linejoin:round; stroke-width:2; stroke-opacity:0.1; fill:none\" points=\"\n",
       "  557.105,1486.45 557.105,47.2441 \n",
       "  \"/>\n",
       "<polyline clip-path=\"url(#clip662)\" style=\"stroke:#000000; stroke-linecap:butt; stroke-linejoin:round; stroke-width:2; stroke-opacity:0.1; fill:none\" points=\"\n",
       "  903.755,1486.45 903.755,47.2441 \n",
       "  \"/>\n",
       "<polyline clip-path=\"url(#clip662)\" style=\"stroke:#000000; stroke-linecap:butt; stroke-linejoin:round; stroke-width:2; stroke-opacity:0.1; fill:none\" points=\"\n",
       "  1250.41,1486.45 1250.41,47.2441 \n",
       "  \"/>\n",
       "<polyline clip-path=\"url(#clip662)\" style=\"stroke:#000000; stroke-linecap:butt; stroke-linejoin:round; stroke-width:2; stroke-opacity:0.1; fill:none\" points=\"\n",
       "  1597.06,1486.45 1597.06,47.2441 \n",
       "  \"/>\n",
       "<polyline clip-path=\"url(#clip662)\" style=\"stroke:#000000; stroke-linecap:butt; stroke-linejoin:round; stroke-width:2; stroke-opacity:0.1; fill:none\" points=\"\n",
       "  1943.71,1486.45 1943.71,47.2441 \n",
       "  \"/>\n",
       "<polyline clip-path=\"url(#clip662)\" style=\"stroke:#000000; stroke-linecap:butt; stroke-linejoin:round; stroke-width:2; stroke-opacity:0.1; fill:none\" points=\"\n",
       "  2290.36,1486.45 2290.36,47.2441 \n",
       "  \"/>\n",
       "<polyline clip-path=\"url(#clip660)\" style=\"stroke:#000000; stroke-linecap:butt; stroke-linejoin:round; stroke-width:4; stroke-opacity:1; fill:none\" points=\"\n",
       "  148.057,1486.45 2352.76,1486.45 \n",
       "  \"/>\n",
       "<polyline clip-path=\"url(#clip660)\" style=\"stroke:#000000; stroke-linecap:butt; stroke-linejoin:round; stroke-width:4; stroke-opacity:1; fill:none\" points=\"\n",
       "  210.454,1486.45 210.454,1467.55 \n",
       "  \"/>\n",
       "<polyline clip-path=\"url(#clip660)\" style=\"stroke:#000000; stroke-linecap:butt; stroke-linejoin:round; stroke-width:4; stroke-opacity:1; fill:none\" points=\"\n",
       "  557.105,1486.45 557.105,1467.55 \n",
       "  \"/>\n",
       "<polyline clip-path=\"url(#clip660)\" style=\"stroke:#000000; stroke-linecap:butt; stroke-linejoin:round; stroke-width:4; stroke-opacity:1; fill:none\" points=\"\n",
       "  903.755,1486.45 903.755,1467.55 \n",
       "  \"/>\n",
       "<polyline clip-path=\"url(#clip660)\" style=\"stroke:#000000; stroke-linecap:butt; stroke-linejoin:round; stroke-width:4; stroke-opacity:1; fill:none\" points=\"\n",
       "  1250.41,1486.45 1250.41,1467.55 \n",
       "  \"/>\n",
       "<polyline clip-path=\"url(#clip660)\" style=\"stroke:#000000; stroke-linecap:butt; stroke-linejoin:round; stroke-width:4; stroke-opacity:1; fill:none\" points=\"\n",
       "  1597.06,1486.45 1597.06,1467.55 \n",
       "  \"/>\n",
       "<polyline clip-path=\"url(#clip660)\" style=\"stroke:#000000; stroke-linecap:butt; stroke-linejoin:round; stroke-width:4; stroke-opacity:1; fill:none\" points=\"\n",
       "  1943.71,1486.45 1943.71,1467.55 \n",
       "  \"/>\n",
       "<polyline clip-path=\"url(#clip660)\" style=\"stroke:#000000; stroke-linecap:butt; stroke-linejoin:round; stroke-width:4; stroke-opacity:1; fill:none\" points=\"\n",
       "  2290.36,1486.45 2290.36,1467.55 \n",
       "  \"/>\n",
       "<path clip-path=\"url(#clip660)\" d=\"M179.922 1532.02 L209.597 1532.02 L209.597 1535.95 L179.922 1535.95 L179.922 1532.02 Z\" fill=\"#000000\" fill-rule=\"evenodd\" fill-opacity=\"1\" /><path clip-path=\"url(#clip660)\" d=\"M233.856 1530.21 Q237.213 1530.93 239.088 1533.2 Q240.986 1535.47 240.986 1538.8 Q240.986 1543.92 237.468 1546.72 Q233.949 1549.52 227.468 1549.52 Q225.292 1549.52 222.977 1549.08 Q220.685 1548.66 218.231 1547.81 L218.231 1543.29 Q220.176 1544.43 222.491 1545.01 Q224.806 1545.58 227.329 1545.58 Q231.727 1545.58 234.018 1543.85 Q236.333 1542.11 236.333 1538.8 Q236.333 1535.75 234.18 1534.03 Q232.051 1532.3 228.231 1532.3 L224.204 1532.3 L224.204 1528.45 L228.417 1528.45 Q231.866 1528.45 233.694 1527.09 Q235.523 1525.7 235.523 1523.11 Q235.523 1520.45 233.625 1519.03 Q231.75 1517.6 228.231 1517.6 Q226.31 1517.6 224.111 1518.01 Q221.912 1518.43 219.273 1519.31 L219.273 1515.14 Q221.935 1514.4 224.25 1514.03 Q226.588 1513.66 228.648 1513.66 Q233.972 1513.66 237.074 1516.09 Q240.176 1518.5 240.176 1522.62 Q240.176 1525.49 238.532 1527.48 Q236.889 1529.45 233.856 1530.21 Z\" fill=\"#000000\" fill-rule=\"evenodd\" fill-opacity=\"1\" /><path clip-path=\"url(#clip660)\" d=\"M527.047 1532.02 L556.723 1532.02 L556.723 1535.95 L527.047 1535.95 L527.047 1532.02 Z\" fill=\"#000000\" fill-rule=\"evenodd\" fill-opacity=\"1\" /><path clip-path=\"url(#clip660)\" d=\"M570.843 1544.91 L587.162 1544.91 L587.162 1548.85 L565.218 1548.85 L565.218 1544.91 Q567.88 1542.16 572.463 1537.53 Q577.07 1532.88 578.25 1531.53 Q580.496 1529.01 581.375 1527.27 Q582.278 1525.51 582.278 1523.82 Q582.278 1521.07 580.334 1519.33 Q578.412 1517.6 575.311 1517.6 Q573.111 1517.6 570.658 1518.36 Q568.227 1519.13 565.449 1520.68 L565.449 1515.95 Q568.274 1514.82 570.727 1514.24 Q573.181 1513.66 575.218 1513.66 Q580.588 1513.66 583.783 1516.35 Q586.977 1519.03 586.977 1523.52 Q586.977 1525.65 586.167 1527.57 Q585.38 1529.47 583.273 1532.07 Q582.695 1532.74 579.593 1535.95 Q576.491 1539.15 570.843 1544.91 Z\" fill=\"#000000\" fill-rule=\"evenodd\" fill-opacity=\"1\" /><path clip-path=\"url(#clip660)\" d=\"M873.513 1532.02 L903.188 1532.02 L903.188 1535.95 L873.513 1535.95 L873.513 1532.02 Z\" fill=\"#000000\" fill-rule=\"evenodd\" fill-opacity=\"1\" /><path clip-path=\"url(#clip660)\" d=\"M914.091 1544.91 L921.73 1544.91 L921.73 1518.55 L913.42 1520.21 L913.42 1515.95 L921.684 1514.29 L926.359 1514.29 L926.359 1544.91 L933.998 1544.91 L933.998 1548.85 L914.091 1548.85 L914.091 1544.91 Z\" fill=\"#000000\" fill-rule=\"evenodd\" fill-opacity=\"1\" /><path clip-path=\"url(#clip660)\" d=\"M1250.41 1517.37 Q1246.8 1517.37 1244.97 1520.93 Q1243.16 1524.47 1243.16 1531.6 Q1243.16 1538.71 1244.97 1542.27 Q1246.8 1545.82 1250.41 1545.82 Q1254.04 1545.82 1255.85 1542.27 Q1257.67 1538.71 1257.67 1531.6 Q1257.67 1524.47 1255.85 1520.93 Q1254.04 1517.37 1250.41 1517.37 M1250.41 1513.66 Q1256.22 1513.66 1259.27 1518.27 Q1262.35 1522.85 1262.35 1531.6 Q1262.35 1540.33 1259.27 1544.94 Q1256.22 1549.52 1250.41 1549.52 Q1244.6 1549.52 1241.52 1544.94 Q1238.46 1540.33 1238.46 1531.6 Q1238.46 1522.85 1241.52 1518.27 Q1244.6 1513.66 1250.41 1513.66 Z\" fill=\"#000000\" fill-rule=\"evenodd\" fill-opacity=\"1\" /><path clip-path=\"url(#clip660)\" d=\"M1587.44 1544.91 L1595.08 1544.91 L1595.08 1518.55 L1586.77 1520.21 L1586.77 1515.95 L1595.03 1514.29 L1599.71 1514.29 L1599.71 1544.91 L1607.35 1544.91 L1607.35 1548.85 L1587.44 1548.85 L1587.44 1544.91 Z\" fill=\"#000000\" fill-rule=\"evenodd\" fill-opacity=\"1\" /><path clip-path=\"url(#clip660)\" d=\"M1938.36 1544.91 L1954.68 1544.91 L1954.68 1548.85 L1932.74 1548.85 L1932.74 1544.91 Q1935.4 1542.16 1939.98 1537.53 Q1944.59 1532.88 1945.77 1531.53 Q1948.01 1529.01 1948.89 1527.27 Q1949.8 1525.51 1949.8 1523.82 Q1949.8 1521.07 1947.85 1519.33 Q1945.93 1517.6 1942.83 1517.6 Q1940.63 1517.6 1938.18 1518.36 Q1935.75 1519.13 1932.97 1520.68 L1932.97 1515.95 Q1935.79 1514.82 1938.24 1514.24 Q1940.7 1513.66 1942.74 1513.66 Q1948.11 1513.66 1951.3 1516.35 Q1954.49 1519.03 1954.49 1523.52 Q1954.49 1525.65 1953.68 1527.57 Q1952.9 1529.47 1950.79 1532.07 Q1950.21 1532.74 1947.11 1535.95 Q1944.01 1539.15 1938.36 1544.91 Z\" fill=\"#000000\" fill-rule=\"evenodd\" fill-opacity=\"1\" /><path clip-path=\"url(#clip660)\" d=\"M2294.61 1530.21 Q2297.96 1530.93 2299.84 1533.2 Q2301.74 1535.47 2301.74 1538.8 Q2301.74 1543.92 2298.22 1546.72 Q2294.7 1549.52 2288.22 1549.52 Q2286.04 1549.52 2283.73 1549.08 Q2281.44 1548.66 2278.98 1547.81 L2278.98 1543.29 Q2280.93 1544.43 2283.24 1545.01 Q2285.56 1545.58 2288.08 1545.58 Q2292.48 1545.58 2294.77 1543.85 Q2297.08 1542.11 2297.08 1538.8 Q2297.08 1535.75 2294.93 1534.03 Q2292.8 1532.3 2288.98 1532.3 L2284.95 1532.3 L2284.95 1528.45 L2289.17 1528.45 Q2292.62 1528.45 2294.44 1527.09 Q2296.27 1525.7 2296.27 1523.11 Q2296.27 1520.45 2294.37 1519.03 Q2292.5 1517.6 2288.98 1517.6 Q2287.06 1517.6 2284.86 1518.01 Q2282.66 1518.43 2280.02 1519.31 L2280.02 1515.14 Q2282.69 1514.4 2285 1514.03 Q2287.34 1513.66 2289.4 1513.66 Q2294.72 1513.66 2297.82 1516.09 Q2300.93 1518.5 2300.93 1522.62 Q2300.93 1525.49 2299.28 1527.48 Q2297.64 1529.45 2294.61 1530.21 Z\" fill=\"#000000\" fill-rule=\"evenodd\" fill-opacity=\"1\" /><polyline clip-path=\"url(#clip662)\" style=\"stroke:#000000; stroke-linecap:butt; stroke-linejoin:round; stroke-width:2; stroke-opacity:0.1; fill:none\" points=\"\n",
       "  148.057,1445.69 2352.76,1445.69 \n",
       "  \"/>\n",
       "<polyline clip-path=\"url(#clip662)\" style=\"stroke:#000000; stroke-linecap:butt; stroke-linejoin:round; stroke-width:2; stroke-opacity:0.1; fill:none\" points=\"\n",
       "  148.057,1219.4 2352.76,1219.4 \n",
       "  \"/>\n",
       "<polyline clip-path=\"url(#clip662)\" style=\"stroke:#000000; stroke-linecap:butt; stroke-linejoin:round; stroke-width:2; stroke-opacity:0.1; fill:none\" points=\"\n",
       "  148.057,993.108 2352.76,993.108 \n",
       "  \"/>\n",
       "<polyline clip-path=\"url(#clip662)\" style=\"stroke:#000000; stroke-linecap:butt; stroke-linejoin:round; stroke-width:2; stroke-opacity:0.1; fill:none\" points=\"\n",
       "  148.057,766.818 2352.76,766.818 \n",
       "  \"/>\n",
       "<polyline clip-path=\"url(#clip662)\" style=\"stroke:#000000; stroke-linecap:butt; stroke-linejoin:round; stroke-width:2; stroke-opacity:0.1; fill:none\" points=\"\n",
       "  148.057,540.528 2352.76,540.528 \n",
       "  \"/>\n",
       "<polyline clip-path=\"url(#clip662)\" style=\"stroke:#000000; stroke-linecap:butt; stroke-linejoin:round; stroke-width:2; stroke-opacity:0.1; fill:none\" points=\"\n",
       "  148.057,314.238 2352.76,314.238 \n",
       "  \"/>\n",
       "<polyline clip-path=\"url(#clip662)\" style=\"stroke:#000000; stroke-linecap:butt; stroke-linejoin:round; stroke-width:2; stroke-opacity:0.1; fill:none\" points=\"\n",
       "  148.057,87.9484 2352.76,87.9484 \n",
       "  \"/>\n",
       "<polyline clip-path=\"url(#clip660)\" style=\"stroke:#000000; stroke-linecap:butt; stroke-linejoin:round; stroke-width:4; stroke-opacity:1; fill:none\" points=\"\n",
       "  148.057,1486.45 148.057,47.2441 \n",
       "  \"/>\n",
       "<polyline clip-path=\"url(#clip660)\" style=\"stroke:#000000; stroke-linecap:butt; stroke-linejoin:round; stroke-width:4; stroke-opacity:1; fill:none\" points=\"\n",
       "  148.057,1445.69 166.954,1445.69 \n",
       "  \"/>\n",
       "<polyline clip-path=\"url(#clip660)\" style=\"stroke:#000000; stroke-linecap:butt; stroke-linejoin:round; stroke-width:4; stroke-opacity:1; fill:none\" points=\"\n",
       "  148.057,1219.4 166.954,1219.4 \n",
       "  \"/>\n",
       "<polyline clip-path=\"url(#clip660)\" style=\"stroke:#000000; stroke-linecap:butt; stroke-linejoin:round; stroke-width:4; stroke-opacity:1; fill:none\" points=\"\n",
       "  148.057,993.108 166.954,993.108 \n",
       "  \"/>\n",
       "<polyline clip-path=\"url(#clip660)\" style=\"stroke:#000000; stroke-linecap:butt; stroke-linejoin:round; stroke-width:4; stroke-opacity:1; fill:none\" points=\"\n",
       "  148.057,766.818 166.954,766.818 \n",
       "  \"/>\n",
       "<polyline clip-path=\"url(#clip660)\" style=\"stroke:#000000; stroke-linecap:butt; stroke-linejoin:round; stroke-width:4; stroke-opacity:1; fill:none\" points=\"\n",
       "  148.057,540.528 166.954,540.528 \n",
       "  \"/>\n",
       "<polyline clip-path=\"url(#clip660)\" style=\"stroke:#000000; stroke-linecap:butt; stroke-linejoin:round; stroke-width:4; stroke-opacity:1; fill:none\" points=\"\n",
       "  148.057,314.238 166.954,314.238 \n",
       "  \"/>\n",
       "<polyline clip-path=\"url(#clip660)\" style=\"stroke:#000000; stroke-linecap:butt; stroke-linejoin:round; stroke-width:4; stroke-opacity:1; fill:none\" points=\"\n",
       "  148.057,87.9484 166.954,87.9484 \n",
       "  \"/>\n",
       "<path clip-path=\"url(#clip660)\" d=\"M50.9921 1446.14 L80.6679 1446.14 L80.6679 1450.07 L50.9921 1450.07 L50.9921 1446.14 Z\" fill=\"#000000\" fill-rule=\"evenodd\" fill-opacity=\"1\" /><path clip-path=\"url(#clip660)\" d=\"M104.927 1444.33 Q108.283 1445.05 110.158 1447.32 Q112.057 1449.59 112.057 1452.92 Q112.057 1458.04 108.538 1460.84 Q105.02 1463.64 98.5382 1463.64 Q96.3623 1463.64 94.0475 1463.2 Q91.7558 1462.78 89.3021 1461.93 L89.3021 1457.41 Q91.2465 1458.55 93.5613 1459.13 Q95.8761 1459.7 98.3993 1459.7 Q102.797 1459.7 105.089 1457.97 Q107.404 1456.23 107.404 1452.92 Q107.404 1449.87 105.251 1448.15 Q103.121 1446.42 99.3021 1446.42 L95.2743 1446.42 L95.2743 1442.57 L99.4872 1442.57 Q102.936 1442.57 104.765 1441.21 Q106.594 1439.82 106.594 1437.23 Q106.594 1434.57 104.696 1433.15 Q102.821 1431.72 99.3021 1431.72 Q97.3808 1431.72 95.1817 1432.13 Q92.9826 1432.55 90.3438 1433.43 L90.3438 1429.26 Q93.0058 1428.52 95.3206 1428.15 Q97.6585 1427.78 99.7187 1427.78 Q105.043 1427.78 108.145 1430.21 Q111.246 1432.62 111.246 1436.74 Q111.246 1439.61 109.603 1441.6 Q107.959 1443.57 104.927 1444.33 Z\" fill=\"#000000\" fill-rule=\"evenodd\" fill-opacity=\"1\" /><path clip-path=\"url(#clip660)\" d=\"M51.9412 1219.85 L81.617 1219.85 L81.617 1223.78 L51.9412 1223.78 L51.9412 1219.85 Z\" fill=\"#000000\" fill-rule=\"evenodd\" fill-opacity=\"1\" /><path clip-path=\"url(#clip660)\" d=\"M95.7373 1232.74 L112.057 1232.74 L112.057 1236.68 L90.1123 1236.68 L90.1123 1232.74 Q92.7743 1229.99 97.3576 1225.36 Q101.964 1220.71 103.145 1219.36 Q105.39 1216.84 106.27 1215.1 Q107.172 1213.34 107.172 1211.65 Q107.172 1208.9 105.228 1207.16 Q103.307 1205.43 100.205 1205.43 Q98.0058 1205.43 95.5521 1206.19 Q93.1215 1206.96 90.3438 1208.51 L90.3438 1203.78 Q93.1678 1202.65 95.6215 1202.07 Q98.0752 1201.49 100.112 1201.49 Q105.483 1201.49 108.677 1204.18 Q111.871 1206.86 111.871 1211.35 Q111.871 1213.48 111.061 1215.4 Q110.274 1217.3 108.168 1219.9 Q107.589 1220.57 104.487 1223.78 Q101.385 1226.98 95.7373 1232.74 Z\" fill=\"#000000\" fill-rule=\"evenodd\" fill-opacity=\"1\" /><path clip-path=\"url(#clip660)\" d=\"M51.5708 993.559 L81.2466 993.559 L81.2466 997.495 L51.5708 997.495 L51.5708 993.559 Z\" fill=\"#000000\" fill-rule=\"evenodd\" fill-opacity=\"1\" /><path clip-path=\"url(#clip660)\" d=\"M92.1493 1006.45 L99.7882 1006.45 L99.7882 980.087 L91.478 981.754 L91.478 977.495 L99.7419 975.828 L104.418 975.828 L104.418 1006.45 L112.057 1006.45 L112.057 1010.39 L92.1493 1010.39 L92.1493 1006.45 Z\" fill=\"#000000\" fill-rule=\"evenodd\" fill-opacity=\"1\" /><path clip-path=\"url(#clip660)\" d=\"M100.112 752.617 Q96.5011 752.617 94.6724 756.182 Q92.8669 759.723 92.8669 766.853 Q92.8669 773.959 94.6724 777.524 Q96.5011 781.066 100.112 781.066 Q103.746 781.066 105.552 777.524 Q107.381 773.959 107.381 766.853 Q107.381 759.723 105.552 756.182 Q103.746 752.617 100.112 752.617 M100.112 748.913 Q105.922 748.913 108.978 753.52 Q112.057 758.103 112.057 766.853 Q112.057 775.58 108.978 780.186 Q105.922 784.769 100.112 784.769 Q94.3021 784.769 91.2234 780.186 Q88.1679 775.58 88.1679 766.853 Q88.1679 758.103 91.2234 753.52 Q94.3021 748.913 100.112 748.913 Z\" fill=\"#000000\" fill-rule=\"evenodd\" fill-opacity=\"1\" /><path clip-path=\"url(#clip660)\" d=\"M92.1493 553.873 L99.7882 553.873 L99.7882 527.507 L91.478 529.174 L91.478 524.915 L99.7419 523.248 L104.418 523.248 L104.418 553.873 L112.057 553.873 L112.057 557.808 L92.1493 557.808 L92.1493 553.873 Z\" fill=\"#000000\" fill-rule=\"evenodd\" fill-opacity=\"1\" /><path clip-path=\"url(#clip660)\" d=\"M95.7373 327.583 L112.057 327.583 L112.057 331.518 L90.1123 331.518 L90.1123 327.583 Q92.7743 324.828 97.3576 320.199 Q101.964 315.546 103.145 314.204 Q105.39 311.68 106.27 309.944 Q107.172 308.185 107.172 306.495 Q107.172 303.741 105.228 302.005 Q103.307 300.268 100.205 300.268 Q98.0058 300.268 95.5521 301.032 Q93.1215 301.796 90.3438 303.347 L90.3438 298.625 Q93.1678 297.491 95.6215 296.912 Q98.0752 296.333 100.112 296.333 Q105.483 296.333 108.677 299.018 Q111.871 301.704 111.871 306.194 Q111.871 308.324 111.061 310.245 Q110.274 312.143 108.168 314.736 Q107.589 315.407 104.487 318.625 Q101.385 321.819 95.7373 327.583 Z\" fill=\"#000000\" fill-rule=\"evenodd\" fill-opacity=\"1\" /><path clip-path=\"url(#clip660)\" d=\"M104.927 86.5942 Q108.283 87.3118 110.158 89.5803 Q112.057 91.8488 112.057 95.1821 Q112.057 100.298 108.538 103.099 Q105.02 105.9 98.5382 105.9 Q96.3623 105.9 94.0475 105.46 Q91.7558 105.043 89.3021 104.187 L89.3021 99.6728 Q91.2465 100.807 93.5613 101.386 Q95.8761 101.964 98.3993 101.964 Q102.797 101.964 105.089 100.228 Q107.404 98.4923 107.404 95.1821 Q107.404 92.1266 105.251 90.4136 Q103.121 88.6775 99.3021 88.6775 L95.2743 88.6775 L95.2743 84.8349 L99.4872 84.8349 Q102.936 84.8349 104.765 83.4692 Q106.594 82.0803 106.594 79.4877 Q106.594 76.8257 104.696 75.4137 Q102.821 73.9785 99.3021 73.9785 Q97.3808 73.9785 95.1817 74.3952 Q92.9826 74.8118 90.3438 75.6915 L90.3438 71.5248 Q93.0058 70.7841 95.3206 70.4137 Q97.6585 70.0434 99.7187 70.0434 Q105.043 70.0434 108.145 72.4739 Q111.246 74.8813 111.246 79.0016 Q111.246 81.872 109.603 83.8627 Q107.959 85.8303 104.927 86.5942 Z\" fill=\"#000000\" fill-rule=\"evenodd\" fill-opacity=\"1\" /><polyline clip-path=\"url(#clip662)\" style=\"stroke:#009af9; stroke-linecap:butt; stroke-linejoin:round; stroke-width:4; stroke-opacity:1; fill:none\" points=\"\n",
       "  210.454,1445.72 223.995,1436.88 349.204,1355.38 424.45,1306.77 488.069,1266.26 557.177,1223.5 620.888,1186.12 655.041,1167.31 689.194,1149.63 728.763,1130.85 \n",
       "  768.332,1114.23 803.497,1101.49 838.661,1090.8 869.498,1083.12 900.334,1076.95 967.573,1067.74 1035.21,1061.22 1072.6,1056.83 1110,1050.53 1127.78,1046.54 \n",
       "  1145.57,1041.76 1163.36,1036.1 1181.15,1029.46 1199.65,1021.44 1218.14,1012.22 1236.64,1001.74 1255.13,989.979 1270.7,979.083 1286.27,967.284 1301.84,954.602 \n",
       "  1317.41,941.067 1336.42,923.445 1355.43,904.702 1374.44,884.947 1393.45,864.302 1428.28,824.616 1463.1,783.27 1527.43,705.461 1592.6,628.842 1629.11,588.204 \n",
       "  1665.63,549.662 1698.72,516.656 1731.81,485.458 1769.69,451.828 1807.58,420.192 1842.65,392.423 1877.73,365.865 1946.9,316.151 2014.05,270.085 2082.89,224.088 \n",
       "  2158.32,174.382 2267.88,102.662 2290.36,87.9763 \n",
       "  \"/>\n",
       "<path clip-path=\"url(#clip660)\" d=\"\n",
       "M1981.87 198.898 L2279.27 198.898 L2279.27 95.2176 L1981.87 95.2176  Z\n",
       "  \" fill=\"#ffffff\" fill-rule=\"evenodd\" fill-opacity=\"1\"/>\n",
       "<polyline clip-path=\"url(#clip660)\" style=\"stroke:#000000; stroke-linecap:butt; stroke-linejoin:round; stroke-width:4; stroke-opacity:1; fill:none\" points=\"\n",
       "  1981.87,198.898 2279.27,198.898 2279.27,95.2176 1981.87,95.2176 1981.87,198.898 \n",
       "  \"/>\n",
       "<polyline clip-path=\"url(#clip660)\" style=\"stroke:#009af9; stroke-linecap:butt; stroke-linejoin:round; stroke-width:4; stroke-opacity:1; fill:none\" points=\"\n",
       "  2006.37,147.058 2153.35,147.058 \n",
       "  \"/>\n",
       "<path clip-path=\"url(#clip660)\" d=\"M2191.68 166.745 Q2189.88 171.375 2188.17 172.787 Q2186.45 174.199 2183.58 174.199 L2180.18 174.199 L2180.18 170.634 L2182.68 170.634 Q2184.44 170.634 2185.41 169.8 Q2186.38 168.967 2187.56 165.865 L2188.33 163.921 L2177.84 138.412 L2182.36 138.412 L2190.46 158.689 L2198.56 138.412 L2203.07 138.412 L2191.68 166.745 Z\" fill=\"#000000\" fill-rule=\"evenodd\" fill-opacity=\"1\" /><path clip-path=\"url(#clip660)\" d=\"M2210.37 160.402 L2218 160.402 L2218 134.037 L2209.69 135.703 L2209.69 131.444 L2217.96 129.778 L2222.63 129.778 L2222.63 160.402 L2230.27 160.402 L2230.27 164.338 L2210.37 164.338 L2210.37 160.402 Z\" fill=\"#000000\" fill-rule=\"evenodd\" fill-opacity=\"1\" /></svg>\n"
      ]
     },
     "execution_count": 6,
     "metadata": {},
     "output_type": "execute_result"
    }
   ],
   "source": [
    "using MTH229\n",
    "using Plots\n",
    "\n",
    "f(x) = x - exp(-1*(x^2))\n",
    "plot(f, -3, 3) "
   ]
  },
  {
   "cell_type": "code",
   "execution_count": 7,
   "id": "64655f6b",
   "metadata": {},
   "outputs": [
    {
     "data": {
      "text/plain": [
       "(1.0, 0.6321205588285577, 1.7357588823428847)"
      ]
     },
     "execution_count": 7,
     "metadata": {},
     "output_type": "execute_result"
    }
   ],
   "source": [
    "fp(x) = 2*x*exp(-1*(x^2)) + 1\n",
    "x = 0               # starting value, x_0\n",
    "x = x - f(x)/fp(x)      # new value, x_1\n",
    "x, f(x), fp(x)"
   ]
  },
  {
   "cell_type": "markdown",
   "id": "7459c1f9",
   "metadata": {},
   "source": [
    "#### ex−x4=0"
   ]
  },
  {
   "cell_type": "code",
   "execution_count": 8,
   "id": "4b43eb51",
   "metadata": {},
   "outputs": [
    {
     "data": {
      "text/html": [
       "<div class=\"data-frame\"><p>6 rows × 5 columns</p><table class=\"data-frame\"><thead><tr><th></th><th>k</th><th>x</th><th>f</th><th>fp</th><th>err</th></tr><tr><th></th><th title=\"Int64\">Int64</th><th title=\"Float64\">Float64</th><th title=\"Float64\">Float64</th><th title=\"Float64\">Float64</th><th title=\"Float64\">Float64</th></tr></thead><tbody><tr><th>1</th><td>0</td><td>-0.1</td><td>0.904737</td><td>0.908837</td><td>0.995489</td></tr><tr><th>2</th><td>1</td><td>-1.09549</td><td>-1.10585</td><td>5.59314</td><td>0.197716</td></tr><tr><th>3</th><td>2</td><td>-0.897773</td><td>-0.242153</td><td>3.30188</td><td>0.073338</td></tr><tr><th>4</th><td>3</td><td>-0.824435</td><td>-0.0234995</td><td>2.67993</td><td>0.00876868</td></tr><tr><th>5</th><td>4</td><td>-0.815666</td><td>-0.000294444</td><td>2.61303</td><td>0.000112683</td></tr><tr><th>6</th><td>5</td><td>-0.815553</td><td>-4.78733e-8</td><td>2.61218</td><td>1.83269e-8</td></tr></tbody></table></div>"
      ],
      "text/latex": [
       "\\begin{tabular}{r|ccccc}\n",
       "\t& k & x & f & fp & err\\\\\n",
       "\t\\hline\n",
       "\t& Int64 & Float64 & Float64 & Float64 & Float64\\\\\n",
       "\t\\hline\n",
       "\t1 & 0 & -0.1 & 0.904737 & 0.908837 & 0.995489 \\\\\n",
       "\t2 & 1 & -1.09549 & -1.10585 & 5.59314 & 0.197716 \\\\\n",
       "\t3 & 2 & -0.897773 & -0.242153 & 3.30188 & 0.073338 \\\\\n",
       "\t4 & 3 & -0.824435 & -0.0234995 & 2.67993 & 0.00876868 \\\\\n",
       "\t5 & 4 & -0.815666 & -0.000294444 & 2.61303 & 0.000112683 \\\\\n",
       "\t6 & 5 & -0.815553 & -4.78733e-8 & 2.61218 & 1.83269e-8 \\\\\n",
       "\\end{tabular}\n"
      ],
      "text/plain": [
       "\u001b[1m6×5 DataFrame\u001b[0m\n",
       "\u001b[1m Row \u001b[0m│\u001b[1m k     \u001b[0m\u001b[1m x         \u001b[0m\u001b[1m f            \u001b[0m\u001b[1m fp       \u001b[0m\u001b[1m err         \u001b[0m\n",
       "\u001b[1m     \u001b[0m│\u001b[90m Int64 \u001b[0m\u001b[90m Float64   \u001b[0m\u001b[90m Float64      \u001b[0m\u001b[90m Float64  \u001b[0m\u001b[90m Float64     \u001b[0m\n",
       "─────┼───────────────────────────────────────────────────────\n",
       "   1 │     0  -0.1        0.904737     0.908837  0.995489\n",
       "   2 │     1  -1.09549   -1.10585      5.59314   0.197716\n",
       "   3 │     2  -0.897773  -0.242153     3.30188   0.073338\n",
       "   4 │     3  -0.824435  -0.0234995    2.67993   0.00876868\n",
       "   5 │     4  -0.815666  -0.000294444  2.61303   0.000112683\n",
       "   6 │     5  -0.815553  -4.78733e-8   2.61218   1.83269e-8"
      ]
     },
     "execution_count": 8,
     "metadata": {},
     "output_type": "execute_result"
    }
   ],
   "source": [
    "using DataFrames\n",
    "\n",
    "tol = 10.0^(-5)\n",
    "err = 10.0^5\n",
    "x0 = -0.1\n",
    "\n",
    "function f(x)\n",
    "    exp(x) - x^4\n",
    "end\n",
    "function fp(x)\n",
    "    exp(x) - 4*x^3\n",
    "end\n",
    "\n",
    "k = 0\n",
    "resual = DataFrame(k=NaN,x=NaN,f=NaN,fp=NaN,err=NaN)\n",
    "\n",
    "while err>tol\n",
    "    x = x0 - f(x0)/fp(x0)\n",
    "    err = abs(x-x0)\n",
    "    if k==0\n",
    "        resual = DataFrame(k=k,x=x0,f=f(x0),fp=fp(x0),err=err)\n",
    "    else\n",
    "        push!(resual, ([k,x0,f(x0),fp(x0),err]))\n",
    "    end\n",
    "    x0 = x\n",
    "    k = k + 1\n",
    "end\n",
    "resual"
   ]
  },
  {
   "cell_type": "code",
   "execution_count": 9,
   "id": "0f9e2ba5",
   "metadata": {},
   "outputs": [
    {
     "data": {
      "image/svg+xml": [
       "<?xml version=\"1.0\" encoding=\"utf-8\"?>\n",
       "<svg xmlns=\"http://www.w3.org/2000/svg\" xmlns:xlink=\"http://www.w3.org/1999/xlink\" width=\"600\" height=\"400\" viewBox=\"0 0 2400 1600\">\n",
       "<defs>\n",
       "  <clipPath id=\"clip700\">\n",
       "    <rect x=\"0\" y=\"0\" width=\"2400\" height=\"1600\"/>\n",
       "  </clipPath>\n",
       "</defs>\n",
       "<path clip-path=\"url(#clip700)\" d=\"\n",
       "M0 1600 L2400 1600 L2400 0 L0 0  Z\n",
       "  \" fill=\"#ffffff\" fill-rule=\"evenodd\" fill-opacity=\"1\"/>\n",
       "<defs>\n",
       "  <clipPath id=\"clip701\">\n",
       "    <rect x=\"480\" y=\"0\" width=\"1681\" height=\"1600\"/>\n",
       "  </clipPath>\n",
       "</defs>\n",
       "<path clip-path=\"url(#clip700)\" d=\"\n",
       "M178.867 1486.45 L2352.76 1486.45 L2352.76 47.2441 L178.867 47.2441  Z\n",
       "  \" fill=\"#ffffff\" fill-rule=\"evenodd\" fill-opacity=\"1\"/>\n",
       "<defs>\n",
       "  <clipPath id=\"clip702\">\n",
       "    <rect x=\"178\" y=\"47\" width=\"2175\" height=\"1440\"/>\n",
       "  </clipPath>\n",
       "</defs>\n",
       "<polyline clip-path=\"url(#clip702)\" style=\"stroke:#000000; stroke-linecap:butt; stroke-linejoin:round; stroke-width:2; stroke-opacity:0.1; fill:none\" points=\"\n",
       "  240.392,1486.45 240.392,47.2441 \n",
       "  \"/>\n",
       "<polyline clip-path=\"url(#clip702)\" style=\"stroke:#000000; stroke-linecap:butt; stroke-linejoin:round; stroke-width:2; stroke-opacity:0.1; fill:none\" points=\"\n",
       "  582.198,1486.45 582.198,47.2441 \n",
       "  \"/>\n",
       "<polyline clip-path=\"url(#clip702)\" style=\"stroke:#000000; stroke-linecap:butt; stroke-linejoin:round; stroke-width:2; stroke-opacity:0.1; fill:none\" points=\"\n",
       "  924.005,1486.45 924.005,47.2441 \n",
       "  \"/>\n",
       "<polyline clip-path=\"url(#clip702)\" style=\"stroke:#000000; stroke-linecap:butt; stroke-linejoin:round; stroke-width:2; stroke-opacity:0.1; fill:none\" points=\"\n",
       "  1265.81,1486.45 1265.81,47.2441 \n",
       "  \"/>\n",
       "<polyline clip-path=\"url(#clip702)\" style=\"stroke:#000000; stroke-linecap:butt; stroke-linejoin:round; stroke-width:2; stroke-opacity:0.1; fill:none\" points=\"\n",
       "  1607.62,1486.45 1607.62,47.2441 \n",
       "  \"/>\n",
       "<polyline clip-path=\"url(#clip702)\" style=\"stroke:#000000; stroke-linecap:butt; stroke-linejoin:round; stroke-width:2; stroke-opacity:0.1; fill:none\" points=\"\n",
       "  1949.42,1486.45 1949.42,47.2441 \n",
       "  \"/>\n",
       "<polyline clip-path=\"url(#clip702)\" style=\"stroke:#000000; stroke-linecap:butt; stroke-linejoin:round; stroke-width:2; stroke-opacity:0.1; fill:none\" points=\"\n",
       "  2291.23,1486.45 2291.23,47.2441 \n",
       "  \"/>\n",
       "<polyline clip-path=\"url(#clip700)\" style=\"stroke:#000000; stroke-linecap:butt; stroke-linejoin:round; stroke-width:4; stroke-opacity:1; fill:none\" points=\"\n",
       "  178.867,1486.45 2352.76,1486.45 \n",
       "  \"/>\n",
       "<polyline clip-path=\"url(#clip700)\" style=\"stroke:#000000; stroke-linecap:butt; stroke-linejoin:round; stroke-width:4; stroke-opacity:1; fill:none\" points=\"\n",
       "  240.392,1486.45 240.392,1467.55 \n",
       "  \"/>\n",
       "<polyline clip-path=\"url(#clip700)\" style=\"stroke:#000000; stroke-linecap:butt; stroke-linejoin:round; stroke-width:4; stroke-opacity:1; fill:none\" points=\"\n",
       "  582.198,1486.45 582.198,1467.55 \n",
       "  \"/>\n",
       "<polyline clip-path=\"url(#clip700)\" style=\"stroke:#000000; stroke-linecap:butt; stroke-linejoin:round; stroke-width:4; stroke-opacity:1; fill:none\" points=\"\n",
       "  924.005,1486.45 924.005,1467.55 \n",
       "  \"/>\n",
       "<polyline clip-path=\"url(#clip700)\" style=\"stroke:#000000; stroke-linecap:butt; stroke-linejoin:round; stroke-width:4; stroke-opacity:1; fill:none\" points=\"\n",
       "  1265.81,1486.45 1265.81,1467.55 \n",
       "  \"/>\n",
       "<polyline clip-path=\"url(#clip700)\" style=\"stroke:#000000; stroke-linecap:butt; stroke-linejoin:round; stroke-width:4; stroke-opacity:1; fill:none\" points=\"\n",
       "  1607.62,1486.45 1607.62,1467.55 \n",
       "  \"/>\n",
       "<polyline clip-path=\"url(#clip700)\" style=\"stroke:#000000; stroke-linecap:butt; stroke-linejoin:round; stroke-width:4; stroke-opacity:1; fill:none\" points=\"\n",
       "  1949.42,1486.45 1949.42,1467.55 \n",
       "  \"/>\n",
       "<polyline clip-path=\"url(#clip700)\" style=\"stroke:#000000; stroke-linecap:butt; stroke-linejoin:round; stroke-width:4; stroke-opacity:1; fill:none\" points=\"\n",
       "  2291.23,1486.45 2291.23,1467.55 \n",
       "  \"/>\n",
       "<path clip-path=\"url(#clip700)\" d=\"M209.86 1532.02 L239.535 1532.02 L239.535 1535.95 L209.86 1535.95 L209.86 1532.02 Z\" fill=\"#000000\" fill-rule=\"evenodd\" fill-opacity=\"1\" /><path clip-path=\"url(#clip700)\" d=\"M263.794 1530.21 Q267.151 1530.93 269.026 1533.2 Q270.924 1535.47 270.924 1538.8 Q270.924 1543.92 267.406 1546.72 Q263.887 1549.52 257.406 1549.52 Q255.23 1549.52 252.915 1549.08 Q250.623 1548.66 248.17 1547.81 L248.17 1543.29 Q250.114 1544.43 252.429 1545.01 Q254.744 1545.58 257.267 1545.58 Q261.665 1545.58 263.956 1543.85 Q266.271 1542.11 266.271 1538.8 Q266.271 1535.75 264.119 1534.03 Q261.989 1532.3 258.169 1532.3 L254.142 1532.3 L254.142 1528.45 L258.355 1528.45 Q261.804 1528.45 263.632 1527.09 Q265.461 1525.7 265.461 1523.11 Q265.461 1520.45 263.563 1519.03 Q261.688 1517.6 258.169 1517.6 Q256.248 1517.6 254.049 1518.01 Q251.85 1518.43 249.211 1519.31 L249.211 1515.14 Q251.873 1514.4 254.188 1514.03 Q256.526 1513.66 258.586 1513.66 Q263.91 1513.66 267.012 1516.09 Q270.114 1518.5 270.114 1522.62 Q270.114 1525.49 268.47 1527.48 Q266.827 1529.45 263.794 1530.21 Z\" fill=\"#000000\" fill-rule=\"evenodd\" fill-opacity=\"1\" /><path clip-path=\"url(#clip700)\" d=\"M552.141 1532.02 L581.816 1532.02 L581.816 1535.95 L552.141 1535.95 L552.141 1532.02 Z\" fill=\"#000000\" fill-rule=\"evenodd\" fill-opacity=\"1\" /><path clip-path=\"url(#clip700)\" d=\"M595.937 1544.91 L612.256 1544.91 L612.256 1548.85 L590.312 1548.85 L590.312 1544.91 Q592.974 1542.16 597.557 1537.53 Q602.163 1532.88 603.344 1531.53 Q605.589 1529.01 606.469 1527.27 Q607.372 1525.51 607.372 1523.82 Q607.372 1521.07 605.427 1519.33 Q603.506 1517.6 600.404 1517.6 Q598.205 1517.6 595.751 1518.36 Q593.321 1519.13 590.543 1520.68 L590.543 1515.95 Q593.367 1514.82 595.821 1514.24 Q598.275 1513.66 600.312 1513.66 Q605.682 1513.66 608.876 1516.35 Q612.071 1519.03 612.071 1523.52 Q612.071 1525.65 611.261 1527.57 Q610.474 1529.47 608.367 1532.07 Q607.788 1532.74 604.687 1535.95 Q601.585 1539.15 595.937 1544.91 Z\" fill=\"#000000\" fill-rule=\"evenodd\" fill-opacity=\"1\" /><path clip-path=\"url(#clip700)\" d=\"M893.762 1532.02 L923.438 1532.02 L923.438 1535.95 L893.762 1535.95 L893.762 1532.02 Z\" fill=\"#000000\" fill-rule=\"evenodd\" fill-opacity=\"1\" /><path clip-path=\"url(#clip700)\" d=\"M934.34 1544.91 L941.979 1544.91 L941.979 1518.55 L933.669 1520.21 L933.669 1515.95 L941.933 1514.29 L946.609 1514.29 L946.609 1544.91 L954.248 1544.91 L954.248 1548.85 L934.34 1548.85 L934.34 1544.91 Z\" fill=\"#000000\" fill-rule=\"evenodd\" fill-opacity=\"1\" /><path clip-path=\"url(#clip700)\" d=\"M1265.81 1517.37 Q1262.2 1517.37 1260.37 1520.93 Q1258.57 1524.47 1258.57 1531.6 Q1258.57 1538.71 1260.37 1542.27 Q1262.2 1545.82 1265.81 1545.82 Q1269.45 1545.82 1271.25 1542.27 Q1273.08 1538.71 1273.08 1531.6 Q1273.08 1524.47 1271.25 1520.93 Q1269.45 1517.37 1265.81 1517.37 M1265.81 1513.66 Q1271.62 1513.66 1274.68 1518.27 Q1277.76 1522.85 1277.76 1531.6 Q1277.76 1540.33 1274.68 1544.94 Q1271.62 1549.52 1265.81 1549.52 Q1260 1549.52 1256.92 1544.94 Q1253.87 1540.33 1253.87 1531.6 Q1253.87 1522.85 1256.92 1518.27 Q1260 1513.66 1265.81 1513.66 Z\" fill=\"#000000\" fill-rule=\"evenodd\" fill-opacity=\"1\" /><path clip-path=\"url(#clip700)\" d=\"M1598 1544.91 L1605.64 1544.91 L1605.64 1518.55 L1597.33 1520.21 L1597.33 1515.95 L1605.59 1514.29 L1610.27 1514.29 L1610.27 1544.91 L1617.91 1544.91 L1617.91 1548.85 L1598 1548.85 L1598 1544.91 Z\" fill=\"#000000\" fill-rule=\"evenodd\" fill-opacity=\"1\" /><path clip-path=\"url(#clip700)\" d=\"M1944.08 1544.91 L1960.4 1544.91 L1960.4 1548.85 L1938.45 1548.85 L1938.45 1544.91 Q1941.11 1542.16 1945.7 1537.53 Q1950.3 1532.88 1951.48 1531.53 Q1953.73 1529.01 1954.61 1527.27 Q1955.51 1525.51 1955.51 1523.82 Q1955.51 1521.07 1953.57 1519.33 Q1951.65 1517.6 1948.54 1517.6 Q1946.35 1517.6 1943.89 1518.36 Q1941.46 1519.13 1938.68 1520.68 L1938.68 1515.95 Q1941.51 1514.82 1943.96 1514.24 Q1946.42 1513.66 1948.45 1513.66 Q1953.82 1513.66 1957.02 1516.35 Q1960.21 1519.03 1960.21 1523.52 Q1960.21 1525.65 1959.4 1527.57 Q1958.61 1529.47 1956.51 1532.07 Q1955.93 1532.74 1952.83 1535.95 Q1949.73 1539.15 1944.08 1544.91 Z\" fill=\"#000000\" fill-rule=\"evenodd\" fill-opacity=\"1\" /><path clip-path=\"url(#clip700)\" d=\"M2295.48 1530.21 Q2298.83 1530.93 2300.71 1533.2 Q2302.61 1535.47 2302.61 1538.8 Q2302.61 1543.92 2299.09 1546.72 Q2295.57 1549.52 2289.09 1549.52 Q2286.91 1549.52 2284.6 1549.08 Q2282.31 1548.66 2279.85 1547.81 L2279.85 1543.29 Q2281.8 1544.43 2284.11 1545.01 Q2286.43 1545.58 2288.95 1545.58 Q2293.35 1545.58 2295.64 1543.85 Q2297.96 1542.11 2297.96 1538.8 Q2297.96 1535.75 2295.8 1534.03 Q2293.67 1532.3 2289.85 1532.3 L2285.83 1532.3 L2285.83 1528.45 L2290.04 1528.45 Q2293.49 1528.45 2295.32 1527.09 Q2297.15 1525.7 2297.15 1523.11 Q2297.15 1520.45 2295.25 1519.03 Q2293.37 1517.6 2289.85 1517.6 Q2287.93 1517.6 2285.73 1518.01 Q2283.53 1518.43 2280.9 1519.31 L2280.9 1515.14 Q2283.56 1514.4 2285.87 1514.03 Q2288.21 1513.66 2290.27 1513.66 Q2295.59 1513.66 2298.7 1516.09 Q2301.8 1518.5 2301.8 1522.62 Q2301.8 1525.49 2300.15 1527.48 Q2298.51 1529.45 2295.48 1530.21 Z\" fill=\"#000000\" fill-rule=\"evenodd\" fill-opacity=\"1\" /><polyline clip-path=\"url(#clip702)\" style=\"stroke:#000000; stroke-linecap:butt; stroke-linejoin:round; stroke-width:2; stroke-opacity:0.1; fill:none\" points=\"\n",
       "  178.867,1430.13 2352.76,1430.13 \n",
       "  \"/>\n",
       "<polyline clip-path=\"url(#clip702)\" style=\"stroke:#000000; stroke-linecap:butt; stroke-linejoin:round; stroke-width:2; stroke-opacity:0.1; fill:none\" points=\"\n",
       "  178.867,1102.04 2352.76,1102.04 \n",
       "  \"/>\n",
       "<polyline clip-path=\"url(#clip702)\" style=\"stroke:#000000; stroke-linecap:butt; stroke-linejoin:round; stroke-width:2; stroke-opacity:0.1; fill:none\" points=\"\n",
       "  178.867,773.946 2352.76,773.946 \n",
       "  \"/>\n",
       "<polyline clip-path=\"url(#clip702)\" style=\"stroke:#000000; stroke-linecap:butt; stroke-linejoin:round; stroke-width:2; stroke-opacity:0.1; fill:none\" points=\"\n",
       "  178.867,445.855 2352.76,445.855 \n",
       "  \"/>\n",
       "<polyline clip-path=\"url(#clip702)\" style=\"stroke:#000000; stroke-linecap:butt; stroke-linejoin:round; stroke-width:2; stroke-opacity:0.1; fill:none\" points=\"\n",
       "  178.867,117.763 2352.76,117.763 \n",
       "  \"/>\n",
       "<polyline clip-path=\"url(#clip700)\" style=\"stroke:#000000; stroke-linecap:butt; stroke-linejoin:round; stroke-width:4; stroke-opacity:1; fill:none\" points=\"\n",
       "  178.867,1486.45 178.867,47.2441 \n",
       "  \"/>\n",
       "<polyline clip-path=\"url(#clip700)\" style=\"stroke:#000000; stroke-linecap:butt; stroke-linejoin:round; stroke-width:4; stroke-opacity:1; fill:none\" points=\"\n",
       "  178.867,1430.13 197.764,1430.13 \n",
       "  \"/>\n",
       "<polyline clip-path=\"url(#clip700)\" style=\"stroke:#000000; stroke-linecap:butt; stroke-linejoin:round; stroke-width:4; stroke-opacity:1; fill:none\" points=\"\n",
       "  178.867,1102.04 197.764,1102.04 \n",
       "  \"/>\n",
       "<polyline clip-path=\"url(#clip700)\" style=\"stroke:#000000; stroke-linecap:butt; stroke-linejoin:round; stroke-width:4; stroke-opacity:1; fill:none\" points=\"\n",
       "  178.867,773.946 197.764,773.946 \n",
       "  \"/>\n",
       "<polyline clip-path=\"url(#clip700)\" style=\"stroke:#000000; stroke-linecap:butt; stroke-linejoin:round; stroke-width:4; stroke-opacity:1; fill:none\" points=\"\n",
       "  178.867,445.855 197.764,445.855 \n",
       "  \"/>\n",
       "<polyline clip-path=\"url(#clip700)\" style=\"stroke:#000000; stroke-linecap:butt; stroke-linejoin:round; stroke-width:4; stroke-opacity:1; fill:none\" points=\"\n",
       "  178.867,117.763 197.764,117.763 \n",
       "  \"/>\n",
       "<path clip-path=\"url(#clip700)\" d=\"M50.9921 1430.58 L80.6679 1430.58 L80.6679 1434.51 L50.9921 1434.51 L50.9921 1430.58 Z\" fill=\"#000000\" fill-rule=\"evenodd\" fill-opacity=\"1\" /><path clip-path=\"url(#clip700)\" d=\"M100.76 1431 Q97.4271 1431 95.5058 1432.78 Q93.6076 1434.56 93.6076 1437.69 Q93.6076 1440.81 95.5058 1442.59 Q97.4271 1444.38 100.76 1444.38 Q104.094 1444.38 106.015 1442.59 Q107.936 1440.79 107.936 1437.69 Q107.936 1434.56 106.015 1432.78 Q104.117 1431 100.76 1431 M96.0845 1429.01 Q93.0752 1428.26 91.3854 1426.2 Q89.7188 1424.14 89.7188 1421.18 Q89.7188 1417.04 92.6586 1414.63 Q95.6215 1412.22 100.76 1412.22 Q105.922 1412.22 108.862 1414.63 Q111.802 1417.04 111.802 1421.18 Q111.802 1424.14 110.112 1426.2 Q108.446 1428.26 105.459 1429.01 Q108.839 1429.79 110.714 1432.08 Q112.612 1434.38 112.612 1437.69 Q112.612 1442.71 109.533 1445.39 Q106.478 1448.08 100.76 1448.08 Q95.0428 1448.08 91.9641 1445.39 Q88.9086 1442.71 88.9086 1437.69 Q88.9086 1434.38 90.8067 1432.08 Q92.7049 1429.79 96.0845 1429.01 M94.3715 1421.62 Q94.3715 1424.31 96.0382 1425.81 Q97.728 1427.32 100.76 1427.32 Q103.77 1427.32 105.459 1425.81 Q107.172 1424.31 107.172 1421.62 Q107.172 1418.94 105.459 1417.43 Q103.77 1415.93 100.76 1415.93 Q97.728 1415.93 96.0382 1417.43 Q94.3715 1418.94 94.3715 1421.62 Z\" fill=\"#000000\" fill-rule=\"evenodd\" fill-opacity=\"1\" /><path clip-path=\"url(#clip700)\" d=\"M130.922 1415.93 Q127.311 1415.93 125.482 1419.49 Q123.677 1423.03 123.677 1430.16 Q123.677 1437.27 125.482 1440.83 Q127.311 1444.38 130.922 1444.38 Q134.556 1444.38 136.362 1440.83 Q138.191 1437.27 138.191 1430.16 Q138.191 1423.03 136.362 1419.49 Q134.556 1415.93 130.922 1415.93 M130.922 1412.22 Q136.732 1412.22 139.788 1416.83 Q142.867 1421.41 142.867 1430.16 Q142.867 1438.89 139.788 1443.5 Q136.732 1448.08 130.922 1448.08 Q125.112 1448.08 122.033 1443.5 Q118.978 1438.89 118.978 1430.16 Q118.978 1421.41 122.033 1416.83 Q125.112 1412.22 130.922 1412.22 Z\" fill=\"#000000\" fill-rule=\"evenodd\" fill-opacity=\"1\" /><path clip-path=\"url(#clip700)\" d=\"M50.9921 1102.49 L80.6679 1102.49 L80.6679 1106.42 L50.9921 1106.42 L50.9921 1102.49 Z\" fill=\"#000000\" fill-rule=\"evenodd\" fill-opacity=\"1\" /><path clip-path=\"url(#clip700)\" d=\"M101.339 1100.17 Q98.1909 1100.17 96.3391 1102.33 Q94.5104 1104.48 94.5104 1108.23 Q94.5104 1111.96 96.3391 1114.13 Q98.1909 1116.28 101.339 1116.28 Q104.487 1116.28 106.316 1114.13 Q108.168 1111.96 108.168 1108.23 Q108.168 1104.48 106.316 1102.33 Q104.487 1100.17 101.339 1100.17 M110.621 1085.52 L110.621 1089.78 Q108.862 1088.95 107.057 1088.51 Q105.274 1088.07 103.515 1088.07 Q98.8854 1088.07 96.4317 1091.19 Q94.0012 1094.32 93.6539 1100.64 Q95.0197 1098.62 97.0798 1097.56 Q99.14 1096.47 101.617 1096.47 Q106.825 1096.47 109.834 1099.64 Q112.867 1102.79 112.867 1108.23 Q112.867 1113.55 109.719 1116.77 Q106.571 1119.99 101.339 1119.99 Q95.3437 1119.99 92.1725 1115.4 Q89.0012 1110.8 89.0012 1102.07 Q89.0012 1093.88 92.89 1089.02 Q96.7789 1084.13 103.33 1084.13 Q105.089 1084.13 106.871 1084.48 Q108.677 1084.83 110.621 1085.52 Z\" fill=\"#000000\" fill-rule=\"evenodd\" fill-opacity=\"1\" /><path clip-path=\"url(#clip700)\" d=\"M130.922 1087.84 Q127.311 1087.84 125.482 1091.4 Q123.677 1094.94 123.677 1102.07 Q123.677 1109.18 125.482 1112.74 Q127.311 1116.28 130.922 1116.28 Q134.556 1116.28 136.362 1112.74 Q138.191 1109.18 138.191 1102.07 Q138.191 1094.94 136.362 1091.4 Q134.556 1087.84 130.922 1087.84 M130.922 1084.13 Q136.732 1084.13 139.788 1088.74 Q142.867 1093.32 142.867 1102.07 Q142.867 1110.8 139.788 1115.4 Q136.732 1119.99 130.922 1119.99 Q125.112 1119.99 122.033 1115.4 Q118.978 1110.8 118.978 1102.07 Q118.978 1093.32 122.033 1088.74 Q125.112 1084.13 130.922 1084.13 Z\" fill=\"#000000\" fill-rule=\"evenodd\" fill-opacity=\"1\" /><path clip-path=\"url(#clip700)\" d=\"M50.9921 774.397 L80.6679 774.397 L80.6679 778.332 L50.9921 778.332 L50.9921 774.397 Z\" fill=\"#000000\" fill-rule=\"evenodd\" fill-opacity=\"1\" /><path clip-path=\"url(#clip700)\" d=\"M103.608 760.74 L91.8021 779.189 L103.608 779.189 L103.608 760.74 M102.381 756.666 L108.26 756.666 L108.26 779.189 L113.191 779.189 L113.191 783.078 L108.26 783.078 L108.26 791.226 L103.608 791.226 L103.608 783.078 L88.0058 783.078 L88.0058 778.564 L102.381 756.666 Z\" fill=\"#000000\" fill-rule=\"evenodd\" fill-opacity=\"1\" /><path clip-path=\"url(#clip700)\" d=\"M130.922 759.744 Q127.311 759.744 125.482 763.309 Q123.677 766.851 123.677 773.98 Q123.677 781.087 125.482 784.652 Q127.311 788.193 130.922 788.193 Q134.556 788.193 136.362 784.652 Q138.191 781.087 138.191 773.98 Q138.191 766.851 136.362 763.309 Q134.556 759.744 130.922 759.744 M130.922 756.041 Q136.732 756.041 139.788 760.647 Q142.867 765.23 142.867 773.98 Q142.867 782.707 139.788 787.314 Q136.732 791.897 130.922 791.897 Q125.112 791.897 122.033 787.314 Q118.978 782.707 118.978 773.98 Q118.978 765.23 122.033 760.647 Q125.112 756.041 130.922 756.041 Z\" fill=\"#000000\" fill-rule=\"evenodd\" fill-opacity=\"1\" /><path clip-path=\"url(#clip700)\" d=\"M50.9921 446.306 L80.6679 446.306 L80.6679 450.241 L50.9921 450.241 L50.9921 446.306 Z\" fill=\"#000000\" fill-rule=\"evenodd\" fill-opacity=\"1\" /><path clip-path=\"url(#clip700)\" d=\"M94.7882 459.199 L111.108 459.199 L111.108 463.135 L89.1632 463.135 L89.1632 459.199 Q91.8252 456.445 96.4085 451.815 Q101.015 447.162 102.196 445.82 Q104.441 443.297 105.321 441.561 Q106.223 439.801 106.223 438.112 Q106.223 435.357 104.279 433.621 Q102.358 431.885 99.2558 431.885 Q97.0567 431.885 94.603 432.649 Q92.1725 433.413 89.3947 434.963 L89.3947 430.241 Q92.2188 429.107 94.6724 428.528 Q97.1261 427.95 99.1632 427.95 Q104.534 427.95 107.728 430.635 Q110.922 433.32 110.922 437.811 Q110.922 439.94 110.112 441.862 Q109.325 443.76 107.219 446.352 Q106.64 447.024 103.538 450.241 Q100.436 453.436 94.7882 459.199 Z\" fill=\"#000000\" fill-rule=\"evenodd\" fill-opacity=\"1\" /><path clip-path=\"url(#clip700)\" d=\"M130.922 431.653 Q127.311 431.653 125.482 435.218 Q123.677 438.76 123.677 445.889 Q123.677 452.996 125.482 456.561 Q127.311 460.102 130.922 460.102 Q134.556 460.102 136.362 456.561 Q138.191 452.996 138.191 445.889 Q138.191 438.76 136.362 435.218 Q134.556 431.653 130.922 431.653 M130.922 427.95 Q136.732 427.95 139.788 432.556 Q142.867 437.139 142.867 445.889 Q142.867 454.616 139.788 459.223 Q136.732 463.806 130.922 463.806 Q125.112 463.806 122.033 459.223 Q118.978 454.616 118.978 445.889 Q118.978 437.139 122.033 432.556 Q125.112 427.95 130.922 427.95 Z\" fill=\"#000000\" fill-rule=\"evenodd\" fill-opacity=\"1\" /><path clip-path=\"url(#clip700)\" d=\"M130.922 103.562 Q127.311 103.562 125.482 107.127 Q123.677 110.669 123.677 117.798 Q123.677 124.905 125.482 128.469 Q127.311 132.011 130.922 132.011 Q134.556 132.011 136.362 128.469 Q138.191 124.905 138.191 117.798 Q138.191 110.669 136.362 107.127 Q134.556 103.562 130.922 103.562 M130.922 99.8585 Q136.732 99.8585 139.788 104.465 Q142.867 109.048 142.867 117.798 Q142.867 126.525 139.788 131.131 Q136.732 135.715 130.922 135.715 Q125.112 135.715 122.033 131.131 Q118.978 126.525 118.978 117.798 Q118.978 109.048 122.033 104.465 Q125.112 99.8585 130.922 99.8585 Z\" fill=\"#000000\" fill-rule=\"evenodd\" fill-opacity=\"1\" /><polyline clip-path=\"url(#clip702)\" style=\"stroke:#009af9; stroke-linecap:butt; stroke-linejoin:round; stroke-width:4; stroke-opacity:1; fill:none\" points=\"\n",
       "  240.392,1445.72 243.73,1428.49 247.068,1411.43 250.406,1394.54 253.744,1377.82 269.176,1302.61 284.609,1230.82 300.041,1162.33 315.474,1097.04 330.906,1034.85 \n",
       "  346.338,975.662 361.771,919.375 377.203,865.894 386.477,835.064 395.752,805.191 405.026,776.257 414.3,748.241 432.849,694.885 451.397,644.968 467.08,605.334 \n",
       "  482.762,567.959 498.445,532.756 514.127,499.638 531.163,465.927 548.198,434.47 565.234,405.164 582.269,377.907 597.975,354.508 613.68,332.691 629.385,312.382 \n",
       "  645.091,293.509 661.928,274.789 678.766,257.553 695.604,241.72 712.442,227.209 731.95,211.947 751.458,198.239 770.966,185.971 790.474,175.035 825.147,158.563 \n",
       "  859.821,145.414 890.226,136.212 920.631,128.85 953.781,122.572 986.931,117.778 1020.28,114.133 1053.62,111.382 1127.36,107.264 1197.52,104.356 1270.47,101.134 \n",
       "  1331.88,97.8836 1406.86,93.455 1475.54,89.789 1538.97,87.9763 1603.22,89.3178 1639.23,92.2183 1675.23,97.1866 1707.86,103.864 1740.48,112.999 1759.16,119.489 \n",
       "  1777.84,126.997 1796.52,135.605 1815.2,145.399 1832.49,155.602 1849.78,166.969 1867.08,179.576 1884.37,193.498 1901.42,208.588 1918.47,225.11 1935.52,243.142 \n",
       "  1952.57,262.765 1969.12,283.418 1985.68,305.724 2002.23,329.762 2018.78,355.612 2035.75,384.076 2052.72,414.618 2069.69,447.328 2086.66,482.296 2105.26,523.312 \n",
       "  2123.85,567.276 2133.14,590.402 2142.44,614.312 2151.74,639.023 2161.03,664.549 2174.54,703.118 2188.04,743.493 2201.55,785.724 2215.05,829.863 2228.55,875.96 \n",
       "  2242.06,924.067 2255.56,974.235 2269.07,1026.52 2274.61,1048.59 2280.15,1071.03 2285.69,1093.85 2291.23,1117.04 \n",
       "  \"/>\n",
       "<path clip-path=\"url(#clip700)\" d=\"\n",
       "M1986.32 198.898 L2280.29 198.898 L2280.29 95.2176 L1986.32 95.2176  Z\n",
       "  \" fill=\"#ffffff\" fill-rule=\"evenodd\" fill-opacity=\"1\"/>\n",
       "<polyline clip-path=\"url(#clip700)\" style=\"stroke:#000000; stroke-linecap:butt; stroke-linejoin:round; stroke-width:4; stroke-opacity:1; fill:none\" points=\"\n",
       "  1986.32,198.898 2280.29,198.898 2280.29,95.2176 1986.32,95.2176 1986.32,198.898 \n",
       "  \"/>\n",
       "<polyline clip-path=\"url(#clip700)\" style=\"stroke:#009af9; stroke-linecap:butt; stroke-linejoin:round; stroke-width:4; stroke-opacity:1; fill:none\" points=\"\n",
       "  2010.47,147.058 2155.4,147.058 \n",
       "  \"/>\n",
       "<path clip-path=\"url(#clip700)\" d=\"M2193.4 166.745 Q2191.59 171.375 2189.88 172.787 Q2188.17 174.199 2185.29 174.199 L2181.89 174.199 L2181.89 170.634 L2184.39 170.634 Q2186.15 170.634 2187.12 169.8 Q2188.1 168.967 2189.28 165.865 L2190.04 163.921 L2179.55 138.412 L2184.07 138.412 L2192.17 158.689 L2200.27 138.412 L2204.79 138.412 L2193.4 166.745 Z\" fill=\"#000000\" fill-rule=\"evenodd\" fill-opacity=\"1\" /><path clip-path=\"url(#clip700)\" d=\"M2212.08 160.402 L2219.72 160.402 L2219.72 134.037 L2211.41 135.703 L2211.41 131.444 L2219.67 129.778 L2224.35 129.778 L2224.35 160.402 L2231.98 160.402 L2231.98 164.338 L2212.08 164.338 L2212.08 160.402 Z\" fill=\"#000000\" fill-rule=\"evenodd\" fill-opacity=\"1\" /></svg>\n"
      ]
     },
     "execution_count": 9,
     "metadata": {},
     "output_type": "execute_result"
    }
   ],
   "source": [
    "using MTH229\n",
    "using Plots\n",
    "\n",
    "f(x) = exp(x) - x^4\n",
    "plot(f, -3, 3) "
   ]
  },
  {
   "cell_type": "markdown",
   "id": "0a7cdf01",
   "metadata": {},
   "source": [
    "#### Find the internal rate of return for these project using the bisection method"
   ]
  },
  {
   "cell_type": "code",
   "execution_count": 10,
   "id": "9cca798c",
   "metadata": {},
   "outputs": [
    {
     "data": {
      "text/plain": [
       "bisec (generic function with 1 method)"
      ]
     },
     "execution_count": 10,
     "metadata": {},
     "output_type": "execute_result"
    }
   ],
   "source": [
    "# create bisection method function\n",
    "\n",
    "function bisec(f::Function,a::Float64,b::Float64,tol::Float64)\n",
    "    if a>=b\n",
    "        error(\"a must be less than b\") \n",
    "    end\n",
    "    if f(a)*f(b) > 0\n",
    "        error(\"signs of f(a) and f(b) are not opposites\") \n",
    "    end\n",
    "    i = 1\n",
    "    err=b-a\n",
    "    c=(a+b)/2\n",
    "    resual = DataFrame(a=a,b=b,c=c,err=err)\n",
    "    while err>tol\n",
    "        if f(c)==0.0\n",
    "            break\n",
    "        end\n",
    "        if f(a)*f(c)<0\n",
    "            a=a\n",
    "            b=c\n",
    "        else\n",
    "            a=c\n",
    "            b=b\n",
    "        end\n",
    "        c=(a+b)/2\n",
    "        err=b-a\n",
    "        i = i + 1\n",
    "        push!(resual, ([a,b,c,err]))\n",
    "    end\n",
    "    return c, resual\n",
    "end"
   ]
  },
  {
   "cell_type": "markdown",
   "id": "c91b0ef0",
   "metadata": {},
   "source": [
    "#### Project A"
   ]
  },
  {
   "cell_type": "code",
   "execution_count": 11,
   "id": "0635d422",
   "metadata": {},
   "outputs": [
    {
     "data": {
      "text/plain": [
       "0.05999999999999961"
      ]
     },
     "execution_count": 11,
     "metadata": {},
     "output_type": "execute_result"
    }
   ],
   "source": [
    "using NPFinancial\n",
    "\n",
    "irr([-1000, 60, 60, 60, 60, 1060])"
   ]
  },
  {
   "cell_type": "code",
   "execution_count": 12,
   "id": "d23cc4ca",
   "metadata": {},
   "outputs": [
    {
     "data": {
      "text/plain": [
       "0.05999999999999994"
      ]
     },
     "execution_count": 12,
     "metadata": {},
     "output_type": "execute_result"
    }
   ],
   "source": [
    "using Roots\n",
    "\n",
    "tvmnpv(i,cfo,cfall)=begin\n",
    "         n=collect(1:length(cfall));\n",
    "         cfo + sum(cfall./(1+i).^n)\n",
    "end\n",
    "\n",
    "f(x)=tvmnpv(x, cfo, cfall)\n",
    "\n",
    "cfo=-1000.0\n",
    "cfall=[60, 60, 60, 60, 1060];\n",
    "\n",
    "fzero(f, [0.0, 1.0])"
   ]
  },
  {
   "cell_type": "code",
   "execution_count": 13,
   "id": "e2afffb3",
   "metadata": {},
   "outputs": [
    {
     "name": "stdout",
     "output_type": "stream",
     "text": [
      "Iterations\n",
      "\u001b[1m19×4 DataFrame\u001b[0m\n",
      "\u001b[1m Row \u001b[0m│\u001b[1m a          \u001b[0m\u001b[1m b         \u001b[0m\u001b[1m c         \u001b[0m\u001b[1m err         \u001b[0m\n",
      "\u001b[1m     \u001b[0m│\u001b[90m Float64    \u001b[0m\u001b[90m Float64   \u001b[0m\u001b[90m Float64   \u001b[0m\u001b[90m Float64     \u001b[0m\n",
      "─────┼───────────────────────────────────────────────\n",
      "   1 │ -0.1        0.1        0.0        0.2\n",
      "   2 │  0.0        0.1        0.05       0.1\n",
      "   3 │  0.05       0.1        0.075      0.05\n",
      "   4 │  0.05       0.075      0.0625     0.025\n",
      "   5 │  0.05       0.0625     0.05625    0.0125\n",
      "   6 │  0.05625    0.0625     0.059375   0.00625\n",
      "   7 │  0.059375   0.0625     0.0609375  0.003125\n",
      "   8 │  0.059375   0.0609375  0.0601562  0.0015625\n",
      "   9 │  0.059375   0.0601562  0.0597656  0.00078125\n",
      "  10 │  0.0597656  0.0601562  0.0599609  0.000390625\n",
      "  11 │  0.0599609  0.0601562  0.0600586  0.000195313\n",
      "  12 │  0.0599609  0.0600586  0.0600098  9.76563e-5\n",
      "  13 │  0.0599609  0.0600098  0.0599854  4.88281e-5\n",
      "  14 │  0.0599854  0.0600098  0.0599976  2.44141e-5\n",
      "  15 │  0.0599976  0.0600098  0.0600037  1.2207e-5\n",
      "  16 │  0.0599976  0.0600037  0.0600006  6.10352e-6\n",
      "  17 │  0.0599976  0.0600006  0.0599991  3.05176e-6\n",
      "  18 │  0.0599991  0.0600006  0.0599998  1.52588e-6\n",
      "  19 │  0.0599998  0.0600006  0.0600002  7.62939e-7\n",
      "\n",
      "Bisection result: 0.06000022888183592\n"
     ]
    }
   ],
   "source": [
    "# Project A\n",
    "\n",
    "using DataFrames\n",
    "\n",
    "function ff(x)\n",
    "    60/(1+x[1]) + 60/(1+x[1])^2 + 60/(1+x[1])^3 + 60/(1+x[1])^4 + 1060/(1+x[1])^5 - 1000\n",
    "end\n",
    "\n",
    "c, resual = bisec(ff, -0.1, 0.1, 1e-6);\n",
    "\n",
    "println(\"Iterations\\n\",resual,\"\\n\")\n",
    "println(\"Bisection result: \", c)"
   ]
  },
  {
   "cell_type": "markdown",
   "id": "327d1436",
   "metadata": {},
   "source": [
    "#### Project B"
   ]
  },
  {
   "cell_type": "code",
   "execution_count": 14,
   "id": "0ec78d77",
   "metadata": {},
   "outputs": [
    {
     "data": {
      "text/plain": [
       "0.06238941593991987"
      ]
     },
     "execution_count": 14,
     "metadata": {},
     "output_type": "execute_result"
    }
   ],
   "source": [
    "using NPFinancial\n",
    "\n",
    "irr([-990, 60, 60, 60, 60, 1060])"
   ]
  },
  {
   "cell_type": "code",
   "execution_count": 15,
   "id": "731df0c6",
   "metadata": {},
   "outputs": [
    {
     "data": {
      "text/plain": [
       "0.062389415939919986"
      ]
     },
     "execution_count": 15,
     "metadata": {},
     "output_type": "execute_result"
    }
   ],
   "source": [
    "using Roots\n",
    "\n",
    "tvmnpv(i,cfo,cfall)=begin\n",
    "         n=collect(1:length(cfall));\n",
    "         cfo + sum(cfall./(1+i).^n)\n",
    "end\n",
    "\n",
    "f(x)=tvmnpv(x, cfo, cfall)\n",
    "\n",
    "cfo=-990.0\n",
    "cfall=[60, 60, 60, 60, 1060];\n",
    "\n",
    "fzero(f, [0.0, 1.0])"
   ]
  },
  {
   "cell_type": "code",
   "execution_count": 16,
   "id": "bdf02bee",
   "metadata": {},
   "outputs": [
    {
     "name": "stdout",
     "output_type": "stream",
     "text": [
      "Iterations\n",
      "\u001b[1m19×4 DataFrame\u001b[0m\n",
      "\u001b[1m Row \u001b[0m│\u001b[1m a          \u001b[0m\u001b[1m b         \u001b[0m\u001b[1m c         \u001b[0m\u001b[1m err         \u001b[0m\n",
      "\u001b[1m     \u001b[0m│\u001b[90m Float64    \u001b[0m\u001b[90m Float64   \u001b[0m\u001b[90m Float64   \u001b[0m\u001b[90m Float64     \u001b[0m\n",
      "─────┼───────────────────────────────────────────────\n",
      "   1 │ -0.1        0.1        0.0        0.2\n",
      "   2 │  0.0        0.1        0.05       0.1\n",
      "   3 │  0.05       0.1        0.075      0.05\n",
      "   4 │  0.05       0.075      0.0625     0.025\n",
      "   5 │  0.05       0.0625     0.05625    0.0125\n",
      "   6 │  0.05625    0.0625     0.059375   0.00625\n",
      "   7 │  0.059375   0.0625     0.0609375  0.003125\n",
      "   8 │  0.0609375  0.0625     0.0617188  0.0015625\n",
      "   9 │  0.0617188  0.0625     0.0621094  0.00078125\n",
      "  10 │  0.0621094  0.0625     0.0623047  0.000390625\n",
      "  11 │  0.0623047  0.0625     0.0624023  0.000195313\n",
      "  12 │  0.0623047  0.0624023  0.0623535  9.76563e-5\n",
      "  13 │  0.0623535  0.0624023  0.0623779  4.88281e-5\n",
      "  14 │  0.0623779  0.0624023  0.0623901  2.44141e-5\n",
      "  15 │  0.0623779  0.0623901  0.062384   1.2207e-5\n",
      "  16 │  0.062384   0.0623901  0.0623871  6.10352e-6\n",
      "  17 │  0.0623871  0.0623901  0.0623886  3.05176e-6\n",
      "  18 │  0.0623886  0.0623901  0.0623894  1.52588e-6\n",
      "  19 │  0.0623894  0.0623901  0.0623898  7.62939e-7\n",
      "\n",
      "Bisection result: 0.06238975524902344\n"
     ]
    }
   ],
   "source": [
    "# Project B\n",
    "using DataFrames\n",
    "\n",
    "function ff(x)\n",
    "    60/(1+x[1]) + 60/(1+x[1])^2 + 60/(1+x[1])^3 + 60/(1+x[1])^4 + 1060/(1+x[1])^5 - 990\n",
    "end\n",
    "\n",
    "c, resual = bisec(ff, -0.1, 0.1, 1e-6);\n",
    "\n",
    "println(\"Iterations\\n\",resual,\"\\n\")\n",
    "println(\"Bisection result: \", c)"
   ]
  },
  {
   "cell_type": "markdown",
   "id": "186140ab",
   "metadata": {},
   "source": [
    "#### Project C "
   ]
  },
  {
   "cell_type": "code",
   "execution_count": 17,
   "id": "6ba720f8",
   "metadata": {},
   "outputs": [
    {
     "data": {
      "text/plain": [
       "0.055312457572278984"
      ]
     },
     "execution_count": 17,
     "metadata": {},
     "output_type": "execute_result"
    }
   ],
   "source": [
    "using NPFinancial\n",
    "\n",
    "irr([-1020, 60, 60, 60, 60, 1060])"
   ]
  },
  {
   "cell_type": "code",
   "execution_count": 18,
   "id": "d75155ea",
   "metadata": {},
   "outputs": [
    {
     "data": {
      "text/plain": [
       "0.05517840581618627"
      ]
     },
     "execution_count": 18,
     "metadata": {},
     "output_type": "execute_result"
    }
   ],
   "source": [
    "using Roots\n",
    "\n",
    "tvmnpv(i,cfo,cfall)=begin\n",
    "         n=collect(1:length(cfall));\n",
    "         cfo + sum(cfall./(1+i).^n)\n",
    "end\n",
    "\n",
    "f(x)=tvmnpv(x, cfo, cfall)\n",
    "\n",
    "cfo=-990.0\n",
    "cfall=[60, 60, 60, 60, 1020];\n",
    "\n",
    "fzero(f, [0.0, 1.0])"
   ]
  },
  {
   "cell_type": "code",
   "execution_count": 19,
   "id": "5da7dc6f",
   "metadata": {},
   "outputs": [
    {
     "name": "stdout",
     "output_type": "stream",
     "text": [
      "Iterations\n",
      "\u001b[1m19×4 DataFrame\u001b[0m\n",
      "\u001b[1m Row \u001b[0m│\u001b[1m a          \u001b[0m\u001b[1m b         \u001b[0m\u001b[1m c         \u001b[0m\u001b[1m err         \u001b[0m\n",
      "\u001b[1m     \u001b[0m│\u001b[90m Float64    \u001b[0m\u001b[90m Float64   \u001b[0m\u001b[90m Float64   \u001b[0m\u001b[90m Float64     \u001b[0m\n",
      "─────┼───────────────────────────────────────────────\n",
      "   1 │ -0.1        0.1        0.0        0.2\n",
      "   2 │  0.0        0.1        0.05       0.1\n",
      "   3 │  0.05       0.1        0.075      0.05\n",
      "   4 │  0.05       0.075      0.0625     0.025\n",
      "   5 │  0.05       0.0625     0.05625    0.0125\n",
      "   6 │  0.05       0.05625    0.053125   0.00625\n",
      "   7 │  0.053125   0.05625    0.0546875  0.003125\n",
      "   8 │  0.0546875  0.05625    0.0554687  0.0015625\n",
      "   9 │  0.0546875  0.0554687  0.0550781  0.00078125\n",
      "  10 │  0.0550781  0.0554687  0.0552734  0.000390625\n",
      "  11 │  0.0552734  0.0554687  0.0553711  0.000195313\n",
      "  12 │  0.0552734  0.0553711  0.0553223  9.76563e-5\n",
      "  13 │  0.0552734  0.0553223  0.0552979  4.88281e-5\n",
      "  14 │  0.0552979  0.0553223  0.0553101  2.44141e-5\n",
      "  15 │  0.0553101  0.0553223  0.0553162  1.2207e-5\n",
      "  16 │  0.0553101  0.0553162  0.0553131  6.10352e-6\n",
      "  17 │  0.0553101  0.0553131  0.0553116  3.05176e-6\n",
      "  18 │  0.0553116  0.0553131  0.0553123  1.52588e-6\n",
      "  19 │  0.0553123  0.0553131  0.0553127  7.62939e-7\n",
      "\n",
      "Bisection result: 0.05531272888183592\n"
     ]
    }
   ],
   "source": [
    "# Project C\n",
    "using DataFrames\n",
    "\n",
    "function ff(x)\n",
    "    60/(1+x[1]) + 60/(1+x[1])^2 + 60/(1+x[1])^3 + 60/(1+x[1])^4 + 1060/(1+x[1])^5 - 1020\n",
    "end\n",
    "\n",
    "c, resual = bisec(ff, -0.1, 0.1, 1e-6);\n",
    "\n",
    "println(\"Iterations\\n\",resual,\"\\n\")\n",
    "println(\"Bisection result: \", c)"
   ]
  }
 ],
 "metadata": {
  "kernelspec": {
   "display_name": "Julia 1.7.3",
   "language": "julia",
   "name": "julia-1.7"
  },
  "language_info": {
   "file_extension": ".jl",
   "mimetype": "application/julia",
   "name": "julia",
   "version": "1.7.3"
  }
 },
 "nbformat": 4,
 "nbformat_minor": 5
}
