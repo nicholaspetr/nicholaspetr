{
 "cells": [
  {
   "cell_type": "markdown",
   "id": "38470d94",
   "metadata": {},
   "source": [
    "# Assignment 5 - Nicholas Petr "
   ]
  },
  {
   "cell_type": "markdown",
   "id": "f26ecd23",
   "metadata": {},
   "source": [
    "### 0 - Consider the following univariate function:  f(x)=3x^2+4x+1 . You are tasked with finding the minimum of the function  f  in the interval  [−2,1] ."
   ]
  },
  {
   "cell_type": "markdown",
   "id": "ce1fbfba",
   "metadata": {},
   "source": [
    "#### 0.1 Determine the type of optimization problem \n",
    "\n",
    "This is an *convex* optimization problem. This is also known as a \"Boxed Constrained\" problem since  Ω  will typically involve restricting the control variables x by lower and upper bounds."
   ]
  },
  {
   "cell_type": "markdown",
   "id": "ac0a6a85",
   "metadata": {},
   "source": [
    "#### 0.2 Explain why a minimum exists in this optimization problem. Looking for a concise and precise explanation, but no proof required\n",
    "\n",
    "The Weierstras theorem states that that if a function f is continuous and  Ω⊆Rn  is compact then a solution exists. We can conclude that this fuction is both continuous and compact, therefore a minimum exists.\n",
    "\n",
    "The set  Ω⊆Rn  is said to be compact if it is closed and bounded. The interval [-2,1] includes its boundaries -2  and 1, therefore it is a closed and bounded set. "
   ]
  },
  {
   "cell_type": "markdown",
   "id": "302e6a2f",
   "metadata": {},
   "source": [
    "#### 0.3 Characterize the local minimum assuming it is an interior point (i.e., first order necessary condition)\n",
    "\n",
    "f prime at the local minimum must be equal to 0. It could be either a local or a global minimum."
   ]
  },
  {
   "cell_type": "markdown",
   "id": "f629b4c8",
   "metadata": {},
   "source": [
    "#### 0.4 Based on the first order condition above, find the value of  x  that minimizes  f(x)  using simple algebra\n",
    "\n",
    "Calculate First Derivative:\n",
    "\n",
    "D(f) = 3 * 2(x) + 4 * 0 \n",
    "\n",
    "D(f) = 6(x) + 4\n",
    "\n",
    "Set First Derivative = 0 and solve for x \n",
    "\n",
    "6(x) + 4 = 0\n",
    "\n",
    "6(x) = -4\n",
    "\n",
    "x = -2/3\n",
    "\n",
    "The value of x that minimizes f(x) is -2/3"
   ]
  },
  {
   "cell_type": "markdown",
   "id": "b9a8bdad",
   "metadata": {},
   "source": [
    "#### 0.5 Evaluate  f(X)  at the optimal  x\n",
    "\n",
    "f(-2/3) = 3(-2/3)^2 + 4(-2/3) + 1 \n",
    "\n",
    "f(-2/3) = 3 * 4/9 - 8/3 + 1\n",
    "\n",
    "f(-2/3) = 3 * 4/9 - 5/3\n",
    "\n",
    "f(-2/3) = (3 * 4/9 * 3 - 5) / 3\n",
    "\n",
    "f(-2/3) = (9 * 4/9 - 5) / 3\n",
    "\n",
    "f(-2/3) = -1 / 3\n",
    "\n",
    "f(x) = -1/3 at the optimal x (-2/3)"
   ]
  },
  {
   "cell_type": "markdown",
   "id": "3ef9852e",
   "metadata": {},
   "source": [
    "#### 0.6 Use Optim in Julia to find the minimum  x"
   ]
  },
  {
   "cell_type": "markdown",
   "id": "f268409d",
   "metadata": {},
   "source": [
    "#### Brent's Method "
   ]
  },
  {
   "cell_type": "code",
   "execution_count": 1,
   "id": "56210014",
   "metadata": {},
   "outputs": [
    {
     "data": {
      "text/plain": [
       "Results of Optimization Algorithm\n",
       " * Algorithm: Brent's Method\n",
       " * Search Interval: [-2.000000, 1.000000]\n",
       " * Minimizer: -6.666667e-01\n",
       " * Minimum: -3.333333e-01\n",
       " * Iterations: 5\n",
       " * Convergence: max(|x - x_upper|, |x - x_lower|) <= 2*(1.5e-08*|x|+2.2e-16): true\n",
       " * Objective Function Calls: 6"
      ]
     },
     "execution_count": 1,
     "metadata": {},
     "output_type": "execute_result"
    }
   ],
   "source": [
    "using Optim\n",
    "f_univariate(x) = 3*x[1]^2 .+ 4*x[1] .+ 1\n",
    "res = Optim.optimize(f_univariate, -2.0, 1.0)"
   ]
  },
  {
   "cell_type": "code",
   "execution_count": 2,
   "id": "645ebb0e",
   "metadata": {},
   "outputs": [
    {
     "data": {
      "text/plain": [
       "-0.6666666666666665"
      ]
     },
     "execution_count": 2,
     "metadata": {},
     "output_type": "execute_result"
    }
   ],
   "source": [
    "#The value of x that minimizes f(x) is -2/3\n",
    "Optim.minimizer(res)"
   ]
  },
  {
   "cell_type": "markdown",
   "id": "e09ee238",
   "metadata": {},
   "source": [
    "#### BFGS Method"
   ]
  },
  {
   "cell_type": "code",
   "execution_count": 3,
   "id": "5bd6ff55",
   "metadata": {},
   "outputs": [
    {
     "data": {
      "text/plain": [
       " * Status: success\n",
       "\n",
       " * Candidate solution\n",
       "    Final objective value:     -3.333333e-01\n",
       "\n",
       " * Found with\n",
       "    Algorithm:     Fminbox with BFGS\n",
       "\n",
       " * Convergence measures\n",
       "    |x - x'|               = 7.26e-08 ≰ 0.0e+00\n",
       "    |x - x'|/|x'|          = 1.09e-07 ≰ 0.0e+00\n",
       "    |f(x) - f(x')|         = 0.00e+00 ≤ 0.0e+00\n",
       "    |f(x) - f(x')|/|f(x')| = 0.00e+00 ≤ 0.0e+00\n",
       "    |g(x)|                 = 2.05e-09 ≤ 1.0e-08\n",
       "\n",
       " * Work counters\n",
       "    Seconds run:   0  (vs limit Inf)\n",
       "    Iterations:    3\n",
       "    f(x) calls:    12\n",
       "    ∇f(x) calls:   12\n"
      ]
     },
     "execution_count": 3,
     "metadata": {},
     "output_type": "execute_result"
    }
   ],
   "source": [
    "using Optim\n",
    "\n",
    "f0(x) = 3*x[1]^2 .+ 4*x[1] .+ 1\n",
    "\n",
    "x0 = [0.5]\n",
    "xl = [-2]\n",
    "xu = [1]\n",
    "\n",
    "res = Optim.optimize(f0, xl, xu, x0,Fminbox(BFGS()))"
   ]
  },
  {
   "cell_type": "code",
   "execution_count": 4,
   "id": "7fb4beb3",
   "metadata": {},
   "outputs": [
    {
     "data": {
      "text/plain": [
       "1-element Vector{Float64}:\n",
       " -0.6666666663269873"
      ]
     },
     "execution_count": 4,
     "metadata": {},
     "output_type": "execute_result"
    }
   ],
   "source": [
    "#The value of x that minimizes f(x)\n",
    "Optim.minimizer(res)"
   ]
  },
  {
   "cell_type": "markdown",
   "id": "fc0d6342",
   "metadata": {},
   "source": [
    "#### 0.7 Plot the function  f(x)  in the range  [−2,1]"
   ]
  },
  {
   "cell_type": "code",
   "execution_count": 2,
   "id": "79635605",
   "metadata": {},
   "outputs": [
    {
     "data": {
      "image/svg+xml": [
       "<?xml version=\"1.0\" encoding=\"utf-8\"?>\n",
       "<svg xmlns=\"http://www.w3.org/2000/svg\" xmlns:xlink=\"http://www.w3.org/1999/xlink\" width=\"600\" height=\"400\" viewBox=\"0 0 2400 1600\">\n",
       "<defs>\n",
       "  <clipPath id=\"clip530\">\n",
       "    <rect x=\"0\" y=\"0\" width=\"2400\" height=\"1600\"/>\n",
       "  </clipPath>\n",
       "</defs>\n",
       "<path clip-path=\"url(#clip530)\" d=\"\n",
       "M0 1600 L2400 1600 L2400 0 L0 0  Z\n",
       "  \" fill=\"#ffffff\" fill-rule=\"evenodd\" fill-opacity=\"1\"/>\n",
       "<defs>\n",
       "  <clipPath id=\"clip531\">\n",
       "    <rect x=\"480\" y=\"0\" width=\"1681\" height=\"1600\"/>\n",
       "  </clipPath>\n",
       "</defs>\n",
       "<path clip-path=\"url(#clip530)\" d=\"\n",
       "M112.177 1486.45 L2352.76 1486.45 L2352.76 47.2441 L112.177 47.2441  Z\n",
       "  \" fill=\"#ffffff\" fill-rule=\"evenodd\" fill-opacity=\"1\"/>\n",
       "<defs>\n",
       "  <clipPath id=\"clip532\">\n",
       "    <rect x=\"112\" y=\"47\" width=\"2242\" height=\"1440\"/>\n",
       "  </clipPath>\n",
       "</defs>\n",
       "<polyline clip-path=\"url(#clip532)\" style=\"stroke:#000000; stroke-linecap:butt; stroke-linejoin:round; stroke-width:2; stroke-opacity:0.1; fill:none\" points=\"\n",
       "  175.59,1486.45 175.59,47.2441 \n",
       "  \"/>\n",
       "<polyline clip-path=\"url(#clip532)\" style=\"stroke:#000000; stroke-linecap:butt; stroke-linejoin:round; stroke-width:2; stroke-opacity:0.1; fill:none\" points=\"\n",
       "  880.174,1486.45 880.174,47.2441 \n",
       "  \"/>\n",
       "<polyline clip-path=\"url(#clip532)\" style=\"stroke:#000000; stroke-linecap:butt; stroke-linejoin:round; stroke-width:2; stroke-opacity:0.1; fill:none\" points=\"\n",
       "  1584.76,1486.45 1584.76,47.2441 \n",
       "  \"/>\n",
       "<polyline clip-path=\"url(#clip532)\" style=\"stroke:#000000; stroke-linecap:butt; stroke-linejoin:round; stroke-width:2; stroke-opacity:0.1; fill:none\" points=\"\n",
       "  2289.34,1486.45 2289.34,47.2441 \n",
       "  \"/>\n",
       "<polyline clip-path=\"url(#clip530)\" style=\"stroke:#000000; stroke-linecap:butt; stroke-linejoin:round; stroke-width:4; stroke-opacity:1; fill:none\" points=\"\n",
       "  112.177,1486.45 2352.76,1486.45 \n",
       "  \"/>\n",
       "<polyline clip-path=\"url(#clip530)\" style=\"stroke:#000000; stroke-linecap:butt; stroke-linejoin:round; stroke-width:4; stroke-opacity:1; fill:none\" points=\"\n",
       "  175.59,1486.45 175.59,1467.55 \n",
       "  \"/>\n",
       "<polyline clip-path=\"url(#clip530)\" style=\"stroke:#000000; stroke-linecap:butt; stroke-linejoin:round; stroke-width:4; stroke-opacity:1; fill:none\" points=\"\n",
       "  880.174,1486.45 880.174,1467.55 \n",
       "  \"/>\n",
       "<polyline clip-path=\"url(#clip530)\" style=\"stroke:#000000; stroke-linecap:butt; stroke-linejoin:round; stroke-width:4; stroke-opacity:1; fill:none\" points=\"\n",
       "  1584.76,1486.45 1584.76,1467.55 \n",
       "  \"/>\n",
       "<polyline clip-path=\"url(#clip530)\" style=\"stroke:#000000; stroke-linecap:butt; stroke-linejoin:round; stroke-width:4; stroke-opacity:1; fill:none\" points=\"\n",
       "  2289.34,1486.45 2289.34,1467.55 \n",
       "  \"/>\n",
       "<path clip-path=\"url(#clip530)\" d=\"M145.532 1532.02 L175.208 1532.02 L175.208 1535.95 L145.532 1535.95 L145.532 1532.02 Z\" fill=\"#000000\" fill-rule=\"evenodd\" fill-opacity=\"1\" /><path clip-path=\"url(#clip530)\" d=\"M189.328 1544.91 L205.647 1544.91 L205.647 1548.85 L183.703 1548.85 L183.703 1544.91 Q186.365 1542.16 190.948 1537.53 Q195.555 1532.88 196.736 1531.53 Q198.981 1529.01 199.86 1527.27 Q200.763 1525.51 200.763 1523.82 Q200.763 1521.07 198.819 1519.33 Q196.898 1517.6 193.796 1517.6 Q191.597 1517.6 189.143 1518.36 Q186.712 1519.13 183.935 1520.68 L183.935 1515.95 Q186.759 1514.82 189.212 1514.24 Q191.666 1513.66 193.703 1513.66 Q199.073 1513.66 202.268 1516.35 Q205.462 1519.03 205.462 1523.52 Q205.462 1525.65 204.652 1527.57 Q203.865 1529.47 201.759 1532.07 Q201.18 1532.74 198.078 1535.95 Q194.976 1539.15 189.328 1544.91 Z\" fill=\"#000000\" fill-rule=\"evenodd\" fill-opacity=\"1\" /><path clip-path=\"url(#clip530)\" d=\"M849.931 1532.02 L879.607 1532.02 L879.607 1535.95 L849.931 1535.95 L849.931 1532.02 Z\" fill=\"#000000\" fill-rule=\"evenodd\" fill-opacity=\"1\" /><path clip-path=\"url(#clip530)\" d=\"M890.51 1544.91 L898.149 1544.91 L898.149 1518.55 L889.839 1520.21 L889.839 1515.95 L898.102 1514.29 L902.778 1514.29 L902.778 1544.91 L910.417 1544.91 L910.417 1548.85 L890.51 1548.85 L890.51 1544.91 Z\" fill=\"#000000\" fill-rule=\"evenodd\" fill-opacity=\"1\" /><path clip-path=\"url(#clip530)\" d=\"M1584.76 1517.37 Q1581.15 1517.37 1579.32 1520.93 Q1577.51 1524.47 1577.51 1531.6 Q1577.51 1538.71 1579.32 1542.27 Q1581.15 1545.82 1584.76 1545.82 Q1588.39 1545.82 1590.2 1542.27 Q1592.03 1538.71 1592.03 1531.6 Q1592.03 1524.47 1590.2 1520.93 Q1588.39 1517.37 1584.76 1517.37 M1584.76 1513.66 Q1590.57 1513.66 1593.62 1518.27 Q1596.7 1522.85 1596.7 1531.6 Q1596.7 1540.33 1593.62 1544.94 Q1590.57 1549.52 1584.76 1549.52 Q1578.95 1549.52 1575.87 1544.94 Q1572.81 1540.33 1572.81 1531.6 Q1572.81 1522.85 1575.87 1518.27 Q1578.95 1513.66 1584.76 1513.66 Z\" fill=\"#000000\" fill-rule=\"evenodd\" fill-opacity=\"1\" /><path clip-path=\"url(#clip530)\" d=\"M2279.73 1544.91 L2287.36 1544.91 L2287.36 1518.55 L2279.05 1520.21 L2279.05 1515.95 L2287.32 1514.29 L2291.99 1514.29 L2291.99 1544.91 L2299.63 1544.91 L2299.63 1548.85 L2279.73 1548.85 L2279.73 1544.91 Z\" fill=\"#000000\" fill-rule=\"evenodd\" fill-opacity=\"1\" /><polyline clip-path=\"url(#clip532)\" style=\"stroke:#000000; stroke-linecap:butt; stroke-linejoin:round; stroke-width:2; stroke-opacity:0.1; fill:none\" points=\"\n",
       "  112.177,1391.41 2352.76,1391.41 \n",
       "  \"/>\n",
       "<polyline clip-path=\"url(#clip532)\" style=\"stroke:#000000; stroke-linecap:butt; stroke-linejoin:round; stroke-width:2; stroke-opacity:0.1; fill:none\" points=\"\n",
       "  112.177,1065.55 2352.76,1065.55 \n",
       "  \"/>\n",
       "<polyline clip-path=\"url(#clip532)\" style=\"stroke:#000000; stroke-linecap:butt; stroke-linejoin:round; stroke-width:2; stroke-opacity:0.1; fill:none\" points=\"\n",
       "  112.177,739.691 2352.76,739.691 \n",
       "  \"/>\n",
       "<polyline clip-path=\"url(#clip532)\" style=\"stroke:#000000; stroke-linecap:butt; stroke-linejoin:round; stroke-width:2; stroke-opacity:0.1; fill:none\" points=\"\n",
       "  112.177,413.834 2352.76,413.834 \n",
       "  \"/>\n",
       "<polyline clip-path=\"url(#clip532)\" style=\"stroke:#000000; stroke-linecap:butt; stroke-linejoin:round; stroke-width:2; stroke-opacity:0.1; fill:none\" points=\"\n",
       "  112.177,87.9763 2352.76,87.9763 \n",
       "  \"/>\n",
       "<polyline clip-path=\"url(#clip530)\" style=\"stroke:#000000; stroke-linecap:butt; stroke-linejoin:round; stroke-width:4; stroke-opacity:1; fill:none\" points=\"\n",
       "  112.177,1486.45 112.177,47.2441 \n",
       "  \"/>\n",
       "<polyline clip-path=\"url(#clip530)\" style=\"stroke:#000000; stroke-linecap:butt; stroke-linejoin:round; stroke-width:4; stroke-opacity:1; fill:none\" points=\"\n",
       "  112.177,1391.41 131.075,1391.41 \n",
       "  \"/>\n",
       "<polyline clip-path=\"url(#clip530)\" style=\"stroke:#000000; stroke-linecap:butt; stroke-linejoin:round; stroke-width:4; stroke-opacity:1; fill:none\" points=\"\n",
       "  112.177,1065.55 131.075,1065.55 \n",
       "  \"/>\n",
       "<polyline clip-path=\"url(#clip530)\" style=\"stroke:#000000; stroke-linecap:butt; stroke-linejoin:round; stroke-width:4; stroke-opacity:1; fill:none\" points=\"\n",
       "  112.177,739.691 131.075,739.691 \n",
       "  \"/>\n",
       "<polyline clip-path=\"url(#clip530)\" style=\"stroke:#000000; stroke-linecap:butt; stroke-linejoin:round; stroke-width:4; stroke-opacity:1; fill:none\" points=\"\n",
       "  112.177,413.834 131.075,413.834 \n",
       "  \"/>\n",
       "<polyline clip-path=\"url(#clip530)\" style=\"stroke:#000000; stroke-linecap:butt; stroke-linejoin:round; stroke-width:4; stroke-opacity:1; fill:none\" points=\"\n",
       "  112.177,87.9763 131.075,87.9763 \n",
       "  \"/>\n",
       "<path clip-path=\"url(#clip530)\" d=\"M64.2328 1377.2 Q60.6217 1377.2 58.793 1380.77 Q56.9875 1384.31 56.9875 1391.44 Q56.9875 1398.55 58.793 1402.11 Q60.6217 1405.65 64.2328 1405.65 Q67.867 1405.65 69.6726 1402.11 Q71.5013 1398.55 71.5013 1391.44 Q71.5013 1384.31 69.6726 1380.77 Q67.867 1377.2 64.2328 1377.2 M64.2328 1373.5 Q70.0429 1373.5 73.0985 1378.11 Q76.1772 1382.69 76.1772 1391.44 Q76.1772 1400.17 73.0985 1404.77 Q70.0429 1409.36 64.2328 1409.36 Q58.4226 1409.36 55.344 1404.77 Q52.2884 1400.17 52.2884 1391.44 Q52.2884 1382.69 55.344 1378.11 Q58.4226 1373.5 64.2328 1373.5 Z\" fill=\"#000000\" fill-rule=\"evenodd\" fill-opacity=\"1\" /><path clip-path=\"url(#clip530)\" d=\"M59.8578 1078.89 L76.1772 1078.89 L76.1772 1082.83 L54.2328 1082.83 L54.2328 1078.89 Q56.8949 1076.14 61.4782 1071.51 Q66.0846 1066.86 67.2652 1065.51 Q69.5105 1062.99 70.3902 1061.25 Q71.2929 1059.5 71.2929 1057.81 Q71.2929 1055.05 69.3485 1053.31 Q67.4272 1051.58 64.3254 1051.58 Q62.1263 1051.58 59.6726 1052.34 Q57.2421 1053.11 54.4643 1054.66 L54.4643 1049.94 Q57.2884 1048.8 59.7421 1048.22 Q62.1958 1047.64 64.2328 1047.64 Q69.6031 1047.64 72.7976 1050.33 Q75.992 1053.01 75.992 1057.5 Q75.992 1059.63 75.1818 1061.56 Q74.3948 1063.45 72.2883 1066.05 Q71.7096 1066.72 68.6078 1069.94 Q65.5059 1073.13 59.8578 1078.89 Z\" fill=\"#000000\" fill-rule=\"evenodd\" fill-opacity=\"1\" /><path clip-path=\"url(#clip530)\" d=\"M66.5939 726.485 L54.7884 744.934 L66.5939 744.934 L66.5939 726.485 M65.367 722.411 L71.2466 722.411 L71.2466 744.934 L76.1772 744.934 L76.1772 748.823 L71.2466 748.823 L71.2466 756.971 L66.5939 756.971 L66.5939 748.823 L50.9921 748.823 L50.9921 744.309 L65.367 722.411 Z\" fill=\"#000000\" fill-rule=\"evenodd\" fill-opacity=\"1\" /><path clip-path=\"url(#clip530)\" d=\"M64.6495 411.97 Q61.5013 411.97 59.6495 414.123 Q57.8208 416.276 57.8208 420.026 Q57.8208 423.753 59.6495 425.929 Q61.5013 428.081 64.6495 428.081 Q67.7976 428.081 69.6263 425.929 Q71.4781 423.753 71.4781 420.026 Q71.4781 416.276 69.6263 414.123 Q67.7976 411.97 64.6495 411.97 M73.9318 397.318 L73.9318 401.577 Q72.1726 400.744 70.367 400.304 Q68.5846 399.864 66.8254 399.864 Q62.1958 399.864 59.7421 402.989 Q57.3115 406.114 56.9643 412.433 Q58.33 410.419 60.3902 409.355 Q62.4504 408.267 64.9272 408.267 Q70.1355 408.267 73.1448 411.438 Q76.1772 414.586 76.1772 420.026 Q76.1772 425.35 73.029 428.567 Q69.8809 431.785 64.6495 431.785 Q58.6541 431.785 55.4828 427.202 Q52.3116 422.595 52.3116 413.868 Q52.3116 405.674 56.2004 400.813 Q60.0893 395.929 66.6402 395.929 Q68.3994 395.929 70.1818 396.276 Q71.9874 396.623 73.9318 397.318 Z\" fill=\"#000000\" fill-rule=\"evenodd\" fill-opacity=\"1\" /><path clip-path=\"url(#clip530)\" d=\"M64.3254 88.8443 Q60.9921 88.8443 59.0708 90.6267 Q57.1726 92.4091 57.1726 95.5341 Q57.1726 98.6591 59.0708 100.441 Q60.9921 102.224 64.3254 102.224 Q67.6587 102.224 69.58 100.441 Q71.5013 98.6359 71.5013 95.5341 Q71.5013 92.4091 69.58 90.6267 Q67.6819 88.8443 64.3254 88.8443 M59.6495 86.8536 Q56.6402 86.1129 54.9504 84.0527 Q53.2838 81.9925 53.2838 79.0296 Q53.2838 74.8861 56.2236 72.4787 Q59.1865 70.0713 64.3254 70.0713 Q69.4874 70.0713 72.4272 72.4787 Q75.367 74.8861 75.367 79.0296 Q75.367 81.9925 73.6772 84.0527 Q72.0105 86.1129 69.0244 86.8536 Q72.404 87.6406 74.279 89.9323 Q76.1772 92.2239 76.1772 95.5341 Q76.1772 100.557 73.0985 103.242 Q70.0429 105.928 64.3254 105.928 Q58.6078 105.928 55.5291 103.242 Q52.4736 100.557 52.4736 95.5341 Q52.4736 92.2239 54.3717 89.9323 Q56.2699 87.6406 59.6495 86.8536 M57.9365 79.4694 Q57.9365 82.1545 59.6032 83.6592 Q61.293 85.1638 64.3254 85.1638 Q67.3346 85.1638 69.0244 83.6592 Q70.7374 82.1545 70.7374 79.4694 Q70.7374 76.7842 69.0244 75.2796 Q67.3346 73.775 64.3254 73.775 Q61.293 73.775 59.6032 75.2796 Q57.9365 76.7842 57.9365 79.4694 Z\" fill=\"#000000\" fill-rule=\"evenodd\" fill-opacity=\"1\" /><polyline clip-path=\"url(#clip532)\" style=\"stroke:#009af9; stroke-linecap:butt; stroke-linejoin:round; stroke-width:4; stroke-opacity:1; fill:none\" points=\"\n",
       "  175.59,576.762 179.03,583.115 182.471,589.445 185.911,595.751 189.351,602.034 221.163,659.025 252.975,714.023 284.786,767.028 316.598,818.041 354.833,876.717 \n",
       "  393.068,932.514 425.395,977.444 457.722,1020.32 492.839,1064.55 527.955,1106.37 560.329,1142.76 592.704,1177.09 627.412,1211.6 662.121,1243.75 702.334,1278.02 \n",
       "  742.547,1309.11 778.284,1334.06 814.021,1356.5 845.359,1374.11 876.697,1389.79 910.864,1404.67 945.031,1417.26 979.4,1427.6 1013.77,1435.62 1051.77,1441.77 \n",
       "  1089.77,1445.09 1125.93,1445.6 1162.08,1443.54 1199.68,1438.66 1237.27,1431 1268.92,1422.4 1300.56,1411.83 1339.2,1396.24 1377.84,1377.72 1413.23,1358.17 \n",
       "  1448.62,1336.15 1481.31,1313.62 1514,1289 1547.11,1261.9 1580.23,1232.65 1617.34,1197.3 1654.45,1159.24 1688.07,1122.41 1721.7,1083.35 1760.2,1035.89 \n",
       "  1798.7,985.519 1834.35,936.275 1870,884.529 1905.15,831.064 1940.29,775.166 1974.42,718.567 2008.54,659.675 2043.52,596.923 2078.5,531.761 2116.83,457.603 \n",
       "  2155.15,380.552 2182.99,322.774 2210.83,263.471 2238.66,202.641 2266.5,140.286 2272.21,127.305 2277.92,114.259 2283.63,101.15 2289.34,87.9763 \n",
       "  \"/>\n",
       "<circle clip-path=\"url(#clip532)\" cx=\"1115.04\" cy=\"1445.72\" r=\"14.4\" fill=\"#e26f46\" fill-rule=\"evenodd\" fill-opacity=\"1\" stroke=\"#000000\" stroke-opacity=\"1\" stroke-width=\"3.2\"/>\n",
       "<path clip-path=\"url(#clip530)\" d=\"\n",
       "M1976.69 250.738 L2278.07 250.738 L2278.07 95.2176 L1976.69 95.2176  Z\n",
       "  \" fill=\"#ffffff\" fill-rule=\"evenodd\" fill-opacity=\"1\"/>\n",
       "<polyline clip-path=\"url(#clip530)\" style=\"stroke:#000000; stroke-linecap:butt; stroke-linejoin:round; stroke-width:4; stroke-opacity:1; fill:none\" points=\"\n",
       "  1976.69,250.738 2278.07,250.738 2278.07,95.2176 1976.69,95.2176 1976.69,250.738 \n",
       "  \"/>\n",
       "<polyline clip-path=\"url(#clip530)\" style=\"stroke:#009af9; stroke-linecap:butt; stroke-linejoin:round; stroke-width:4; stroke-opacity:1; fill:none\" points=\"\n",
       "  2001.58,147.058 2150.95,147.058 \n",
       "  \"/>\n",
       "<path clip-path=\"url(#clip530)\" d=\"M2189.69 166.745 Q2187.89 171.375 2186.17 172.787 Q2184.46 174.199 2181.59 174.199 L2178.19 174.199 L2178.19 170.634 L2180.69 170.634 Q2182.45 170.634 2183.42 169.8 Q2184.39 168.967 2185.57 165.865 L2186.34 163.921 L2175.85 138.412 L2180.36 138.412 L2188.46 158.689 L2196.57 138.412 L2201.08 138.412 L2189.69 166.745 Z\" fill=\"#000000\" fill-rule=\"evenodd\" fill-opacity=\"1\" /><path clip-path=\"url(#clip530)\" d=\"M2208.37 160.402 L2216.01 160.402 L2216.01 134.037 L2207.7 135.703 L2207.7 131.444 L2215.96 129.778 L2220.64 129.778 L2220.64 160.402 L2228.28 160.402 L2228.28 164.338 L2208.37 164.338 L2208.37 160.402 Z\" fill=\"#000000\" fill-rule=\"evenodd\" fill-opacity=\"1\" /><circle clip-path=\"url(#clip530)\" cx=\"2076.27\" cy=\"198.898\" r=\"23.04\" fill=\"#e26f46\" fill-rule=\"evenodd\" fill-opacity=\"1\" stroke=\"#000000\" stroke-opacity=\"1\" stroke-width=\"5.12\"/>\n",
       "<path clip-path=\"url(#clip530)\" d=\"M2189.69 218.585 Q2187.89 223.215 2186.17 224.627 Q2184.46 226.039 2181.59 226.039 L2178.19 226.039 L2178.19 222.474 L2180.69 222.474 Q2182.45 222.474 2183.42 221.64 Q2184.39 220.807 2185.57 217.705 L2186.34 215.761 L2175.85 190.252 L2180.36 190.252 L2188.46 210.529 L2196.57 190.252 L2201.08 190.252 L2189.69 218.585 Z\" fill=\"#000000\" fill-rule=\"evenodd\" fill-opacity=\"1\" /><path clip-path=\"url(#clip530)\" d=\"M2211.59 212.242 L2227.91 212.242 L2227.91 216.178 L2205.96 216.178 L2205.96 212.242 Q2208.63 209.488 2213.21 204.858 Q2217.82 200.205 2219 198.863 Q2221.24 196.34 2222.12 194.604 Q2223.02 192.844 2223.02 191.155 Q2223.02 188.4 2221.08 186.664 Q2219.16 184.928 2216.06 184.928 Q2213.86 184.928 2211.4 185.692 Q2208.97 186.455 2206.2 188.006 L2206.2 183.284 Q2209.02 182.15 2211.47 181.571 Q2213.93 180.993 2215.96 180.993 Q2221.33 180.993 2224.53 183.678 Q2227.72 186.363 2227.72 190.854 Q2227.72 192.983 2226.91 194.905 Q2226.13 196.803 2224.02 199.395 Q2223.44 200.067 2220.34 203.284 Q2217.24 206.479 2211.59 212.242 Z\" fill=\"#000000\" fill-rule=\"evenodd\" fill-opacity=\"1\" /></svg>\n"
      ]
     },
     "execution_count": 2,
     "metadata": {},
     "output_type": "execute_result"
    }
   ],
   "source": [
    "using MTH229\n",
    "using Plots\n",
    "\n",
    "#y1 = function f(x) in the range [-2,1]\n",
    "#y2 = value of x that minimizes f(x)\n",
    "\n",
    "f(x) = 3*x[1]^2 .+ 4*x[1] .+ 1\n",
    "rts = [-2/3]\n",
    "plot(f, -2, 1)\n",
    "scatter!(rts, [-1/3])"
   ]
  }
 ],
 "metadata": {
  "kernelspec": {
   "display_name": "Julia 1.7.3",
   "language": "julia",
   "name": "julia-1.7"
  },
  "language_info": {
   "file_extension": ".jl",
   "mimetype": "application/julia",
   "name": "julia",
   "version": "1.7.3"
  }
 },
 "nbformat": 4,
 "nbformat_minor": 5
}
